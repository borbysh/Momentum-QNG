{
  "nbformat": 4,
  "nbformat_minor": 0,
  "metadata": {
    "colab": {
      "provenance": [],
      "authorship_tag": "ABX9TyPlbd2JhFa5K0R2vUhx79Cp",
      "include_colab_link": true
    },
    "kernelspec": {
      "name": "python3",
      "display_name": "Python 3"
    },
    "language_info": {
      "name": "python"
    }
  },
  "cells": [
    {
      "cell_type": "markdown",
      "metadata": {
        "id": "view-in-github",
        "colab_type": "text"
      },
      "source": [
        "<a href=\"https://colab.research.google.com/github/borbysh/Momentum-QNG/blob/main/Portfolio_optimization.ipynb\" target=\"_parent\"><img src=\"https://colab.research.google.com/assets/colab-badge.svg\" alt=\"Open In Colab\"/></a>"
      ]
    },
    {
      "cell_type": "code",
      "execution_count": 1,
      "metadata": {
        "colab": {
          "base_uri": "https://localhost:8080/"
        },
        "id": "z5Meu4kFt8ry",
        "outputId": "7bb449d6-5609-4b70-d56b-5cb772ace35a"
      },
      "outputs": [
        {
          "output_type": "stream",
          "name": "stderr",
          "text": [
            "[*********************100%%**********************]  6 of 6 completed\n"
          ]
        }
      ],
      "source": [
        "import pandas as pd\n",
        "import yfinance as yf\n",
        "\n",
        "assets = \"AAPL MSFT AMZN TSLA GOOG BRK-B\"\n",
        "StockStartDate = '2018-01-01'\n",
        "StockEndDate = '2018-12-31'\n",
        "interval = '1d'\n",
        "\n",
        "df = yf.download(assets, start=StockStartDate,\\\n",
        "                 end=StockEndDate, interval=interval)['Adj Close']\n",
        "\n",
        "# daily return distribution\n",
        "ret = df.pct_change().dropna()\n",
        "\n",
        "# mean return vector & covariance matrix (annualized)\n",
        "R = ret.mean()*252\n",
        "Sigma = ret.cov()*252"
      ]
    },
    {
      "cell_type": "code",
      "source": [
        "!pip install pennylane"
      ],
      "metadata": {
        "colab": {
          "base_uri": "https://localhost:8080/"
        },
        "id": "IzHaxi6XvTLa",
        "outputId": "c5b6ae38-8721-405e-d139-585afcf019f6"
      },
      "execution_count": 2,
      "outputs": [
        {
          "output_type": "stream",
          "name": "stdout",
          "text": [
            "Collecting pennylane\n",
            "  Downloading PennyLane-0.35.1-py3-none-any.whl (1.6 MB)\n",
            "\u001b[2K     \u001b[90m━━━━━━━━━━━━━━━━━━━━━━━━━━━━━━━━━━━━━━━━\u001b[0m \u001b[32m1.6/1.6 MB\u001b[0m \u001b[31m5.9 MB/s\u001b[0m eta \u001b[36m0:00:00\u001b[0m\n",
            "\u001b[?25hRequirement already satisfied: numpy in /usr/local/lib/python3.10/dist-packages (from pennylane) (1.25.2)\n",
            "Requirement already satisfied: scipy in /usr/local/lib/python3.10/dist-packages (from pennylane) (1.11.4)\n",
            "Requirement already satisfied: networkx in /usr/local/lib/python3.10/dist-packages (from pennylane) (3.3)\n",
            "Collecting rustworkx (from pennylane)\n",
            "  Downloading rustworkx-0.14.2-cp310-cp310-manylinux_2_17_x86_64.manylinux2014_x86_64.whl (2.1 MB)\n",
            "\u001b[2K     \u001b[90m━━━━━━━━━━━━━━━━━━━━━━━━━━━━━━━━━━━━━━━━\u001b[0m \u001b[32m2.1/2.1 MB\u001b[0m \u001b[31m13.0 MB/s\u001b[0m eta \u001b[36m0:00:00\u001b[0m\n",
            "\u001b[?25hRequirement already satisfied: autograd in /usr/local/lib/python3.10/dist-packages (from pennylane) (1.6.2)\n",
            "Requirement already satisfied: toml in /usr/local/lib/python3.10/dist-packages (from pennylane) (0.10.2)\n",
            "Requirement already satisfied: appdirs in /usr/local/lib/python3.10/dist-packages (from pennylane) (1.4.4)\n",
            "Collecting semantic-version>=2.7 (from pennylane)\n",
            "  Downloading semantic_version-2.10.0-py2.py3-none-any.whl (15 kB)\n",
            "Collecting autoray>=0.6.1 (from pennylane)\n",
            "  Downloading autoray-0.6.9-py3-none-any.whl (49 kB)\n",
            "\u001b[2K     \u001b[90m━━━━━━━━━━━━━━━━━━━━━━━━━━━━━━━━━━━━━━━━\u001b[0m \u001b[32m49.8/49.8 kB\u001b[0m \u001b[31m1.7 MB/s\u001b[0m eta \u001b[36m0:00:00\u001b[0m\n",
            "\u001b[?25hRequirement already satisfied: cachetools in /usr/local/lib/python3.10/dist-packages (from pennylane) (5.3.3)\n",
            "Collecting pennylane-lightning>=0.35 (from pennylane)\n",
            "  Downloading PennyLane_Lightning-0.35.1-cp310-cp310-manylinux_2_17_x86_64.manylinux2014_x86_64.whl (18.5 MB)\n",
            "\u001b[2K     \u001b[90m━━━━━━━━━━━━━━━━━━━━━━━━━━━━━━━━━━━━━━━━\u001b[0m \u001b[32m18.5/18.5 MB\u001b[0m \u001b[31m18.1 MB/s\u001b[0m eta \u001b[36m0:00:00\u001b[0m\n",
            "\u001b[?25hRequirement already satisfied: requests in /usr/local/lib/python3.10/dist-packages (from pennylane) (2.31.0)\n",
            "Requirement already satisfied: typing-extensions in /usr/local/lib/python3.10/dist-packages (from pennylane) (4.11.0)\n",
            "Requirement already satisfied: future>=0.15.2 in /usr/local/lib/python3.10/dist-packages (from autograd->pennylane) (0.18.3)\n",
            "Requirement already satisfied: charset-normalizer<4,>=2 in /usr/local/lib/python3.10/dist-packages (from requests->pennylane) (3.3.2)\n",
            "Requirement already satisfied: idna<4,>=2.5 in /usr/local/lib/python3.10/dist-packages (from requests->pennylane) (3.7)\n",
            "Requirement already satisfied: urllib3<3,>=1.21.1 in /usr/local/lib/python3.10/dist-packages (from requests->pennylane) (2.0.7)\n",
            "Requirement already satisfied: certifi>=2017.4.17 in /usr/local/lib/python3.10/dist-packages (from requests->pennylane) (2024.2.2)\n",
            "Installing collected packages: semantic-version, rustworkx, autoray, pennylane-lightning, pennylane\n",
            "Successfully installed autoray-0.6.9 pennylane-0.35.1 pennylane-lightning-0.35.1 rustworkx-0.14.2 semantic-version-2.10.0\n"
          ]
        }
      ]
    },
    {
      "cell_type": "code",
      "source": [
        "import pennylane as qml\n",
        "from pennylane import numpy as np\n",
        "\n",
        "# define parameters in H\n",
        "N = 6      # number of total assets\n",
        "gamma = 1  # risk aversion coefficient\n",
        "B = 3      # budget\n",
        "P = 1.0    # penalty\n",
        "\n",
        "ZZ = [qml.PauliZ(i)@qml.PauliZ(j) for i in range(N) for j in range(i+1,N)]\n",
        "ZZ_coeff = [0.5*(gamma*Sigma.values[i][j] + P) for i in range(N) for j in range(i+1,N)]\n",
        "Z = [qml.PauliZ(i) for i in range(N)]\n",
        "Z_coeff = [-0.5*gamma*(sum(Sigma.values[i][:])) + 0.5*R[i] - 0.5*P*(N-2*B) for i in range(N)]\n",
        "C = 0.25*gamma*(sum(sum(Sigma.values)) + np.trace(Sigma))- 0.5*sum(R) + 0.25*P*(N + (N-2*B)**2)\n",
        "\n",
        "# Construct the problen Hamiltonian\n",
        "obs = ZZ + Z\n",
        "coeffs = ZZ_coeff + Z_coeff\n",
        "H = qml.Hamiltonian(coeffs, obs, grouping_type=\"qwc\")"
      ],
      "metadata": {
        "id": "fqQ_CptiuBnY"
      },
      "execution_count": 3,
      "outputs": []
    },
    {
      "cell_type": "code",
      "source": [
        "# Design the ansatz\n",
        "p = 2     # circuit repetitions\n",
        "def ansatz(params, qubits, depth=p):\n",
        "    for q in range(qubits):\n",
        "            qml.RY(params[q], wires=q)\n",
        "    for d in range(1,depth+1):\n",
        "        for q in range(qubits-1):\n",
        "            qml.CNOT(wires=[q,q+1])\n",
        "        for q in range(qubits):\n",
        "            qml.RY(params[d*qubits+q], wires=q)"
      ],
      "metadata": {
        "id": "B64PkVpUuZ-_"
      },
      "execution_count": 4,
      "outputs": []
    },
    {
      "cell_type": "code",
      "source": [
        "dev = qml.device(\"default.qubit\", wires=N)\n",
        "\n",
        "# Set the cost function on dev\n",
        "@qml.qnode(dev, diff_method=\"parameter-shift\")\n",
        "def cost(x):\n",
        "    ansatz(x, qubits=N)\n",
        "    return qml.expval(H)\n",
        "\n",
        "# For analyze the optimized circuit\n",
        "@qml.qnode(dev)\n",
        "def probability_circuit(params):\n",
        "    ansatz(params, qubits=N)\n",
        "    return qml.probs(wires=range(N))"
      ],
      "metadata": {
        "id": "ypl_xSlruinV"
      },
      "execution_count": 5,
      "outputs": []
    },
    {
      "cell_type": "code",
      "source": [
        "def qng_session(params, stepsize=0.07, steps=300):\n",
        "  opt = qml.QNGOptimizer(stepsize=stepsize)\n",
        "  old_cost = 9999.999999\n",
        "  for i in range(steps):\n",
        "      params = opt.step(cost, params)\n",
        "      obj_value = cost(params)\n",
        "      #cost_qng.append(obj_value)\n",
        "      if (i + 1) % 5 == 0:\n",
        "          #print(\"Cost after step {:5d}: {: .7f}\".format(i + 1, obj_value))\n",
        "          if np.round(old_cost, 7) == np.round(obj_value, 7):\n",
        "              break\n",
        "          else:\n",
        "              old_cost = obj_value\n",
        "  return params"
      ],
      "metadata": {
        "id": "hoV1imsBTgTt"
      },
      "execution_count": 6,
      "outputs": []
    },
    {
      "cell_type": "code",
      "source": [
        "def momentum_qng_session(params, stepsize=0.07, momentum=0.9, steps=300):\n",
        "  opt = qml.QNGOptimizer(stepsize=stepsize)\n",
        "  old_cost = 9999.999999\n",
        "  prev_step = params*0\n",
        "  for i in range(steps):\n",
        "      prev_params = params\n",
        "      params = opt.step(cost, params) + momentum*prev_step\n",
        "      prev_step = params - prev_params\n",
        "      obj_value = cost(params)\n",
        "      #cost_qng.append(obj_value)\n",
        "      if (i + 1) % 5 == 0:\n",
        "          #print(\"Cost after step {:5d}: {: .7f}\".format(i + 1, obj_value))\n",
        "          if np.round(old_cost, 7) == np.round(obj_value, 7):\n",
        "              break\n",
        "          else:\n",
        "              old_cost = obj_value\n",
        "  return params\n",
        "\n"
      ],
      "metadata": {
        "id": "rrp3OCavWCnQ"
      },
      "execution_count": 7,
      "outputs": []
    },
    {
      "cell_type": "code",
      "source": [
        "def coolmomentum_qng_session(params, stepsize=0.07, momentum=0.99, steps=300):\n",
        "  alpha = (1 - momentum)**(1/steps)\n",
        "  old_cost = 9999.999999\n",
        "  prev_step = params*0\n",
        "  for i in range(steps):\n",
        "      prev_params = params\n",
        "      rho_i = 1 - (1 - momentum)/(alpha**i)\n",
        "      lr_i = stepsize * (1 + rho_i) / 2\n",
        "      opt = qml.QNGOptimizer(stepsize=lr_i)\n",
        "      params = opt.step(cost, params) + rho_i*prev_step\n",
        "      prev_step = params - prev_params\n",
        "      obj_value = cost(params)\n",
        "      #cost_qng.append(obj_value)\n",
        "      if (i + 1) % 5 == 0:\n",
        "          #print(\"Cost after step {:5d}: {: .7f}\".format(i + 1, obj_value))\n",
        "          if np.round(old_cost, 7) == np.round(obj_value, 7):\n",
        "              break\n",
        "          else:\n",
        "              old_cost = obj_value\n",
        "  return params"
      ],
      "metadata": {
        "id": "YF5ZeT3iCZyQ"
      },
      "execution_count": 8,
      "outputs": []
    },
    {
      "cell_type": "code",
      "source": [
        "def adam_session(params, stepsize=0.04, steps=300):\n",
        "  opt = qml.AdamOptimizer(stepsize=stepsize)\n",
        "  old_cost = 9999.999999\n",
        "  for i in range(steps):\n",
        "      params = opt.step(cost, params)\n",
        "      obj_value = cost(params)\n",
        "      #cost_qng.append(obj_value)\n",
        "      if (i + 1) % 5 == 0:\n",
        "          #print(\"Cost after step {:5d}: {: .7f}\".format(i + 1, obj_value))\n",
        "          if np.round(old_cost, 7) == np.round(obj_value, 7):\n",
        "              break\n",
        "          else:\n",
        "              old_cost = obj_value\n",
        "  return params"
      ],
      "metadata": {
        "id": "K0jh9Lw9jb33"
      },
      "execution_count": 9,
      "outputs": []
    },
    {
      "cell_type": "code",
      "source": [
        "iterations=300\n",
        "qng_step = 0.02\n",
        "adam_step = 0.08\n",
        "shots=21\n",
        "best_cost = 9999.9999\n",
        "qng_cost = []\n",
        "mqng_cost = []\n",
        "coolqng_cost = []\n",
        "adam_cost = []\n",
        "hits = [0.0, 0.0, 0.0, 0.0]\n",
        "ground_energy = -1.9083156\n",
        "for n in range(shots):\n",
        "    init_params = np.random.rand((p+1)*N)\n",
        "    params_qng = qng_session(init_params, qng_step, iterations)\n",
        "    cost_qng = cost(params_qng)\n",
        "    qng_cost.append(cost_qng)\n",
        "    if abs(cost_qng - ground_energy) <= 0.01:\n",
        "      hits[0] += 1/shots\n",
        "\n",
        "    params_mqng = momentum_qng_session(init_params, qng_step, 0.9, iterations)\n",
        "    cost_mqng = cost(params_mqng)\n",
        "    mqng_cost.append(cost_mqng)\n",
        "    if abs(cost_mqng - ground_energy) <= 0.01:\n",
        "      hits[1] += 1/shots\n",
        "\n",
        "    params_coolqng = coolmomentum_qng_session(init_params, qng_step, 0.99, iterations)\n",
        "    cost_coolqng = cost(params_coolqng)\n",
        "    coolqng_cost.append(cost_coolqng)\n",
        "    if abs(cost_coolqng - ground_energy) <= 0.01:\n",
        "      hits[2] += 1/shots\n",
        "\n",
        "    params_adam = adam_session(init_params, adam_step, iterations)\n",
        "    cost_adam = cost(params_adam)\n",
        "    adam_cost.append(cost_adam)\n",
        "    if abs(cost_adam - ground_energy) <= 0.01:\n",
        "      hits[3] += 1/shots\n",
        "    print(\"Cost after shot {:5d}: adam: {: .7f}, qng: {: .7f}, mqng: {: .7f}, coolqng: {: .7f}\"\n",
        "          .format(n, cost_adam, cost_qng, cost_mqng, cost_coolqng))\n",
        "    print(hits)\n",
        "\n"
      ],
      "metadata": {
        "colab": {
          "base_uri": "https://localhost:8080/"
        },
        "id": "H1GJKP2JnVm1",
        "outputId": "81555c09-291f-422a-b7ef-d9cb907cd51f"
      },
      "execution_count": 10,
      "outputs": [
        {
          "output_type": "stream",
          "name": "stdout",
          "text": [
            "Cost after shot     0: adam: -1.7171738, qng: -1.6651480, mqng: -1.7183741, coolqng: -1.8544845\n",
            "[0.0, 0.0, 0.0, 0.0]\n",
            "Cost after shot     1: adam: -1.6884551, qng: -1.6365379, mqng: -1.9083606, coolqng: -1.9083421\n",
            "[0.0, 0.047619047619047616, 0.047619047619047616, 0.0]\n",
            "Cost after shot     2: adam: -1.6528590, qng: -1.6528539, mqng: -1.7171632, coolqng: -1.7122385\n",
            "[0.0, 0.047619047619047616, 0.047619047619047616, 0.0]\n",
            "Cost after shot     3: adam: -1.6859617, qng: -1.7168221, mqng: -1.6935187, coolqng: -1.9071382\n",
            "[0.0, 0.047619047619047616, 0.09523809523809523, 0.0]\n",
            "Cost after shot     4: adam: -1.6528277, qng: -1.6316081, mqng: -1.9083619, coolqng: -1.9082530\n",
            "[0.0, 0.09523809523809523, 0.14285714285714285, 0.0]\n",
            "Cost after shot     5: adam: -1.9083629, qng: -1.8637056, mqng: -1.9083574, coolqng: -1.7213310\n",
            "[0.0, 0.14285714285714285, 0.14285714285714285, 0.047619047619047616]\n",
            "Cost after shot     6: adam: -1.7171737, qng: -1.7165770, mqng: -1.7214111, coolqng: -1.9083311\n",
            "[0.0, 0.14285714285714285, 0.19047619047619047, 0.047619047619047616]\n",
            "Cost after shot     7: adam: -1.7214238, qng: -1.6823357, mqng: -1.9083482, coolqng: -1.7107781\n",
            "[0.0, 0.19047619047619047, 0.19047619047619047, 0.047619047619047616]\n",
            "Cost after shot     8: adam: -1.7214188, qng: -1.8074915, mqng: -1.9083592, coolqng: -1.7208268\n",
            "[0.0, 0.23809523809523808, 0.19047619047619047, 0.047619047619047616]\n",
            "Cost after shot     9: adam: -1.7171717, qng: -1.6857169, mqng: -1.6859614, coolqng: -1.5023018\n",
            "[0.0, 0.23809523809523808, 0.19047619047619047, 0.047619047619047616]\n",
            "Cost after shot    10: adam: -1.6859620, qng: -1.6287974, mqng: -1.9083625, coolqng: -1.7122238\n",
            "[0.0, 0.2857142857142857, 0.19047619047619047, 0.047619047619047616]\n",
            "Cost after shot    11: adam: -1.9083629, qng: -1.8965652, mqng: -1.9083584, coolqng: -1.9082144\n",
            "[0.0, 0.3333333333333333, 0.23809523809523808, 0.09523809523809523]\n",
            "Cost after shot    12: adam: -1.6888043, qng: -1.5083080, mqng: -1.9083630, coolqng: -1.6528572\n",
            "[0.0, 0.38095238095238093, 0.23809523809523808, 0.09523809523809523]\n",
            "Cost after shot    13: adam: -1.6859547, qng: -1.6574378, mqng: -1.6859544, coolqng: -1.9083095\n",
            "[0.0, 0.38095238095238093, 0.2857142857142857, 0.09523809523809523]\n",
            "Cost after shot    14: adam: -1.7171565, qng: -1.6170490, mqng: -1.7171722, coolqng: -1.6964171\n",
            "[0.0, 0.38095238095238093, 0.2857142857142857, 0.09523809523809523]\n",
            "Cost after shot    15: adam: -1.6855316, qng: -1.9082126, mqng: -1.7173200, coolqng: -1.5259628\n",
            "[0.047619047619047616, 0.38095238095238093, 0.2857142857142857, 0.09523809523809523]\n",
            "Cost after shot    16: adam: -1.9083450, qng: -1.9072268, mqng: -1.9083507, coolqng: -1.7134709\n",
            "[0.09523809523809523, 0.42857142857142855, 0.2857142857142857, 0.14285714285714285]\n",
            "Cost after shot    17: adam: -1.7214242, qng: -1.7145339, mqng: -1.7214086, coolqng: -1.9083076\n",
            "[0.09523809523809523, 0.42857142857142855, 0.3333333333333333, 0.14285714285714285]\n",
            "Cost after shot    18: adam: -1.7171740, qng: -1.7158439, mqng: -1.7171386, coolqng: -1.9083309\n",
            "[0.09523809523809523, 0.42857142857142855, 0.38095238095238093, 0.14285714285714285]\n",
            "Cost after shot    19: adam: -1.7171740, qng: -1.6839535, mqng: -1.7198461, coolqng: -1.7180855\n",
            "[0.09523809523809523, 0.42857142857142855, 0.38095238095238093, 0.14285714285714285]\n",
            "Cost after shot    20: adam: -1.6528632, qng: -1.6857206, mqng: -1.6859595, coolqng: -1.6947696\n",
            "[0.09523809523809523, 0.42857142857142855, 0.38095238095238093, 0.14285714285714285]\n"
          ]
        }
      ]
    },
    {
      "cell_type": "code",
      "source": [
        "import matplotlib.pyplot as plt\n",
        "\n",
        "fig, ax = plt.subplots()\n",
        "\n",
        "optimizers = ['QNG', 'Momentum- \\n QNG', 'Coolmomentum- \\n QNG', 'Adam']\n",
        "bar_colors = ['tab:red', 'tab:blue', 'tab:green', 'tab:orange']\n",
        "\n",
        "ax.bar(optimizers, hits, color=bar_colors)\n",
        "\n",
        "ax.set_ylabel('Probability of getting to the ground state')\n",
        "ax.set_title('Benchmarking optimizers on the portfolio optimization problem')\n",
        "\n",
        "plt.show()"
      ],
      "metadata": {
        "id": "vxamQCbpbanv",
        "outputId": "fdd9ae0e-b9f7-4946-ef8f-f444d9319264",
        "colab": {
          "base_uri": "https://localhost:8080/",
          "height": 468
        }
      },
      "execution_count": 18,
      "outputs": [
        {
          "output_type": "display_data",
          "data": {
            "text/plain": [
              "<Figure size 640x480 with 1 Axes>"
            ],
            "image/png": "[encoded data removed]"
          },
          "metadata": {}
        }
      ]
    }
  ]
}