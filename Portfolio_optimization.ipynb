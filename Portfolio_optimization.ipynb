{
  "nbformat": 4,
  "nbformat_minor": 0,
  "metadata": {
    "colab": {
      "provenance": [],
      "authorship_tag": "ABX9TyMgi66Oov1C+1t4l9GV7RSU",
      "include_colab_link": true
    },
    "kernelspec": {
      "name": "python3",
      "display_name": "Python 3"
    },
    "language_info": {
      "name": "python"
    }
  },
  "cells": [
    {
      "cell_type": "markdown",
      "metadata": {
        "id": "view-in-github",
        "colab_type": "text"
      },
      "source": [
        "<a href=\"https://colab.research.google.com/github/borbysh/Momentum-QNG/blob/main/Portfolio_optimization.ipynb\" target=\"_parent\"><img src=\"https://colab.research.google.com/assets/colab-badge.svg\" alt=\"Open In Colab\"/></a>"
      ]
    },
    {
      "cell_type": "code",
      "execution_count": 1,
      "metadata": {
        "colab": {
          "base_uri": "https://localhost:8080/"
        },
        "id": "z5Meu4kFt8ry",
        "outputId": "301ef8c4-f186-4f79-c9db-a5c4565aa5c5"
      },
      "outputs": [
        {
          "output_type": "stream",
          "name": "stderr",
          "text": [
            "[*********************100%%**********************]  6 of 6 completed\n"
          ]
        }
      ],
      "source": [
        "import pandas as pd\n",
        "import yfinance as yf\n",
        "\n",
        "assets = \"AAPL MSFT AMZN TSLA GOOG BRK-B\"\n",
        "StockStartDate = '2018-01-01'\n",
        "StockEndDate = '2018-12-31'\n",
        "interval = '1d'\n",
        "\n",
        "df = yf.download(assets, start=StockStartDate,\\\n",
        "                 end=StockEndDate, interval=interval)['Adj Close']\n",
        "\n",
        "# daily return distribution\n",
        "ret = df.pct_change().dropna()\n",
        "\n",
        "# mean return vector & covariance matrix (annualized)\n",
        "R = ret.mean()*252\n",
        "Sigma = ret.cov()*252"
      ]
    },
    {
      "cell_type": "code",
      "source": [
        "!pip install pennylane"
      ],
      "metadata": {
        "colab": {
          "base_uri": "https://localhost:8080/"
        },
        "id": "IzHaxi6XvTLa",
        "outputId": "69ec3077-ff4e-4d85-be43-988a4e5f64fc"
      },
      "execution_count": 2,
      "outputs": [
        {
          "output_type": "stream",
          "name": "stdout",
          "text": [
            "Collecting pennylane\n",
            "  Downloading PennyLane-0.35.1-py3-none-any.whl (1.6 MB)\n",
            "\u001b[2K     \u001b[90m━━━━━━━━━━━━━━━━━━━━━━━━━━━━━━━━━━━━━━━━\u001b[0m \u001b[32m1.6/1.6 MB\u001b[0m \u001b[31m13.9 MB/s\u001b[0m eta \u001b[36m0:00:00\u001b[0m\n",
            "\u001b[?25hRequirement already satisfied: numpy in /usr/local/lib/python3.10/dist-packages (from pennylane) (1.25.2)\n",
            "Requirement already satisfied: scipy in /usr/local/lib/python3.10/dist-packages (from pennylane) (1.11.4)\n",
            "Requirement already satisfied: networkx in /usr/local/lib/python3.10/dist-packages (from pennylane) (3.3)\n",
            "Collecting rustworkx (from pennylane)\n",
            "  Downloading rustworkx-0.14.2-cp310-cp310-manylinux_2_17_x86_64.manylinux2014_x86_64.whl (2.1 MB)\n",
            "\u001b[2K     \u001b[90m━━━━━━━━━━━━━━━━━━━━━━━━━━━━━━━━━━━━━━━━\u001b[0m \u001b[32m2.1/2.1 MB\u001b[0m \u001b[31m38.3 MB/s\u001b[0m eta \u001b[36m0:00:00\u001b[0m\n",
            "\u001b[?25hRequirement already satisfied: autograd in /usr/local/lib/python3.10/dist-packages (from pennylane) (1.6.2)\n",
            "Requirement already satisfied: toml in /usr/local/lib/python3.10/dist-packages (from pennylane) (0.10.2)\n",
            "Requirement already satisfied: appdirs in /usr/local/lib/python3.10/dist-packages (from pennylane) (1.4.4)\n",
            "Collecting semantic-version>=2.7 (from pennylane)\n",
            "  Downloading semantic_version-2.10.0-py2.py3-none-any.whl (15 kB)\n",
            "Collecting autoray>=0.6.1 (from pennylane)\n",
            "  Downloading autoray-0.6.9-py3-none-any.whl (49 kB)\n",
            "\u001b[2K     \u001b[90m━━━━━━━━━━━━━━━━━━━━━━━━━━━━━━━━━━━━━━━━\u001b[0m \u001b[32m49.8/49.8 kB\u001b[0m \u001b[31m2.3 MB/s\u001b[0m eta \u001b[36m0:00:00\u001b[0m\n",
            "\u001b[?25hRequirement already satisfied: cachetools in /usr/local/lib/python3.10/dist-packages (from pennylane) (5.3.3)\n",
            "Collecting pennylane-lightning>=0.35 (from pennylane)\n",
            "  Downloading PennyLane_Lightning-0.35.1-cp310-cp310-manylinux_2_17_x86_64.manylinux2014_x86_64.whl (18.5 MB)\n",
            "\u001b[2K     \u001b[90m━━━━━━━━━━━━━━━━━━━━━━━━━━━━━━━━━━━━━━━━\u001b[0m \u001b[32m18.5/18.5 MB\u001b[0m \u001b[31m15.3 MB/s\u001b[0m eta \u001b[36m0:00:00\u001b[0m\n",
            "\u001b[?25hRequirement already satisfied: requests in /usr/local/lib/python3.10/dist-packages (from pennylane) (2.31.0)\n",
            "Requirement already satisfied: typing-extensions in /usr/local/lib/python3.10/dist-packages (from pennylane) (4.11.0)\n",
            "Requirement already satisfied: future>=0.15.2 in /usr/local/lib/python3.10/dist-packages (from autograd->pennylane) (0.18.3)\n",
            "Requirement already satisfied: charset-normalizer<4,>=2 in /usr/local/lib/python3.10/dist-packages (from requests->pennylane) (3.3.2)\n",
            "Requirement already satisfied: idna<4,>=2.5 in /usr/local/lib/python3.10/dist-packages (from requests->pennylane) (3.7)\n",
            "Requirement already satisfied: urllib3<3,>=1.21.1 in /usr/local/lib/python3.10/dist-packages (from requests->pennylane) (2.0.7)\n",
            "Requirement already satisfied: certifi>=2017.4.17 in /usr/local/lib/python3.10/dist-packages (from requests->pennylane) (2024.2.2)\n",
            "Installing collected packages: semantic-version, rustworkx, autoray, pennylane-lightning, pennylane\n",
            "Successfully installed autoray-0.6.9 pennylane-0.35.1 pennylane-lightning-0.35.1 rustworkx-0.14.2 semantic-version-2.10.0\n"
          ]
        }
      ]
    },
    {
      "cell_type": "code",
      "source": [
        "import pennylane as qml\n",
        "from pennylane import numpy as np\n",
        "\n",
        "# define parameters in H\n",
        "N = 6      # number of total assets\n",
        "gamma = 1  # risk aversion coefficient\n",
        "B = 3      # budget\n",
        "P = 1.0    # penalty\n",
        "\n",
        "ZZ = [qml.PauliZ(i)@qml.PauliZ(j) for i in range(N) for j in range(i+1,N)]\n",
        "ZZ_coeff = [0.5*(gamma*Sigma.values[i][j] + P) for i in range(N) for j in range(i+1,N)]\n",
        "Z = [qml.PauliZ(i) for i in range(N)]\n",
        "Z_coeff = [-0.5*gamma*(sum(Sigma.values[i][:])) + 0.5*R[i] - 0.5*P*(N-2*B) for i in range(N)]\n",
        "C = 0.25*gamma*(sum(sum(Sigma.values)) + np.trace(Sigma))- 0.5*sum(R) + 0.25*P*(N + (N-2*B)**2)\n",
        "\n",
        "# Construct the problen Hamiltonian\n",
        "obs = ZZ + Z\n",
        "coeffs = ZZ_coeff + Z_coeff\n",
        "H = qml.Hamiltonian(coeffs, obs, grouping_type=\"qwc\")"
      ],
      "metadata": {
        "id": "fqQ_CptiuBnY"
      },
      "execution_count": 3,
      "outputs": []
    },
    {
      "cell_type": "code",
      "source": [
        "# Design the ansatz\n",
        "p = 2     # circuit repetitions\n",
        "def ansatz(params, qubits, depth=p):\n",
        "    for q in range(qubits):\n",
        "            qml.RY(params[q], wires=q)\n",
        "    for d in range(1,depth+1):\n",
        "        for q in range(qubits-1):\n",
        "            qml.CNOT(wires=[q,q+1])\n",
        "        for q in range(qubits):\n",
        "            qml.RY(params[d*qubits+q], wires=q)"
      ],
      "metadata": {
        "id": "B64PkVpUuZ-_"
      },
      "execution_count": 4,
      "outputs": []
    },
    {
      "cell_type": "code",
      "source": [
        "dev = qml.device(\"default.qubit\", wires=N)\n",
        "\n",
        "# Set the cost function on dev\n",
        "@qml.qnode(dev, diff_method=\"parameter-shift\")\n",
        "def cost(x):\n",
        "    ansatz(x, qubits=N)\n",
        "    return qml.expval(H)\n",
        "\n",
        "# For analyze the optimized circuit\n",
        "@qml.qnode(dev)\n",
        "def probability_circuit(params):\n",
        "    ansatz(params, qubits=N)\n",
        "    return qml.probs(wires=range(N))"
      ],
      "metadata": {
        "id": "ypl_xSlruinV"
      },
      "execution_count": 5,
      "outputs": []
    },
    {
      "cell_type": "code",
      "source": [
        "def qng_session(params, stepsize=0.07, steps=300):\n",
        "  opt = qml.QNGOptimizer(stepsize=stepsize)\n",
        "  old_cost = 9999.999999\n",
        "  for i in range(steps):\n",
        "      params = opt.step(cost, params)\n",
        "      obj_value = cost(params)\n",
        "      #cost_qng.append(obj_value)\n",
        "      if (i + 1) % 5 == 0:\n",
        "          #print(\"Cost after step {:5d}: {: .7f}\".format(i + 1, obj_value))\n",
        "          if np.round(old_cost, 7) == np.round(obj_value, 7):\n",
        "              break\n",
        "          else:\n",
        "              old_cost = obj_value\n",
        "  return params"
      ],
      "metadata": {
        "id": "hoV1imsBTgTt"
      },
      "execution_count": 6,
      "outputs": []
    },
    {
      "cell_type": "code",
      "source": [
        "def momentum_qng_session(params, stepsize=0.07, momentum=0.9, steps=300):\n",
        "  opt = qml.QNGOptimizer(stepsize=stepsize)\n",
        "  old_cost = 9999.999999\n",
        "  prev_step = params*0\n",
        "  for i in range(steps):\n",
        "      prev_params = params\n",
        "      params = opt.step(cost, params) + momentum*prev_step\n",
        "      prev_step = params - prev_params\n",
        "      obj_value = cost(params)\n",
        "      #cost_qng.append(obj_value)\n",
        "      if (i + 1) % 5 == 0:\n",
        "          #print(\"Cost after step {:5d}: {: .7f}\".format(i + 1, obj_value))\n",
        "          if np.round(old_cost, 7) == np.round(obj_value, 7):\n",
        "              break\n",
        "          else:\n",
        "              old_cost = obj_value\n",
        "  return params\n",
        "\n"
      ],
      "metadata": {
        "id": "rrp3OCavWCnQ"
      },
      "execution_count": 7,
      "outputs": []
    },
    {
      "cell_type": "code",
      "source": [
        "def coolmomentum_qng_session(params, stepsize=0.07, momentum=0.99, steps=300):\n",
        "  alpha = (1 - momentum)**(1/steps)\n",
        "  old_cost = 9999.999999\n",
        "  prev_step = params*0\n",
        "  for i in range(steps):\n",
        "      prev_params = params\n",
        "      rho_i = 1 - (1 - momentum)/(alpha**i)\n",
        "      lr_i = stepsize * (1 + rho_i) / 2\n",
        "      opt = qml.QNGOptimizer(stepsize=lr_i)\n",
        "      params = opt.step(cost, params) + rho_i*prev_step\n",
        "      prev_step = params - prev_params\n",
        "      obj_value = cost(params)\n",
        "      #cost_qng.append(obj_value)\n",
        "      if (i + 1) % 5 == 0:\n",
        "          #print(\"Cost after step {:5d}: {: .7f}\".format(i + 1, obj_value))\n",
        "          if np.round(old_cost, 7) == np.round(obj_value, 7):\n",
        "              break\n",
        "          else:\n",
        "              old_cost = obj_value\n",
        "  return params"
      ],
      "metadata": {
        "id": "YF5ZeT3iCZyQ"
      },
      "execution_count": 8,
      "outputs": []
    },
    {
      "cell_type": "code",
      "source": [
        "def adam_session(params, stepsize=0.04, steps=300):\n",
        "  opt = qml.AdamOptimizer(stepsize=stepsize)\n",
        "  old_cost = 9999.999999\n",
        "  for i in range(steps):\n",
        "      params = opt.step(cost, params)\n",
        "      obj_value = cost(params)\n",
        "      #cost_qng.append(obj_value)\n",
        "      if (i + 1) % 5 == 0:\n",
        "          #print(\"Cost after step {:5d}: {: .7f}\".format(i + 1, obj_value))\n",
        "          if np.round(old_cost, 7) == np.round(obj_value, 7):\n",
        "              break\n",
        "          else:\n",
        "              old_cost = obj_value\n",
        "  return params"
      ],
      "metadata": {
        "id": "K0jh9Lw9jb33"
      },
      "execution_count": 9,
      "outputs": []
    },
    {
      "cell_type": "code",
      "source": [
        "iterations=300\n",
        "qng_step = 0.02\n",
        "adam_step = 0.04\n",
        "shots=21\n",
        "best_cost = 9999.9999\n",
        "qng_cost = []\n",
        "mqng_cost = []\n",
        "coolqng_cost = []\n",
        "adam_cost = []\n",
        "for n in range(shots):\n",
        "    init_params = np.random.rand((p+1)*N)\n",
        "    params_qng = qng_session(init_params, qng_step, iterations)\n",
        "    cost_qng = cost(params_qng)\n",
        "    qng_cost.append(cost_qng)\n",
        "\n",
        "    params_mqng = momentum_qng_session(init_params, qng_step, 0.9, iterations)\n",
        "    cost_mqng = cost(params_mqng)\n",
        "    mqng_cost.append(cost_mqng)\n",
        "\n",
        "    params_coolqng = coolmomentum_qng_session(init_params, qng_step, 0.99, iterations)\n",
        "    cost_coolqng = cost(params_coolqng)\n",
        "    coolqng_cost.append(cost_coolqng)\n",
        "\n",
        "    params_adam = adam_session(init_params, adam_step, iterations)\n",
        "    cost_adam = cost(params_adam)\n",
        "    adam_cost.append(cost_adam)\n",
        "    print(\"Cost after shot {:5d}: adam: {: .7f}, qng: {: .7f}, mqng: {: .7f}, coolqng: {: .7f}\".format(n, cost_adam, cost_qng, cost_mqng, cost_coolqng))\n",
        "\n"
      ],
      "metadata": {
        "colab": {
          "base_uri": "https://localhost:8080/"
        },
        "id": "H1GJKP2JnVm1",
        "outputId": "860a6f05-c0ff-4a49-e0ec-939fe23df2e3"
      },
      "execution_count": 10,
      "outputs": [
        {
          "output_type": "stream",
          "name": "stdout",
          "text": [
            "Cost after shot     0: adam: -1.6859613, qng: -1.6857691, mqng: -1.6859616, coolqng: -1.9083501\n",
            "Cost after shot     1: adam: -1.6528646, qng: -1.6631559, mqng: -1.7210081, coolqng: -1.9068452\n",
            "Cost after shot     2: adam: -1.9083629, qng: -1.6859524, mqng: -1.9083557, coolqng: -1.9083030\n",
            "Cost after shot     3: adam: -1.6859613, qng: -1.6790484, mqng: -1.9083328, coolqng: -1.9083278\n",
            "Cost after shot     4: adam: -1.7171690, qng: -1.7152969, mqng: -1.7214158, coolqng: -1.7118834\n",
            "Cost after shot     5: adam: -1.7214212, qng: -1.6663740, mqng: -1.7214127, coolqng: -1.9083608\n",
            "Cost after shot     6: adam: -1.7213718, qng: -1.7168786, mqng: -1.6965033, coolqng: -1.9083499\n",
            "Cost after shot     7: adam: -1.7171349, qng: -1.7170888, mqng: -1.7181061, coolqng: -1.9083187\n",
            "Cost after shot     8: adam: -1.7171025, qng: -1.7170751, mqng: -1.9083174, coolqng: -1.7221986\n",
            "Cost after shot     9: adam: -1.6890707, qng: -1.4877061, mqng: -1.7205258, coolqng: -1.9082403\n",
            "Cost after shot    10: adam: -1.6528624, qng: -1.6114636, mqng: -1.6566088, coolqng: -1.9083597\n",
            "Cost after shot    11: adam: -1.7171662, qng: -1.7171178, mqng: -1.7171712, coolqng: -1.7128317\n",
            "Cost after shot    12: adam: -1.7171738, qng: -1.6769833, mqng: -1.7211920, coolqng: -1.4658107\n",
            "Cost after shot    13: adam: -1.6859520, qng: -1.7612983, mqng: -1.6859288, coolqng: -1.7170990\n",
            "Cost after shot    14: adam: -1.6528474, qng: -1.6515318, mqng: -1.9083569, coolqng: -1.9083618\n",
            "Cost after shot    15: adam: -1.6859586, qng: -1.6859380, mqng: -1.9083631, coolqng: -1.7818436\n",
            "Cost after shot    16: adam: -1.7171715, qng: -1.5615062, mqng: -1.9083629, coolqng: -1.9082848\n",
            "Cost after shot    17: adam: -1.6856350, qng: -1.5676576, mqng: -1.7198117, coolqng: -1.9083629\n",
            "Cost after shot    18: adam: -1.6906033, qng: -1.6506793, mqng: -1.9083631, coolqng: -1.8363363\n",
            "Cost after shot    19: adam: -1.7002314, qng: -1.6709547, mqng: -1.7171543, coolqng: -1.7141924\n",
            "Cost after shot    20: adam: -1.6859613, qng: -1.6859039, mqng: -1.5290773, coolqng: -1.7214202\n"
          ]
        }
      ]
    },
    {
      "cell_type": "code",
      "source": [
        "import matplotlib.pyplot as plt\n",
        "plt.plot(adam_cost, label= \"Adam\")\n",
        "plt.plot(qng_cost, label= \"QNG\")\n",
        "plt.plot(mqng_cost, label= \"Momentum-QNG\")\n",
        "plt.plot(coolqng_cost, label= \"CoolMomentum-QNG\")\n",
        "#plt.axhline(y=-1.9083156, color='black', linestyle='-', label = \"Ground energy\")\n",
        "plt.xticks(np.arange(0, 22, step=3))\n",
        "plt.legend()\n",
        "plt.show"
      ],
      "metadata": {
        "colab": {
          "base_uri": "https://localhost:8080/",
          "height": 600
        },
        "id": "F41htZuGHOFB",
        "outputId": "17448d8b-c85f-442e-9cdc-3c70b9e0e2d2"
      },
      "execution_count": 12,
      "outputs": [
        {
          "output_type": "execute_result",
          "data": {
            "text/plain": [
              "<function matplotlib.pyplot.show(close=None, block=None)>"
            ],
            "text/html": [
              "<div style=\"max-width:800px; border: 1px solid var(--colab-border-color);\"><style>\n",
              "      pre.function-repr-contents {\n",
              "        overflow-x: auto;\n",
              "        padding: 8px 12px;\n",
              "        max-height: 500px;\n",
              "      }\n",
              "\n",
              "      pre.function-repr-contents.function-repr-contents-collapsed {\n",
              "        cursor: pointer;\n",
              "        max-height: 100px;\n",
              "      }\n",
              "    </style>\n",
              "    <pre style=\"white-space: initial; background:\n",
              "         var(--colab-secondary-surface-color); padding: 8px 12px;\n",
              "         border-bottom: 1px solid var(--colab-border-color);\"><b>matplotlib.pyplot.show</b><br/>def show(*args, **kwargs)</pre><pre class=\"function-repr-contents function-repr-contents-collapsed\" style=\"\"><a class=\"filepath\" style=\"display:none\" href=\"#\">/usr/local/lib/python3.10/dist-packages/matplotlib/pyplot.py</a>Display all open figures.\n",
              "\n",
              "Parameters\n",
              "----------\n",
              "block : bool, optional\n",
              "    Whether to wait for all figures to be closed before returning.\n",
              "\n",
              "    If `True` block and run the GUI main loop until all figure windows\n",
              "    are closed.\n",
              "\n",
              "    If `False` ensure that all figure windows are displayed and return\n",
              "    immediately.  In this case, you are responsible for ensuring\n",
              "    that the event loop is running to have responsive figures.\n",
              "\n",
              "    Defaults to True in non-interactive mode and to False in interactive\n",
              "    mode (see `.pyplot.isinteractive`).\n",
              "\n",
              "See Also\n",
              "--------\n",
              "ion : Enable interactive mode, which shows / updates the figure after\n",
              "      every plotting command, so that calling ``show()`` is not necessary.\n",
              "ioff : Disable interactive mode.\n",
              "savefig : Save the figure to an image file instead of showing it on screen.\n",
              "\n",
              "Notes\n",
              "-----\n",
              "**Saving figures to file and showing a window at the same time**\n",
              "\n",
              "If you want an image file as well as a user interface window, use\n",
              "`.pyplot.savefig` before `.pyplot.show`. At the end of (a blocking)\n",
              "``show()`` the figure is closed and thus unregistered from pyplot. Calling\n",
              "`.pyplot.savefig` afterwards would save a new and thus empty figure. This\n",
              "limitation of command order does not apply if the show is non-blocking or\n",
              "if you keep a reference to the figure and use `.Figure.savefig`.\n",
              "\n",
              "**Auto-show in jupyter notebooks**\n",
              "\n",
              "The jupyter backends (activated via ``%matplotlib inline``,\n",
              "``%matplotlib notebook``, or ``%matplotlib widget``), call ``show()`` at\n",
              "the end of every cell by default. Thus, you usually don&#x27;t have to call it\n",
              "explicitly there.</pre>\n",
              "      <script>\n",
              "      if (google.colab.kernel.accessAllowed && google.colab.files && google.colab.files.view) {\n",
              "        for (const element of document.querySelectorAll('.filepath')) {\n",
              "          element.style.display = 'block'\n",
              "          element.onclick = (event) => {\n",
              "            event.preventDefault();\n",
              "            event.stopPropagation();\n",
              "            google.colab.files.view(element.textContent, 401);\n",
              "          };\n",
              "        }\n",
              "      }\n",
              "      for (const element of document.querySelectorAll('.function-repr-contents')) {\n",
              "        element.onclick = (event) => {\n",
              "          event.preventDefault();\n",
              "          event.stopPropagation();\n",
              "          element.classList.toggle('function-repr-contents-collapsed');\n",
              "        };\n",
              "      }\n",
              "      </script>\n",
              "      </div>"
            ]
          },
          "metadata": {},
          "execution_count": 12
        },
        {
          "output_type": "display_data",
          "data": {
            "text/plain": [
              "<Figure size 640x480 with 1 Axes>"
            ],
            "image/png": "[encoded data removed]"
          },
          "metadata": {}
        }
      ]
    }
  ]
}