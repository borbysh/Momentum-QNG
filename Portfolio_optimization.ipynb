{
  "nbformat": 4,
  "nbformat_minor": 0,
  "metadata": {
    "colab": {
      "provenance": [],
      "authorship_tag": "ABX9TyOfE0VTUl9+t1ps02TpNbwU",
      "include_colab_link": true
    },
    "kernelspec": {
      "name": "python3",
      "display_name": "Python 3"
    },
    "language_info": {
      "name": "python"
    }
  },
  "cells": [
    {
      "cell_type": "markdown",
      "metadata": {
        "id": "view-in-github",
        "colab_type": "text"
      },
      "source": [
        "<a href=\"https://colab.research.google.com/github/borbysh/Momentum-QNG/blob/main/Portfolio_optimization.ipynb\" target=\"_parent\"><img src=\"https://colab.research.google.com/assets/colab-badge.svg\" alt=\"Open In Colab\"/></a>"
      ]
    },
    {
      "cell_type": "code",
      "execution_count": 1,
      "metadata": {
        "colab": {
          "base_uri": "https://localhost:8080/"
        },
        "id": "z5Meu4kFt8ry",
        "outputId": "4ff61b99-b61f-45d5-93ca-97bf418976d0"
      },
      "outputs": [
        {
          "output_type": "stream",
          "name": "stderr",
          "text": [
            "[*********************100%%**********************]  6 of 6 completed\n"
          ]
        }
      ],
      "source": [
        "import pandas as pd\n",
        "import yfinance as yf\n",
        "\n",
        "assets = \"AAPL MSFT AMZN TSLA GOOG BRK-B\"\n",
        "StockStartDate = '2018-01-01'\n",
        "StockEndDate = '2018-12-31'\n",
        "interval = '1d'\n",
        "\n",
        "df = yf.download(assets, start=StockStartDate,\\\n",
        "                 end=StockEndDate, interval=interval)['Adj Close']\n",
        "\n",
        "# daily return distribution\n",
        "ret = df.pct_change().dropna()\n",
        "\n",
        "# mean return vector & covariance matrix (annualized)\n",
        "R = ret.mean()*252\n",
        "Sigma = ret.cov()*252"
      ]
    },
    {
      "cell_type": "code",
      "source": [
        "!pip install pennylane"
      ],
      "metadata": {
        "colab": {
          "base_uri": "https://localhost:8080/"
        },
        "id": "IzHaxi6XvTLa",
        "outputId": "fa0cc255-b4c6-4634-be6a-2fad899d5515"
      },
      "execution_count": 2,
      "outputs": [
        {
          "output_type": "stream",
          "name": "stdout",
          "text": [
            "Collecting pennylane\n",
            "  Downloading PennyLane-0.36.0-py3-none-any.whl (1.7 MB)\n",
            "\u001b[2K     \u001b[90m━━━━━━━━━━━━━━━━━━━━━━━━━━━━━━━━━━━━━━━━\u001b[0m \u001b[32m1.7/1.7 MB\u001b[0m \u001b[31m8.8 MB/s\u001b[0m eta \u001b[36m0:00:00\u001b[0m\n",
            "\u001b[?25hRequirement already satisfied: numpy<2.0 in /usr/local/lib/python3.10/dist-packages (from pennylane) (1.25.2)\n",
            "Requirement already satisfied: scipy in /usr/local/lib/python3.10/dist-packages (from pennylane) (1.11.4)\n",
            "Requirement already satisfied: networkx in /usr/local/lib/python3.10/dist-packages (from pennylane) (3.3)\n",
            "Collecting rustworkx (from pennylane)\n",
            "  Downloading rustworkx-0.14.2-cp310-cp310-manylinux_2_17_x86_64.manylinux2014_x86_64.whl (2.1 MB)\n",
            "\u001b[2K     \u001b[90m━━━━━━━━━━━━━━━━━━━━━━━━━━━━━━━━━━━━━━━━\u001b[0m \u001b[32m2.1/2.1 MB\u001b[0m \u001b[31m16.7 MB/s\u001b[0m eta \u001b[36m0:00:00\u001b[0m\n",
            "\u001b[?25hRequirement already satisfied: autograd in /usr/local/lib/python3.10/dist-packages (from pennylane) (1.6.2)\n",
            "Requirement already satisfied: toml in /usr/local/lib/python3.10/dist-packages (from pennylane) (0.10.2)\n",
            "Requirement already satisfied: appdirs in /usr/local/lib/python3.10/dist-packages (from pennylane) (1.4.4)\n",
            "Collecting semantic-version>=2.7 (from pennylane)\n",
            "  Downloading semantic_version-2.10.0-py2.py3-none-any.whl (15 kB)\n",
            "Collecting autoray>=0.6.1 (from pennylane)\n",
            "  Downloading autoray-0.6.10-py3-none-any.whl (50 kB)\n",
            "\u001b[2K     \u001b[90m━━━━━━━━━━━━━━━━━━━━━━━━━━━━━━━━━━━━━━━━\u001b[0m \u001b[32m50.8/50.8 kB\u001b[0m \u001b[31m2.9 MB/s\u001b[0m eta \u001b[36m0:00:00\u001b[0m\n",
            "\u001b[?25hRequirement already satisfied: cachetools in /usr/local/lib/python3.10/dist-packages (from pennylane) (5.3.3)\n",
            "Collecting pennylane-lightning>=0.36 (from pennylane)\n",
            "  Downloading PennyLane_Lightning-0.36.0-cp310-cp310-manylinux_2_17_x86_64.manylinux2014_x86_64.whl (19.1 MB)\n",
            "\u001b[2K     \u001b[90m━━━━━━━━━━━━━━━━━━━━━━━━━━━━━━━━━━━━━━━━\u001b[0m \u001b[32m19.1/19.1 MB\u001b[0m \u001b[31m27.8 MB/s\u001b[0m eta \u001b[36m0:00:00\u001b[0m\n",
            "\u001b[?25hRequirement already satisfied: requests in /usr/local/lib/python3.10/dist-packages (from pennylane) (2.31.0)\n",
            "Requirement already satisfied: typing-extensions in /usr/local/lib/python3.10/dist-packages (from pennylane) (4.11.0)\n",
            "Requirement already satisfied: future>=0.15.2 in /usr/local/lib/python3.10/dist-packages (from autograd->pennylane) (0.18.3)\n",
            "Requirement already satisfied: charset-normalizer<4,>=2 in /usr/local/lib/python3.10/dist-packages (from requests->pennylane) (3.3.2)\n",
            "Requirement already satisfied: idna<4,>=2.5 in /usr/local/lib/python3.10/dist-packages (from requests->pennylane) (3.7)\n",
            "Requirement already satisfied: urllib3<3,>=1.21.1 in /usr/local/lib/python3.10/dist-packages (from requests->pennylane) (2.0.7)\n",
            "Requirement already satisfied: certifi>=2017.4.17 in /usr/local/lib/python3.10/dist-packages (from requests->pennylane) (2024.2.2)\n",
            "Installing collected packages: semantic-version, rustworkx, autoray, pennylane-lightning, pennylane\n",
            "Successfully installed autoray-0.6.10 pennylane-0.36.0 pennylane-lightning-0.36.0 rustworkx-0.14.2 semantic-version-2.10.0\n"
          ]
        }
      ]
    },
    {
      "cell_type": "code",
      "source": [
        "import pennylane as qml\n",
        "from pennylane import numpy as np\n",
        "\n",
        "# define parameters in H\n",
        "N = 6      # number of total assets\n",
        "gamma = 1  # risk aversion coefficient\n",
        "B = 3      # budget\n",
        "P = 1.0    # penalty\n",
        "\n",
        "ZZ = [qml.PauliZ(i)@qml.PauliZ(j) for i in range(N) for j in range(i+1,N)]\n",
        "ZZ_coeff = [0.5*(gamma*Sigma.values[i][j] + P) for i in range(N) for j in range(i+1,N)]\n",
        "Z = [qml.PauliZ(i) for i in range(N)]\n",
        "Z_coeff = [-0.5*gamma*(sum(Sigma.values[i][:])) + 0.5*R[i] - 0.5*P*(N-2*B) for i in range(N)]\n",
        "C = 0.25*gamma*(sum(sum(Sigma.values)) + np.trace(Sigma))- 0.5*sum(R) + 0.25*P*(N + (N-2*B)**2)\n",
        "\n",
        "# Construct the problen Hamiltonian\n",
        "obs = ZZ + Z\n",
        "coeffs = ZZ_coeff + Z_coeff\n",
        "H = qml.Hamiltonian(coeffs, obs, grouping_type=\"qwc\")"
      ],
      "metadata": {
        "id": "fqQ_CptiuBnY"
      },
      "execution_count": 3,
      "outputs": []
    },
    {
      "cell_type": "code",
      "source": [
        "# Design the ansatz\n",
        "p = 2     # circuit repetitions\n",
        "def ansatz(params, qubits, depth=p):\n",
        "    for q in range(qubits):\n",
        "            qml.RY(params[q], wires=q)\n",
        "    for d in range(1,depth+1):\n",
        "        for q in range(qubits-1):\n",
        "            qml.CNOT(wires=[q,q+1])\n",
        "        for q in range(qubits):\n",
        "            qml.RY(params[d*qubits+q], wires=q)"
      ],
      "metadata": {
        "id": "B64PkVpUuZ-_"
      },
      "execution_count": 4,
      "outputs": []
    },
    {
      "cell_type": "code",
      "source": [
        "dev = qml.device(\"default.qubit\", wires=N)\n",
        "\n",
        "# Set the cost function on dev\n",
        "@qml.qnode(dev, diff_method=\"parameter-shift\")\n",
        "def cost(x):\n",
        "    ansatz(x, qubits=N)\n",
        "    return qml.expval(H)\n",
        "\n",
        "# For analyze the optimized circuit\n",
        "@qml.qnode(dev)\n",
        "def probability_circuit(params):\n",
        "    ansatz(params, qubits=N)\n",
        "    return qml.probs(wires=range(N))"
      ],
      "metadata": {
        "id": "ypl_xSlruinV"
      },
      "execution_count": 5,
      "outputs": []
    },
    {
      "cell_type": "code",
      "source": [
        "def qng_session(params, stepsize=0.07, steps=300):\n",
        "  opt = qml.QNGOptimizer(stepsize=stepsize)\n",
        "  old_cost = 9999.999999\n",
        "  for i in range(steps):\n",
        "      params = opt.step(cost, params)\n",
        "      obj_value = cost(params)\n",
        "      #cost_qng.append(obj_value)\n",
        "      if (i + 1) % 5 == 0:\n",
        "          #print(\"Cost after step {:5d}: {: .7f}\".format(i + 1, obj_value))\n",
        "          if np.round(old_cost, 7) == np.round(obj_value, 7):\n",
        "              break\n",
        "          else:\n",
        "              old_cost = obj_value\n",
        "  return params"
      ],
      "metadata": {
        "id": "hoV1imsBTgTt"
      },
      "execution_count": 6,
      "outputs": []
    },
    {
      "cell_type": "code",
      "source": [
        "def momentum_qng_session(params, stepsize=0.07, momentum=0.9, steps=300):\n",
        "  opt = qml.QNGOptimizer(stepsize=stepsize)\n",
        "  old_cost = 9999.999999\n",
        "  prev_step = params*0\n",
        "  for i in range(steps):\n",
        "      prev_params = params\n",
        "      params = opt.step(cost, params) + momentum*prev_step\n",
        "      prev_step = params - prev_params\n",
        "      obj_value = cost(params)\n",
        "      #cost_qng.append(obj_value)\n",
        "      if (i + 1) % 5 == 0:\n",
        "          #print(\"Cost after step {:5d}: {: .7f}\".format(i + 1, obj_value))\n",
        "          if np.round(old_cost, 7) == np.round(obj_value, 7):\n",
        "              break\n",
        "          else:\n",
        "              old_cost = obj_value\n",
        "  return params\n",
        "\n"
      ],
      "metadata": {
        "id": "rrp3OCavWCnQ"
      },
      "execution_count": 7,
      "outputs": []
    },
    {
      "cell_type": "code",
      "source": [
        "def coolmomentum_qng_session(params, stepsize=0.07, momentum=0.99, steps=300):\n",
        "  alpha = (1 - momentum)**(1/steps)\n",
        "  old_cost = 9999.999999\n",
        "  prev_step = params*0\n",
        "  for i in range(steps):\n",
        "      prev_params = params\n",
        "      rho_i = 1 - (1 - momentum)/(alpha**i)\n",
        "      lr_i = stepsize * (1 + rho_i) / 2\n",
        "      opt = qml.QNGOptimizer(stepsize=lr_i)\n",
        "      params = opt.step(cost, params) + rho_i*prev_step\n",
        "      prev_step = params - prev_params\n",
        "      obj_value = cost(params)\n",
        "      #cost_qng.append(obj_value)\n",
        "      if (i + 1) % 5 == 0:\n",
        "          #print(\"Cost after step {:5d}: {: .7f}\".format(i + 1, obj_value))\n",
        "          if np.round(old_cost, 7) == np.round(obj_value, 7):\n",
        "              break\n",
        "          else:\n",
        "              old_cost = obj_value\n",
        "  return params"
      ],
      "metadata": {
        "id": "YF5ZeT3iCZyQ"
      },
      "execution_count": 8,
      "outputs": []
    },
    {
      "cell_type": "code",
      "source": [
        "def adam_session(params, stepsize=0.04, steps=300):\n",
        "  opt = qml.AdamOptimizer(stepsize=stepsize)\n",
        "  old_cost = 9999.999999\n",
        "  for i in range(steps):\n",
        "      params = opt.step(cost, params)\n",
        "      obj_value = cost(params)\n",
        "      #cost_qng.append(obj_value)\n",
        "      if (i + 1) % 5 == 0:\n",
        "          #print(\"Cost after step {:5d}: {: .7f}\".format(i + 1, obj_value))\n",
        "          if np.round(old_cost, 7) == np.round(obj_value, 7):\n",
        "              break\n",
        "          else:\n",
        "              old_cost = obj_value\n",
        "  return params"
      ],
      "metadata": {
        "id": "K0jh9Lw9jb33"
      },
      "execution_count": 9,
      "outputs": []
    },
    {
      "cell_type": "code",
      "source": [
        "iterations=300\n",
        "qng_step = 0.02\n",
        "adam_step = 0.08\n",
        "shots=25\n",
        "best_cost = 9999.9999\n",
        "qng_cost = []\n",
        "mqng_cost = []\n",
        "coolqng_cost = []\n",
        "adam_cost = []\n",
        "hits = [0.0, 0.0, 0.0, 0.0]\n",
        "ground_energy = -1.9083156\n",
        "for n in range(shots):\n",
        "    init_params = np.random.rand((p+1)*N)\n",
        "    params_qng = qng_session(init_params, qng_step, iterations)\n",
        "    cost_qng = cost(params_qng)\n",
        "    qng_cost.append(cost_qng)\n",
        "    if abs(cost_qng - ground_energy) <= 0.01:\n",
        "      hits[0] += 1/shots\n",
        "\n",
        "    params_mqng = momentum_qng_session(init_params, qng_step, 0.9, iterations)\n",
        "    cost_mqng = cost(params_mqng)\n",
        "    mqng_cost.append(cost_mqng)\n",
        "    if abs(cost_mqng - ground_energy) <= 0.01:\n",
        "      hits[1] += 1/shots\n",
        "\n",
        "    params_coolqng = coolmomentum_qng_session(init_params, qng_step, 0.99, iterations)\n",
        "    cost_coolqng = cost(params_coolqng)\n",
        "    coolqng_cost.append(cost_coolqng)\n",
        "    if abs(cost_coolqng - ground_energy) <= 0.01:\n",
        "      hits[2] += 1/shots\n",
        "\n",
        "    params_adam = adam_session(init_params, adam_step, iterations)\n",
        "    cost_adam = cost(params_adam)\n",
        "    adam_cost.append(cost_adam)\n",
        "    if abs(cost_adam - ground_energy) <= 0.01:\n",
        "      hits[3] += 1/shots\n",
        "    print(\"Cost after shot {:5d}: adam: {: .7f}, qng: {: .7f}, mqng: {: .7f}, coolqng: {: .7f}\"\n",
        "          .format(n, cost_adam, cost_qng, cost_mqng, cost_coolqng))\n",
        "    print(hits)\n",
        "\n"
      ],
      "metadata": {
        "colab": {
          "base_uri": "https://localhost:8080/"
        },
        "id": "H1GJKP2JnVm1",
        "outputId": "82c942f1-c537-498d-f649-787f598c758f"
      },
      "execution_count": 10,
      "outputs": [
        {
          "output_type": "stream",
          "name": "stdout",
          "text": [
            "Cost after shot     0: adam: -1.9083529, qng: -1.7171973, mqng: -1.9083270, coolqng: -1.7199104\n",
            "[0.0, 0.04, 0.0, 0.04]\n",
            "Cost after shot     1: adam: -1.7171272, qng: -1.7167781, mqng: -1.9083594, coolqng: -1.9083178\n",
            "[0.0, 0.08, 0.04, 0.04]\n",
            "Cost after shot     2: adam: -1.6879120, qng: -1.6609850, mqng: -1.9083062, coolqng: -1.9083616\n",
            "[0.0, 0.12, 0.08, 0.04]\n",
            "Cost after shot     3: adam: -1.9083614, qng: -1.9081230, mqng: -1.7280084, coolqng: -1.7211566\n",
            "[0.04, 0.12, 0.08, 0.08]\n",
            "Cost after shot     4: adam: -1.6859568, qng: -1.6858084, mqng: -1.6859601, coolqng: -1.9081265\n",
            "[0.04, 0.12, 0.12, 0.08]\n",
            "Cost after shot     5: adam: -1.9083633, qng: -1.6857452, mqng: -1.9083442, coolqng: -1.9075274\n",
            "[0.04, 0.16, 0.16, 0.12]\n",
            "Cost after shot     6: adam: -1.9083634, qng: -1.7095345, mqng: -1.7173009, coolqng: -1.9056783\n",
            "[0.04, 0.16, 0.2, 0.16]\n",
            "Cost after shot     7: adam: -1.9083635, qng: -1.6499369, mqng: -1.5291077, coolqng: -1.9083631\n",
            "[0.04, 0.16, 0.24000000000000002, 0.2]\n",
            "Cost after shot     8: adam: -1.7171717, qng: -1.6836960, mqng: -1.9083634, coolqng: -1.9082727\n",
            "[0.04, 0.2, 0.28, 0.2]\n",
            "Cost after shot     9: adam: -1.5291159, qng: -1.7151609, mqng: -1.9083635, coolqng: -1.7206670\n",
            "[0.04, 0.24000000000000002, 0.28, 0.2]\n",
            "Cost after shot    10: adam: -1.7171687, qng: -1.6846622, mqng: -1.6859525, coolqng: -1.9081294\n",
            "[0.04, 0.24000000000000002, 0.32, 0.2]\n",
            "Cost after shot    11: adam: -1.7171454, qng: -1.7169772, mqng: -1.9083069, coolqng: -1.7199454\n",
            "[0.04, 0.28, 0.32, 0.2]\n",
            "Cost after shot    12: adam: -1.6859615, qng: -1.6859571, mqng: -1.6859490, coolqng: -1.9083345\n",
            "[0.04, 0.28, 0.36, 0.2]\n",
            "Cost after shot    13: adam: -1.7171637, qng: -1.4838425, mqng: -1.7212600, coolqng: -1.7143723\n",
            "[0.04, 0.28, 0.36, 0.2]\n",
            "Cost after shot    14: adam: -1.9083562, qng: -1.8845723, mqng: -1.9082222, coolqng: -1.6965233\n",
            "[0.04, 0.32, 0.36, 0.24000000000000002]\n",
            "Cost after shot    15: adam: -1.7173772, qng: -1.7164776, mqng: -1.7171742, coolqng: -1.7189809\n",
            "[0.04, 0.32, 0.36, 0.24000000000000002]\n",
            "Cost after shot    16: adam: -1.6529025, qng: -1.6857365, mqng: -1.6859613, coolqng: -1.9081398\n",
            "[0.04, 0.32, 0.39999999999999997, 0.24000000000000002]\n",
            "Cost after shot    17: adam: -1.4790274, qng: -1.5758964, mqng: -1.7213335, coolqng: -1.7211526\n",
            "[0.04, 0.32, 0.39999999999999997, 0.24000000000000002]\n",
            "Cost after shot    18: adam: -1.6528717, qng: -1.5845161, mqng: -1.9083634, coolqng: -1.7171501\n",
            "[0.04, 0.36, 0.39999999999999997, 0.24000000000000002]\n",
            "Cost after shot    19: adam: -1.6528697, qng: -1.7087463, mqng: -1.9081310, coolqng: -1.7214135\n",
            "[0.04, 0.39999999999999997, 0.39999999999999997, 0.24000000000000002]\n",
            "Cost after shot    20: adam: -1.9083619, qng: -1.7170021, mqng: -1.9083630, coolqng: -1.6976042\n",
            "[0.04, 0.43999999999999995, 0.39999999999999997, 0.28]\n",
            "Cost after shot    21: adam: -1.7171724, qng: -1.7180174, mqng: -1.7171746, coolqng: -1.9083176\n",
            "[0.04, 0.43999999999999995, 0.43999999999999995, 0.28]\n",
            "Cost after shot    22: adam: -1.6859615, qng: -1.6856614, mqng: -1.6937672, coolqng: -1.7213156\n",
            "[0.04, 0.43999999999999995, 0.43999999999999995, 0.28]\n",
            "Cost after shot    23: adam: -1.6859607, qng: -1.6858072, mqng: -1.9083631, coolqng: -1.9083418\n",
            "[0.04, 0.4799999999999999, 0.4799999999999999, 0.28]\n",
            "Cost after shot    24: adam: -1.7213976, qng: -1.6963008, mqng: -1.5044718, coolqng: -1.8819220\n",
            "[0.04, 0.4799999999999999, 0.4799999999999999, 0.28]\n"
          ]
        }
      ]
    },
    {
      "cell_type": "code",
      "source": [
        "import matplotlib.pyplot as plt\n",
        "\n",
        "fig, ax = plt.subplots()\n",
        "\n",
        "optimizers = ['QNG', 'Momentum- \\n QNG', 'Coolmomentum- \\n QNG', 'Adam']\n",
        "bar_colors = ['tab:red', 'tab:blue', 'tab:green', 'tab:orange']\n",
        "\n",
        "ax.bar(optimizers, hits, color=bar_colors)\n",
        "\n",
        "ax.set_ylabel('Probability of getting to the ground state')\n",
        "ax.set_title('Benchmarking optimizers on the portfolio optimization problem')\n",
        "\n",
        "plt.show()"
      ],
      "metadata": {
        "id": "vxamQCbpbanv",
        "outputId": "ff7566fc-5605-4d19-b465-15db7041c14d",
        "colab": {
          "base_uri": "https://localhost:8080/",
          "height": 468
        }
      },
      "execution_count": 11,
      "outputs": [
        {
          "output_type": "display_data",
          "data": {
            "text/plain": [
              "<Figure size 640x480 with 1 Axes>"
            ],
            "image/png": "[encoded data removed]"
          },
          "metadata": {}
        }
      ]
    }
  ]
}