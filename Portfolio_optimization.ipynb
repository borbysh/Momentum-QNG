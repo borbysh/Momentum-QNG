{
  "nbformat": 4,
  "nbformat_minor": 0,
  "metadata": {
    "colab": {
      "provenance": [],
      "authorship_tag": "ABX9TyNbhNPujXo8PsX15Qbso5kz",
      "include_colab_link": true
    },
    "kernelspec": {
      "name": "python3",
      "display_name": "Python 3"
    },
    "language_info": {
      "name": "python"
    }
  },
  "cells": [
    {
      "cell_type": "markdown",
      "metadata": {
        "id": "view-in-github",
        "colab_type": "text"
      },
      "source": [
        "<a href=\"https://colab.research.google.com/github/borbysh/Momentum-QNG/blob/main/Portfolio_optimization.ipynb\" target=\"_parent\"><img src=\"https://colab.research.google.com/assets/colab-badge.svg\" alt=\"Open In Colab\"/></a>"
      ]
    },
    {
      "cell_type": "code",
      "execution_count": 1,
      "metadata": {
        "colab": {
          "base_uri": "https://localhost:8080/"
        },
        "id": "z5Meu4kFt8ry",
        "outputId": "235e0935-e728-4852-cb14-1ac1e5419c8c"
      },
      "outputs": [
        {
          "output_type": "stream",
          "name": "stderr",
          "text": [
            "[*********************100%%**********************]  6 of 6 completed\n"
          ]
        }
      ],
      "source": [
        "import pandas as pd\n",
        "import yfinance as yf\n",
        "\n",
        "assets = \"AAPL MSFT AMZN TSLA GOOG BRK-B\"\n",
        "StockStartDate = '2018-01-01'\n",
        "StockEndDate = '2018-12-31'\n",
        "interval = '1d'\n",
        "\n",
        "df = yf.download(assets, start=StockStartDate,\\\n",
        "                 end=StockEndDate, interval=interval)['Adj Close']\n",
        "\n",
        "# daily return distribution\n",
        "ret = df.pct_change().dropna()\n",
        "\n",
        "# mean return vector & covariance matrix (annualized)\n",
        "R = ret.mean()*252\n",
        "Sigma = ret.cov()*252"
      ]
    },
    {
      "cell_type": "code",
      "source": [
        "!pip install pennylane"
      ],
      "metadata": {
        "colab": {
          "base_uri": "https://localhost:8080/"
        },
        "id": "IzHaxi6XvTLa",
        "outputId": "2bea6bf8-0de9-4ec9-917c-5e831d8d8277"
      },
      "execution_count": 2,
      "outputs": [
        {
          "output_type": "stream",
          "name": "stdout",
          "text": [
            "Collecting pennylane\n",
            "  Downloading PennyLane-0.36.0-py3-none-any.whl (1.7 MB)\n",
            "\u001b[2K     \u001b[90m━━━━━━━━━━━━━━━━━━━━━━━━━━━━━━━━━━━━━━━━\u001b[0m \u001b[32m1.7/1.7 MB\u001b[0m \u001b[31m7.3 MB/s\u001b[0m eta \u001b[36m0:00:00\u001b[0m\n",
            "\u001b[?25hRequirement already satisfied: numpy<2.0 in /usr/local/lib/python3.10/dist-packages (from pennylane) (1.25.2)\n",
            "Requirement already satisfied: scipy in /usr/local/lib/python3.10/dist-packages (from pennylane) (1.11.4)\n",
            "Requirement already satisfied: networkx in /usr/local/lib/python3.10/dist-packages (from pennylane) (3.3)\n",
            "Collecting rustworkx (from pennylane)\n",
            "  Downloading rustworkx-0.15.1-cp38-abi3-manylinux_2_17_x86_64.manylinux2014_x86_64.whl (2.0 MB)\n",
            "\u001b[2K     \u001b[90m━━━━━━━━━━━━━━━━━━━━━━━━━━━━━━━━━━━━━━━━\u001b[0m \u001b[32m2.0/2.0 MB\u001b[0m \u001b[31m34.8 MB/s\u001b[0m eta \u001b[36m0:00:00\u001b[0m\n",
            "\u001b[?25hRequirement already satisfied: autograd in /usr/local/lib/python3.10/dist-packages (from pennylane) (1.6.2)\n",
            "Requirement already satisfied: toml in /usr/local/lib/python3.10/dist-packages (from pennylane) (0.10.2)\n",
            "Collecting appdirs (from pennylane)\n",
            "  Downloading appdirs-1.4.4-py2.py3-none-any.whl (9.6 kB)\n",
            "Collecting semantic-version>=2.7 (from pennylane)\n",
            "  Downloading semantic_version-2.10.0-py2.py3-none-any.whl (15 kB)\n",
            "Collecting autoray>=0.6.1 (from pennylane)\n",
            "  Downloading autoray-0.6.12-py3-none-any.whl (50 kB)\n",
            "\u001b[2K     \u001b[90m━━━━━━━━━━━━━━━━━━━━━━━━━━━━━━━━━━━━━━━━\u001b[0m \u001b[32m51.0/51.0 kB\u001b[0m \u001b[31m3.1 MB/s\u001b[0m eta \u001b[36m0:00:00\u001b[0m\n",
            "\u001b[?25hRequirement already satisfied: cachetools in /usr/local/lib/python3.10/dist-packages (from pennylane) (5.3.3)\n",
            "Collecting pennylane-lightning>=0.36 (from pennylane)\n",
            "  Downloading PennyLane_Lightning-0.36.0-cp310-cp310-manylinux_2_17_x86_64.manylinux2014_x86_64.whl (19.1 MB)\n",
            "\u001b[2K     \u001b[90m━━━━━━━━━━━━━━━━━━━━━━━━━━━━━━━━━━━━━━━━\u001b[0m \u001b[32m19.1/19.1 MB\u001b[0m \u001b[31m26.3 MB/s\u001b[0m eta \u001b[36m0:00:00\u001b[0m\n",
            "\u001b[?25hRequirement already satisfied: requests in /usr/local/lib/python3.10/dist-packages (from pennylane) (2.31.0)\n",
            "Requirement already satisfied: typing-extensions in /usr/local/lib/python3.10/dist-packages (from pennylane) (4.12.2)\n",
            "Requirement already satisfied: future>=0.15.2 in /usr/local/lib/python3.10/dist-packages (from autograd->pennylane) (0.18.3)\n",
            "Requirement already satisfied: charset-normalizer<4,>=2 in /usr/local/lib/python3.10/dist-packages (from requests->pennylane) (3.3.2)\n",
            "Requirement already satisfied: idna<4,>=2.5 in /usr/local/lib/python3.10/dist-packages (from requests->pennylane) (3.7)\n",
            "Requirement already satisfied: urllib3<3,>=1.21.1 in /usr/local/lib/python3.10/dist-packages (from requests->pennylane) (2.0.7)\n",
            "Requirement already satisfied: certifi>=2017.4.17 in /usr/local/lib/python3.10/dist-packages (from requests->pennylane) (2024.6.2)\n",
            "Installing collected packages: appdirs, semantic-version, rustworkx, autoray, pennylane-lightning, pennylane\n",
            "Successfully installed appdirs-1.4.4 autoray-0.6.12 pennylane-0.36.0 pennylane-lightning-0.36.0 rustworkx-0.15.1 semantic-version-2.10.0\n"
          ]
        }
      ]
    },
    {
      "cell_type": "code",
      "source": [
        "import pennylane as qml\n",
        "from pennylane import numpy as np\n",
        "\n",
        "# define parameters in H\n",
        "N = 6      # number of total assets\n",
        "gamma = 1  # risk aversion coefficient\n",
        "B = 3      # budget\n",
        "P = 1.0    # penalty\n",
        "\n",
        "ZZ = [qml.PauliZ(i)@qml.PauliZ(j) for i in range(N) for j in range(i+1,N)]\n",
        "ZZ_coeff = [0.5*(gamma*Sigma.values[i][j] + P) for i in range(N) for j in range(i+1,N)]\n",
        "Z = [qml.PauliZ(i) for i in range(N)]\n",
        "Z_coeff = [-0.5*gamma*(sum(Sigma.values[i][:])) + 0.5*R[i] - 0.5*P*(N-2*B) for i in range(N)]\n",
        "C = 0.25*gamma*(sum(sum(Sigma.values)) + np.trace(Sigma))- 0.5*sum(R) + 0.25*P*(N + (N-2*B)**2)\n",
        "\n",
        "# Construct the problen Hamiltonian\n",
        "obs = ZZ + Z\n",
        "coeffs = ZZ_coeff + Z_coeff\n",
        "H = qml.Hamiltonian(coeffs, obs, grouping_type=\"qwc\")"
      ],
      "metadata": {
        "id": "fqQ_CptiuBnY"
      },
      "execution_count": 3,
      "outputs": []
    },
    {
      "cell_type": "code",
      "source": [
        "# Design the ansatz\n",
        "p = 2     # circuit repetitions\n",
        "def ansatz(params, qubits, depth=p):\n",
        "    for q in range(qubits):\n",
        "            qml.RY(params[q], wires=q)\n",
        "    for d in range(1,depth+1):\n",
        "        for q in range(qubits-1):\n",
        "            qml.CNOT(wires=[q,q+1])\n",
        "        for q in range(qubits):\n",
        "            qml.RY(params[d*qubits+q], wires=q)"
      ],
      "metadata": {
        "id": "B64PkVpUuZ-_"
      },
      "execution_count": 4,
      "outputs": []
    },
    {
      "cell_type": "code",
      "source": [
        "dev = qml.device(\"default.qubit\", wires=N)\n",
        "\n",
        "# Set the cost function on dev\n",
        "@qml.qnode(dev, diff_method=\"parameter-shift\")\n",
        "def cost(x):\n",
        "    ansatz(x, qubits=N)\n",
        "    return qml.expval(H)\n",
        "\n",
        "# For analyze the optimized circuit\n",
        "@qml.qnode(dev)\n",
        "def probability_circuit(params):\n",
        "    ansatz(params, qubits=N)\n",
        "    return qml.probs(wires=range(N))"
      ],
      "metadata": {
        "id": "ypl_xSlruinV"
      },
      "execution_count": 5,
      "outputs": []
    },
    {
      "cell_type": "code",
      "source": [
        "def qng_session(params, stepsize=0.07, steps=300):\n",
        "  opt = qml.QNGOptimizer(stepsize=stepsize)\n",
        "  old_cost = 9999.999999\n",
        "  for i in range(steps):\n",
        "      params = opt.step(cost, params)\n",
        "      obj_value = cost(params)\n",
        "      #cost_qng.append(obj_value)\n",
        "      if (i + 1) % 5 == 0:\n",
        "          #print(\"Cost after step {:5d}: {: .7f}\".format(i + 1, obj_value))\n",
        "          if np.round(old_cost, 7) == np.round(obj_value, 7):\n",
        "              break\n",
        "          else:\n",
        "              old_cost = obj_value\n",
        "  return params"
      ],
      "metadata": {
        "id": "hoV1imsBTgTt"
      },
      "execution_count": 6,
      "outputs": []
    },
    {
      "cell_type": "code",
      "source": [
        "def momentum_qng_session(params, stepsize=0.07, momentum=0.9, steps=300):\n",
        "  opt = qml.QNGOptimizer(stepsize=stepsize)\n",
        "  old_cost = 9999.999999\n",
        "  prev_step = params*0\n",
        "  for i in range(steps):\n",
        "      prev_params = params\n",
        "      params = opt.step(cost, params) + momentum*prev_step\n",
        "      prev_step = params - prev_params\n",
        "      obj_value = cost(params)\n",
        "      #cost_qng.append(obj_value)\n",
        "      if (i + 1) % 5 == 0:\n",
        "          #print(\"Cost after step {:5d}: {: .7f}\".format(i + 1, obj_value))\n",
        "          if np.round(old_cost, 7) == np.round(obj_value, 7):\n",
        "              break\n",
        "          else:\n",
        "              old_cost = obj_value\n",
        "  return params\n",
        "\n"
      ],
      "metadata": {
        "id": "rrp3OCavWCnQ"
      },
      "execution_count": 7,
      "outputs": []
    },
    {
      "cell_type": "code",
      "source": [
        "def momentum_session(params, stepsize=0.07, momentum=0.9, steps=300):\n",
        "  opt = qml.MomentumOptimizer(stepsize=stepsize, momentum=momentum)\n",
        "  old_cost = 9999.999999\n",
        "  for i in range(steps):\n",
        "      params = opt.step(cost, params)\n",
        "      obj_value = cost(params)\n",
        "      #cost_qng.append(obj_value)\n",
        "      if (i + 1) % 5 == 0:\n",
        "          #print(\"Cost after step {:5d}: {: .7f}\".format(i + 1, obj_value))\n",
        "          if np.round(old_cost, 7) == np.round(obj_value, 7):\n",
        "              break\n",
        "          else:\n",
        "              old_cost = obj_value\n",
        "  return params"
      ],
      "metadata": {
        "id": "YF5ZeT3iCZyQ"
      },
      "execution_count": 8,
      "outputs": []
    },
    {
      "cell_type": "code",
      "source": [
        "def adam_session(params, stepsize=0.04, steps=300):\n",
        "  opt = qml.AdamOptimizer(stepsize=stepsize)\n",
        "  old_cost = 9999.999999\n",
        "  for i in range(steps):\n",
        "      params = opt.step(cost, params)\n",
        "      obj_value = cost(params)\n",
        "      #cost_qng.append(obj_value)\n",
        "      if (i + 1) % 5 == 0:\n",
        "          #print(\"Cost after step {:5d}: {: .7f}\".format(i + 1, obj_value))\n",
        "          if np.round(old_cost, 7) == np.round(obj_value, 7):\n",
        "              break\n",
        "          else:\n",
        "              old_cost = obj_value\n",
        "  return params"
      ],
      "metadata": {
        "id": "K0jh9Lw9jb33"
      },
      "execution_count": 9,
      "outputs": []
    },
    {
      "cell_type": "code",
      "source": [
        "iterations=300\n",
        "qng_step = 0.02\n",
        "sgd_step = 0.02\n",
        "adam_step = 0.08\n",
        "shots=25\n",
        "best_cost = 9999.9999\n",
        "qng_cost = []\n",
        "mqng_cost = []\n",
        "sgd_cost = []\n",
        "adam_cost = []\n",
        "hits = [0.0, 0.0, 0.0, 0.0]\n",
        "ground_energy = -1.9083156\n",
        "for n in range(shots):\n",
        "    init_params = np.random.rand((p+1)*N)\n",
        "    params_qng = qng_session(init_params, qng_step, iterations)\n",
        "    cost_qng = cost(params_qng)\n",
        "    qng_cost.append(cost_qng)\n",
        "    if abs(cost_qng - ground_energy) <= 0.01:\n",
        "      hits[0] += 1/shots\n",
        "\n",
        "    params_mqng = momentum_qng_session(init_params, qng_step, 0.9, iterations)\n",
        "    cost_mqng = cost(params_mqng)\n",
        "    mqng_cost.append(cost_mqng)\n",
        "    if abs(cost_mqng - ground_energy) <= 0.01:\n",
        "      hits[1] += 1/shots\n",
        "\n",
        "    params_sgd = momentum_session(init_params, sgd_step, 0.9, iterations)\n",
        "    cost_sgd = cost(params_sgd)\n",
        "    sgd_cost.append(cost_sgd)\n",
        "    if abs(cost_sgd - ground_energy) <= 0.01:\n",
        "      hits[2] += 1/shots\n",
        "\n",
        "    params_adam = adam_session(init_params, adam_step, iterations)\n",
        "    cost_adam = cost(params_adam)\n",
        "    adam_cost.append(cost_adam)\n",
        "    if abs(cost_adam - ground_energy) <= 0.01:\n",
        "      hits[3] += 1/shots\n",
        "    print(\"Cost after shot {:5d}: adam: {: .7f}, qng: {: .7f}, mqng: {: .7f}, sgd: {: .7f}\"\n",
        "          .format(n, cost_adam, cost_qng, cost_mqng, cost_sgd))\n",
        "    print(hits)\n",
        "\n"
      ],
      "metadata": {
        "colab": {
          "base_uri": "https://localhost:8080/"
        },
        "id": "H1GJKP2JnVm1",
        "outputId": "1de2f629-0a3e-4037-8431-f6e2cee32ec8"
      },
      "execution_count": 12,
      "outputs": [
        {
          "output_type": "stream",
          "name": "stdout",
          "text": [
            "Cost after shot     0: adam: -1.6528692, qng: -1.6707397, mqng: -1.9083624, sgd: -1.6527785\n",
            "[0.0, 0.04, 0.0, 0.0]\n",
            "Cost after shot     1: adam: -1.9083577, qng: -1.7774330, mqng: -1.9083332, sgd: -1.9080790\n",
            "[0.0, 0.08, 0.04, 0.04]\n",
            "Cost after shot     2: adam: -1.6859518, qng: -1.7163075, mqng: -1.6859594, sgd: -1.6859375\n",
            "[0.0, 0.08, 0.04, 0.04]\n",
            "Cost after shot     3: adam: -1.9083626, qng: -1.7091742, mqng: -1.7214135, sgd: -1.9081256\n",
            "[0.0, 0.08, 0.08, 0.08]\n",
            "Cost after shot     4: adam: -1.9083336, qng: -1.6855916, mqng: -1.9083624, sgd: -1.7070422\n",
            "[0.0, 0.12, 0.08, 0.12]\n",
            "Cost after shot     5: adam: -1.6528690, qng: -1.6836994, mqng: -1.7214110, sgd: -1.7208859\n",
            "[0.0, 0.12, 0.08, 0.12]\n",
            "Cost after shot     6: adam: -1.6859617, qng: -1.6858335, mqng: -1.6859619, sgd: -1.6859617\n",
            "[0.0, 0.12, 0.08, 0.12]\n",
            "Cost after shot     7: adam: -1.7171687, qng: -1.7170154, mqng: -1.7185244, sgd: -1.7169896\n",
            "[0.0, 0.12, 0.08, 0.12]\n",
            "Cost after shot     8: adam: -1.6859619, qng: -1.6859458, mqng: -1.6859344, sgd: -1.6859460\n",
            "[0.0, 0.12, 0.08, 0.12]\n",
            "Cost after shot     9: adam: -1.6529097, qng: -1.6514312, mqng: -1.7213993, sgd: -1.6527595\n",
            "[0.0, 0.12, 0.08, 0.12]\n",
            "Cost after shot    10: adam: -1.6859620, qng: -1.6854764, mqng: -1.6859580, sgd: -1.6859619\n",
            "[0.0, 0.12, 0.08, 0.12]\n",
            "Cost after shot    11: adam: -1.9083440, qng: -1.7442103, mqng: -1.9083443, sgd: -1.9040136\n",
            "[0.0, 0.16, 0.12, 0.16]\n",
            "Cost after shot    12: adam: -1.6859610, qng: -1.6856278, mqng: -1.6859380, sgd: -1.6859549\n",
            "[0.0, 0.16, 0.12, 0.16]\n",
            "Cost after shot    13: adam: -1.7344937, qng: -1.6858860, mqng: -1.6859603, sgd: -1.6859618\n",
            "[0.0, 0.16, 0.12, 0.16]\n",
            "Cost after shot    14: adam: -1.7171720, qng: -1.5599270, mqng: -1.9082670, sgd: -1.7170002\n",
            "[0.0, 0.2, 0.12, 0.16]\n",
            "Cost after shot    15: adam: -1.6528681, qng: -1.5732909, mqng: -1.9081196, sgd: -1.6832466\n",
            "[0.0, 0.24000000000000002, 0.12, 0.16]\n",
            "Cost after shot    16: adam: -1.7171574, qng: -1.5761745, mqng: -1.9083621, sgd: -1.6556790\n",
            "[0.0, 0.28, 0.12, 0.16]\n",
            "Cost after shot    17: adam: -1.7204628, qng: -1.6520666, mqng: -1.9082423, sgd: -1.6518965\n",
            "[0.0, 0.32, 0.12, 0.16]\n",
            "Cost after shot    18: adam: -1.6859614, qng: -1.6856424, mqng: -1.6642444, sgd: -1.6858950\n",
            "[0.0, 0.32, 0.12, 0.16]\n",
            "Cost after shot    19: adam: -1.9083625, qng: -1.5749294, mqng: -1.7213887, sgd: -1.9071763\n",
            "[0.0, 0.32, 0.16, 0.2]\n",
            "Cost after shot    20: adam: -1.6859615, qng: -1.6859550, mqng: -1.6859554, sgd: -1.6859618\n",
            "[0.0, 0.32, 0.16, 0.2]\n",
            "Cost after shot    21: adam: -1.9083567, qng: -1.6309345, mqng: -1.7214145, sgd: -1.9059963\n",
            "[0.0, 0.32, 0.2, 0.24000000000000002]\n",
            "Cost after shot    22: adam: -1.6859619, qng: -1.6817233, mqng: -1.6859620, sgd: -1.6843924\n",
            "[0.0, 0.32, 0.2, 0.24000000000000002]\n",
            "Cost after shot    23: adam: -1.7170861, qng: -1.6859377, mqng: -1.6858668, sgd: -1.6859619\n",
            "[0.0, 0.32, 0.2, 0.24000000000000002]\n",
            "Cost after shot    24: adam: -1.7171601, qng: -1.6859134, mqng: -1.6859577, sgd: -1.6859587\n",
            "[0.0, 0.32, 0.2, 0.24000000000000002]\n"
          ]
        }
      ]
    },
    {
      "cell_type": "code",
      "source": [
        "import matplotlib.pyplot as plt\n",
        "\n",
        "fig, ax = plt.subplots()\n",
        "\n",
        "optimizers = ['QNG', 'Momentum- \\n QNG', 'Momentum', 'Adam']\n",
        "bar_colors = ['tab:red', 'tab:blue', 'tab:green', 'tab:orange']\n",
        "\n",
        "ax.bar(optimizers, hits, color=bar_colors)\n",
        "\n",
        "ax.set_ylabel('Probability of getting to the ground state')\n",
        "ax.set_title('Benchmarking optimizers on the portfolio optimization problem')\n",
        "\n",
        "plt.show()"
      ],
      "metadata": {
        "id": "vxamQCbpbanv",
        "outputId": "566fdafc-0213-469b-91dd-3afdb452b01c",
        "colab": {
          "base_uri": "https://localhost:8080/",
          "height": 468
        }
      },
      "execution_count": 13,
      "outputs": [
        {
          "output_type": "display_data",
          "data": {
            "text/plain": [
              "<Figure size 640x480 with 1 Axes>"
            ],
            "image/png": "[encoded data removed]"
          },
          "metadata": {}
        }
      ]
    }
  ]
}