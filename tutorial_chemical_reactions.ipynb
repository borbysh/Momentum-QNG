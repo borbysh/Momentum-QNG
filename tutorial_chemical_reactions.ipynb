{
  "cells": [
    {
      "cell_type": "markdown",
      "metadata": {
        "id": "view-in-github",
        "colab_type": "text"
      },
      "source": [
        "<a href=\"https://colab.research.google.com/github/borbysh/Momentum-QNG/blob/main/tutorial_chemical_reactions.ipynb\" target=\"_parent\"><img src=\"https://colab.research.google.com/assets/colab-badge.svg\" alt=\"Open In Colab\"/></a>"
      ]
    },
    {
      "cell_type": "code",
      "execution_count": null,
      "metadata": {
        "id": "91q__oXSJpI_"
      },
      "outputs": [],
      "source": [
        "# This cell is added by sphinx-gallery\n",
        "# It can be customized to whatever you like\n",
        "%matplotlib inline"
      ]
    },
    {
      "cell_type": "markdown",
      "metadata": {
        "id": "XaaADuzwJpJD"
      },
      "source": [
        "Modelling chemical reactions on a quantum computer\n",
        "==================================================\n",
        "\n",
        "::: {.meta}\n",
        ":property=\\\"og:description\\\": Construct potential energy surfaces for\n",
        "chemical reactions :property=\\\"og:image\\\":\n",
        "<https://pennylane.ai/qml/_static/demonstration_assets//reaction.png>\n",
        ":::\n",
        "\n",
        "::: {.related}\n",
        "tutorial\\_quantum\\_chemistry Building molecular Hamiltonians\n",
        "tutorial\\_vqe A brief overview of VQE\n",
        ":::\n",
        "\n",
        "*Authors: Varun Rishi and Juan Miguel Arrazola --- Posted: 23 July 2021.\n",
        "Last updated: 21 February 2023.*\n",
        "\n",
        "The term \\\"chemical reaction\\\" is another name for the transformation of\n",
        "molecules -- the breaking and forming of bonds. They are characterized\n",
        "by an energy barrier that determines the likelihood that a reaction\n",
        "takes place. The energy landscapes formed by these barriers are the key\n",
        "to understanding how chemical reactions occur, at the deepest possible\n",
        "level.\n",
        "\n",
        "![An example chemical\n",
        "reaction.](/_static/demonstration_assets/vqe_bond_dissociation/reaction.png){.align-center\n",
        "width=\"50.0%\"}\n",
        "\n",
        "In this tutorial, you will learn how to use PennyLane to simulate\n",
        "chemical reactions by constructing potential energy surfaces for\n",
        "molecular transformations. In the process, you will learn how quantum\n",
        "computers can be used to calculate equilibrium bond lengths, activation\n",
        "energy barriers, and reaction rates. As illustrative examples, we use\n",
        "tools implemented in PennyLane to study diatomic bond dissociation and\n",
        "reactions involving the exchange of hydrogen atoms.\n",
        "\n",
        "Potential Energy Surfaces\n",
        "-------------------------\n",
        "\n",
        "[Potential energy surfaces\n",
        "(PES)](https://en.wikipedia.org/wiki/Potential_energy_surface) describe\n",
        "the energy of molecules for different positions of its atoms. The\n",
        "concept originates from the fact that the electrons are much lighter\n",
        "than protons and neutrons, so they will adjust instantaneously to the\n",
        "new positions of the nuclei. This leads to a separation of the nuclear\n",
        "and electronic parts of the Schrödinger equation, meaning we only need\n",
        "to solve the electronic equation:\n",
        "\n",
        "$$H(R)|\\Psi \\rangle =  E|\\Psi\\rangle.$$\n",
        "\n",
        "From this perspective arises the concept of the electronic energy of a\n",
        "molecule, $E(R)$, as a function of nuclear coordinates $R$. The energy\n",
        "$E(R)$ is the expectation value of the molecular Hamiltonian,\n",
        "$E(R)=\\langle \\Psi_0|H(R)|\\Psi_0\\rangle$, taken with respect to the\n",
        "ground state $|\\Psi_0(R)\\rangle$. The potential energy surface is\n",
        "precisely this function $E(R)$, which connects energies to different\n",
        "geometries of the molecule. It gives us a visual tool to understand\n",
        "chemical reactions by associating stable molecules (reactants and\n",
        "products) with local minima, transition states with peaks, and by\n",
        "identifying the possible routes for a chemical reaction to occur.\n",
        "\n",
        "To build the potential energy surface, we compute the energy for fixed\n",
        "positions of the nuclei, and subsequently adjust the positions of the\n",
        "nuclei in incremental steps, computing the energies at each new\n",
        "configuration. The obtained set of energies corresponds to a grid of\n",
        "nuclear positions and the plot of $E(R)$ gives rise to the potential\n",
        "energy surface.\n",
        "\n",
        "![Illustration of a potential energy surface for a diatomic\n",
        "molecule.](/_static/demonstration_assets/vqe_bond_dissociation/pes.png){.align-center\n",
        "width=\"75.0%\"}\n",
        "\n",
        "Bond dissociation in a Hydrogen molecule\n",
        "----------------------------------------\n",
        "\n",
        "We now construct a potential energy surface and use it to compute\n",
        "equilibrium bond lengths and the bond dissociation energy. We begin with\n",
        "the simplest of molecules: $H_2$. The formation or breaking of the $H-H$\n",
        "bond is also the most elementary of all reactions:\n",
        "\n",
        "$$H_2 \\rightarrow H + H.$$\n",
        "\n",
        "Using a minimal [basis\n",
        "set](https://en.wikipedia.org/wiki/STO-nG_basis_sets), this molecular\n",
        "system can be described by two electrons in four spin-orbitals. When\n",
        "mapped to a qubit representation, we need a total of four qubits. The\n",
        "*Hartree-Fock (HF) state* is represented as $|1100\\rangle$, where the\n",
        "two lowest-energy orbitals are occupied, and the remaining two are\n",
        "unoccupied.\n",
        "\n",
        "We design a quantum circuit consisting of\n",
        "`~.pennylane.SingleExcitation`{.interpreted-text role=\"class\"} and\n",
        "`~.pennylane.DoubleExcitation`{.interpreted-text role=\"class\"} gates\n",
        "applied to the Hartree-Fock state. This circuit will be optimized to\n",
        "prepare ground states for different configurations of the molecule.\n"
      ]
    },
    {
      "cell_type": "code",
      "execution_count": null,
      "metadata": {
        "id": "aghvQUmwJpJH"
      },
      "outputs": [],
      "source": [
        "import pennylane as qml\n",
        "from pennylane import qchem\n",
        "\n",
        "# Hartree-Fock state\n",
        "hf = qml.qchem.hf_state(electrons=2, orbitals=4)"
      ]
    },
    {
      "cell_type": "markdown",
      "metadata": {
        "id": "elLMCd-9JpJJ"
      },
      "source": [
        "To construct the potential energy surface, we vary the location of the\n",
        "nuclei and calculate the energy for each resulting geometry of the\n",
        "molecule. We keep an $H$ atom fixed at the origin and change only the\n",
        "coordinate of the other atom in a single direction. The potential energy\n",
        "surface is then a one-dimensional function depending only on the bond\n",
        "length, i.e., the separation between the atoms. For each value of the\n",
        "bond length, we construct the corresponding Hamiltonian, then optimize\n",
        "the circuit using gradient descent to obtain the ground-state energy. We\n",
        "vary the bond length in the range $0.5$ to $5.0$\n",
        "[Bohrs](https://en.wikipedia.org/wiki/Bohr_radius) in steps of $0.25$\n",
        "Bohr. This covers the point where the $H-H$ bond is formed, the\n",
        "equilibrium bond length, and the point where the bond is broken, which\n",
        "occurs when the atoms are far away from each other.\n"
      ]
    },
    {
      "cell_type": "code",
      "execution_count": null,
      "metadata": {
        "id": "oU8R41cCJpJK"
      },
      "outputs": [],
      "source": [
        "from pennylane import numpy as np\n",
        "\n",
        "# atomic symbols defining the molecule\n",
        "symbols = ['H', 'H']\n",
        "\n",
        "# list to store energies\n",
        "energies = []\n",
        "\n",
        "# set up a loop to change bond length\n",
        "r_range = np.arange(0.5, 5.0, 0.25)\n",
        "\n",
        "# keeps track of points in the potential energy surface\n",
        "pes_point = 0"
      ]
    },
    {
      "cell_type": "markdown",
      "metadata": {
        "id": "6ZPUer33JpJK"
      },
      "source": [
        "We build the Hamiltonian using the\n",
        "`~.pennylane.qchem.molecular_hamiltonian`{.interpreted-text role=\"func\"}\n",
        "function, and use standard Pennylane techniques to optimize the circuit.\n"
      ]
    },
    {
      "cell_type": "code",
      "execution_count": null,
      "metadata": {
        "id": "SA2hxm1UJpJL"
      },
      "outputs": [],
      "source": [
        "for r in r_range:\n",
        "    # Change only the z coordinate of one atom\n",
        "    coordinates = np.array([0.0, 0.0, 0.0, 0.0, 0.0, r])\n",
        "\n",
        "    # Obtain the qubit Hamiltonian\n",
        "    H, qubits = qchem.molecular_hamiltonian(symbols, coordinates, method='pyscf')\n",
        "\n",
        "    # define the device, optimizer and circuit\n",
        "    dev = qml.device(\"default.qubit\", wires=qubits)\n",
        "    opt = qml.GradientDescentOptimizer(stepsize=0.4)\n",
        "\n",
        "    @qml.qnode(dev, interface='autograd')\n",
        "    def circuit(parameters):\n",
        "        # Prepare the HF state: |1100>\n",
        "        qml.BasisState(hf, wires=range(qubits))\n",
        "        qml.DoubleExcitation(parameters[0], wires=[0, 1, 2, 3])\n",
        "        qml.SingleExcitation(parameters[1], wires=[0, 2])\n",
        "        qml.SingleExcitation(parameters[2], wires=[1, 3])\n",
        "\n",
        "        return qml.expval(H)  # we are interested in minimizing this expectation value\n",
        "\n",
        "    # initialize the gate parameters\n",
        "    params = np.zeros(3, requires_grad=True)\n",
        "\n",
        "    # initialize with converged parameters from previous point\n",
        "    if pes_point > 0:\n",
        "        params = params_old\n",
        "\n",
        "    prev_energy = 0.0\n",
        "    for n in range(50):\n",
        "        # perform optimization step\n",
        "        params, energy = opt.step_and_cost(circuit, params)\n",
        "\n",
        "        if np.abs(energy - prev_energy) < 1e-6:\n",
        "            break\n",
        "        prev_energy = energy\n",
        "\n",
        "    # store the converged parameters\n",
        "    params_old = params\n",
        "    pes_point = pes_point + 1\n",
        "\n",
        "    energies.append(energy)"
      ]
    },
    {
      "cell_type": "markdown",
      "metadata": {
        "id": "rG-jGbM-JpJM"
      },
      "source": [
        "Let\\'s plot the results 📈\n"
      ]
    },
    {
      "cell_type": "code",
      "execution_count": null,
      "metadata": {
        "id": "mojvol6kJpJN"
      },
      "outputs": [],
      "source": [
        "import matplotlib.pyplot as plt\n",
        "\n",
        "fig, ax = plt.subplots()\n",
        "ax.plot(r_range, energies)\n",
        "\n",
        "ax.set(\n",
        "    xlabel=\"Bond length (Bohr)\",\n",
        "    ylabel=\"Total energy (Hartree)\",\n",
        "    title=\"Potential energy surface for H$_2$ dissociation\",\n",
        ")\n",
        "ax.grid()\n",
        "plt.show()"
      ]
    },
    {
      "cell_type": "markdown",
      "metadata": {
        "id": "T3KrI8K6JpJN"
      },
      "source": [
        "This is the potential energy surface for the dissociation of a hydrogen\n",
        "molecule into two hydrogen atoms. It is a numerical calculation of the\n",
        "same type of plot that was illustrated in the beginning. In a diatomic\n",
        "molecule such as $H_2$, it can be used to obtain the equilibrium bond\n",
        "length --- the distance between the two atoms that minimizes the total\n",
        "electronic energy. This is simply the minimum of the curve. We can also\n",
        "obtain the bond dissociation energy, which is the difference in the\n",
        "energy of the system when the atoms are far apart and the energy at\n",
        "equilibrium. At sufficiently large separations, the atoms no longer form\n",
        "a molecule, and the system is called \\\"dissociated\\\".\n",
        "\n",
        "Let\\'s use our results to compute the equilibrium bond length and the\n",
        "bond dissociation energy:\n"
      ]
    },
    {
      "cell_type": "code",
      "execution_count": null,
      "metadata": {
        "id": "K4KoNW99JpJO"
      },
      "outputs": [],
      "source": [
        "# equilibrium energy\n",
        "e_eq = min(energies)\n",
        "# energy when atoms are far apart\n",
        "e_dis = energies[-1]\n",
        "\n",
        "# Bond dissociation energy\n",
        "bond_energy = e_dis - e_eq\n",
        "\n",
        "# Equilibrium bond length\n",
        "idx = energies.index(e_eq)\n",
        "bond_length = r_range[idx]\n",
        "\n",
        "print(f\"The equilibrium bond length is {bond_length:.1f} Bohrs\")\n",
        "print(f\"The bond dissociation energy is {bond_energy:.6f} Hartrees\")"
      ]
    },
    {
      "cell_type": "markdown",
      "metadata": {
        "id": "4LCepYt9JpJP"
      },
      "source": [
        "These estimates can be improved by using bigger basis sets and\n",
        "extrapolating to the complete basis set limit. The calculations are of\n",
        "course are subject to the grid size of interatomic distances considered.\n",
        "The finer the grid size, the better the estimates.\n",
        "\n",
        "::: {.note}\n",
        "::: {.title}\n",
        "Note\n",
        ":::\n",
        "\n",
        "Did you notice a trick we used to speed up the calculations? The\n",
        "converged gate parameters for a particular geometry on the PES are used\n",
        "as the initial guess for the calculation at the adjacent geometry. With\n",
        "a better guess, the algorithm converges faster and we save considerable\n",
        "time.\n",
        ":::\n"
      ]
    },
    {
      "cell_type": "markdown",
      "metadata": {
        "id": "0Q_eURiWJpJP"
      },
      "source": [
        "Hydrogen Exchange Reaction\n",
        "==========================\n",
        "\n",
        "After studying a simple diatomic bond dissociation, we move to a\n",
        "slightly more complicated case: a hydrogen exchange reaction.\n",
        "\n",
        "$$H_2 + H \\rightarrow H + H_2.$$\n",
        "\n",
        "This reaction has a barrier, the [transition\n",
        "state](https://en.wikipedia.org/wiki/Transition_state), that must be\n",
        "crossed for the exchange of an atom to be complete. In this case, the\n",
        "transition state corresponds to a specific linear arrangement of the\n",
        "atoms where one $H-H$ bond is partially broken and the other $H-H$ bond\n",
        "is partially formed. The molecular movie ⚛️🎥 below is an illustration of\n",
        "the reaction trajectory. It depicts how the distance between the\n",
        "hydrogen atoms changes as one bond is broken and another one is formed.\n",
        "The path along which the reaction proceeds is known as the [reaction\n",
        "coordinate](https://en.wikipedia.org/wiki/Reaction_coordinate).\n",
        "\n",
        "![](/_static/demonstration_assets/vqe_bond_dissociation/h3_mol_movie.gif){.align-center\n",
        "width=\"50.0%\"}\n",
        "\n",
        "In a minimal basis like STO-3G, this system consists of three electrons\n",
        "in six spin molecular orbitals. This translates into a six-qubit\n",
        "problem, for which the Hartree-Fock state is $|111000\\rangle$. As there\n",
        "is an unpaired electron, the spin multiplicity is equal to two and needs\n",
        "to be specified, since it differs from the default value of one.\n"
      ]
    },
    {
      "cell_type": "code",
      "execution_count": null,
      "metadata": {
        "id": "-U6L0yYKJpJQ"
      },
      "outputs": [],
      "source": [
        "symbols = [\"H\", \"H\", \"H\"]\n",
        "multiplicity = 2"
      ]
    },
    {
      "cell_type": "markdown",
      "metadata": {
        "id": "ibjQ62Q4JpJQ"
      },
      "source": [
        "To build a potential energy surface for the hydrogen exchange, we fix\n",
        "the positions of the outermost atoms, and change only the placement of\n",
        "the middle atom. For this circuit, we employ all single and double\n",
        "excitation gates, which can be conveniently done with the\n",
        "`~.pennylane.templates.subroutines.AllSinglesDoubles`{.interpreted-text\n",
        "role=\"class\"} template. The rest of the procedure follows as before.\n"
      ]
    },
    {
      "cell_type": "code",
      "execution_count": null,
      "metadata": {
        "id": "3ypG6NbvJpJR"
      },
      "outputs": [],
      "source": [
        "from pennylane.templates import AllSinglesDoubles\n",
        "\n",
        "energies = []\n",
        "pes_point = 0\n",
        "\n",
        "# get all the singles and doubles excitations, and Hartree-Fock state\n",
        "electrons = 3\n",
        "orbitals = 6\n",
        "singles, doubles = qchem.excitations(electrons, orbitals)\n",
        "hf = qml.qchem.hf_state(electrons, orbitals)\n",
        "\n",
        "\n",
        "# loop to change reaction coordinate\n",
        "r_range = np.arange(1.0, 3.0, 0.1)\n",
        "for r in r_range:\n",
        "\n",
        "    coordinates = np.array([0.0, 0.0, 0.0, 0.0, 0.0, r, 0.0, 0.0, 4.0])\n",
        "\n",
        "    # We now specify the multiplicity\n",
        "    H, qubits = qchem.molecular_hamiltonian(symbols, coordinates, mult=multiplicity, method='pyscf')\n",
        "\n",
        "    dev = qml.device(\"default.qubit\", wires=qubits)\n",
        "    opt = qml.GradientDescentOptimizer(stepsize=1.5)\n",
        "\n",
        "    @qml.qnode(dev, interface='autograd')\n",
        "    def circuit(parameters):\n",
        "        AllSinglesDoubles(parameters, range(qubits), hf, singles, doubles)\n",
        "        return qml.expval(H)  # we are interested in minimizing this expectation value\n",
        "\n",
        "    params = np.zeros(len(singles) + len(doubles), requires_grad=True)\n",
        "\n",
        "    if pes_point > 0:\n",
        "        params = params_old\n",
        "\n",
        "    prev_energy = 0.0\n",
        "\n",
        "    for n in range(60):\n",
        "        params, energy = opt.step_and_cost(circuit, params)\n",
        "        if np.abs(energy - prev_energy) < 1e-6:\n",
        "            break\n",
        "        prev_energy = energy\n",
        "\n",
        "    # store the converged parameters\n",
        "    params_old = params\n",
        "    pes_point = pes_point + 1\n",
        "\n",
        "    energies.append(energy)"
      ]
    },
    {
      "cell_type": "markdown",
      "metadata": {
        "id": "er_uwLrFJpJR"
      },
      "source": [
        "Once the calculation is complete, we can plot the resulting potential\n",
        "energy surface.\n"
      ]
    },
    {
      "cell_type": "code",
      "execution_count": null,
      "metadata": {
        "id": "sbuqgnfmJpJS"
      },
      "outputs": [],
      "source": [
        "fig, ax = plt.subplots()\n",
        "ax.plot(r_range, energies)\n",
        "\n",
        "ax.set(\n",
        "    xlabel=\"Distance (Bohr)\",\n",
        "    ylabel=\"Total energy (Hartree)\",\n",
        ")\n",
        "ax.grid()\n",
        "plt.show()"
      ]
    },
    {
      "cell_type": "markdown",
      "metadata": {
        "id": "zKT0_evgJpJS"
      },
      "source": [
        "The two minima in the curve represent the energy of the reactants and\n",
        "products. The transition state is represented by the local maximum.\n",
        "These are the configurations illustrated in the animation above.\n"
      ]
    },
    {
      "cell_type": "markdown",
      "metadata": {
        "id": "lwQo_j2eJpJT"
      },
      "source": [
        "Activation energy barriers and reaction rates\n",
        "=============================================\n",
        "\n",
        "The potential energy surfaces we computed so far can be leveraged for\n",
        "other important tasks, such as computing activation energy barriers and\n",
        "reaction rates. The activation energy barrier ( $E_{a}$) is defined as\n",
        "the difference between the energy of the reactants and the energy of the\n",
        "transition state.\n",
        "\n",
        "$$E_{a} = E_{TS} - E_{R}.$$\n",
        "\n",
        "This can be computed from the potential energy surface:\n"
      ]
    },
    {
      "cell_type": "code",
      "execution_count": null,
      "metadata": {
        "id": "ctpuFClTJpJT"
      },
      "outputs": [],
      "source": [
        "# Energy of the reactants and products - two minima on the PES\n",
        "e_eq1 = min(energies)\n",
        "e_eq2 = min([x for x in energies if x != e_eq1])\n",
        "\n",
        "idx1 = energies.index(e_eq1)\n",
        "idx2 = energies.index(e_eq2)\n",
        "\n",
        "# Transition state is the local maximum between reactant and products\n",
        "idx_min = min(idx1, idx2)\n",
        "idx_max = max(idx1, idx2)\n",
        "\n",
        "# Transition state energy\n",
        "energy_ts = max(energies[idx_min:idx_max])\n",
        "\n",
        "# Activation energy\n",
        "activation_energy = energy_ts - e_eq1\n",
        "\n",
        "print(f\"The activation energy is {activation_energy:.6f} Hartrees\")"
      ]
    },
    {
      "cell_type": "markdown",
      "metadata": {
        "id": "HJ30DevsJpJU"
      },
      "source": [
        "The reaction rate constant ($k$) has an exponential dependence on the\n",
        "activation energy barrier, as shown in the [Arrhenius\n",
        "equation](https://en.wikipedia.org/wiki/Arrhenius_equation) (Arrr!\n",
        "🏴‍☠️):\n",
        "\n",
        "$$k = Ae^{-{E_{a}}/k_BT},$$\n",
        "\n",
        "where $k_B$ is the Boltzmann constant, $T$ is the temperature, and $A$\n",
        "is a pre-exponential factor that can be determined empirically for each\n",
        "reaction. Crucially, the rate at which a chemical reaction occurs\n",
        "depends exponentially on the activation energy computed from the PES ---\n",
        "this is a good reminder of the importance of performing highly-accurate\n",
        "calculations in quantum chemistry!\n",
        "\n",
        "For example, let\\'s calculate the ratio of reaction rates when the\n",
        "temperature is doubled. We have\n",
        "\n",
        "$$\\frac{k_2}{k_1}=\\frac{Ae^{-{E_{a}}/k_B(2T)}}{Ae^{-{E_{a}}/k_BT}}=e^{E_a/2k_B T}.$$\n",
        "\n",
        "We choose $T=300$ Kelvin, which is essentially room temperature. This\n",
        "makes doubling the temperature roughly equivalent to the temperature\n",
        "inside a pizza oven. We have\n"
      ]
    },
    {
      "cell_type": "code",
      "execution_count": null,
      "metadata": {
        "id": "hltpm1KUJpJU"
      },
      "outputs": [],
      "source": [
        "# convert to joules\n",
        "activation_energy *= 4.36e-18\n",
        "# Boltzmann constant in Joules/Kelvin\n",
        "k_B = 1.38e-23\n",
        "# Temperature\n",
        "T = 300\n",
        "\n",
        "ratio = np.exp(activation_energy / (2 * k_B * T))\n",
        "\n",
        "print(f\"Ratio of reaction rates is {ratio:.0f}\")"
      ]
    },
    {
      "cell_type": "markdown",
      "metadata": {
        "id": "hYyeJ_iAJpJV"
      },
      "source": [
        "Doubling the temperature can increase the rate by a factor of almost two\n",
        "million! For a similar reason, changing the activation energy can lead\n",
        "to drastic changes in the reaction rates, which means we have to be\n",
        "careful to compute it very accurately.\n",
        "\n",
        "Conclusion\n",
        "==========\n",
        "\n",
        "We can learn how atoms combine to form different molecules by performing\n",
        "experiments; this is the approach many of us learn as children by\n",
        "playing with chemistry sets. However, a deeper quantitative\n",
        "understanding of chemical reactions can be achieved by performing\n",
        "theoretical simulations of the mechanisms for forming and breaking\n",
        "bonds. This tutorial described how simple chemical reactions can be\n",
        "simulated using quantum algorithms that reconstruct potential energy\n",
        "surfaces, allowing us to identify reactants and products as minima of\n",
        "the energy, and transition states as local maxima. These results can\n",
        "then be used to calculate activation energies and reaction rates. The\n",
        "goal (and challenge!) for quantum computing is to improve both hardware\n",
        "and algorithms to reach the regime where providing accurate simulations\n",
        "becomes intractable for existing methods. If successful, this quest will\n",
        "allow us to understand the properties of quantum systems in ways that\n",
        "have so far been out of reach.\n",
        "\n",
        "References\n",
        "==========\n",
        "\n",
        "About the authors\n",
        "=================\n"
      ]
    }
  ],
  "metadata": {
    "kernelspec": {
      "display_name": "Python 3",
      "language": "python",
      "name": "python3"
    },
    "language_info": {
      "codemirror_mode": {
        "name": "ipython",
        "version": 3
      },
      "file_extension": ".py",
      "mimetype": "text/x-python",
      "name": "python",
      "nbconvert_exporter": "python",
      "pygments_lexer": "ipython3",
      "version": "3.10.14"
    },
    "colab": {
      "provenance": [],
      "include_colab_link": true
    }
  },
  "nbformat": 4,
  "nbformat_minor": 0
}