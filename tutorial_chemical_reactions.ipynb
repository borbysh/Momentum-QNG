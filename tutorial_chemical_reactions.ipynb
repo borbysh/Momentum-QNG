{
  "cells": [
    {
      "cell_type": "markdown",
      "metadata": {
        "id": "view-in-github",
        "colab_type": "text"
      },
      "source": [
        "<a href=\"https://colab.research.google.com/github/borbysh/Momentum-QNG/blob/main/tutorial_chemical_reactions.ipynb\" target=\"_parent\"><img src=\"https://colab.research.google.com/assets/colab-badge.svg\" alt=\"Open In Colab\"/></a>"
      ]
    },
    {
      "cell_type": "code",
      "execution_count": 1,
      "metadata": {
        "id": "VJHPHCvl0hhr",
        "outputId": "84d8002c-cbad-4fc7-f6b7-4cefd052edf6",
        "colab": {
          "base_uri": "https://localhost:8080/"
        }
      },
      "outputs": [
        {
          "output_type": "stream",
          "name": "stdout",
          "text": [
            "Collecting openfermionpyscf\n",
            "  Downloading openfermionpyscf-0.5-py3-none-any.whl (16 kB)\n",
            "Collecting openfermion>=0.5 (from openfermionpyscf)\n",
            "  Downloading openfermion-1.6.1-py3-none-any.whl (1.2 MB)\n",
            "\u001b[2K     \u001b[90m━━━━━━━━━━━━━━━━━━━━━━━━━━━━━━━━━━━━━━━━\u001b[0m \u001b[32m1.2/1.2 MB\u001b[0m \u001b[31m6.8 MB/s\u001b[0m eta \u001b[36m0:00:00\u001b[0m\n",
            "\u001b[?25hCollecting pyscf (from openfermionpyscf)\n",
            "  Downloading pyscf-2.5.0-py3-none-manylinux_2_17_x86_64.manylinux2014_x86_64.whl (47.3 MB)\n",
            "\u001b[2K     \u001b[90m━━━━━━━━━━━━━━━━━━━━━━━━━━━━━━━━━━━━━━━━\u001b[0m \u001b[32m47.3/47.3 MB\u001b[0m \u001b[31m12.9 MB/s\u001b[0m eta \u001b[36m0:00:00\u001b[0m\n",
            "\u001b[?25hRequirement already satisfied: pytest in /usr/local/lib/python3.10/dist-packages (from openfermionpyscf) (7.4.4)\n",
            "Collecting cirq-core~=1.0 (from openfermion>=0.5->openfermionpyscf)\n",
            "  Downloading cirq_core-1.3.0-py3-none-any.whl (1.8 MB)\n",
            "\u001b[2K     \u001b[90m━━━━━━━━━━━━━━━━━━━━━━━━━━━━━━━━━━━━━━━━\u001b[0m \u001b[32m1.8/1.8 MB\u001b[0m \u001b[31m23.1 MB/s\u001b[0m eta \u001b[36m0:00:00\u001b[0m\n",
            "\u001b[?25hCollecting deprecation (from openfermion>=0.5->openfermionpyscf)\n",
            "  Downloading deprecation-2.1.0-py2.py3-none-any.whl (11 kB)\n",
            "Requirement already satisfied: h5py>=2.8 in /usr/local/lib/python3.10/dist-packages (from openfermion>=0.5->openfermionpyscf) (3.9.0)\n",
            "Requirement already satisfied: networkx in /usr/local/lib/python3.10/dist-packages (from openfermion>=0.5->openfermionpyscf) (3.3)\n",
            "Requirement already satisfied: numpy>=1.11.0 in /usr/local/lib/python3.10/dist-packages (from openfermion>=0.5->openfermionpyscf) (1.25.2)\n",
            "Collecting pubchempy (from openfermion>=0.5->openfermionpyscf)\n",
            "  Downloading PubChemPy-1.0.4.tar.gz (29 kB)\n",
            "  Preparing metadata (setup.py) ... \u001b[?25l\u001b[?25hdone\n",
            "Requirement already satisfied: requests>=2.18 in /usr/local/lib/python3.10/dist-packages (from openfermion>=0.5->openfermionpyscf) (2.31.0)\n",
            "Requirement already satisfied: scipy>=1.1.0 in /usr/local/lib/python3.10/dist-packages (from openfermion>=0.5->openfermionpyscf) (1.11.4)\n",
            "Requirement already satisfied: sympy in /usr/local/lib/python3.10/dist-packages (from openfermion>=0.5->openfermionpyscf) (1.12)\n",
            "Requirement already satisfied: setuptools in /usr/local/lib/python3.10/dist-packages (from pyscf->openfermionpyscf) (67.7.2)\n",
            "Requirement already satisfied: iniconfig in /usr/local/lib/python3.10/dist-packages (from pytest->openfermionpyscf) (2.0.0)\n",
            "Requirement already satisfied: packaging in /usr/local/lib/python3.10/dist-packages (from pytest->openfermionpyscf) (24.0)\n",
            "Requirement already satisfied: pluggy<2.0,>=0.12 in /usr/local/lib/python3.10/dist-packages (from pytest->openfermionpyscf) (1.5.0)\n",
            "Requirement already satisfied: exceptiongroup>=1.0.0rc8 in /usr/local/lib/python3.10/dist-packages (from pytest->openfermionpyscf) (1.2.1)\n",
            "Requirement already satisfied: tomli>=1.0.0 in /usr/local/lib/python3.10/dist-packages (from pytest->openfermionpyscf) (2.0.1)\n",
            "Collecting duet~=0.2.8 (from cirq-core~=1.0->openfermion>=0.5->openfermionpyscf)\n",
            "  Downloading duet-0.2.9-py3-none-any.whl (29 kB)\n",
            "Requirement already satisfied: matplotlib~=3.0 in /usr/local/lib/python3.10/dist-packages (from cirq-core~=1.0->openfermion>=0.5->openfermionpyscf) (3.7.1)\n",
            "Requirement already satisfied: pandas in /usr/local/lib/python3.10/dist-packages (from cirq-core~=1.0->openfermion>=0.5->openfermionpyscf) (2.0.3)\n",
            "Requirement already satisfied: sortedcontainers~=2.0 in /usr/local/lib/python3.10/dist-packages (from cirq-core~=1.0->openfermion>=0.5->openfermionpyscf) (2.4.0)\n",
            "Requirement already satisfied: typing-extensions>=4.2 in /usr/local/lib/python3.10/dist-packages (from cirq-core~=1.0->openfermion>=0.5->openfermionpyscf) (4.11.0)\n",
            "Requirement already satisfied: tqdm in /usr/local/lib/python3.10/dist-packages (from cirq-core~=1.0->openfermion>=0.5->openfermionpyscf) (4.66.4)\n",
            "Requirement already satisfied: charset-normalizer<4,>=2 in /usr/local/lib/python3.10/dist-packages (from requests>=2.18->openfermion>=0.5->openfermionpyscf) (3.3.2)\n",
            "Requirement already satisfied: idna<4,>=2.5 in /usr/local/lib/python3.10/dist-packages (from requests>=2.18->openfermion>=0.5->openfermionpyscf) (3.7)\n",
            "Requirement already satisfied: urllib3<3,>=1.21.1 in /usr/local/lib/python3.10/dist-packages (from requests>=2.18->openfermion>=0.5->openfermionpyscf) (2.0.7)\n",
            "Requirement already satisfied: certifi>=2017.4.17 in /usr/local/lib/python3.10/dist-packages (from requests>=2.18->openfermion>=0.5->openfermionpyscf) (2024.2.2)\n",
            "Requirement already satisfied: mpmath>=0.19 in /usr/local/lib/python3.10/dist-packages (from sympy->openfermion>=0.5->openfermionpyscf) (1.3.0)\n",
            "Requirement already satisfied: contourpy>=1.0.1 in /usr/local/lib/python3.10/dist-packages (from matplotlib~=3.0->cirq-core~=1.0->openfermion>=0.5->openfermionpyscf) (1.2.1)\n",
            "Requirement already satisfied: cycler>=0.10 in /usr/local/lib/python3.10/dist-packages (from matplotlib~=3.0->cirq-core~=1.0->openfermion>=0.5->openfermionpyscf) (0.12.1)\n",
            "Requirement already satisfied: fonttools>=4.22.0 in /usr/local/lib/python3.10/dist-packages (from matplotlib~=3.0->cirq-core~=1.0->openfermion>=0.5->openfermionpyscf) (4.51.0)\n",
            "Requirement already satisfied: kiwisolver>=1.0.1 in /usr/local/lib/python3.10/dist-packages (from matplotlib~=3.0->cirq-core~=1.0->openfermion>=0.5->openfermionpyscf) (1.4.5)\n",
            "Requirement already satisfied: pillow>=6.2.0 in /usr/local/lib/python3.10/dist-packages (from matplotlib~=3.0->cirq-core~=1.0->openfermion>=0.5->openfermionpyscf) (9.4.0)\n",
            "Requirement already satisfied: pyparsing>=2.3.1 in /usr/local/lib/python3.10/dist-packages (from matplotlib~=3.0->cirq-core~=1.0->openfermion>=0.5->openfermionpyscf) (3.1.2)\n",
            "Requirement already satisfied: python-dateutil>=2.7 in /usr/local/lib/python3.10/dist-packages (from matplotlib~=3.0->cirq-core~=1.0->openfermion>=0.5->openfermionpyscf) (2.8.2)\n",
            "Requirement already satisfied: pytz>=2020.1 in /usr/local/lib/python3.10/dist-packages (from pandas->cirq-core~=1.0->openfermion>=0.5->openfermionpyscf) (2023.4)\n",
            "Requirement already satisfied: tzdata>=2022.1 in /usr/local/lib/python3.10/dist-packages (from pandas->cirq-core~=1.0->openfermion>=0.5->openfermionpyscf) (2024.1)\n",
            "Requirement already satisfied: six>=1.5 in /usr/local/lib/python3.10/dist-packages (from python-dateutil>=2.7->matplotlib~=3.0->cirq-core~=1.0->openfermion>=0.5->openfermionpyscf) (1.16.0)\n",
            "Building wheels for collected packages: pubchempy\n",
            "  Building wheel for pubchempy (setup.py) ... \u001b[?25l\u001b[?25hdone\n",
            "  Created wheel for pubchempy: filename=PubChemPy-1.0.4-py3-none-any.whl size=13820 sha256=68e7129308eee093a637fe43ab62de3b769b308b349374417ea86b0c0b7cf7b9\n",
            "  Stored in directory: /root/.cache/pip/wheels/90/7c/45/18a0671e3c3316966ef7ed9ad2b3f3300a7e41d3421a44e799\n",
            "Successfully built pubchempy\n",
            "Installing collected packages: pubchempy, duet, deprecation, pyscf, cirq-core, openfermion, openfermionpyscf\n",
            "Successfully installed cirq-core-1.3.0 deprecation-2.1.0 duet-0.2.9 openfermion-1.6.1 openfermionpyscf-0.5 pubchempy-1.0.4 pyscf-2.5.0\n",
            "Collecting pennylane\n",
            "  Downloading PennyLane-0.36.0-py3-none-any.whl (1.7 MB)\n",
            "\u001b[2K     \u001b[90m━━━━━━━━━━━━━━━━━━━━━━━━━━━━━━━━━━━━━━━━\u001b[0m \u001b[32m1.7/1.7 MB\u001b[0m \u001b[31m19.0 MB/s\u001b[0m eta \u001b[36m0:00:00\u001b[0m\n",
            "\u001b[?25hRequirement already satisfied: numpy<2.0 in /usr/local/lib/python3.10/dist-packages (from pennylane) (1.25.2)\n",
            "Requirement already satisfied: scipy in /usr/local/lib/python3.10/dist-packages (from pennylane) (1.11.4)\n",
            "Requirement already satisfied: networkx in /usr/local/lib/python3.10/dist-packages (from pennylane) (3.3)\n",
            "Collecting rustworkx (from pennylane)\n",
            "  Downloading rustworkx-0.14.2-cp310-cp310-manylinux_2_17_x86_64.manylinux2014_x86_64.whl (2.1 MB)\n",
            "\u001b[2K     \u001b[90m━━━━━━━━━━━━━━━━━━━━━━━━━━━━━━━━━━━━━━━━\u001b[0m \u001b[32m2.1/2.1 MB\u001b[0m \u001b[31m54.5 MB/s\u001b[0m eta \u001b[36m0:00:00\u001b[0m\n",
            "\u001b[?25hRequirement already satisfied: autograd in /usr/local/lib/python3.10/dist-packages (from pennylane) (1.6.2)\n",
            "Requirement already satisfied: toml in /usr/local/lib/python3.10/dist-packages (from pennylane) (0.10.2)\n",
            "Collecting appdirs (from pennylane)\n",
            "  Downloading appdirs-1.4.4-py2.py3-none-any.whl (9.6 kB)\n",
            "Collecting semantic-version>=2.7 (from pennylane)\n",
            "  Downloading semantic_version-2.10.0-py2.py3-none-any.whl (15 kB)\n",
            "Collecting autoray>=0.6.1 (from pennylane)\n",
            "  Downloading autoray-0.6.12-py3-none-any.whl (50 kB)\n",
            "\u001b[2K     \u001b[90m━━━━━━━━━━━━━━━━━━━━━━━━━━━━━━━━━━━━━━━━\u001b[0m \u001b[32m51.0/51.0 kB\u001b[0m \u001b[31m6.4 MB/s\u001b[0m eta \u001b[36m0:00:00\u001b[0m\n",
            "\u001b[?25hRequirement already satisfied: cachetools in /usr/local/lib/python3.10/dist-packages (from pennylane) (5.3.3)\n",
            "Collecting pennylane-lightning>=0.36 (from pennylane)\n",
            "  Downloading PennyLane_Lightning-0.36.0-cp310-cp310-manylinux_2_17_x86_64.manylinux2014_x86_64.whl (19.1 MB)\n",
            "\u001b[2K     \u001b[90m━━━━━━━━━━━━━━━━━━━━━━━━━━━━━━━━━━━━━━━━\u001b[0m \u001b[32m19.1/19.1 MB\u001b[0m \u001b[31m67.0 MB/s\u001b[0m eta \u001b[36m0:00:00\u001b[0m\n",
            "\u001b[?25hRequirement already satisfied: requests in /usr/local/lib/python3.10/dist-packages (from pennylane) (2.31.0)\n",
            "Requirement already satisfied: typing-extensions in /usr/local/lib/python3.10/dist-packages (from pennylane) (4.11.0)\n",
            "Requirement already satisfied: future>=0.15.2 in /usr/local/lib/python3.10/dist-packages (from autograd->pennylane) (0.18.3)\n",
            "Requirement already satisfied: charset-normalizer<4,>=2 in /usr/local/lib/python3.10/dist-packages (from requests->pennylane) (3.3.2)\n",
            "Requirement already satisfied: idna<4,>=2.5 in /usr/local/lib/python3.10/dist-packages (from requests->pennylane) (3.7)\n",
            "Requirement already satisfied: urllib3<3,>=1.21.1 in /usr/local/lib/python3.10/dist-packages (from requests->pennylane) (2.0.7)\n",
            "Requirement already satisfied: certifi>=2017.4.17 in /usr/local/lib/python3.10/dist-packages (from requests->pennylane) (2024.2.2)\n",
            "Installing collected packages: appdirs, semantic-version, rustworkx, autoray, pennylane-lightning, pennylane\n",
            "Successfully installed appdirs-1.4.4 autoray-0.6.12 pennylane-0.36.0 pennylane-lightning-0.36.0 rustworkx-0.14.2 semantic-version-2.10.0\n"
          ]
        }
      ],
      "source": [
        "# This cell is added by sphinx-gallery\n",
        "# It can be customized to whatever you like\n",
        "%matplotlib inline\n",
        "!pip install openfermionpyscf\n",
        "!pip install pennylane"
      ]
    },
    {
      "cell_type": "markdown",
      "metadata": {
        "id": "JtLkF-aI0hht"
      },
      "source": [
        "Modelling chemical reactions on a quantum computer\n",
        "==================================================\n",
        "\n",
        "::: {.meta}\n",
        ":property=\\\"og:description\\\": Construct potential energy surfaces for\n",
        "chemical reactions :property=\\\"og:image\\\":\n",
        "<https://pennylane.ai/qml/_static/demonstration_assets//reaction.png>\n",
        ":::\n",
        "\n",
        "::: {.related}\n",
        "tutorial\\_quantum\\_chemistry Building molecular Hamiltonians\n",
        "tutorial\\_vqe A brief overview of VQE\n",
        ":::\n",
        "\n",
        "*Authors: Varun Rishi and Juan Miguel Arrazola --- Posted: 23 July 2021.\n",
        "Last updated: 21 February 2023.*\n",
        "\n",
        "The term \\\"chemical reaction\\\" is another name for the transformation of\n",
        "molecules -- the breaking and forming of bonds. They are characterized\n",
        "by an energy barrier that determines the likelihood that a reaction\n",
        "takes place. The energy landscapes formed by these barriers are the key\n",
        "to understanding how chemical reactions occur, at the deepest possible\n",
        "level.\n",
        "\n",
        "![An example chemical\n",
        "reaction.](/_static/demonstration_assets/vqe_bond_dissociation/reaction.png){.align-center\n",
        "width=\"50.0%\"}\n",
        "\n",
        "In this tutorial, you will learn how to use PennyLane to simulate\n",
        "chemical reactions by constructing potential energy surfaces for\n",
        "molecular transformations. In the process, you will learn how quantum\n",
        "computers can be used to calculate equilibrium bond lengths, activation\n",
        "energy barriers, and reaction rates. As illustrative examples, we use\n",
        "tools implemented in PennyLane to study diatomic bond dissociation and\n",
        "reactions involving the exchange of hydrogen atoms.\n",
        "\n",
        "Potential Energy Surfaces\n",
        "-------------------------\n",
        "\n",
        "[Potential energy surfaces\n",
        "(PES)](https://en.wikipedia.org/wiki/Potential_energy_surface) describe\n",
        "the energy of molecules for different positions of its atoms. The\n",
        "concept originates from the fact that the electrons are much lighter\n",
        "than protons and neutrons, so they will adjust instantaneously to the\n",
        "new positions of the nuclei. This leads to a separation of the nuclear\n",
        "and electronic parts of the Schrödinger equation, meaning we only need\n",
        "to solve the electronic equation:\n",
        "\n",
        "$$H(R)|\\Psi \\rangle =  E|\\Psi\\rangle.$$\n",
        "\n",
        "From this perspective arises the concept of the electronic energy of a\n",
        "molecule, $E(R)$, as a function of nuclear coordinates $R$. The energy\n",
        "$E(R)$ is the expectation value of the molecular Hamiltonian,\n",
        "$E(R)=\\langle \\Psi_0|H(R)|\\Psi_0\\rangle$, taken with respect to the\n",
        "ground state $|\\Psi_0(R)\\rangle$. The potential energy surface is\n",
        "precisely this function $E(R)$, which connects energies to different\n",
        "geometries of the molecule. It gives us a visual tool to understand\n",
        "chemical reactions by associating stable molecules (reactants and\n",
        "products) with local minima, transition states with peaks, and by\n",
        "identifying the possible routes for a chemical reaction to occur.\n",
        "\n",
        "To build the potential energy surface, we compute the energy for fixed\n",
        "positions of the nuclei, and subsequently adjust the positions of the\n",
        "nuclei in incremental steps, computing the energies at each new\n",
        "configuration. The obtained set of energies corresponds to a grid of\n",
        "nuclear positions and the plot of $E(R)$ gives rise to the potential\n",
        "energy surface.\n",
        "\n",
        "![Illustration of a potential energy surface for a diatomic\n",
        "molecule.](/_static/demonstration_assets/vqe_bond_dissociation/pes.png){.align-center\n",
        "width=\"75.0%\"}\n",
        "\n",
        "Bond dissociation in a Hydrogen molecule\n",
        "----------------------------------------\n",
        "\n",
        "We now construct a potential energy surface and use it to compute\n",
        "equilibrium bond lengths and the bond dissociation energy. We begin with\n",
        "the simplest of molecules: $H_2$. The formation or breaking of the $H-H$\n",
        "bond is also the most elementary of all reactions:\n",
        "\n",
        "$$H_2 \\rightarrow H + H.$$\n",
        "\n",
        "Using a minimal [basis\n",
        "set](https://en.wikipedia.org/wiki/STO-nG_basis_sets), this molecular\n",
        "system can be described by two electrons in four spin-orbitals. When\n",
        "mapped to a qubit representation, we need a total of four qubits. The\n",
        "*Hartree-Fock (HF) state* is represented as $|1100\\rangle$, where the\n",
        "two lowest-energy orbitals are occupied, and the remaining two are\n",
        "unoccupied.\n",
        "\n",
        "We design a quantum circuit consisting of\n",
        "`~.pennylane.SingleExcitation`{.interpreted-text role=\"class\"} and\n",
        "`~.pennylane.DoubleExcitation`{.interpreted-text role=\"class\"} gates\n",
        "applied to the Hartree-Fock state. This circuit will be optimized to\n",
        "prepare ground states for different configurations of the molecule.\n"
      ]
    },
    {
      "cell_type": "code",
      "execution_count": 11,
      "metadata": {
        "id": "-t-6OwIM0hiB"
      },
      "outputs": [],
      "source": [
        "import pennylane as qml\n",
        "from pennylane import qchem\n",
        "\n",
        "# Hartree-Fock state\n",
        "hf = qml.qchem.hf_state(electrons=2, orbitals=4)"
      ]
    },
    {
      "cell_type": "markdown",
      "metadata": {
        "id": "471N0cCM0hiC"
      },
      "source": [
        "To construct the potential energy surface, we vary the location of the\n",
        "nuclei and calculate the energy for each resulting geometry of the\n",
        "molecule. We keep an $H$ atom fixed at the origin and change only the\n",
        "coordinate of the other atom in a single direction. The potential energy\n",
        "surface is then a one-dimensional function depending only on the bond\n",
        "length, i.e., the separation between the atoms. For each value of the\n",
        "bond length, we construct the corresponding Hamiltonian, then optimize\n",
        "the circuit using gradient descent to obtain the ground-state energy. We\n",
        "vary the bond length in the range $0.5$ to $5.0$\n",
        "[Bohrs](https://en.wikipedia.org/wiki/Bohr_radius) in steps of $0.25$\n",
        "Bohr. This covers the point where the $H-H$ bond is formed, the\n",
        "equilibrium bond length, and the point where the bond is broken, which\n",
        "occurs when the atoms are far away from each other.\n"
      ]
    },
    {
      "cell_type": "code",
      "execution_count": 17,
      "metadata": {
        "id": "z0c_xAZU0hiD"
      },
      "outputs": [],
      "source": [
        "from pennylane import numpy as np\n",
        "\n",
        "# atomic symbols defining the molecule\n",
        "symbols = ['H', 'H']\n",
        "\n",
        "# set up a loop to change bond length\n",
        "r_range = np.arange(0.5, 5.0, 0.25)\n",
        "\n",
        "# keeps track of points in the potential energy surface\n",
        "pes_point = 0\n"
      ]
    },
    {
      "cell_type": "markdown",
      "metadata": {
        "id": "Zci8KOcF0hiD"
      },
      "source": [
        "We build the Hamiltonian using the\n",
        "`~.pennylane.qchem.molecular_hamiltonian`{.interpreted-text role=\"func\"}\n",
        "function, and use standard Pennylane techniques to optimize the circuit.\n"
      ]
    },
    {
      "cell_type": "code",
      "execution_count": 18,
      "metadata": {
        "id": "gQVIAOq50hiD"
      },
      "outputs": [],
      "source": [
        "# list to store energies\n",
        "energies = []\n",
        "\n",
        "for r in r_range:\n",
        "    # Change only the z coordinate of one atom\n",
        "    coordinates = np.array([0.0, 0.0, 0.0, 0.0, 0.0, r])\n",
        "\n",
        "    # Obtain the qubit Hamiltonian\n",
        "    H, qubits = qchem.molecular_hamiltonian(symbols, coordinates, method='pyscf')\n",
        "\n",
        "    # define the device, optimizer and circuit\n",
        "    dev = qml.device(\"default.qubit\", wires=qubits)\n",
        "    #opt = qml.GradientDescentOptimizer(stepsize=0.4)\n",
        "    opt = qml.QNGOptimizer(stepsize=0.07)\n",
        "\n",
        "    @qml.qnode(dev, interface='autograd')\n",
        "    def circuit(parameters):\n",
        "        # Prepare the HF state: |1100>\n",
        "        qml.BasisState(hf, wires=range(qubits))\n",
        "        qml.DoubleExcitation(parameters[0], wires=[0, 1, 2, 3])\n",
        "        qml.SingleExcitation(parameters[1], wires=[0, 2])\n",
        "        qml.SingleExcitation(parameters[2], wires=[1, 3])\n",
        "\n",
        "        return qml.expval(H)  # we are interested in minimizing this expectation value\n",
        "\n",
        "    # initialize the gate parameters\n",
        "    params = np.zeros(3, requires_grad=True)\n",
        "\n",
        "    # initialize with converged parameters from previous point\n",
        "    if pes_point > 0:\n",
        "        params = params_old\n",
        "\n",
        "    prev_energy = 0.0\n",
        "    prev_params = params\n",
        "    for n in range(50):\n",
        "        # perform optimization step\n",
        "        params, energy = opt.step_and_cost(circuit, params)\n",
        "        params += momentum * (params - prev_params)\n",
        "\n",
        "        if np.abs(energy - prev_energy) < 1e-6:\n",
        "            break\n",
        "        prev_energy = energy\n",
        "\n",
        "    # store the converged parameters\n",
        "    params_old = params\n",
        "    pes_point = pes_point + 1\n",
        "\n",
        "    energies.append(energy)"
      ]
    },
    {
      "cell_type": "markdown",
      "metadata": {
        "id": "ZRbOmdWc0hiE"
      },
      "source": [
        "Let\\'s plot the results 📈\n"
      ]
    },
    {
      "cell_type": "code",
      "execution_count": 19,
      "metadata": {
        "id": "9rf4poKL0hiE",
        "outputId": "932563bf-2698-4ec5-cbcd-a354f2632cbf",
        "colab": {
          "base_uri": "https://localhost:8080/",
          "height": 474
        }
      },
      "outputs": [
        {
          "output_type": "display_data",
          "data": {
            "text/plain": [
              "<Figure size 640x480 with 1 Axes>"
            ],
            "image/png": "[encoded data removed]"
          },
          "metadata": {}
        }
      ],
      "source": [
        "import matplotlib.pyplot as plt\n",
        "\n",
        "fig, ax = plt.subplots()\n",
        "ax.plot(r_range, energies)\n",
        "\n",
        "ax.set(\n",
        "    xlabel=\"Bond length (Bohr)\",\n",
        "    ylabel=\"Total energy (Hartree)\",\n",
        "    title=\"Potential energy surface for H$_2$ dissociation\",\n",
        ")\n",
        "ax.grid()\n",
        "plt.show()"
      ]
    },
    {
      "cell_type": "markdown",
      "metadata": {
        "id": "QVl1BwD00hiF"
      },
      "source": [
        "This is the potential energy surface for the dissociation of a hydrogen\n",
        "molecule into two hydrogen atoms. It is a numerical calculation of the\n",
        "same type of plot that was illustrated in the beginning. In a diatomic\n",
        "molecule such as $H_2$, it can be used to obtain the equilibrium bond\n",
        "length --- the distance between the two atoms that minimizes the total\n",
        "electronic energy. This is simply the minimum of the curve. We can also\n",
        "obtain the bond dissociation energy, which is the difference in the\n",
        "energy of the system when the atoms are far apart and the energy at\n",
        "equilibrium. At sufficiently large separations, the atoms no longer form\n",
        "a molecule, and the system is called \\\"dissociated\\\".\n",
        "\n",
        "Let\\'s use our results to compute the equilibrium bond length and the\n",
        "bond dissociation energy:\n"
      ]
    },
    {
      "cell_type": "code",
      "execution_count": 6,
      "metadata": {
        "id": "bNwmJPYX0hiF",
        "outputId": "772cbec8-20d6-4d47-a126-20f2999b6916",
        "colab": {
          "base_uri": "https://localhost:8080/"
        }
      },
      "outputs": [
        {
          "output_type": "stream",
          "name": "stdout",
          "text": [
            "The equilibrium bond length is 1.5 Bohrs\n",
            "The bond dissociation energy is 0.198772 Hartrees\n"
          ]
        }
      ],
      "source": [
        "# equilibrium energy\n",
        "e_eq = min(energies)\n",
        "# energy when atoms are far apart\n",
        "e_dis = energies[-1]\n",
        "\n",
        "# Bond dissociation energy\n",
        "bond_energy = e_dis - e_eq\n",
        "\n",
        "# Equilibrium bond length\n",
        "idx = energies.index(e_eq)\n",
        "bond_length = r_range[idx]\n",
        "\n",
        "print(f\"The equilibrium bond length is {bond_length:.1f} Bohrs\")\n",
        "print(f\"The bond dissociation energy is {bond_energy:.6f} Hartrees\")"
      ]
    },
    {
      "cell_type": "markdown",
      "metadata": {
        "id": "mmMhY1rX0hiF"
      },
      "source": [
        "These estimates can be improved by using bigger basis sets and\n",
        "extrapolating to the complete basis set limit. The calculations are of\n",
        "course are subject to the grid size of interatomic distances considered.\n",
        "The finer the grid size, the better the estimates.\n",
        "\n",
        "::: {.note}\n",
        "::: {.title}\n",
        "Note\n",
        ":::\n",
        "\n",
        "Did you notice a trick we used to speed up the calculations? The\n",
        "converged gate parameters for a particular geometry on the PES are used\n",
        "as the initial guess for the calculation at the adjacent geometry. With\n",
        "a better guess, the algorithm converges faster and we save considerable\n",
        "time.\n",
        ":::\n"
      ]
    },
    {
      "cell_type": "markdown",
      "metadata": {
        "id": "IWLJiFH00hiG"
      },
      "source": [
        "Hydrogen Exchange Reaction\n",
        "==========================\n",
        "\n",
        "After studying a simple diatomic bond dissociation, we move to a\n",
        "slightly more complicated case: a hydrogen exchange reaction.\n",
        "\n",
        "$$H_2 + H \\rightarrow H + H_2.$$\n",
        "\n",
        "This reaction has a barrier, the [transition\n",
        "state](https://en.wikipedia.org/wiki/Transition_state), that must be\n",
        "crossed for the exchange of an atom to be complete. In this case, the\n",
        "transition state corresponds to a specific linear arrangement of the\n",
        "atoms where one $H-H$ bond is partially broken and the other $H-H$ bond\n",
        "is partially formed. The molecular movie ⚛️🎥 below is an illustration of\n",
        "the reaction trajectory. It depicts how the distance between the\n",
        "hydrogen atoms changes as one bond is broken and another one is formed.\n",
        "The path along which the reaction proceeds is known as the [reaction\n",
        "coordinate](https://en.wikipedia.org/wiki/Reaction_coordinate).\n",
        "\n",
        "![](/_static/demonstration_assets/vqe_bond_dissociation/h3_mol_movie.gif){.align-center\n",
        "width=\"50.0%\"}\n",
        "\n",
        "In a minimal basis like STO-3G, this system consists of three electrons\n",
        "in six spin molecular orbitals. This translates into a six-qubit\n",
        "problem, for which the Hartree-Fock state is $|111000\\rangle$. As there\n",
        "is an unpaired electron, the spin multiplicity is equal to two and needs\n",
        "to be specified, since it differs from the default value of one.\n"
      ]
    },
    {
      "cell_type": "code",
      "execution_count": 7,
      "metadata": {
        "id": "fEYFed9l0hiH"
      },
      "outputs": [],
      "source": [
        "symbols = [\"H\", \"H\", \"H\"]\n",
        "multiplicity = 2"
      ]
    },
    {
      "cell_type": "markdown",
      "metadata": {
        "id": "DR9WWBz40hiI"
      },
      "source": [
        "To build a potential energy surface for the hydrogen exchange, we fix\n",
        "the positions of the outermost atoms, and change only the placement of\n",
        "the middle atom. For this circuit, we employ all single and double\n",
        "excitation gates, which can be conveniently done with the\n",
        "`~.pennylane.templates.subroutines.AllSinglesDoubles`{.interpreted-text\n",
        "role=\"class\"} template. The rest of the procedure follows as before.\n"
      ]
    },
    {
      "cell_type": "code",
      "execution_count": 8,
      "metadata": {
        "id": "ru-UxrZD0hiJ"
      },
      "outputs": [],
      "source": [
        "from pennylane.templates import AllSinglesDoubles\n",
        "\n",
        "energies = []\n",
        "pes_point = 0\n",
        "\n",
        "# get all the singles and doubles excitations, and Hartree-Fock state\n",
        "electrons = 3\n",
        "orbitals = 6\n",
        "singles, doubles = qchem.excitations(electrons, orbitals)\n",
        "hf = qml.qchem.hf_state(electrons, orbitals)\n",
        "\n",
        "\n",
        "# loop to change reaction coordinate\n",
        "r_range = np.arange(1.0, 3.0, 0.1)\n",
        "for r in r_range:\n",
        "\n",
        "    coordinates = np.array([0.0, 0.0, 0.0, 0.0, 0.0, r, 0.0, 0.0, 4.0])\n",
        "\n",
        "    # We now specify the multiplicity\n",
        "    H, qubits = qchem.molecular_hamiltonian(symbols, coordinates, mult=multiplicity, method='pyscf')\n",
        "\n",
        "    dev = qml.device(\"default.qubit\", wires=qubits)\n",
        "    opt = qml.GradientDescentOptimizer(stepsize=1.5)\n",
        "\n",
        "    @qml.qnode(dev, interface='autograd')\n",
        "    def circuit(parameters):\n",
        "        AllSinglesDoubles(parameters, range(qubits), hf, singles, doubles)\n",
        "        return qml.expval(H)  # we are interested in minimizing this expectation value\n",
        "\n",
        "    params = np.zeros(len(singles) + len(doubles), requires_grad=True)\n",
        "\n",
        "    if pes_point > 0:\n",
        "        params = params_old\n",
        "\n",
        "    prev_energy = 0.0\n",
        "\n",
        "    for n in range(60):\n",
        "        params, energy = opt.step_and_cost(circuit, params)\n",
        "        if np.abs(energy - prev_energy) < 1e-6:\n",
        "            break\n",
        "        prev_energy = energy\n",
        "\n",
        "    # store the converged parameters\n",
        "    params_old = params\n",
        "    pes_point = pes_point + 1\n",
        "\n",
        "    energies.append(energy)"
      ]
    },
    {
      "cell_type": "markdown",
      "metadata": {
        "id": "iLBTocME0hiJ"
      },
      "source": [
        "Once the calculation is complete, we can plot the resulting potential\n",
        "energy surface.\n"
      ]
    },
    {
      "cell_type": "code",
      "execution_count": 9,
      "metadata": {
        "id": "glwV-XpO0hiK",
        "outputId": "5d8a5ab2-eccd-4757-e128-cc98230c4fcf",
        "colab": {
          "base_uri": "https://localhost:8080/",
          "height": 449
        }
      },
      "outputs": [
        {
          "output_type": "display_data",
          "data": {
            "text/plain": [
              "<Figure size 640x480 with 1 Axes>"
            ],
            "image/png": "[encoded data removed]"
          },
          "metadata": {}
        }
      ],
      "source": [
        "fig, ax = plt.subplots()\n",
        "ax.plot(r_range, energies)\n",
        "\n",
        "ax.set(\n",
        "    xlabel=\"Distance (Bohr)\",\n",
        "    ylabel=\"Total energy (Hartree)\",\n",
        ")\n",
        "ax.grid()\n",
        "plt.show()"
      ]
    },
    {
      "cell_type": "markdown",
      "metadata": {
        "id": "5LA1t57c0hiK"
      },
      "source": [
        "The two minima in the curve represent the energy of the reactants and\n",
        "products. The transition state is represented by the local maximum.\n",
        "These are the configurations illustrated in the animation above.\n"
      ]
    },
    {
      "cell_type": "markdown",
      "metadata": {
        "id": "Rx9dCy9A0hiK"
      },
      "source": [
        "Activation energy barriers and reaction rates\n",
        "=============================================\n",
        "\n",
        "The potential energy surfaces we computed so far can be leveraged for\n",
        "other important tasks, such as computing activation energy barriers and\n",
        "reaction rates. The activation energy barrier ( $E_{a}$) is defined as\n",
        "the difference between the energy of the reactants and the energy of the\n",
        "transition state.\n",
        "\n",
        "$$E_{a} = E_{TS} - E_{R}.$$\n",
        "\n",
        "This can be computed from the potential energy surface:\n"
      ]
    },
    {
      "cell_type": "code",
      "execution_count": null,
      "metadata": {
        "id": "fzuKk9ft0hiL"
      },
      "outputs": [],
      "source": [
        "# Energy of the reactants and products - two minima on the PES\n",
        "e_eq1 = min(energies)\n",
        "e_eq2 = min([x for x in energies if x != e_eq1])\n",
        "\n",
        "idx1 = energies.index(e_eq1)\n",
        "idx2 = energies.index(e_eq2)\n",
        "\n",
        "# Transition state is the local maximum between reactant and products\n",
        "idx_min = min(idx1, idx2)\n",
        "idx_max = max(idx1, idx2)\n",
        "\n",
        "# Transition state energy\n",
        "energy_ts = max(energies[idx_min:idx_max])\n",
        "\n",
        "# Activation energy\n",
        "activation_energy = energy_ts - e_eq1\n",
        "\n",
        "print(f\"The activation energy is {activation_energy:.6f} Hartrees\")"
      ]
    },
    {
      "cell_type": "markdown",
      "metadata": {
        "id": "ZC60AbT_0hiL"
      },
      "source": [
        "The reaction rate constant ($k$) has an exponential dependence on the\n",
        "activation energy barrier, as shown in the [Arrhenius\n",
        "equation](https://en.wikipedia.org/wiki/Arrhenius_equation) (Arrr!\n",
        "🏴‍☠️):\n",
        "\n",
        "$$k = Ae^{-{E_{a}}/k_BT},$$\n",
        "\n",
        "where $k_B$ is the Boltzmann constant, $T$ is the temperature, and $A$\n",
        "is a pre-exponential factor that can be determined empirically for each\n",
        "reaction. Crucially, the rate at which a chemical reaction occurs\n",
        "depends exponentially on the activation energy computed from the PES ---\n",
        "this is a good reminder of the importance of performing highly-accurate\n",
        "calculations in quantum chemistry!\n",
        "\n",
        "For example, let\\'s calculate the ratio of reaction rates when the\n",
        "temperature is doubled. We have\n",
        "\n",
        "$$\\frac{k_2}{k_1}=\\frac{Ae^{-{E_{a}}/k_B(2T)}}{Ae^{-{E_{a}}/k_BT}}=e^{E_a/2k_B T}.$$\n",
        "\n",
        "We choose $T=300$ Kelvin, which is essentially room temperature. This\n",
        "makes doubling the temperature roughly equivalent to the temperature\n",
        "inside a pizza oven. We have\n"
      ]
    },
    {
      "cell_type": "code",
      "execution_count": null,
      "metadata": {
        "id": "DZPDGx1H0hiL"
      },
      "outputs": [],
      "source": [
        "# convert to joules\n",
        "activation_energy *= 4.36e-18\n",
        "# Boltzmann constant in Joules/Kelvin\n",
        "k_B = 1.38e-23\n",
        "# Temperature\n",
        "T = 300\n",
        "\n",
        "ratio = np.exp(activation_energy / (2 * k_B * T))\n",
        "\n",
        "print(f\"Ratio of reaction rates is {ratio:.0f}\")"
      ]
    },
    {
      "cell_type": "markdown",
      "metadata": {
        "id": "fBcAcruF0hiL"
      },
      "source": [
        "Doubling the temperature can increase the rate by a factor of almost two\n",
        "million! For a similar reason, changing the activation energy can lead\n",
        "to drastic changes in the reaction rates, which means we have to be\n",
        "careful to compute it very accurately.\n",
        "\n",
        "Conclusion\n",
        "==========\n",
        "\n",
        "We can learn how atoms combine to form different molecules by performing\n",
        "experiments; this is the approach many of us learn as children by\n",
        "playing with chemistry sets. However, a deeper quantitative\n",
        "understanding of chemical reactions can be achieved by performing\n",
        "theoretical simulations of the mechanisms for forming and breaking\n",
        "bonds. This tutorial described how simple chemical reactions can be\n",
        "simulated using quantum algorithms that reconstruct potential energy\n",
        "surfaces, allowing us to identify reactants and products as minima of\n",
        "the energy, and transition states as local maxima. These results can\n",
        "then be used to calculate activation energies and reaction rates. The\n",
        "goal (and challenge!) for quantum computing is to improve both hardware\n",
        "and algorithms to reach the regime where providing accurate simulations\n",
        "becomes intractable for existing methods. If successful, this quest will\n",
        "allow us to understand the properties of quantum systems in ways that\n",
        "have so far been out of reach.\n",
        "\n",
        "References\n",
        "==========\n",
        "\n",
        "About the authors\n",
        "=================\n"
      ]
    }
  ],
  "metadata": {
    "kernelspec": {
      "display_name": "Python 3",
      "language": "python",
      "name": "python3"
    },
    "language_info": {
      "codemirror_mode": {
        "name": "ipython",
        "version": 3
      },
      "file_extension": ".py",
      "mimetype": "text/x-python",
      "name": "python",
      "nbconvert_exporter": "python",
      "pygments_lexer": "ipython3",
      "version": "3.10.14"
    },
    "colab": {
      "provenance": [],
      "include_colab_link": true
    }
  },
  "nbformat": 4,
  "nbformat_minor": 0
}