{
  "cells": [
    {
      "cell_type": "markdown",
      "metadata": {
        "id": "view-in-github",
        "colab_type": "text"
      },
      "source": [
        "<a href=\"https://colab.research.google.com/github/borbysh/Momentum-QNG/blob/main/tutorial_qaoa_maxcut.ipynb\" target=\"_parent\"><img src=\"https://colab.research.google.com/assets/colab-badge.svg\" alt=\"Open In Colab\"/></a>"
      ]
    },
    {
      "cell_type": "code",
      "execution_count": 24,
      "metadata": {
        "colab": {
          "base_uri": "https://localhost:8080/"
        },
        "id": "zJM9YmphTu24",
        "outputId": "e52e100e-8c43-4ad4-b6ea-558d96f8b6b1"
      },
      "outputs": [
        {
          "output_type": "stream",
          "name": "stdout",
          "text": [
            "Requirement already satisfied: pennylane in /usr/local/lib/python3.10/dist-packages (0.36.0)\n",
            "Requirement already satisfied: numpy<2.0 in /usr/local/lib/python3.10/dist-packages (from pennylane) (1.25.2)\n",
            "Requirement already satisfied: scipy in /usr/local/lib/python3.10/dist-packages (from pennylane) (1.11.4)\n",
            "Requirement already satisfied: networkx in /usr/local/lib/python3.10/dist-packages (from pennylane) (3.3)\n",
            "Requirement already satisfied: rustworkx in /usr/local/lib/python3.10/dist-packages (from pennylane) (0.14.2)\n",
            "Requirement already satisfied: autograd in /usr/local/lib/python3.10/dist-packages (from pennylane) (1.6.2)\n",
            "Requirement already satisfied: toml in /usr/local/lib/python3.10/dist-packages (from pennylane) (0.10.2)\n",
            "Requirement already satisfied: appdirs in /usr/local/lib/python3.10/dist-packages (from pennylane) (1.4.4)\n",
            "Requirement already satisfied: semantic-version>=2.7 in /usr/local/lib/python3.10/dist-packages (from pennylane) (2.10.0)\n",
            "Requirement already satisfied: autoray>=0.6.1 in /usr/local/lib/python3.10/dist-packages (from pennylane) (0.6.12)\n",
            "Requirement already satisfied: cachetools in /usr/local/lib/python3.10/dist-packages (from pennylane) (5.3.3)\n",
            "Requirement already satisfied: pennylane-lightning>=0.36 in /usr/local/lib/python3.10/dist-packages (from pennylane) (0.36.0)\n",
            "Requirement already satisfied: requests in /usr/local/lib/python3.10/dist-packages (from pennylane) (2.31.0)\n",
            "Requirement already satisfied: typing-extensions in /usr/local/lib/python3.10/dist-packages (from pennylane) (4.11.0)\n",
            "Requirement already satisfied: future>=0.15.2 in /usr/local/lib/python3.10/dist-packages (from autograd->pennylane) (0.18.3)\n",
            "Requirement already satisfied: charset-normalizer<4,>=2 in /usr/local/lib/python3.10/dist-packages (from requests->pennylane) (3.3.2)\n",
            "Requirement already satisfied: idna<4,>=2.5 in /usr/local/lib/python3.10/dist-packages (from requests->pennylane) (3.7)\n",
            "Requirement already satisfied: urllib3<3,>=1.21.1 in /usr/local/lib/python3.10/dist-packages (from requests->pennylane) (2.0.7)\n",
            "Requirement already satisfied: certifi>=2017.4.17 in /usr/local/lib/python3.10/dist-packages (from requests->pennylane) (2024.2.2)\n"
          ]
        }
      ],
      "source": [
        "# This cell is added by sphinx-gallery\n",
        "# It can be customized to whatever you like\n",
        "%matplotlib inline\n",
        "!pip install pennylane"
      ]
    },
    {
      "cell_type": "markdown",
      "metadata": {
        "id": "gnglpFUKTu3D"
      },
      "source": [
        "QAOA for MaxCut {#qaoa_maxcut}\n",
        "===============\n",
        "\n",
        "::: {.meta}\n",
        ":property=\\\"og:description\\\": Implementing the quantum approximate\n",
        "optimization algorithm using PennyLane to solve the MaxCut problem.\n",
        ":property=\\\"og:image\\\":\n",
        "<https://pennylane.ai/qml/_static/demonstration_assets//qaoa_maxcut_partition.png>\n",
        ":::\n",
        "\n",
        "::: {.related}\n",
        "tutorial\\_qaoa\\_intro Intro to QAOA\n",
        ":::\n",
        "\n",
        "*Author: Angus Lowe --- Posted: 11 October 2019. Last updated: 13 April\n",
        "2021.*\n"
      ]
    },
    {
      "cell_type": "markdown",
      "metadata": {
        "id": "_IcUKRPVTu3I"
      },
      "source": [
        "In this tutorial we implement the quantum approximate optimization\n",
        "algorithm (QAOA) for the MaxCut problem as proposed by [Farhi,\n",
        "Goldstone, and Gutmann (2014)](https://arxiv.org/abs/1411.4028). First,\n",
        "we give an overview of the MaxCut problem using a simple example, a\n",
        "graph with 4 vertices and 4 edges. We then show how to find the maximum\n",
        "cut by running the QAOA algorithm using PennyLane.\n",
        "\n",
        "Background\n",
        "==========\n",
        "\n",
        "The MaxCut problem\n",
        "------------------\n",
        "\n",
        "The aim of MaxCut is to maximize the number of edges (yellow lines) in a\n",
        "graph that are \\\"cut\\\" by a given partition of the vertices (blue\n",
        "circles) into two sets (see figure below).\n",
        "\n",
        "![](https://github.com/borbysh/Momentum-QNG/blob/_static/demonstration_assets/qaoa_maxcut/qaoa_maxcut_partition.png?raw=1){.align-center}\n",
        "\n",
        "|\n",
        "\n",
        "Consider a graph with $m$ edges and $n$ vertices. We seek the partition\n",
        "$z$ of the vertices into two sets $A$ and $B$ which maximizes\n",
        "\n",
        "$$C(z) = \\sum_{\\alpha=1}^{m}C_\\alpha(z),$$\n",
        "\n",
        "where $C$ counts the number of edges cut. $C_\\alpha(z)=1$ if $z$ places\n",
        "one vertex from the $\\alpha^\\text{th}$ edge in set $A$ and the other in\n",
        "set $B$, and $C_\\alpha(z)=0$ otherwise. Finding a cut which yields the\n",
        "maximum possible value of $C$ is an NP-complete problem, so our best\n",
        "hope for a polynomial-time algorithm lies in an approximate\n",
        "optimization. In the case of MaxCut, this means finding a partition $z$\n",
        "which yields a value for $C(z)$ that is close to the maximum possible\n",
        "value.\n",
        "\n",
        "We can represent the assignment of vertices to set $A$ or $B$ using a\n",
        "bitstring, $z=z_1...z_n$ where $z_i=0$ if the $i^\\text{th}$ vertex is in\n",
        "$A$ and $z_i = 1$ if it is in $B$. For instance, in the situation\n",
        "depicted in the figure above the bitstring representation is\n",
        "$z=0101\\text{,}$ indicating that the $0^{\\text{th}}$ and $2^{\\text{nd}}$\n",
        "vertices are in $A$ while the $1^{\\text{st}}$ and $3^{\\text{rd}}$ are in\n",
        "$B$. This assignment yields a value for the objective function (the\n",
        "number of yellow lines cut) $C=4$, which turns out to be the maximum\n",
        "cut. In the following sections, we will represent partitions using\n",
        "computational basis states and use PennyLane to rediscover this maximum\n",
        "cut.\n",
        "\n",
        "::: {.note}\n",
        "::: {.title}\n",
        "Note\n",
        ":::\n",
        "\n",
        "In the graph above, $z=1010$ could equally well serve as the maximum\n",
        "cut.\n",
        ":::\n",
        "\n",
        "A circuit for QAOA\n",
        "------------------\n",
        "\n",
        "This section describes implementing a circuit for QAOA using basic\n",
        "unitary gates to find approximate solutions to the MaxCut problem.\n",
        "Firstly, denoting the partitions using computational basis states\n",
        "$|z\\rangle$, we can represent the terms in the objective function as\n",
        "operators acting on these states\n",
        "\n",
        "$$C_\\alpha = \\frac{1}{2}\\left(1-\\sigma_{z}^j\\sigma_{z}^k\\right),$$\n",
        "\n",
        "where the $\\alpha\\text{th}$ edge is between vertices $(j,k)$. $C_\\alpha$\n",
        "has eigenvalue 1 if and only if the $j\\text{th}$ and $k\\text{th}$ qubits\n",
        "have different z-axis measurement values, representing separate\n",
        "partitions. The objective function $C$ can be considered a diagonal\n",
        "operator with integer eigenvalues.\n",
        "\n",
        "QAOA starts with a uniform superposition over the $n$ bitstring basis\n",
        "states,\n",
        "\n",
        "$$|+_{n}\\rangle = \\frac{1}{\\sqrt{2^n}}\\sum_{z\\in \\{0,1\\}^n} |z\\rangle.$$\n",
        "\n",
        "We aim to explore the space of bitstring states for a superposition\n",
        "which is likely to yield a large value for the $C$ operator upon\n",
        "performing a measurement in the computational basis. Using the $2p$\n",
        "angle parameters $\\boldsymbol{\\gamma} = \\gamma_1\\gamma_2...\\gamma_p$,\n",
        "$\\boldsymbol{\\beta} = \\beta_1\\beta_2...\\beta_p$ we perform a sequence of\n",
        "operations on our initial state:\n",
        "\n",
        "$$|\\boldsymbol{\\gamma},\\boldsymbol{\\beta}\\rangle = U_{B_p}U_{C_p}U_{B_{p-1}}U_{C_{p-1}}...U_{B_1}U_{C_1}|+_n\\rangle$$\n",
        "\n",
        "where the operators have the explicit forms\n",
        "\n",
        "$$\\begin{aligned}\n",
        "U_{B_l} &= e^{-i\\beta_lB} = \\prod_{j=1}^n e^{-i\\beta_l\\sigma_x^j}, \\\\\n",
        "U_{C_l} &= e^{-i\\gamma_lC} = \\prod_{\\text{edge (j,k)}} e^{-i\\gamma_l(1-\\sigma_z^j\\sigma_z^k)/2}.\n",
        "\\end{aligned}$$\n",
        "\n",
        "In other words, we make $p$ layers of parametrized $U_bU_C$ gates. These\n",
        "can be implemented on a quantum circuit using the gates depicted below,\n",
        "up to an irrelevant constant that gets absorbed into the parameters.\n",
        "\n",
        "![](https://github.com/borbysh/Momentum-QNG/blob/_static/demonstration_assets/qaoa_maxcut/qaoa_operators.png?raw=1){.align-center}\n",
        "\n",
        "|\n",
        "\n",
        "Let $\\langle \\boldsymbol{\\gamma},\n",
        "\\boldsymbol{\\beta} | C | \\boldsymbol{\\gamma},\\boldsymbol{\\beta} \\rangle$\n",
        "be the expectation of the objective operator. In the next section, we\n",
        "will use PennyLane to perform classical optimization over the circuit\n",
        "parameters $(\\boldsymbol{\\gamma}, \\boldsymbol{\\beta})$. This will\n",
        "specify a state $|\\boldsymbol{\\gamma},\\boldsymbol{\\beta}\\rangle$ which\n",
        "is likely to yield an approximately optimal partition $|z\\rangle$ upon\n",
        "performing a measurement in the computational basis. In the case of the\n",
        "graph shown above, we want to measure either 0101 or 1010 from our state\n",
        "since these correspond to the optimal partitions.\n",
        "\n",
        "![](https://github.com/borbysh/Momentum-QNG/blob/_static/demonstration_assets/qaoa_maxcut/qaoa_optimal_state.png?raw=1){.align-center}\n",
        "\n",
        "|\n",
        "\n",
        "Qualitatively, QAOA tries to evolve the initial state into the plane of\n",
        "the $|0101\\rangle$, $|1010\\rangle$ basis states (see figure above).\n",
        "\n",
        "Implementing QAOA in PennyLane\n",
        "==============================\n",
        "\n",
        "Imports and setup\n",
        "-----------------\n",
        "\n",
        "To get started, we import PennyLane along with the PennyLane-provided\n",
        "version of NumPy.\n"
      ]
    },
    {
      "cell_type": "code",
      "execution_count": 44,
      "metadata": {
        "id": "MBj-v8lwTu3N"
      },
      "outputs": [],
      "source": [
        "import pennylane as qml\n",
        "from pennylane import numpy as np\n",
        "\n",
        "np.random.seed(42)"
      ]
    },
    {
      "cell_type": "markdown",
      "metadata": {
        "id": "luF94ruCTu3O"
      },
      "source": [
        "Operators\n",
        "=========\n",
        "\n",
        "We specify the number of qubits (vertices) with `n_wires` and compose\n",
        "the unitary operators using the definitions above. $U_B$ operators act\n",
        "on individual wires, while $U_C$ operators act on wires whose\n",
        "corresponding vertices are joined by an edge in the graph. We also\n",
        "define the graph using the list `graph`, which contains the tuples of\n",
        "vertices defining each edge in the graph.\n"
      ]
    },
    {
      "cell_type": "code",
      "execution_count": 45,
      "metadata": {
        "id": "GSUBuXnITu3Q"
      },
      "outputs": [],
      "source": [
        "n_wires = 4\n",
        "graph = [(0, 1), (0, 3), (1, 2), (2, 3)]\n",
        "\n",
        "# unitary operator U_B with parameter beta\n",
        "def U_B(beta):\n",
        "    for wire in range(n_wires):\n",
        "        qml.RX(2 * beta, wires=wire)\n",
        "\n",
        "\n",
        "# unitary operator U_C with parameter gamma\n",
        "def U_C(gamma):\n",
        "    for edge in graph:\n",
        "        wire1 = edge[0]\n",
        "        wire2 = edge[1]\n",
        "        qml.CNOT(wires=[wire1, wire2])\n",
        "        qml.RZ(gamma, wires=wire2)\n",
        "        qml.CNOT(wires=[wire1, wire2])"
      ]
    },
    {
      "cell_type": "markdown",
      "metadata": {
        "id": "y1p4WCAPTu3S"
      },
      "source": [
        "We will need a way to convert a bitstring, representing a sample of\n",
        "multiple qubits in the computational basis, to integer or base-10 form.\n"
      ]
    },
    {
      "cell_type": "code",
      "execution_count": 46,
      "metadata": {
        "id": "mv56lPZ5Tu3T"
      },
      "outputs": [],
      "source": [
        "def bitstring_to_int(bit_string_sample):\n",
        "    bit_string = \"\".join(str(bs) for bs in bit_string_sample)\n",
        "    return int(bit_string, base=2)"
      ]
    },
    {
      "cell_type": "markdown",
      "metadata": {
        "id": "Iuhppo8jTu3U"
      },
      "source": [
        "Circuit\n",
        "=======\n",
        "\n",
        "Next, we create a quantum device with 4 qubits.\n"
      ]
    },
    {
      "cell_type": "code",
      "execution_count": 47,
      "metadata": {
        "id": "bfjuqv3ZTu3W"
      },
      "outputs": [],
      "source": [
        "dev = qml.device(\"lightning.qubit\", wires=n_wires, shots=1)"
      ]
    },
    {
      "cell_type": "markdown",
      "metadata": {
        "id": "UyapRHQ1Tu3Y"
      },
      "source": [
        "We also require a quantum node which will apply the operators according\n",
        "to the angle parameters, and return the expectation value of the\n",
        "observable $\\sigma_z^{j}\\sigma_z^{k}$ to be used in each term of the\n",
        "objective function later on. The argument `edge` specifies the chosen\n",
        "edge term in the objective function, $(j,k)$. Once optimized, the same\n",
        "quantum node can be used for sampling an approximately optimal bitstring\n",
        "if executed with the `edge` keyword set to `None`. Additionally, we\n",
        "specify the number of layers (repeated applications of $U_BU_C$) using\n",
        "the keyword `n_layers`.\n"
      ]
    },
    {
      "cell_type": "code",
      "execution_count": 56,
      "metadata": {
        "id": "RGkLeqJhTu3Z"
      },
      "outputs": [],
      "source": [
        "@qml.qnode(dev, interface='autograd')\n",
        "def circuit(gammas, betas, edge=None, n_layers=1):\n",
        "    # apply Hadamards to get the n qubit |+> state\n",
        "    for wire in range(n_wires):\n",
        "        qml.Hadamard(wires=wire)\n",
        "    # p instances of unitary operators\n",
        "    for i in range(n_layers):\n",
        "        U_C(gammas[i])\n",
        "        U_B(betas[i])\n",
        "    if edge is None:\n",
        "        # measurement phase\n",
        "        return qml.sample()\n",
        "    # during the optimization phase we are evaluating a term\n",
        "    # in the objective using expval\n",
        "    H = qml.PauliZ(edge[0]) @ qml.PauliZ(edge[1])\n",
        "    return qml.expval(H)"
      ]
    },
    {
      "cell_type": "markdown",
      "metadata": {
        "id": "UTwjVU5WTu3a"
      },
      "source": [
        "Optimization\n",
        "============\n",
        "\n",
        "Finally, we optimize the objective over the angle parameters\n",
        "$\\boldsymbol{\\gamma}$ (`params[0]`) and $\\boldsymbol{\\beta}$\n",
        "(`params[1]`) and then sample the optimized circuit multiple times to\n",
        "yield a distribution of bitstrings. One of the optimal partitions\n",
        "($z=0101$ or $z=1010$) should be the most frequently sampled bitstring.\n",
        "We perform a maximization of $C$ by minimizing $-C$, following the\n",
        "convention that optimizations are cast as minimizations in PennyLane.\n"
      ]
    },
    {
      "cell_type": "code",
      "execution_count": 57,
      "metadata": {
        "colab": {
          "base_uri": "https://localhost:8080/",
          "height": 391
        },
        "id": "5HWwEATaTu3b",
        "outputId": "ff6144bd-2062-4ee8-d1b0-ee59096cbc91"
      },
      "outputs": [
        {
          "output_type": "stream",
          "name": "stdout",
          "text": [
            "\n",
            "p=1\n"
          ]
        },
        {
          "output_type": "error",
          "ename": "ValueError",
          "evalue": "The objective function must be encoded as a single QNode for the natural gradient to be automatically computed. Otherwise, metric_tensor_fn must be explicitly provided to the optimizer.",
          "traceback": [
            "\u001b[0;31m---------------------------------------------------------------------------\u001b[0m",
            "\u001b[0;31mValueError\u001b[0m                                Traceback (most recent call last)",
            "\u001b[0;32m<ipython-input-57-5cdc2d4ee688>\u001b[0m in \u001b[0;36m<cell line: 56>\u001b[0;34m()\u001b[0m\n\u001b[1;32m     54\u001b[0m \u001b[0;31m# perform qaoa on our graph with p=1,2 and\u001b[0m\u001b[0;34m\u001b[0m\u001b[0;34m\u001b[0m\u001b[0m\n\u001b[1;32m     55\u001b[0m \u001b[0;31m# keep the bitstring sample lists\u001b[0m\u001b[0;34m\u001b[0m\u001b[0;34m\u001b[0m\u001b[0m\n\u001b[0;32m---> 56\u001b[0;31m \u001b[0mbitstrings1\u001b[0m \u001b[0;34m=\u001b[0m \u001b[0mqaoa_maxcut\u001b[0m\u001b[0;34m(\u001b[0m\u001b[0mn_layers\u001b[0m\u001b[0;34m=\u001b[0m\u001b[0;36m1\u001b[0m\u001b[0;34m)\u001b[0m\u001b[0;34m[\u001b[0m\u001b[0;36m1\u001b[0m\u001b[0;34m]\u001b[0m\u001b[0;34m\u001b[0m\u001b[0;34m\u001b[0m\u001b[0m\n\u001b[0m\u001b[1;32m     57\u001b[0m \u001b[0mbitstrings2\u001b[0m \u001b[0;34m=\u001b[0m \u001b[0mqaoa_maxcut\u001b[0m\u001b[0;34m(\u001b[0m\u001b[0mn_layers\u001b[0m\u001b[0;34m=\u001b[0m\u001b[0;36m2\u001b[0m\u001b[0;34m)\u001b[0m\u001b[0;34m[\u001b[0m\u001b[0;36m1\u001b[0m\u001b[0;34m]\u001b[0m\u001b[0;34m\u001b[0m\u001b[0;34m\u001b[0m\u001b[0m\n",
            "\u001b[0;32m<ipython-input-57-5cdc2d4ee688>\u001b[0m in \u001b[0;36mqaoa_maxcut\u001b[0;34m(n_layers)\u001b[0m\n\u001b[1;32m     32\u001b[0m         \u001b[0;31m#opt = qml.MomentumOptimizer(stepsize=lr_i, momentum=0)\u001b[0m\u001b[0;34m\u001b[0m\u001b[0;34m\u001b[0m\u001b[0m\n\u001b[1;32m     33\u001b[0m         \u001b[0mopt\u001b[0m \u001b[0;34m=\u001b[0m \u001b[0mqml\u001b[0m\u001b[0;34m.\u001b[0m\u001b[0mQNGOptimizer\u001b[0m\u001b[0;34m(\u001b[0m\u001b[0mstepsize\u001b[0m \u001b[0;34m=\u001b[0m \u001b[0mlr_i\u001b[0m\u001b[0;34m)\u001b[0m\u001b[0;34m\u001b[0m\u001b[0;34m\u001b[0m\u001b[0m\n\u001b[0;32m---> 34\u001b[0;31m         \u001b[0mparams\u001b[0m \u001b[0;34m=\u001b[0m \u001b[0mopt\u001b[0m\u001b[0;34m.\u001b[0m\u001b[0mstep\u001b[0m\u001b[0;34m(\u001b[0m\u001b[0mobjective\u001b[0m\u001b[0;34m,\u001b[0m \u001b[0mparams\u001b[0m\u001b[0;34m)\u001b[0m \u001b[0;34m+\u001b[0m \u001b[0mrho_i\u001b[0m \u001b[0;34m*\u001b[0m \u001b[0mprev_step\u001b[0m\u001b[0;34m\u001b[0m\u001b[0;34m\u001b[0m\u001b[0m\n\u001b[0m\u001b[1;32m     35\u001b[0m         \u001b[0mprev_step\u001b[0m \u001b[0;34m=\u001b[0m \u001b[0mparams\u001b[0m \u001b[0;34m-\u001b[0m \u001b[0mprev_params\u001b[0m\u001b[0;34m\u001b[0m\u001b[0;34m\u001b[0m\u001b[0m\n\u001b[1;32m     36\u001b[0m         \u001b[0;32mif\u001b[0m \u001b[0;34m(\u001b[0m\u001b[0mi\u001b[0m \u001b[0;34m+\u001b[0m \u001b[0;36m1\u001b[0m\u001b[0;34m)\u001b[0m \u001b[0;34m%\u001b[0m \u001b[0;36m5\u001b[0m \u001b[0;34m==\u001b[0m \u001b[0;36m0\u001b[0m\u001b[0;34m:\u001b[0m\u001b[0;34m\u001b[0m\u001b[0;34m\u001b[0m\u001b[0m\n",
            "\u001b[0;32m/usr/local/lib/python3.10/dist-packages/pennylane/optimize/qng.py\u001b[0m in \u001b[0;36mstep\u001b[0;34m(self, qnode, grad_fn, recompute_tensor, metric_tensor_fn, *args, **kwargs)\u001b[0m\n\u001b[1;32m    251\u001b[0m             \u001b[0marray\u001b[0m\u001b[0;34m:\u001b[0m \u001b[0mthe\u001b[0m \u001b[0mnew\u001b[0m \u001b[0mvariable\u001b[0m \u001b[0mvalues\u001b[0m \u001b[0;34m:\u001b[0m\u001b[0mmath\u001b[0m\u001b[0;34m:\u001b[0m\u001b[0;31m`\u001b[0m\u001b[0mx\u001b[0m\u001b[0;34m^\u001b[0m\u001b[0;34m{\u001b[0m\u001b[0;34m(\u001b[0m\u001b[0mt\u001b[0m\u001b[0;34m+\u001b[0m\u001b[0;36m1\u001b[0m\u001b[0;34m)\u001b[0m\u001b[0;34m}\u001b[0m\u001b[0;31m`\u001b[0m\u001b[0;34m\u001b[0m\u001b[0;34m\u001b[0m\u001b[0m\n\u001b[1;32m    252\u001b[0m         \"\"\"\n\u001b[0;32m--> 253\u001b[0;31m         new_args, _ = self.step_and_cost(\n\u001b[0m\u001b[1;32m    254\u001b[0m             \u001b[0mqnode\u001b[0m\u001b[0;34m,\u001b[0m\u001b[0;34m\u001b[0m\u001b[0;34m\u001b[0m\u001b[0m\n\u001b[1;32m    255\u001b[0m             \u001b[0;34m*\u001b[0m\u001b[0margs\u001b[0m\u001b[0;34m,\u001b[0m\u001b[0;34m\u001b[0m\u001b[0;34m\u001b[0m\u001b[0m\n",
            "\u001b[0;32m/usr/local/lib/python3.10/dist-packages/pennylane/optimize/qng.py\u001b[0m in \u001b[0;36mstep_and_cost\u001b[0;34m(self, qnode, grad_fn, recompute_tensor, metric_tensor_fn, *args, **kwargs)\u001b[0m\n\u001b[1;32m    180\u001b[0m         \u001b[0;31m# pylint: disable=arguments-differ\u001b[0m\u001b[0;34m\u001b[0m\u001b[0;34m\u001b[0m\u001b[0m\n\u001b[1;32m    181\u001b[0m         \u001b[0;32mif\u001b[0m \u001b[0;32mnot\u001b[0m \u001b[0misinstance\u001b[0m\u001b[0;34m(\u001b[0m\u001b[0mqnode\u001b[0m\u001b[0;34m,\u001b[0m \u001b[0mqml\u001b[0m\u001b[0;34m.\u001b[0m\u001b[0mQNode\u001b[0m\u001b[0;34m)\u001b[0m \u001b[0;32mand\u001b[0m \u001b[0mmetric_tensor_fn\u001b[0m \u001b[0;32mis\u001b[0m \u001b[0;32mNone\u001b[0m\u001b[0;34m:\u001b[0m\u001b[0;34m\u001b[0m\u001b[0;34m\u001b[0m\u001b[0m\n\u001b[0;32m--> 182\u001b[0;31m             raise ValueError(\n\u001b[0m\u001b[1;32m    183\u001b[0m                 \u001b[0;34m\"The objective function must be encoded as a single QNode for the natural gradient \"\u001b[0m\u001b[0;34m\u001b[0m\u001b[0;34m\u001b[0m\u001b[0m\n\u001b[1;32m    184\u001b[0m                 \u001b[0;34m\"to be automatically computed. Otherwise, metric_tensor_fn must be explicitly \"\u001b[0m\u001b[0;34m\u001b[0m\u001b[0;34m\u001b[0m\u001b[0m\n",
            "\u001b[0;31mValueError\u001b[0m: The objective function must be encoded as a single QNode for the natural gradient to be automatically computed. Otherwise, metric_tensor_fn must be explicitly provided to the optimizer."
          ]
        }
      ],
      "source": [
        "\n",
        "def qaoa_maxcut(n_layers=1):\n",
        "    print(\"\\np={:d}\".format(n_layers))\n",
        "\n",
        "    # initialize the parameters near zero\n",
        "    init_params = 0.01 * np.random.rand(2, n_layers, requires_grad=True)\n",
        "\n",
        "    # minimize the negative of the objective function\n",
        "\n",
        "    def objective(params):\n",
        "        gammas = params[0]\n",
        "        betas = params[1]\n",
        "        neg_obj = 0\n",
        "        for edge in graph:\n",
        "            # objective for the MaxCut problem\n",
        "            neg_obj -= 0.5 * (1 - circuit(gammas, betas, edge=edge, n_layers=n_layers))\n",
        "        return neg_obj\n",
        "\n",
        "    # initialize optimizer: Adagrad works well empirically\n",
        "    #opt = qml.AdagradOptimizer(stepsize=0.5)\n",
        "\n",
        "    # optimize parameters in objective\n",
        "    params = init_params\n",
        "    prev_step = params * 0\n",
        "    start_lr = 0.02\n",
        "    start_momentum = 0.99\n",
        "    cool_steps = 50\n",
        "    alpha = (1 - start_momentum)**(1/cool_steps)\n",
        "    for i in range(cool_steps):\n",
        "        rho_i = 1 - (1 - start_momentum)/(alpha**i)\n",
        "        lr_i = start_lr * (1 + rho_i) / 2\n",
        "        prev_params = params\n",
        "        #opt = qml.MomentumOptimizer(stepsize=lr_i, momentum=0)\n",
        "        opt = qml.QNGOptimizer(stepsize = lr_i)\n",
        "        params = opt.step(objective, params) + rho_i * prev_step\n",
        "        prev_step = params - prev_params\n",
        "        if (i + 1) % 5 == 0:\n",
        "            print(\"Objective after step {:5d}: {: .7f}\".format(i + 1, -objective(params)))\n",
        "\n",
        "    # sample measured bitstrings 100 times\n",
        "    bit_strings = []\n",
        "    n_samples = 100\n",
        "    for i in range(0, n_samples):\n",
        "        bit_strings.append(bitstring_to_int(circuit(params[0], params[1], edge=None, n_layers=n_layers)))\n",
        "\n",
        "    # print optimal parameters and most frequently sampled bitstring\n",
        "    counts = np.bincount(np.array(bit_strings))\n",
        "    most_freq_bit_string = np.argmax(counts)\n",
        "    print(\"Optimized (gamma, beta) vectors:\\n{}\".format(params[:, :n_layers]))\n",
        "    print(\"Most frequently sampled bit string is: {:04b}\".format(most_freq_bit_string))\n",
        "\n",
        "    return -objective(params), bit_strings\n",
        "\n",
        "\n",
        "# perform qaoa on our graph with p=1,2 and\n",
        "# keep the bitstring sample lists\n",
        "bitstrings1 = qaoa_maxcut(n_layers=1)[1]\n",
        "bitstrings2 = qaoa_maxcut(n_layers=2)[1]"
      ]
    },
    {
      "cell_type": "markdown",
      "metadata": {
        "id": "8ODa_qz2Tu3c"
      },
      "source": [
        "In the case where we set `n_layers=2`, we recover the optimal objective\n",
        "function $C=4$\n"
      ]
    },
    {
      "cell_type": "markdown",
      "metadata": {
        "id": "DOjEGv7iTu3d"
      },
      "source": [
        "Plotting the results\n",
        "====================\n",
        "\n",
        "We can plot the distribution of measurements obtained from the optimized\n",
        "circuits. As expected for this graph, the partitions 0101 and 1010 are\n",
        "measured with the highest frequencies, and in the case where we set\n",
        "`n_layers=2` we obtain one of the optimal partitions with 100%\n",
        "certainty.\n"
      ]
    },
    {
      "cell_type": "code",
      "execution_count": 53,
      "metadata": {
        "colab": {
          "base_uri": "https://localhost:8080/",
          "height": 407
        },
        "id": "arDkmtiTTu3d",
        "outputId": "9dd80db9-560f-4184-e558-c3199bf713c6"
      },
      "outputs": [
        {
          "output_type": "display_data",
          "data": {
            "text/plain": [
              "<Figure size 800x400 with 2 Axes>"
            ],
            "image/png": "[encoded data removed]"
          },
          "metadata": {}
        }
      ],
      "source": [
        "import matplotlib.pyplot as plt\n",
        "\n",
        "xticks = range(0, 16)\n",
        "xtick_labels = list(map(lambda x: format(x, \"04b\"), xticks))\n",
        "bins = np.arange(0, 17) - 0.5\n",
        "\n",
        "fig, (ax1, ax2) = plt.subplots(1, 2, figsize=(8, 4))\n",
        "plt.subplot(1, 2, 1)\n",
        "plt.title(\"n_layers=1\")\n",
        "plt.xlabel(\"bitstrings\")\n",
        "plt.ylabel(\"freq.\")\n",
        "plt.xticks(xticks, xtick_labels, rotation=\"vertical\")\n",
        "plt.hist(bitstrings1, bins=bins)\n",
        "plt.subplot(1, 2, 2)\n",
        "plt.title(\"n_layers=2\")\n",
        "plt.xlabel(\"bitstrings\")\n",
        "plt.ylabel(\"freq.\")\n",
        "plt.xticks(xticks, xtick_labels, rotation=\"vertical\")\n",
        "plt.hist(bitstrings2, bins=bins)\n",
        "plt.tight_layout()\n",
        "plt.show()"
      ]
    },
    {
      "cell_type": "markdown",
      "metadata": {
        "id": "IGFYvUWmTu3e"
      },
      "source": [
        "About the author\n",
        "================\n"
      ]
    }
  ],
  "metadata": {
    "kernelspec": {
      "display_name": "Python 3",
      "language": "python",
      "name": "python3"
    },
    "language_info": {
      "codemirror_mode": {
        "name": "ipython",
        "version": 3
      },
      "file_extension": ".py",
      "mimetype": "text/x-python",
      "name": "python",
      "nbconvert_exporter": "python",
      "pygments_lexer": "ipython3",
      "version": "3.10.13"
    },
    "colab": {
      "provenance": [],
      "include_colab_link": true
    }
  },
  "nbformat": 4,
  "nbformat_minor": 0
}