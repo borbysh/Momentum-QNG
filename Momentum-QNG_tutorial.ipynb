{
  "cells": [
    {
      "cell_type": "markdown",
      "metadata": {
        "id": "view-in-github",
        "colab_type": "text"
      },
      "source": [
        "<a href=\"https://colab.research.google.com/github/borbysh/Momentum-QNG/blob/main/Momentum-QNG_tutorial.ipynb\" target=\"_parent\"><img src=\"https://colab.research.google.com/assets/colab-badge.svg\" alt=\"Open In Colab\"/></a>"
      ]
    },
    {
      "cell_type": "markdown",
      "metadata": {
        "id": "-creSdlQPdYC"
      },
      "source": [
        "# Meet the Quantum Natural Gradient with Momentum (Momentum-QNG) Optimizer\n",
        "\n",
        "### A 4-minute PennyLane&copy; demo for [Application of Langevin Dynamics to Advance the Quantum Natural Gradient Optimization Algorithm](https://arxiv.org/abs/2409.01978)\n",
        "\n",
        "## [Oleksandr Borysenko](https://www.linkedin.com/in/alexander-borisenko-4437321bb/), Mykhailo Bratchenko, [Ilya Lukin](https://www.linkedin.com/in/illia-lukin-806656301/), [Mykola Luhanko](https://www.linkedin.com/in/mykola-luhanko-495954243/), [Ihor Omelchenko](https://www.linkedin.com/in/ihor-omelchenko-38839b12a/), [Andrii Sotnikov](https://www.linkedin.com/in/a-g-sotnikov/) and Alessandro Lomi\n",
        "\n",
        "### 4 min in Colab\n",
        "\n",
        "<img src=\"https://github.com/borbysh/Momentum-QNG/blob/main/Santa.png?raw=1\" width=384 height=512 />\n",
        "\n",
        "### *The picture by Yaroslava Borysenko\n",
        "\n",
        "\n",
        "\n",
        "A Quantum Natural Gradient (QNG) algorithm for optimization of variational quantum circuits has been proposed recently https://quantum-journal.org/papers/q-2020-05-25-269/. In this tutorial, we demonstrate the usage of our new Quantum Natural Gradient with Momentum (Momentum-QNG) optimization algorithm https://arxiv.org/abs/2409.01978. We derived it from the discrete-time Langevin dynamics for a virtual particle in the space of variational parameters. The particle is subject to the QNG force and viscous friction, which results into an additional momentum (inertial) term in the optimizer, compared to the QNG one:\n",
        "\n",
        "$\\Delta \\theta_{n+1} = \\rho \\Delta \\theta_{n} - \\eta \\cdot g^{-1}({\\theta_n}) \\nabla \\mathcal{L}(\\theta_n),$\n",
        "\n",
        "where $\\Delta \\theta_n$ is a vector of variational parameters' updates at step $n$, $\\rho$ is a momentum coefficient, $\\eta$ is a learning rate, $g^{-1}({\\theta})$ is an inverse of the Quantum Metric Tensor in the variational parameters' space and $\\nabla \\mathcal{L}(\\theta)$ is a vector of gradients of the cost function.\n",
        "\n",
        " Similar to other optimization algorithms with the momentum term, such as the Stochastic Gradient Descent with momentum (Momentum) https://www.nature.com/articles/323533a0, Momentum-QNG is more effective to escape local minima and plateaus in the variational parameter space and, therefore, achieves a better convergence behavior, compared to the basic QNG.\n",
        "\n",
        " Below we present a short demo, which illustrates a practical application and benchmarking of our Momentum-QNG optimizer"
      ]
    },
    {
      "cell_type": "code",
      "execution_count": 17,
      "metadata": {
        "colab": {
          "base_uri": "https://localhost:8080/"
        },
        "id": "8AZzBYG3JqA3",
        "outputId": "b6780440-2572-49d2-c303-723d77ad3736"
      },
      "outputs": [
        {
          "output_type": "stream",
          "name": "stdout",
          "text": [
            "Requirement already satisfied: pennylane in /usr/local/lib/python3.12/dist-packages (0.43.0)\n",
            "Requirement already satisfied: scipy in /usr/local/lib/python3.12/dist-packages (from pennylane) (1.16.2)\n",
            "Requirement already satisfied: networkx in /usr/local/lib/python3.12/dist-packages (from pennylane) (3.5)\n",
            "Requirement already satisfied: rustworkx>=0.14.0 in /usr/local/lib/python3.12/dist-packages (from pennylane) (0.17.1)\n",
            "Requirement already satisfied: autograd in /usr/local/lib/python3.12/dist-packages (from pennylane) (1.8.0)\n",
            "Requirement already satisfied: appdirs in /usr/local/lib/python3.12/dist-packages (from pennylane) (1.4.4)\n",
            "Requirement already satisfied: autoray==0.8.0 in /usr/local/lib/python3.12/dist-packages (from pennylane) (0.8.0)\n",
            "Requirement already satisfied: cachetools in /usr/local/lib/python3.12/dist-packages (from pennylane) (5.5.2)\n",
            "Requirement already satisfied: pennylane-lightning>=0.43 in /usr/local/lib/python3.12/dist-packages (from pennylane) (0.43.0)\n",
            "Requirement already satisfied: requests in /usr/local/lib/python3.12/dist-packages (from pennylane) (2.32.4)\n",
            "Requirement already satisfied: tomlkit in /usr/local/lib/python3.12/dist-packages (from pennylane) (0.13.3)\n",
            "Requirement already satisfied: typing_extensions in /usr/local/lib/python3.12/dist-packages (from pennylane) (4.15.0)\n",
            "Requirement already satisfied: packaging in /usr/local/lib/python3.12/dist-packages (from pennylane) (25.0)\n",
            "Requirement already satisfied: diastatic-malt in /usr/local/lib/python3.12/dist-packages (from pennylane) (2.15.2)\n",
            "Requirement already satisfied: numpy in /usr/local/lib/python3.12/dist-packages (from pennylane) (2.0.2)\n",
            "Requirement already satisfied: scipy-openblas32>=0.3.26 in /usr/local/lib/python3.12/dist-packages (from pennylane-lightning>=0.43->pennylane) (0.3.30.0.6)\n",
            "Requirement already satisfied: astunparse in /usr/local/lib/python3.12/dist-packages (from diastatic-malt->pennylane) (1.6.3)\n",
            "Requirement already satisfied: gast in /usr/local/lib/python3.12/dist-packages (from diastatic-malt->pennylane) (0.6.0)\n",
            "Requirement already satisfied: termcolor in /usr/local/lib/python3.12/dist-packages (from diastatic-malt->pennylane) (3.1.0)\n",
            "Requirement already satisfied: charset_normalizer<4,>=2 in /usr/local/lib/python3.12/dist-packages (from requests->pennylane) (3.4.4)\n",
            "Requirement already satisfied: idna<4,>=2.5 in /usr/local/lib/python3.12/dist-packages (from requests->pennylane) (3.11)\n",
            "Requirement already satisfied: urllib3<3,>=1.21.1 in /usr/local/lib/python3.12/dist-packages (from requests->pennylane) (2.5.0)\n",
            "Requirement already satisfied: certifi>=2017.4.17 in /usr/local/lib/python3.12/dist-packages (from requests->pennylane) (2025.10.5)\n",
            "Requirement already satisfied: wheel<1.0,>=0.23.0 in /usr/local/lib/python3.12/dist-packages (from astunparse->diastatic-malt->pennylane) (0.45.1)\n",
            "Requirement already satisfied: six<2.0,>=1.6.1 in /usr/local/lib/python3.12/dist-packages (from astunparse->diastatic-malt->pennylane) (1.17.0)\n"
          ]
        }
      ],
      "source": [
        "%pip install pennylane"
      ]
    },
    {
      "cell_type": "code",
      "execution_count": 18,
      "metadata": {
        "id": "h1u1Dos2KZNw"
      },
      "outputs": [],
      "source": [
        "import pennylane as qml\n",
        "from pennylane import numpy as np"
      ]
    },
    {
      "cell_type": "markdown",
      "metadata": {
        "id": "usSxi20a6QfY"
      },
      "source": [
        "To illustrate the performance of our new optimizer, let's consider the VQE optimization problem aimed to minimize the ground state energy expectation value:\n",
        "\n",
        "$E(\\theta) = \\langle 0| U^{\\dagger}(\\theta) H U(\\theta)|0\\rangle$,\n",
        "\n",
        "where $H$ is a Hamiltonian operator, and $U(\\theta)$ is a parametrized unitary matrix.\n",
        "\n",
        "Consider the $N$-qubit quantum Sherrington-Kirckpatrick (SK) model in the transverse field, defined by the following Hamiltonian:\n",
        "\n",
        "$H = \\sum_{(ij)} J_{ij} \\sigma_{i}^{z} \\sigma_{j}^{z} -g \\sum_{i} \\sigma_{i}^{x}$,\n",
        "\n",
        "where the first sum is taken over all pairs of sites $(ij)$ and $J_{ij} = \\mathcal{N}(0, 1)/ \\sqrt{N}$ are sampled from the normal distribution with zero mean and $1/N$ variance. At small $g < 1.5$ the model is generally in the localized spin glass phase. At large $g$ the model becomes paramagnetic in the $x$ direction.\n",
        "\n",
        "To make an off-road test drive for the optimizers, we are going to search for the ground state in a strong spin glass regime ($g=10^{-4}$), when the energy landscape  contains local minima.\n",
        "\n",
        "For the recent discussion of the quantum SK model and its ground state ansatzes see P. M. Schindler, T. Guaita, T. Shi, E. Demler, and J. I. Cirac, Variational Ansatz for the Ground State of the Quantum Sherrington-Kirkpatrick Model\n",
        " https://journals.aps.org/prl/abstract/10.1103/PhysRevLett.129.220401"
      ]
    },
    {
      "cell_type": "code",
      "execution_count": 19,
      "metadata": {
        "id": "myQtE1nvLCcf"
      },
      "outputs": [],
      "source": [
        "# define parameters in H\n",
        "N = 8      #number of qubits\n",
        "rng = np.random.default_rng(seed=12345)\n",
        "g = 1e-4    #Coupling of the transverse field\n",
        "ZZ = [qml.PauliZ(i)@qml.PauliZ(j) for i in range(N) for j in range(i+1,N)]\n",
        "ZZ_coeff = [rng.normal()/np.sqrt(N) for i in range(N) for j in range(i+1,N)]\n",
        "X = [qml.PauliX(i) for i in range(N)]\n",
        "X_coeff = [-g for i in range(N)]\n",
        "# Construct the Hamiltonian\n",
        "obs = ZZ + X\n",
        "coeffs = ZZ_coeff + X_coeff\n",
        "H = qml.Hamiltonian(coeffs, obs, grouping_type=\"qwc\")"
      ]
    },
    {
      "cell_type": "markdown",
      "metadata": {
        "id": "XNrwvnyU9o-p"
      },
      "source": [
        "The model Hamiltonian is real-valued. Therefore, the wave function ansatz can also be chosen real, consisting only from RY and CNOT gates. As the model contains all-to-all interations, arbitrary pairs of qubits may be potentially entangled. Such an entanglement can be built by application of RY and CNOT gate on the corresponding pair of qubits.\n",
        "\n",
        "Our ansatz consists of two layers. First, RY and CNOT are applied on every pair of qubits. Second, additional RY rotations are applied on every qubit.\n",
        "\n"
      ]
    },
    {
      "cell_type": "code",
      "execution_count": 20,
      "metadata": {
        "id": "nY1lkTcBLduO"
      },
      "outputs": [],
      "source": [
        "def ansatz(params, qubits):\n",
        "    pair = 0\n",
        "    for i in range(qubits-1):\n",
        "        for j in range(i+1, qubits):\n",
        "            qml.RY(params[pair], wires = i)\n",
        "            qml.CNOT(wires=[i, j])\n",
        "            pair += 1\n",
        "    for q in range(qubits):\n",
        "        qml.RY(params[pair+q], wires = q)"
      ]
    },
    {
      "cell_type": "code",
      "execution_count": 21,
      "metadata": {
        "id": "dOZd79HeE_yu"
      },
      "outputs": [],
      "source": [
        "dev = qml.device(\"default.qubit\", wires=N)\n",
        "@qml.qnode(dev)\n",
        "def cost(x):\n",
        "    ansatz(x, qubits=N)\n",
        "    return qml.expval(H)"
      ]
    },
    {
      "cell_type": "markdown",
      "metadata": {
        "id": "rDBsnurEUU14"
      },
      "source": [
        "With the Hamiltomian parameters defined, we are able to calculate the exact ground state energy, to be used below to assess our optimized values:"
      ]
    },
    {
      "cell_type": "code",
      "execution_count": 22,
      "metadata": {
        "id": "lY5NYRYG4Sq3"
      },
      "outputs": [],
      "source": [
        "Eg = H.eigendecomposition['eigval'][0]"
      ]
    },
    {
      "cell_type": "markdown",
      "metadata": {
        "id": "VRjrl6OGVagT"
      },
      "source": [
        "Now, we are going to benchmark the performance of four different optimization algorithms. Our first participant is the Quantum Natural Gradient (QNG) optimizer https://quantum-journal.org/papers/q-2020-05-25-269/"
      ]
    },
    {
      "cell_type": "code",
      "execution_count": 23,
      "metadata": {
        "id": "zkZCJAWBc5Kl"
      },
      "outputs": [],
      "source": [
        "def qng_session(params, stepsize=0.07, steps=300):\n",
        "  opt = qml.QNGOptimizer(stepsize=stepsize, approx='block-diag', lam=0.5)\n",
        "  old_cost = 9999.9999\n",
        "\n",
        "  for i in range(steps):\n",
        "      params = opt.step(cost, params)\n",
        "      new_cost = cost(params)\n",
        "      qng_cost.append(100*(Eg - new_cost)/Eg)\n",
        "\n",
        "      if np.round(old_cost, 5) == np.round(new_cost, 5):\n",
        "          break\n",
        "      else:\n",
        "          old_cost = new_cost\n",
        "  print(\"QNG: Ground energy error after step {:5d}: {: .5f}\".format(i + 1, 100*(Eg - new_cost)/Eg))\n",
        "  return params"
      ]
    },
    {
      "cell_type": "markdown",
      "metadata": {
        "id": "hzKBg2ZxYbEu"
      },
      "source": [
        "Our second participant is a modified version of the former, namely the Quantum Natural Gradient with Momentum (Momentum-QNG) optimizer https://arxiv.org/abs/2409.01978, which we introduced above."
      ]
    },
    {
      "cell_type": "code",
      "execution_count": 24,
      "metadata": {
        "id": "qkLeU-Gwc7ib"
      },
      "outputs": [],
      "source": [
        "def momentum_qng_session(params, stepsize=0.07, momentum=0.9, steps=300):\n",
        "  opt = qml.MomentumQNGOptimizer(stepsize=stepsize, momentum=momentum, approx='block-diag', lam=0.5)\n",
        "  old_cost = 9999.9999\n",
        "\n",
        "  for i in range(steps):\n",
        "      params = opt.step(cost, params)\n",
        "      new_cost = cost(params)\n",
        "      momentum_qng_cost.append(100*(Eg - new_cost)/Eg)\n",
        "\n",
        "      if np.round(old_cost, 5) == np.round(new_cost, 5):\n",
        "          break\n",
        "      else:\n",
        "          old_cost = new_cost\n",
        "  print(\"MomentumQNG: Ground energy error after step {:5d}: {: .5f}\".format(i + 1, 100*(Eg - new_cost)/Eg))\n",
        "  return params"
      ]
    },
    {
      "cell_type": "markdown",
      "metadata": {
        "id": "LPNYg0I5Z1zy"
      },
      "source": [
        "Our third participant is the famous Gradient Descent with Momentum (Momentum) optimizer https://www.nature.com/articles/323533a0"
      ]
    },
    {
      "cell_type": "code",
      "execution_count": 25,
      "metadata": {
        "id": "fcVUNL0_dFh4"
      },
      "outputs": [],
      "source": [
        "def momentum_session(params, stepsize=0.07, momentum=0.9, steps=300):\n",
        "  opt = qml.MomentumOptimizer(stepsize=stepsize, momentum=momentum)\n",
        "  old_cost = 9999.9999\n",
        "\n",
        "  for i in range(steps):\n",
        "      params = opt.step(cost, params)\n",
        "      new_cost = cost(params)\n",
        "      momentum_cost.append(100*(Eg - new_cost)/Eg)\n",
        "\n",
        "      if np.round(old_cost, 5) == np.round(new_cost, 5):\n",
        "          break\n",
        "      else:\n",
        "          old_cost = new_cost\n",
        "  print(\"Momentum: Ground energy error after step {:5d}: {: .5f}\".format(i + 1, 100*(Eg - new_cost)/Eg))\n",
        "  return params"
      ]
    },
    {
      "cell_type": "markdown",
      "source": [
        "And, last but not least, our fourth participant is the famous Adam optimizer https://arxiv.org/abs/1412.6980"
      ],
      "metadata": {
        "id": "J5ErwGUtQAdP"
      }
    },
    {
      "cell_type": "code",
      "execution_count": 26,
      "metadata": {
        "id": "1t6R3VNrPmao"
      },
      "outputs": [],
      "source": [
        "def adam_session(params, stepsize=0.07, momentum=0.9, steps=300):\n",
        "  opt = qml.AdamOptimizer(stepsize=stepsize, beta1=momentum, beta2=0.99, eps=1e-08)\n",
        "  old_cost = 9999.9999\n",
        "\n",
        "  for i in range(steps):\n",
        "      params = opt.step(cost, params)\n",
        "      new_cost = cost(params)\n",
        "      adam_cost.append(100*(Eg - new_cost)/Eg)\n",
        "\n",
        "      if np.round(old_cost, 5) == np.round(new_cost, 5):\n",
        "          break\n",
        "      else:\n",
        "          old_cost = new_cost\n",
        "  print(\"Adam: Ground energy error after step {:5d}: {: .5f}\".format(i + 1, 100*(Eg - new_cost)/Eg))\n",
        "  return params"
      ]
    },
    {
      "cell_type": "markdown",
      "metadata": {
        "id": "n57iwX99avIo"
      },
      "source": [
        "Now, we are ready to benchmark the four algorithms described above by running the VQE optimization task of the Sherrington-Kirkpatrick model introduced earlier, with the same initial conditions, picked from the random generator with a continuous uniform distribution over the [0.0, 1.0) interval. For Adam, Momentum and Momentum-QNG we take the same momentum=0.9 and for all the four we take the same stepsize=0.5"
      ]
    },
    {
      "cell_type": "code",
      "execution_count": 27,
      "metadata": {
        "colab": {
          "base_uri": "https://localhost:8080/"
        },
        "id": "Y_ABVbKidjFr",
        "outputId": "7ffe8708-74f5-4268-e40c-80c5d8c43f40"
      },
      "outputs": [
        {
          "output_type": "stream",
          "name": "stdout",
          "text": [
            "Exact ground state energy is: -4.2174\n",
            "QNG: Ground energy error after step    50:  30.75399\n",
            "MomentumQNG: Ground energy error after step   106:  0.00137\n",
            "Momentum: Ground energy error after step    71:  0.10423\n",
            "Adam: Ground energy error after step    72:  0.06427\n"
          ]
        }
      ],
      "source": [
        "iterations=300\n",
        "stepsize = 0.5\n",
        "momentum=0.9\n",
        "\n",
        "qng_cost = []\n",
        "momentum_qng_cost = []\n",
        "momentum_cost = []\n",
        "adam_cost = []\n",
        "np.random.seed(seed=12345)\n",
        "num_params = int(N*(N+1)/2)\n",
        "init_params = 0.1*np.random.random(size = num_params)\n",
        "\n",
        "print(f\"Exact ground state energy is: {Eg:.4f}\")\n",
        "params_qng = qng_session(init_params, stepsize, iterations)\n",
        "params_momentum_qng = momentum_qng_session(init_params, stepsize, momentum, iterations)\n",
        "params_momentum = momentum_session(init_params, stepsize, momentum, iterations)\n",
        "params_adam = adam_session(init_params, stepsize, momentum, iterations)"
      ]
    },
    {
      "cell_type": "code",
      "execution_count": 28,
      "metadata": {
        "colab": {
          "base_uri": "https://localhost:8080/",
          "height": 472
        },
        "id": "Nw8fetSGeQw1",
        "outputId": "e032048e-cd3c-4152-bd31-99fe2e4d3c5c"
      },
      "outputs": [
        {
          "output_type": "display_data",
          "data": {
            "text/plain": [
              "<Figure size 640x480 with 1 Axes>"
            ],
            "image/png": "[encoded data removed]"
          },
          "metadata": {}
        }
      ],
      "source": [
        "import matplotlib.pyplot as plt\n",
        "\n",
        "label_1 = 'QNG'\n",
        "label_2 = 'Momentum-QNG'\n",
        "label_3 = 'Momentum'\n",
        "label_4 = 'Adam'\n",
        "\n",
        "plt.plot(qng_cost, color='r', marker='o', linestyle='--', linewidth = 2.0, label=label_1)\n",
        "plt.plot(momentum_qng_cost, color='g', marker='x', linestyle='--', linewidth = 2.0, label=label_2)\n",
        "plt.plot(momentum_cost, color='b', marker='+', linestyle='--', linewidth = 2.0, label=label_3)\n",
        "plt.plot(adam_cost, color='orange', marker='^', linestyle='--', linewidth = 2.0, label=label_4)\n",
        "\n",
        "\n",
        "\n",
        "plt.title('VQE optimization of the Sherrington-Kirkpatrick model')\n",
        "plt.xlabel('Steps')\n",
        "plt.ylabel('Ground energy error (%)')\n",
        "plt.legend(loc='upper right')\n",
        "plt.grid()\n",
        "plt.yscale('log')\n",
        "\n",
        "plt.show()"
      ]
    },
    {
      "cell_type": "markdown",
      "metadata": {
        "id": "auLwOxA5eRQY"
      },
      "source": [
        "One can see that, for the initial conditions chosen, Momentum-QNG achieves the least ground energy error, Momentum and Adam stick to some higher local minima, while the momentumless QNG demonstrates a prominent overfitting behavior. Therefore, combination of the nonzero momentum (or inertial) term, applied in the Momentum algorithm with the quantum metric tensor, applied in the QNG algorithm, can result in a synergetic effect (if you are lucky;-)"
      ]
    },
    {
      "cell_type": "markdown",
      "metadata": {
        "id": "LpKmGrpoi-3i"
      },
      "source": [
        "###Acknowledgement:\n",
        "O.B., M.B. and I.O. have received funding through the EURIZON project, which is funded by the European Union under grant agreement No.871072. I.L. and A.S. acknowledge support by the National Research Foundation of Ukraine, project No. 2023.03/0073."
      ]
    }
  ],
  "metadata": {
    "colab": {
      "provenance": [],
      "include_colab_link": true
    },
    "kernelspec": {
      "display_name": "Python 3 (ipykernel)",
      "language": "python",
      "name": "python3"
    },
    "language_info": {
      "codemirror_mode": {
        "name": "ipython",
        "version": 3
      },
      "file_extension": ".py",
      "mimetype": "text/x-python",
      "name": "python",
      "nbconvert_exporter": "python",
      "pygments_lexer": "ipython3",
      "version": "3.12.4"
    }
  },
  "nbformat": 4,
  "nbformat_minor": 0
}