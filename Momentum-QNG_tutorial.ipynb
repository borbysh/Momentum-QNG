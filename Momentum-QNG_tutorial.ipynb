{
  "nbformat": 4,
  "nbformat_minor": 0,
  "metadata": {
    "colab": {
      "provenance": [],
      "include_colab_link": true
    },
    "kernelspec": {
      "name": "python3",
      "display_name": "Python 3"
    },
    "language_info": {
      "name": "python"
    }
  },
  "cells": [
    {
      "cell_type": "markdown",
      "metadata": {
        "id": "view-in-github",
        "colab_type": "text"
      },
      "source": [
        "<a href=\"https://colab.research.google.com/github/borbysh/Momentum-QNG/blob/main/Momentum-QNG_tutorial.ipynb\" target=\"_parent\"><img src=\"https://colab.research.google.com/assets/colab-badge.svg\" alt=\"Open In Colab\"/></a>"
      ]
    },
    {
      "cell_type": "markdown",
      "source": [
        "# Meet the Quantum Natural Gradient with Momentum (Momentum-QNG) Optimizer\n",
        "https://arxiv.org/abs/2409.01978\n",
        "\n",
        "## Oleksandr Borysenko, Mykhailo Bratchenko, Ilya Lukin, Mykola Luhanko, Ihor Omelchenko, Andrii Sotnikov and Alessandro Lomi\n",
        "\n",
        "### 4 min in Colab\n",
        "\n",
        "<img src=\"https://github.com/borbysh/Momentum-QNG/blob/main/Santa.png?raw=1\" width=384 height=512 />\n",
        "\n",
        "A Quantum Natural Gradient (QNG) algorithm for optimization of variational quantum circuits has been proposed recently https://quantum-journal.org/papers/q-2020-05-25-269/. In this tutorial, we demonstrate the usage of our new Quantum Natural Gradient with Momentum (Momentum-QNG) optimization algorithm https://arxiv.org/abs/2409.01978. We derived it from the discrete-time Langevin dynamics for a virtual particle in the space of variational parameters. The particle is subject to the QNG force and viscous friction, which results into an additional momentum (inertial) term in the optimizer, compared to the QNG one:\n",
        "\n",
        "$\\Delta \\theta_{n+1} = \\rho \\Delta \\theta_{n} - \\eta \\cdot g^{-1}({\\theta_n}) \\nabla \\mathcal{L}(\\theta_n),$\n",
        "\n",
        "where $\\Delta \\theta_n$ is a vector of variational parameters' updates at step $n$, $\\rho$ is a momentum coefficient, $\\eta$ is a learning rate, $g^{-1}({\\theta})$ is an inverse of the Quantum Metric Tensor in the variational parameters' space and $\\nabla \\mathcal{L}(\\theta)$ is a vector of gradients of the cost function.\n",
        "\n",
        " Similar to other optimization algorithms with the momentum term, such as the Stochastic Gradient Descent with momentum (Momentum) https://www.nature.com/articles/323533a0, Momentum-QNG is more effective to escape local minima and plateaus in the variational parameter space and, therefore, achieves a better convergence behavior, compared to the basic QNG.\n",
        "\n",
        " Below we present a short demo, which illustrates a practical application and benchmarking of our Momentum-QNG optimizer"
      ],
      "metadata": {
        "id": "-creSdlQPdYC"
      }
    },
    {
      "cell_type": "code",
      "execution_count": null,
      "metadata": {
        "colab": {
          "base_uri": "https://localhost:8080/"
        },
        "id": "8AZzBYG3JqA3",
        "outputId": "3716f33d-e109-4e80-a6f4-1f2eefe0af0e"
      },
      "outputs": [
        {
          "output_type": "stream",
          "name": "stdout",
          "text": [
            "Collecting pennylane\n",
            "  Downloading PennyLane-0.39.0-py3-none-any.whl.metadata (9.2 kB)\n",
            "Requirement already satisfied: numpy<2.1 in /usr/local/lib/python3.10/dist-packages (from pennylane) (1.26.4)\n",
            "Requirement already satisfied: scipy in /usr/local/lib/python3.10/dist-packages (from pennylane) (1.13.1)\n",
            "Requirement already satisfied: networkx in /usr/local/lib/python3.10/dist-packages (from pennylane) (3.4.2)\n",
            "Collecting rustworkx>=0.14.0 (from pennylane)\n",
            "  Downloading rustworkx-0.15.1-cp38-abi3-manylinux_2_17_x86_64.manylinux2014_x86_64.whl.metadata (9.9 kB)\n",
            "Requirement already satisfied: autograd in /usr/local/lib/python3.10/dist-packages (from pennylane) (1.7.0)\n",
            "Requirement already satisfied: toml in /usr/local/lib/python3.10/dist-packages (from pennylane) (0.10.2)\n",
            "Collecting appdirs (from pennylane)\n",
            "  Downloading appdirs-1.4.4-py2.py3-none-any.whl.metadata (9.0 kB)\n",
            "Collecting autoray>=0.6.11 (from pennylane)\n",
            "  Downloading autoray-0.7.0-py3-none-any.whl.metadata (5.8 kB)\n",
            "Requirement already satisfied: cachetools in /usr/local/lib/python3.10/dist-packages (from pennylane) (5.5.0)\n",
            "Collecting pennylane-lightning>=0.39 (from pennylane)\n",
            "  Downloading PennyLane_Lightning-0.39.0-cp310-cp310-manylinux_2_28_x86_64.whl.metadata (26 kB)\n",
            "Requirement already satisfied: requests in /usr/local/lib/python3.10/dist-packages (from pennylane) (2.32.3)\n",
            "Requirement already satisfied: typing-extensions in /usr/local/lib/python3.10/dist-packages (from pennylane) (4.12.2)\n",
            "Requirement already satisfied: packaging in /usr/local/lib/python3.10/dist-packages (from pennylane) (24.2)\n",
            "Requirement already satisfied: charset-normalizer<4,>=2 in /usr/local/lib/python3.10/dist-packages (from requests->pennylane) (3.4.0)\n",
            "Requirement already satisfied: idna<4,>=2.5 in /usr/local/lib/python3.10/dist-packages (from requests->pennylane) (3.10)\n",
            "Requirement already satisfied: urllib3<3,>=1.21.1 in /usr/local/lib/python3.10/dist-packages (from requests->pennylane) (2.2.3)\n",
            "Requirement already satisfied: certifi>=2017.4.17 in /usr/local/lib/python3.10/dist-packages (from requests->pennylane) (2024.8.30)\n",
            "Downloading PennyLane-0.39.0-py3-none-any.whl (1.9 MB)\n",
            "\u001b[2K   \u001b[90m━━━━━━━━━━━━━━━━━━━━━━━━━━━━━━━━━━━━━━━━\u001b[0m \u001b[32m1.9/1.9 MB\u001b[0m \u001b[31m24.1 MB/s\u001b[0m eta \u001b[36m0:00:00\u001b[0m\n",
            "\u001b[?25hDownloading autoray-0.7.0-py3-none-any.whl (930 kB)\n",
            "\u001b[2K   \u001b[90m━━━━━━━━━━━━━━━━━━━━━━━━━━━━━━━━━━━━━━━━\u001b[0m \u001b[32m930.0/930.0 kB\u001b[0m \u001b[31m43.8 MB/s\u001b[0m eta \u001b[36m0:00:00\u001b[0m\n",
            "\u001b[?25hDownloading PennyLane_Lightning-0.39.0-cp310-cp310-manylinux_2_28_x86_64.whl (1.7 MB)\n",
            "\u001b[2K   \u001b[90m━━━━━━━━━━━━━━━━━━━━━━━━━━━━━━━━━━━━━━━━\u001b[0m \u001b[32m1.7/1.7 MB\u001b[0m \u001b[31m62.8 MB/s\u001b[0m eta \u001b[36m0:00:00\u001b[0m\n",
            "\u001b[?25hDownloading rustworkx-0.15.1-cp38-abi3-manylinux_2_17_x86_64.manylinux2014_x86_64.whl (2.0 MB)\n",
            "\u001b[2K   \u001b[90m━━━━━━━━━━━━━━━━━━━━━━━━━━━━━━━━━━━━━━━━\u001b[0m \u001b[32m2.0/2.0 MB\u001b[0m \u001b[31m69.6 MB/s\u001b[0m eta \u001b[36m0:00:00\u001b[0m\n",
            "\u001b[?25hDownloading appdirs-1.4.4-py2.py3-none-any.whl (9.6 kB)\n",
            "Installing collected packages: appdirs, rustworkx, autoray, pennylane-lightning, pennylane\n",
            "Successfully installed appdirs-1.4.4 autoray-0.7.0 pennylane-0.39.0 pennylane-lightning-0.39.0 rustworkx-0.15.1\n"
          ]
        }
      ],
      "source": [
        "%pip install pennylane"
      ]
    },
    {
      "cell_type": "code",
      "source": [
        "import pennylane as qml\n",
        "from pennylane import numpy as np"
      ],
      "metadata": {
        "id": "h1u1Dos2KZNw"
      },
      "execution_count": null,
      "outputs": []
    },
    {
      "cell_type": "markdown",
      "source": [
        "To illustrate the performance of our new optimizer, let's consider the VQE optimization problem aimed to minimize the ground state energy expectation value:\n",
        "\n",
        "$E(\\theta) = \\langle 0| U^{\\dagger}(\\theta) H U(\\theta)|0\\rangle$,\n",
        "\n",
        "where $H$ is a Hamiltonian operator, and $U(\\theta)$ is a parametrized unitary matrix.\n",
        "\n",
        "Consider the $N$-qubit quantum Sherrington-Kirckpatrick (SK) model in the transverse field, defined by the following Hamiltonian:\n",
        "\n",
        "$H = \\sum_{(ij)} J_{ij} \\sigma_{i}^{z} \\sigma_{j}^{z} -g \\sum_{i} \\sigma_{i}^{x}$,\n",
        "\n",
        "where the first sum is taken over all pairs of sites $(ij)$ and $J_{ij} = \\mathcal{N}(0, 1)/ \\sqrt{N}$ are sampled from the normal distribution with zero mean and $1/N$ variance. At small $g < 1.5$ the model is generally in the localized spin glass phase. At large $g$ the model becomes paramagnetic in the $x$ direction.\n",
        "\n",
        "To make an off-road test drive for the optimizers, we are going to search for the ground state in the spin glass regime ($g=1.2$), when the energy landscape  contains local minima.\n",
        "\n",
        "For the recent discussion of the quantum SK model and its ground state ansatzes see P. M. Schindler, T. Guaita, T. Shi, E. Demler, and J. I. Cirac, Variational Ansatz for the Ground State of the Quantum Sherrington-Kirkpatrick Model\n",
        " https://journals.aps.org/prl/abstract/10.1103/PhysRevLett.129.220401"
      ],
      "metadata": {
        "id": "usSxi20a6QfY"
      }
    },
    {
      "cell_type": "code",
      "source": [
        "# define parameters in H\n",
        "N = 8      #number of qubits\n",
        "rng = np.random.default_rng(seed=1)\n",
        "g = 1.2    #Coupling of the transverse field\n",
        "ZZ = [qml.PauliZ(i)@qml.PauliZ(j) for i in range(N) for j in range(i+1,N)]\n",
        "ZZ_coeff = [rng.normal()/np.sqrt(N) for i in range(N) for j in range(i+1,N)]\n",
        "X = [qml.PauliX(i) for i in range(N)]\n",
        "X_coeff = [-g for i in range(N)]\n",
        "# Construct the Hamiltonian\n",
        "obs = ZZ + X\n",
        "coeffs = ZZ_coeff + X_coeff\n",
        "H = qml.Hamiltonian(coeffs, obs, grouping_type=\"qwc\")"
      ],
      "metadata": {
        "id": "myQtE1nvLCcf"
      },
      "execution_count": null,
      "outputs": []
    },
    {
      "cell_type": "markdown",
      "source": [
        "The model Hamiltonian is real-valued. Therefore, the wave function ansatz can also be chosen real, consisting only from RY and CNOT gates. As the model contains all-to-all interations, arbitrary pairs of qubits may be potentially entangled. Such an entanglement can be built by application of RY and CNOT gate on the corresponding pair of qubits.\n",
        "\n",
        "Our ansatz consists of two layers. First, RY and CNOT are applied on every pair of qubits. Second, additional RY rotations are applied on every qubit.\n",
        "\n"
      ],
      "metadata": {
        "id": "XNrwvnyU9o-p"
      }
    },
    {
      "cell_type": "code",
      "source": [
        "def ansatz(params, qubits):\n",
        "    pair = 0\n",
        "    for i in range(qubits-1):\n",
        "        for j in range(i+1, qubits):\n",
        "            qml.RY(params[pair], wires = i)\n",
        "            qml.CNOT(wires=[i, j])\n",
        "            pair += 1\n",
        "    for q in range(qubits):\n",
        "        qml.RY(params[pair+q], wires = q)"
      ],
      "metadata": {
        "id": "nY1lkTcBLduO"
      },
      "execution_count": null,
      "outputs": []
    },
    {
      "cell_type": "code",
      "source": [
        "dev = qml.device(\"default.qubit\", wires=N)\n",
        "@qml.qnode(dev)\n",
        "def cost(x):\n",
        "    ansatz(x, qubits=N)\n",
        "    return qml.expval(H)"
      ],
      "metadata": {
        "id": "dOZd79HeE_yu"
      },
      "execution_count": null,
      "outputs": []
    },
    {
      "cell_type": "markdown",
      "source": [
        "With the Hamiltomian parameters defined, we are able to calculate the exact ground state energy, to be used below to assess our optimized values:"
      ],
      "metadata": {
        "id": "rDBsnurEUU14"
      }
    },
    {
      "cell_type": "code",
      "source": [
        "Eg = H.eigendecomposition['eigval'][0]"
      ],
      "metadata": {
        "id": "lY5NYRYG4Sq3"
      },
      "execution_count": null,
      "outputs": []
    },
    {
      "cell_type": "markdown",
      "source": [
        "Now, we are going to benchmark the performance of three different optimization algorithms. Our first participant is the Quantum Natural Gradient (QNG) optimizer https://quantum-journal.org/papers/q-2020-05-25-269/"
      ],
      "metadata": {
        "id": "VRjrl6OGVagT"
      }
    },
    {
      "cell_type": "code",
      "source": [
        "def qng_session(params, stepsize=0.07, steps=300):\n",
        "  opt = qml.QNGOptimizer(stepsize=stepsize)\n",
        "  old_cost = 9999.9999\n",
        "\n",
        "  for i in range(steps):\n",
        "      params = opt.step(cost, params)\n",
        "      new_cost = cost(params)\n",
        "      qng_cost.append(new_cost)\n",
        "\n",
        "      if np.round(old_cost, 4) == np.round(new_cost, 4):\n",
        "          break\n",
        "      else:\n",
        "          old_cost = new_cost\n",
        "  print(\"QNG: Cost after step {:5d}: {: .4f}\".format(i + 1, new_cost))\n",
        "  return params"
      ],
      "metadata": {
        "id": "zkZCJAWBc5Kl"
      },
      "execution_count": null,
      "outputs": []
    },
    {
      "cell_type": "markdown",
      "source": [
        "Our second participant is a modified version of the former, namely the Quantum Natural Gradient with Momentum (Momentum-QNG) optimizer https://arxiv.org/abs/2409.01978, which we introduced above."
      ],
      "metadata": {
        "id": "hzKBg2ZxYbEu"
      }
    },
    {
      "cell_type": "code",
      "source": [
        "def momentum_qng_session(params, stepsize=0.07, momentum=0.9, steps=300):\n",
        "  opt = qml.MomentumQNGOptimizer(stepsize=stepsize, momentum=momentum)\n",
        "  old_cost = 9999.9999\n",
        "\n",
        "  for i in range(steps):\n",
        "      params = opt.step(cost, params)\n",
        "      new_cost = cost(params)\n",
        "      momentum_qng_cost.append(new_cost)\n",
        "\n",
        "      if np.round(old_cost, 4) == np.round(new_cost, 4):\n",
        "          break\n",
        "      else:\n",
        "          old_cost = new_cost\n",
        "  print(\"MomentumQNG: Cost after step {:5d}: {: .4f}\".format(i + 1, new_cost))\n",
        "  return params"
      ],
      "metadata": {
        "id": "qkLeU-Gwc7ib"
      },
      "execution_count": null,
      "outputs": []
    },
    {
      "cell_type": "markdown",
      "source": [
        "And, last but not least, our third participant is the famous Gradient Descent with Momentum (Momentum) optimizer https://www.nature.com/articles/323533a0"
      ],
      "metadata": {
        "id": "LPNYg0I5Z1zy"
      }
    },
    {
      "cell_type": "code",
      "source": [
        "def momentum_session(params, stepsize=0.07, momentum=0.9, steps=300):\n",
        "  opt = qml.MomentumOptimizer(stepsize=stepsize, momentum=momentum)\n",
        "  old_cost = 9999.9999\n",
        "\n",
        "  for i in range(steps):\n",
        "      params = opt.step(cost, params)\n",
        "      new_cost = cost(params)\n",
        "      momentum_cost.append(new_cost)\n",
        "\n",
        "      if np.round(old_cost, 4) == np.round(new_cost, 4):\n",
        "          break\n",
        "      else:\n",
        "          old_cost = new_cost\n",
        "  print(\"Momentum: Cost after step {:5d}: {: .4f}\".format(i + 1, new_cost))\n",
        "  return params"
      ],
      "metadata": {
        "id": "fcVUNL0_dFh4"
      },
      "execution_count": null,
      "outputs": []
    },
    {
      "cell_type": "markdown",
      "source": [
        "Now, we are ready to benchmark the three algorithms described above by running the VQE optimization task of the Sherrington-Kirkpatrick model introduced earlier, with the same initial conditions, picked from the random generator with Gaussian distribution with zero mean. For both Momentum and Momentum-QNG we take the same momentum=0.9 and for all the three we take the same stepsize=0.005"
      ],
      "metadata": {
        "id": "n57iwX99avIo"
      }
    },
    {
      "cell_type": "code",
      "source": [
        "iterations=250\n",
        "stepsize = 0.005\n",
        "momentum=0.9\n",
        "\n",
        "qng_cost = []\n",
        "momentum_qng_cost = []\n",
        "momentum_cost = []\n",
        "\n",
        "num_params = int(N*(N+1)/2)\n",
        "init_params = 0.1*rng.normal(size = num_params)\n",
        "\n",
        "print(f\"Exact ground state energy is: {Eg:.4f}\")\n",
        "params_qng = qng_session(init_params, stepsize, iterations)\n",
        "params_momentum_qng = momentum_qng_session(init_params, stepsize, momentum, iterations)\n",
        "params_momentum = momentum_session(init_params, stepsize, momentum, iterations)"
      ],
      "metadata": {
        "colab": {
          "base_uri": "https://localhost:8080/"
        },
        "id": "Y_ABVbKidjFr",
        "outputId": "bff992b1-521e-4cf7-b748-15d5022e5874"
      },
      "execution_count": null,
      "outputs": [
        {
          "output_type": "stream",
          "name": "stdout",
          "text": [
            "Exact ground state energy is: -10.1909\n",
            "QNG: Cost after step   250: -10.1676\n",
            "MomentumQNG: Cost after step    84: -10.1804\n",
            "Momentum: Cost after step   128: -10.1787\n"
          ]
        }
      ]
    },
    {
      "cell_type": "code",
      "source": [
        "import matplotlib.pyplot as plt\n",
        "\n",
        "label_1 = 'QNG'\n",
        "label_2 = 'Momentum-QNG'\n",
        "label_3 = 'Momentum'\n",
        "\n",
        "plt.plot(qng_cost, color='r', marker='o', linestyle='--', linewidth = 2.0, label=label_1)\n",
        "plt.plot(momentum_qng_cost, color='g', marker='x', linestyle='--', linewidth = 2.0, label=label_2)\n",
        "plt.plot(momentum_cost, color='b', marker='+', linestyle='--', linewidth = 2.0, label=label_3)\n",
        "\n",
        "\n",
        "\n",
        "plt.title('VQE optimization of the Sherrington-Kirkpatrick model')\n",
        "plt.xlabel('Steps')\n",
        "plt.ylabel('Cost')\n",
        "plt.legend(loc='upper right')\n",
        "plt.grid()\n",
        "\n",
        "plt.show()"
      ],
      "metadata": {
        "colab": {
          "base_uri": "https://localhost:8080/",
          "height": 472
        },
        "id": "Nw8fetSGeQw1",
        "outputId": "878716ff-5a36-4e73-83ac-f378121f932c"
      },
      "execution_count": null,
      "outputs": [
        {
          "output_type": "display_data",
          "data": {
            "text/plain": [
              "<Figure size 640x480 with 1 Axes>"
            ],
            "image/png": "[encoded data removed]"
          },
          "metadata": {}
        }
      ]
    },
    {
      "cell_type": "markdown",
      "source": [
        "One can see that Momentum-QNG chooses the steepest descent path, passes the local minimum and climbs the barrier before converging in some shallow local minimum very close to the global one. On the contrary, both QNG and Momentum choose less steep, but convex descent path, which results in somewhat longer convergence story. Therefore, combination of the nonzero momentum (or inertial) term, applied in the Momentum algorithm with the quantum metric tensor, applied in the QNG algorithm, can result in a synergetic effect (if you are lucky;-)"
      ],
      "metadata": {
        "id": "auLwOxA5eRQY"
      }
    },
    {
      "cell_type": "markdown",
      "source": [
        "###Acknowledgement:\n",
        "O.B., M.B. and I.O. have received funding through the EURIZON project, which is funded by the European Union under grant agreement No.871072. I.L. and A.S. acknowledge support by the National Research Foundation of Ukraine, project No. 2023.03/0073."
      ],
      "metadata": {
        "id": "LpKmGrpoi-3i"
      }
    }
  ]
}