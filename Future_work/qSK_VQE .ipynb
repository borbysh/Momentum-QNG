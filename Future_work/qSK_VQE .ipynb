{
  "nbformat": 4,
  "nbformat_minor": 0,
  "metadata": {
    "colab": {
      "provenance": [],
      "include_colab_link": true
    },
    "kernelspec": {
      "name": "python3",
      "display_name": "Python 3"
    },
    "language_info": {
      "name": "python"
    }
  },
  "cells": [
    {
      "cell_type": "markdown",
      "metadata": {
        "id": "view-in-github",
        "colab_type": "text"
      },
      "source": [
        "<a href=\"https://colab.research.google.com/github/borbysh/Momentum-QNG/blob/main/Future_work/qSK_VQE%20.ipynb\" target=\"_parent\"><img src=\"https://colab.research.google.com/assets/colab-badge.svg\" alt=\"Open In Colab\"/></a>"
      ]
    },
    {
      "cell_type": "code",
      "execution_count": null,
      "metadata": {
        "colab": {
          "base_uri": "https://localhost:8080/"
        },
        "id": "8AZzBYG3JqA3",
        "outputId": "0c2079b5-aece-4708-ce43-50a62a7d4444"
      },
      "outputs": [
        {
          "output_type": "stream",
          "name": "stdout",
          "text": [
            "Requirement already satisfied: pennylane in /usr/local/lib/python3.10/dist-packages (0.39.0)\n",
            "Requirement already satisfied: numpy<2.1 in /usr/local/lib/python3.10/dist-packages (from pennylane) (1.26.4)\n",
            "Requirement already satisfied: scipy in /usr/local/lib/python3.10/dist-packages (from pennylane) (1.13.1)\n",
            "Requirement already satisfied: networkx in /usr/local/lib/python3.10/dist-packages (from pennylane) (3.4.2)\n",
            "Requirement already satisfied: rustworkx>=0.14.0 in /usr/local/lib/python3.10/dist-packages (from pennylane) (0.15.1)\n",
            "Requirement already satisfied: autograd in /usr/local/lib/python3.10/dist-packages (from pennylane) (1.7.0)\n",
            "Requirement already satisfied: toml in /usr/local/lib/python3.10/dist-packages (from pennylane) (0.10.2)\n",
            "Requirement already satisfied: appdirs in /usr/local/lib/python3.10/dist-packages (from pennylane) (1.4.4)\n",
            "Requirement already satisfied: autoray>=0.6.11 in /usr/local/lib/python3.10/dist-packages (from pennylane) (0.7.0)\n",
            "Requirement already satisfied: cachetools in /usr/local/lib/python3.10/dist-packages (from pennylane) (5.5.0)\n",
            "Requirement already satisfied: pennylane-lightning>=0.39 in /usr/local/lib/python3.10/dist-packages (from pennylane) (0.39.0)\n",
            "Requirement already satisfied: requests in /usr/local/lib/python3.10/dist-packages (from pennylane) (2.32.3)\n",
            "Requirement already satisfied: typing-extensions in /usr/local/lib/python3.10/dist-packages (from pennylane) (4.12.2)\n",
            "Requirement already satisfied: packaging in /usr/local/lib/python3.10/dist-packages (from pennylane) (24.1)\n",
            "Requirement already satisfied: charset-normalizer<4,>=2 in /usr/local/lib/python3.10/dist-packages (from requests->pennylane) (3.4.0)\n",
            "Requirement already satisfied: idna<4,>=2.5 in /usr/local/lib/python3.10/dist-packages (from requests->pennylane) (3.10)\n",
            "Requirement already satisfied: urllib3<3,>=1.21.1 in /usr/local/lib/python3.10/dist-packages (from requests->pennylane) (2.2.3)\n",
            "Requirement already satisfied: certifi>=2017.4.17 in /usr/local/lib/python3.10/dist-packages (from requests->pennylane) (2024.8.30)\n"
          ]
        }
      ],
      "source": [
        "%pip install pennylane"
      ]
    },
    {
      "cell_type": "code",
      "source": [
        "import pennylane as qml\n",
        "from pennylane import numpy as np"
      ],
      "metadata": {
        "id": "h1u1Dos2KZNw"
      },
      "execution_count": null,
      "outputs": []
    },
    {
      "cell_type": "markdown",
      "source": [
        "We are studying VQE optimization problem defined as minimization of Hamiltonian expectation value:\n",
        "\n",
        "$E(\\theta) = \\langle 0| U^{\\dagger}(\\theta) H U(\\theta)|0\\rangle$,\n",
        "\n",
        "where $H$ is a Hamiltonian operator, and $U(\\theta)$ is a parametrized unitary matrix.\n",
        "\n",
        "We study here the $N$-qubit quantum Sherrington-Kickpatrick model in the transverse field. It is defined by the following Hamiltonian:\n",
        "\n",
        "$H = \\sum_{(ij)} J_{ij} \\sigma_{i}^{z} \\sigma_{j}^{z} -g \\sum_{i} \\sigma_{i}^{x}$,\n",
        "\n",
        "where the first sum if over all pairs of sites $(ij)$ and $J_{ij} = \\mathcal{N}(0, 1)/ \\sqrt{N}$ are sampled from the normal distribution with zero mean and $1/N$ variance. At small $g < 1.5$ the model is generally in the localized spin glass phase. At large $g$ the model becomes paramagnetic in the $x$ direction.\n",
        "\n",
        "We would search for the model ground state in the glass regime, where there is a potential for local minimas in the energy landscape due to localization.\n",
        "\n",
        "For the recent discussion of the model physics and of potential ground state ansatzes see P. M. Schindler, T. Guaita, T. Shi, E. Demler, and J. I. Cirac, Variational Ansatz for the Ground State of the Quantum Sherrington-Kirkpatrick Model\n",
        " https://journals.aps.org/prl/abstract/10.1103/PhysRevLett.129.220401"
      ],
      "metadata": {
        "id": "usSxi20a6QfY"
      }
    },
    {
      "cell_type": "code",
      "source": [
        "# define parameters in H\n",
        "N = 8      #number of qubits\n",
        "rng = np.random.default_rng(seed=1)\n",
        "g = 1.2    #Coupling of the transverse field\n",
        "ZZ = [qml.PauliZ(i)@qml.PauliZ(j) for i in range(N) for j in range(i+1,N)]\n",
        "ZZ_coeff = [rng.normal()/np.sqrt(N) for i in range(N) for j in range(i+1,N)]\n",
        "X = [qml.PauliX(i) for i in range(N)]\n",
        "X_coeff = [-g for i in range(N)]\n",
        "# Construct the Hamiltonian\n",
        "obs = ZZ + X\n",
        "coeffs = ZZ_coeff + X_coeff\n",
        "H = qml.Hamiltonian(coeffs, obs, grouping_type=\"qwc\")"
      ],
      "metadata": {
        "id": "myQtE1nvLCcf"
      },
      "execution_count": null,
      "outputs": []
    },
    {
      "cell_type": "markdown",
      "source": [
        "The model Hamiltonian is real valued. Hence, the wave function ansatz can be also chosen to be real, consisting only from RY and CNOT gates. As the model contains all-to-all interations, arbitrary pairs of qubits may be potentially entangled.\n",
        "Such an entanglement can be potentially built by application of RY and CNOT gate on the corresponding pair of qubits.\n",
        "\n",
        "Our ansatz consists of two layers. First, RY and CNOT are applied on every pair of qubits. Second, additional RY rotations are applied on every qubit.\n",
        "\n"
      ],
      "metadata": {
        "id": "XNrwvnyU9o-p"
      }
    },
    {
      "cell_type": "code",
      "source": [
        "def ansatz(params, qubits):\n",
        "    pair = 0\n",
        "    for i in range(qubits-1):\n",
        "        for j in range(i+1, qubits):\n",
        "            qml.RY(params[pair], wires = i)\n",
        "            qml.CNOT(wires=[i, j])\n",
        "            pair += 1\n",
        "    for q in range(qubits):\n",
        "        qml.RY(params[pair+q], wires = q)"
      ],
      "metadata": {
        "id": "nY1lkTcBLduO"
      },
      "execution_count": null,
      "outputs": []
    },
    {
      "cell_type": "code",
      "source": [
        "dev = qml.device(\"default.qubit\", wires=N)\n",
        "@qml.qnode(dev)\n",
        "def cost(x):\n",
        "    ansatz(x, qubits=N)\n",
        "    return qml.expval(H)"
      ],
      "metadata": {
        "id": "dOZd79HeE_yu"
      },
      "execution_count": null,
      "outputs": []
    },
    {
      "cell_type": "markdown",
      "source": [
        "With the Hamiltomian parameters defined, we are able to calculate the exact ground state energy, to be used below to assess our optimized values:"
      ],
      "metadata": {
        "id": "rDBsnurEUU14"
      }
    },
    {
      "cell_type": "code",
      "source": [
        "Eg = H.eigendecomposition['eigval'][0]"
      ],
      "metadata": {
        "id": "lY5NYRYG4Sq3"
      },
      "execution_count": null,
      "outputs": []
    },
    {
      "cell_type": "markdown",
      "source": [
        "Now, we are going to benchmark the performance of three different optimization algorithms. Our first participant is the Quantum Natural Gradient (QNG) optimizer https://quantum-journal.org/papers/q-2020-05-25-269/"
      ],
      "metadata": {
        "id": "VRjrl6OGVagT"
      }
    },
    {
      "cell_type": "code",
      "source": [
        "def qng_session(params, stepsize=0.07, steps=300):\n",
        "  opt = qml.QNGOptimizer(stepsize=stepsize)\n",
        "  old_cost = 9999.999999\n",
        "\n",
        "  for i in range(steps):\n",
        "      params = opt.step(cost, params)\n",
        "      obj_value = cost(params)\n",
        "      qng_cost.append(obj_value)\n",
        "\n",
        "      if np.round(old_cost, 4) == np.round(obj_value, 4):\n",
        "          break\n",
        "      else:\n",
        "          old_cost = obj_value\n",
        "  print(\"QNG: Cost after step {:5d}: {: .4f}\".format(i + 1, obj_value))\n",
        "  return params"
      ],
      "metadata": {
        "id": "zkZCJAWBc5Kl"
      },
      "execution_count": null,
      "outputs": []
    },
    {
      "cell_type": "markdown",
      "source": [
        "Our second participant is a modified version of the former, namely the Quantum Natural Gradient with Momentum (Momentum-QNG) optimizer https://arxiv.org/abs/2409.01978. This algorithm is a solution of the discrete-time Langevin equation for a virtual particle subject to QNG force in the space of variational parameters."
      ],
      "metadata": {
        "id": "hzKBg2ZxYbEu"
      }
    },
    {
      "cell_type": "code",
      "source": [
        "def momentum_qng_session(params, stepsize=0.07, momentum=0.9, steps=300):\n",
        "  opt = qml.MomentumQNGOptimizer(stepsize=stepsize, momentum=momentum)\n",
        "  old_cost = 9999.999999\n",
        "\n",
        "  for i in range(steps):\n",
        "      params = opt.step(cost, params)\n",
        "      obj_value = cost(params)\n",
        "      momentum_qng_cost.append(obj_value)\n",
        "\n",
        "      if np.round(old_cost, 4) == np.round(obj_value, 4):\n",
        "          break\n",
        "      else:\n",
        "          old_cost = obj_value\n",
        "  print(\"MomentumQNG: Cost after step {:5d}: {: .4f}\".format(i + 1, obj_value))\n",
        "  return params"
      ],
      "metadata": {
        "id": "qkLeU-Gwc7ib"
      },
      "execution_count": null,
      "outputs": []
    },
    {
      "cell_type": "markdown",
      "source": [
        "And, last but not least, our third participant is the famous Gradient Descent with Momentum (Momentum) optimizer https://www.nature.com/articles/323533a0"
      ],
      "metadata": {
        "id": "LPNYg0I5Z1zy"
      }
    },
    {
      "cell_type": "code",
      "source": [
        "def momentum_session(params, stepsize=0.07, momentum=0.9, steps=300):\n",
        "  opt = qml.MomentumOptimizer(stepsize=stepsize, momentum=momentum)\n",
        "  old_cost = 9999.999999\n",
        "\n",
        "  for i in range(steps):\n",
        "      params = opt.step(cost, params)\n",
        "      obj_value = cost(params)\n",
        "      momentum_cost.append(obj_value)\n",
        "\n",
        "      if np.round(old_cost, 4) == np.round(obj_value, 4):\n",
        "          break\n",
        "      else:\n",
        "          old_cost = obj_value\n",
        "  print(\"Momentum: Cost after step {:5d}: {: .4f}\".format(i + 1, obj_value))\n",
        "  return params"
      ],
      "metadata": {
        "id": "fcVUNL0_dFh4"
      },
      "execution_count": null,
      "outputs": []
    },
    {
      "cell_type": "markdown",
      "source": [
        "Now, we are ready to benchmark the three algorithms described above by running the VQE optimization task of the Sherrington-Kirkpatrick model introduced earlier, with the same initial conditions, picked from np.random.default_rng(seed=1). For both Momentum and Momentum-QNG we take the same momentum=0.9 and for all the three we take the same stepsize=0.005"
      ],
      "metadata": {
        "id": "n57iwX99avIo"
      }
    },
    {
      "cell_type": "code",
      "source": [
        "iterations=250\n",
        "stepsize = 0.005\n",
        "momentum=0.9\n",
        "\n",
        "qng_cost = []\n",
        "momentum_qng_cost = []\n",
        "momentum_cost = []\n",
        "\n",
        "num_params = int(N*(N+1)/2)\n",
        "init_params = 0.1*rng.normal(size = num_params)\n",
        "\n",
        "print(f\"Exact ground state energy is: {Eg:.4f}\")\n",
        "params_qng = qng_session(init_params, stepsize, iterations)\n",
        "params_momentum_qng = momentum_qng_session(init_params, stepsize, momentum, iterations)\n",
        "params_momentum = momentum_session(init_params, stepsize, momentum, iterations)"
      ],
      "metadata": {
        "colab": {
          "base_uri": "https://localhost:8080/"
        },
        "id": "Y_ABVbKidjFr",
        "outputId": "3b1e52e8-1b0d-48c9-a7a0-2c3e4661cede"
      },
      "execution_count": null,
      "outputs": [
        {
          "output_type": "stream",
          "name": "stdout",
          "text": [
            "Exact ground state energy is -10.1909\n",
            "QNG: Cost after step   250: -10.1648\n",
            "MomentumQNG: Cost after step    56: -10.1606\n",
            "Momentum: Cost after step   129: -10.1787\n"
          ]
        }
      ]
    },
    {
      "cell_type": "code",
      "source": [
        "import matplotlib.pyplot as plt\n",
        "\n",
        "label_1 = 'QNG'\n",
        "label_2 = 'Momentum-QNG'\n",
        "label_3 = 'Momentum'\n",
        "\n",
        "plt.plot(qng_cost, color='r', marker='o', linestyle='--', linewidth = 2.0, label=label_1)\n",
        "plt.plot(momentum_qng_cost, color='g', marker='x', linestyle='--', linewidth = 2.0, label=label_2)\n",
        "plt.plot(momentum_cost, color='b', marker='+', linestyle='--', linewidth = 2.0, label=label_3)\n",
        "\n",
        "\n",
        "\n",
        "plt.title('VQE optimization of the Sherrington-Kirkpatrick model')\n",
        "plt.xlabel('Steps')\n",
        "plt.ylabel('Cost')\n",
        "plt.legend(loc='upper right')\n",
        "plt.grid()\n",
        "\n",
        "plt.show()"
      ],
      "metadata": {
        "colab": {
          "base_uri": "https://localhost:8080/",
          "height": 472
        },
        "id": "Nw8fetSGeQw1",
        "outputId": "22c4c295-16ef-45b9-fd64-9a5a90b8f2bb"
      },
      "execution_count": null,
      "outputs": [
        {
          "output_type": "display_data",
          "data": {
            "text/plain": [
              "<Figure size 640x480 with 1 Axes>"
            ],
            "image/png": "[encoded data removed]"
          },
          "metadata": {}
        }
      ]
    },
    {
      "cell_type": "markdown",
      "source": [
        "One can see that Momentum-QNG chooses the steepest descent path, passes the local minimum and climbs the barrier before converging in some shallow local minimum very close to the global one. On the contrary, both QNG and Momentum choose less steep, but convex descent path, which results in somewhat longer convergence story. Therefore, combination of the nonzero momentum (or inertial) term, applied in the Momentum algorithm with the quantum metric tensor, applied in the QNG algorithm, can result in a synergetic effect (if you are lucky;-)"
      ],
      "metadata": {
        "id": "auLwOxA5eRQY"
      }
    }
  ]
}