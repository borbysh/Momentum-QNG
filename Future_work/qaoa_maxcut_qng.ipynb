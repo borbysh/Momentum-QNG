{
  "cells": [
    {
      "cell_type": "markdown",
      "metadata": {
        "id": "view-in-github",
        "colab_type": "text"
      },
      "source": [
        "<a href=\"https://colab.research.google.com/github/borbysh/Momentum-QNG/blob/main/Future_work/qaoa_maxcut_qng.ipynb\" target=\"_parent\"><img src=\"https://colab.research.google.com/assets/colab-badge.svg\" alt=\"Open In Colab\"/></a>"
      ]
    },
    {
      "cell_type": "code",
      "execution_count": 1,
      "metadata": {
        "colab": {
          "base_uri": "https://localhost:8080/"
        },
        "id": "zJM9YmphTu24",
        "outputId": "aa208ac3-1732-43ec-c361-8b71d263cb52"
      },
      "outputs": [
        {
          "output_type": "stream",
          "name": "stdout",
          "text": [
            "Collecting pennylane\n",
            "  Downloading PennyLane-0.38.0-py3-none-any.whl.metadata (9.3 kB)\n",
            "Requirement already satisfied: numpy<2.0 in /usr/local/lib/python3.10/dist-packages (from pennylane) (1.26.4)\n",
            "Requirement already satisfied: scipy in /usr/local/lib/python3.10/dist-packages (from pennylane) (1.13.1)\n",
            "Requirement already satisfied: networkx in /usr/local/lib/python3.10/dist-packages (from pennylane) (3.3)\n",
            "Collecting rustworkx>=0.14.0 (from pennylane)\n",
            "  Downloading rustworkx-0.15.1-cp38-abi3-manylinux_2_17_x86_64.manylinux2014_x86_64.whl.metadata (9.9 kB)\n",
            "Requirement already satisfied: autograd in /usr/local/lib/python3.10/dist-packages (from pennylane) (1.7.0)\n",
            "Requirement already satisfied: toml in /usr/local/lib/python3.10/dist-packages (from pennylane) (0.10.2)\n",
            "Collecting appdirs (from pennylane)\n",
            "  Downloading appdirs-1.4.4-py2.py3-none-any.whl.metadata (9.0 kB)\n",
            "Collecting autoray>=0.6.11 (from pennylane)\n",
            "  Downloading autoray-0.6.12-py3-none-any.whl.metadata (5.7 kB)\n",
            "Requirement already satisfied: cachetools in /usr/local/lib/python3.10/dist-packages (from pennylane) (5.5.0)\n",
            "Collecting pennylane-lightning>=0.38 (from pennylane)\n",
            "  Downloading PennyLane_Lightning-0.38.0-cp310-cp310-manylinux_2_28_x86_64.whl.metadata (26 kB)\n",
            "Requirement already satisfied: requests in /usr/local/lib/python3.10/dist-packages (from pennylane) (2.32.3)\n",
            "Requirement already satisfied: typing-extensions in /usr/local/lib/python3.10/dist-packages (from pennylane) (4.12.2)\n",
            "Requirement already satisfied: packaging in /usr/local/lib/python3.10/dist-packages (from pennylane) (24.1)\n",
            "Requirement already satisfied: charset-normalizer<4,>=2 in /usr/local/lib/python3.10/dist-packages (from requests->pennylane) (3.3.2)\n",
            "Requirement already satisfied: idna<4,>=2.5 in /usr/local/lib/python3.10/dist-packages (from requests->pennylane) (3.8)\n",
            "Requirement already satisfied: urllib3<3,>=1.21.1 in /usr/local/lib/python3.10/dist-packages (from requests->pennylane) (2.0.7)\n",
            "Requirement already satisfied: certifi>=2017.4.17 in /usr/local/lib/python3.10/dist-packages (from requests->pennylane) (2024.8.30)\n",
            "Downloading PennyLane-0.38.0-py3-none-any.whl (1.9 MB)\n",
            "\u001b[2K   \u001b[90m━━━━━━━━━━━━━━━━━━━━━━━━━━━━━━━━━━━━━━━━\u001b[0m \u001b[32m1.9/1.9 MB\u001b[0m \u001b[31m20.6 MB/s\u001b[0m eta \u001b[36m0:00:00\u001b[0m\n",
            "\u001b[?25hDownloading autoray-0.6.12-py3-none-any.whl (50 kB)\n",
            "\u001b[2K   \u001b[90m━━━━━━━━━━━━━━━━━━━━━━━━━━━━━━━━━━━━━━━━\u001b[0m \u001b[32m51.0/51.0 kB\u001b[0m \u001b[31m2.6 MB/s\u001b[0m eta \u001b[36m0:00:00\u001b[0m\n",
            "\u001b[?25hDownloading PennyLane_Lightning-0.38.0-cp310-cp310-manylinux_2_28_x86_64.whl (15.3 MB)\n",
            "\u001b[2K   \u001b[90m━━━━━━━━━━━━━━━━━━━━━━━━━━━━━━━━━━━━━━━━\u001b[0m \u001b[32m15.3/15.3 MB\u001b[0m \u001b[31m47.6 MB/s\u001b[0m eta \u001b[36m0:00:00\u001b[0m\n",
            "\u001b[?25hDownloading rustworkx-0.15.1-cp38-abi3-manylinux_2_17_x86_64.manylinux2014_x86_64.whl (2.0 MB)\n",
            "\u001b[2K   \u001b[90m━━━━━━━━━━━━━━━━━━━━━━━━━━━━━━━━━━━━━━━━\u001b[0m \u001b[32m2.0/2.0 MB\u001b[0m \u001b[31m30.0 MB/s\u001b[0m eta \u001b[36m0:00:00\u001b[0m\n",
            "\u001b[?25hDownloading appdirs-1.4.4-py2.py3-none-any.whl (9.6 kB)\n",
            "Installing collected packages: appdirs, rustworkx, autoray, pennylane-lightning, pennylane\n",
            "Successfully installed appdirs-1.4.4 autoray-0.6.12 pennylane-0.38.0 pennylane-lightning-0.38.0 rustworkx-0.15.1\n"
          ]
        }
      ],
      "source": [
        "# This cell is added by sphinx-gallery\n",
        "# It can be customized to whatever you like\n",
        "%matplotlib inline\n",
        "!pip install pennylane"
      ]
    },
    {
      "cell_type": "markdown",
      "metadata": {
        "id": "gnglpFUKTu3D"
      },
      "source": [
        "QAOA for MaxCut {#qaoa_maxcut}\n",
        "===============\n",
        "\n",
        "::: {.meta}\n",
        ":property=\\\"og:description\\\": Implementing the quantum approximate\n",
        "optimization algorithm using PennyLane to solve the MaxCut problem.\n",
        ":property=\\\"og:image\\\":\n",
        "<https://pennylane.ai/qml/_static/demonstration_assets//qaoa_maxcut_partition.png>\n",
        ":::\n",
        "\n",
        "::: {.related}\n",
        "tutorial\\_qaoa\\_intro Intro to QAOA\n",
        ":::\n",
        "\n",
        "*Author: Angus Lowe --- Posted: 11 October 2019. Last updated: 13 April\n",
        "2021.*\n"
      ]
    },
    {
      "cell_type": "markdown",
      "metadata": {
        "id": "_IcUKRPVTu3I"
      },
      "source": [
        "In this tutorial we implement the quantum approximate optimization\n",
        "algorithm (QAOA) for the MaxCut problem as proposed by [Farhi,\n",
        "Goldstone, and Gutmann (2014)](https://arxiv.org/abs/1411.4028). First,\n",
        "we give an overview of the MaxCut problem using a simple example, a\n",
        "graph with 4 vertices and 4 edges. We then show how to find the maximum\n",
        "cut by running the QAOA algorithm using PennyLane.\n",
        "\n",
        "Background\n",
        "==========\n",
        "\n",
        "The MaxCut problem\n",
        "------------------\n",
        "\n",
        "The aim of MaxCut is to maximize the number of edges (yellow lines) in a\n",
        "graph that are \\\"cut\\\" by a given partition of the vertices (blue\n",
        "circles) into two sets (see figure below).\n",
        "\n",
        "![](https://github.com/borbysh/Momentum-QNG/blob/_static/demonstration_assets/qaoa_maxcut/qaoa_maxcut_partition.png?raw=1){.align-center}\n",
        "\n",
        "|\n",
        "\n",
        "Consider a graph with $m$ edges and $n$ vertices. We seek the partition\n",
        "$z$ of the vertices into two sets $A$ and $B$ which maximizes\n",
        "\n",
        "$$C(z) = \\sum_{\\alpha=1}^{m}C_\\alpha(z),$$\n",
        "\n",
        "where $C$ counts the number of edges cut. $C_\\alpha(z)=1$ if $z$ places\n",
        "one vertex from the $\\alpha^\\text{th}$ edge in set $A$ and the other in\n",
        "set $B$, and $C_\\alpha(z)=0$ otherwise. Finding a cut which yields the\n",
        "maximum possible value of $C$ is an NP-complete problem, so our best\n",
        "hope for a polynomial-time algorithm lies in an approximate\n",
        "optimization. In the case of MaxCut, this means finding a partition $z$\n",
        "which yields a value for $C(z)$ that is close to the maximum possible\n",
        "value.\n",
        "\n",
        "We can represent the assignment of vertices to set $A$ or $B$ using a\n",
        "bitstring, $z=z_1...z_n$ where $z_i=0$ if the $i^\\text{th}$ vertex is in\n",
        "$A$ and $z_i = 1$ if it is in $B$. For instance, in the situation\n",
        "depicted in the figure above the bitstring representation is\n",
        "$z=0101\\text{,}$ indicating that the $0^{\\text{th}}$ and $2^{\\text{nd}}$\n",
        "vertices are in $A$ while the $1^{\\text{st}}$ and $3^{\\text{rd}}$ are in\n",
        "$B$. This assignment yields a value for the objective function (the\n",
        "number of yellow lines cut) $C=4$, which turns out to be the maximum\n",
        "cut. In the following sections, we will represent partitions using\n",
        "computational basis states and use PennyLane to rediscover this maximum\n",
        "cut.\n",
        "\n",
        "::: {.note}\n",
        "::: {.title}\n",
        "Note\n",
        ":::\n",
        "\n",
        "In the graph above, $z=1010$ could equally well serve as the maximum\n",
        "cut.\n",
        ":::\n",
        "\n",
        "A circuit for QAOA\n",
        "------------------\n",
        "\n",
        "This section describes implementing a circuit for QAOA using basic\n",
        "unitary gates to find approximate solutions to the MaxCut problem.\n",
        "Firstly, denoting the partitions using computational basis states\n",
        "$|z\\rangle$, we can represent the terms in the objective function as\n",
        "operators acting on these states\n",
        "\n",
        "$$C_\\alpha = \\frac{1}{2}\\left(1-\\sigma_{z}^j\\sigma_{z}^k\\right),$$\n",
        "\n",
        "where the $\\alpha\\text{th}$ edge is between vertices $(j,k)$. $C_\\alpha$\n",
        "has eigenvalue 1 if and only if the $j\\text{th}$ and $k\\text{th}$ qubits\n",
        "have different z-axis measurement values, representing separate\n",
        "partitions. The objective function $C$ can be considered a diagonal\n",
        "operator with integer eigenvalues.\n",
        "\n",
        "QAOA starts with a uniform superposition over the $n$ bitstring basis\n",
        "states,\n",
        "\n",
        "$$|+_{n}\\rangle = \\frac{1}{\\sqrt{2^n}}\\sum_{z\\in \\{0,1\\}^n} |z\\rangle.$$\n",
        "\n",
        "We aim to explore the space of bitstring states for a superposition\n",
        "which is likely to yield a large value for the $C$ operator upon\n",
        "performing a measurement in the computational basis. Using the $2p$\n",
        "angle parameters $\\boldsymbol{\\gamma} = \\gamma_1\\gamma_2...\\gamma_p$,\n",
        "$\\boldsymbol{\\beta} = \\beta_1\\beta_2...\\beta_p$ we perform a sequence of\n",
        "operations on our initial state:\n",
        "\n",
        "$$|\\boldsymbol{\\gamma},\\boldsymbol{\\beta}\\rangle = U_{B_p}U_{C_p}U_{B_{p-1}}U_{C_{p-1}}...U_{B_1}U_{C_1}|+_n\\rangle$$\n",
        "\n",
        "where the operators have the explicit forms\n",
        "\n",
        "$$\\begin{aligned}\n",
        "U_{B_l} &= e^{-i\\beta_lB} = \\prod_{j=1}^n e^{-i\\beta_l\\sigma_x^j}, \\\\\n",
        "U_{C_l} &= e^{-i\\gamma_lC} = \\prod_{\\text{edge (j,k)}} e^{-i\\gamma_l(1-\\sigma_z^j\\sigma_z^k)/2}.\n",
        "\\end{aligned}$$\n",
        "\n",
        "In other words, we make $p$ layers of parametrized $U_bU_C$ gates. These\n",
        "can be implemented on a quantum circuit using the gates depicted below,\n",
        "up to an irrelevant constant that gets absorbed into the parameters.\n",
        "\n",
        "![](https://github.com/borbysh/Momentum-QNG/blob/_static/demonstration_assets/qaoa_maxcut/qaoa_operators.png?raw=1){.align-center}\n",
        "\n",
        "|\n",
        "\n",
        "Let $\\langle \\boldsymbol{\\gamma},\n",
        "\\boldsymbol{\\beta} | C | \\boldsymbol{\\gamma},\\boldsymbol{\\beta} \\rangle$\n",
        "be the expectation of the objective operator. In the next section, we\n",
        "will use PennyLane to perform classical optimization over the circuit\n",
        "parameters $(\\boldsymbol{\\gamma}, \\boldsymbol{\\beta})$. This will\n",
        "specify a state $|\\boldsymbol{\\gamma},\\boldsymbol{\\beta}\\rangle$ which\n",
        "is likely to yield an approximately optimal partition $|z\\rangle$ upon\n",
        "performing a measurement in the computational basis. In the case of the\n",
        "graph shown above, we want to measure either 0101 or 1010 from our state\n",
        "since these correspond to the optimal partitions.\n",
        "\n",
        "![](https://github.com/borbysh/Momentum-QNG/blob/_static/demonstration_assets/qaoa_maxcut/qaoa_optimal_state.png?raw=1){.align-center}\n",
        "\n",
        "|\n",
        "\n",
        "Qualitatively, QAOA tries to evolve the initial state into the plane of\n",
        "the $|0101\\rangle$, $|1010\\rangle$ basis states (see figure above).\n",
        "\n",
        "Implementing QAOA in PennyLane\n",
        "==============================\n",
        "\n",
        "Imports and setup\n",
        "-----------------\n",
        "\n",
        "To get started, we import PennyLane along with the PennyLane-provided\n",
        "version of NumPy.\n"
      ]
    },
    {
      "cell_type": "code",
      "execution_count": 2,
      "metadata": {
        "id": "MBj-v8lwTu3N"
      },
      "outputs": [],
      "source": [
        "import pennylane as qml\n",
        "from pennylane import numpy as np\n",
        "\n",
        "np.random.seed(42)"
      ]
    },
    {
      "cell_type": "markdown",
      "metadata": {
        "id": "luF94ruCTu3O"
      },
      "source": [
        "Operators\n",
        "=========\n",
        "\n",
        "We specify the number of qubits (vertices) with `n_wires` and compose\n",
        "the unitary operators using the definitions above. $U_B$ operators act\n",
        "on individual wires, while $U_C$ operators act on wires whose\n",
        "corresponding vertices are joined by an edge in the graph. We also\n",
        "define the graph using the list `graph`, which contains the tuples of\n",
        "vertices defining each edge in the graph.\n"
      ]
    },
    {
      "cell_type": "code",
      "execution_count": 3,
      "metadata": {
        "id": "GSUBuXnITu3Q"
      },
      "outputs": [],
      "source": [
        "n_wires = 4\n",
        "graph = [(0, 1), (0, 3), (1, 2), (2, 3)]\n",
        "ZZ = []\n",
        "ZZ_coeff = []\n",
        "for k in range(len(graph)):\n",
        "  edge = graph[k]\n",
        "  ZZ.append(qml.PauliZ(edge[0])@qml.PauliZ(edge[1]))\n",
        "  ZZ_coeff.append(1)\n",
        "C = len(graph)\n",
        "H = qml.Hamiltonian(ZZ_coeff, ZZ, grouping_type=\"qwc\")\n",
        "\n",
        "\n",
        "# unitary operator U_B with parameter beta\n",
        "def U_B(beta):\n",
        "    for wire in range(n_wires):\n",
        "        qml.RX(2 * beta, wires=wire)\n",
        "\n",
        "\n",
        "# unitary operator U_C with parameter gamma\n",
        "def U_C(gamma):\n",
        "    for edge in graph:\n",
        "        wire1 = edge[0]\n",
        "        wire2 = edge[1]\n",
        "        qml.CNOT(wires=[wire1, wire2])\n",
        "        qml.RZ(gamma, wires=wire2)\n",
        "        qml.CNOT(wires=[wire1, wire2])"
      ]
    },
    {
      "cell_type": "markdown",
      "metadata": {
        "id": "y1p4WCAPTu3S"
      },
      "source": [
        "We will need a way to convert a bitstring, representing a sample of\n",
        "multiple qubits in the computational basis, to integer or base-10 form.\n"
      ]
    },
    {
      "cell_type": "code",
      "execution_count": 4,
      "metadata": {
        "id": "mv56lPZ5Tu3T"
      },
      "outputs": [],
      "source": [
        "def bitstring_to_int(bit_string_sample):\n",
        "    bit_string = \"\".join(str(bs) for bs in bit_string_sample)\n",
        "    return int(bit_string, base=2)"
      ]
    },
    {
      "cell_type": "markdown",
      "metadata": {
        "id": "Iuhppo8jTu3U"
      },
      "source": [
        "Circuit\n",
        "=======\n",
        "\n",
        "Next, we create a quantum device with 4 qubits.\n"
      ]
    },
    {
      "cell_type": "code",
      "execution_count": 5,
      "metadata": {
        "id": "bfjuqv3ZTu3W"
      },
      "outputs": [],
      "source": [
        "dev = qml.device(\"lightning.qubit\", wires=n_wires)"
      ]
    },
    {
      "cell_type": "markdown",
      "metadata": {
        "id": "UyapRHQ1Tu3Y"
      },
      "source": [
        "We also require a quantum node which will apply the operators according\n",
        "to the angle parameters, and return the expectation value of the\n",
        "observable $\\sigma_z^{j}\\sigma_z^{k}$ to be used in each term of the\n",
        "objective function later on. The argument `edge` specifies the chosen\n",
        "edge term in the objective function, $(j,k)$. Once optimized, the same\n",
        "quantum node can be used for sampling an approximately optimal bitstring\n",
        "if executed with the `edge` keyword set to `None`. Additionally, we\n",
        "specify the number of layers (repeated applications of $U_BU_C$) using\n",
        "the keyword `n_layers`.\n"
      ]
    },
    {
      "cell_type": "code",
      "source": [
        "# Design the ansatz\n",
        "p = 2     # circuit repetitions\n",
        "def ansatz(params, qubits, depth=p):\n",
        "  for wire in range(qubits):\n",
        "        qml.Hadamard(wires=wire)\n",
        "    # p instances of unitary operators\n",
        "  for i in range(len(params)//2):\n",
        "      U_C(params[2*i])\n",
        "      U_B(params[2*i+1])"
      ],
      "metadata": {
        "id": "K0-3u_xRvEh9"
      },
      "execution_count": 6,
      "outputs": []
    },
    {
      "cell_type": "code",
      "source": [
        "# Set the cost function on dev\n",
        "@qml.qnode(dev, diff_method=\"parameter-shift\")\n",
        "def cost(x):\n",
        "    ansatz(x, qubits=n_wires)\n",
        "    return qml.expval(H)\n",
        "\n",
        "# For analyze the optimized circuit\n",
        "@qml.qnode(dev)\n",
        "def probability_circuit(params):\n",
        "    ansatz(params, qubits=n_wires)\n",
        "    return qml.probs(wires=range(n_wires))"
      ],
      "metadata": {
        "id": "sZL9nFK6vlwN"
      },
      "execution_count": 7,
      "outputs": []
    },
    {
      "cell_type": "code",
      "source": [
        "def qng_session(params, stepsize=0.07, steps=300):\n",
        "  opt = qml.QNGOptimizer(stepsize=stepsize)\n",
        "  old_cost = 9999.999999\n",
        "\n",
        "  for i in range(steps):\n",
        "      params = opt.step(cost, params)\n",
        "      obj_value = cost(params)\n",
        "      qng_cost.append(obj_value)\n",
        "      if (i + 1) % 5 == 0:\n",
        "          #print(\"Cost after step {:5d}: {: .7f}\".format(i + 1, obj_value))\n",
        "          if np.round(old_cost, 4) == np.round(obj_value, 4):\n",
        "              break\n",
        "          else:\n",
        "              old_cost = obj_value\n",
        "  return params"
      ],
      "metadata": {
        "id": "3hzy8oDQwC_9"
      },
      "execution_count": 23,
      "outputs": []
    },
    {
      "cell_type": "code",
      "source": [
        "def momentum_session(params, stepsize=0.07, momentum=0.9, steps=300):\n",
        "  opt = qml.MomentumOptimizer(stepsize=stepsize, momentum=momentum)\n",
        "  old_cost = 9999.999999\n",
        "\n",
        "  for i in range(steps):\n",
        "      params = opt.step(cost, params)\n",
        "      obj_value = cost(params)\n",
        "      momentum_cost.append(obj_value)\n",
        "      if (i + 1) % 5 == 0:\n",
        "          #print(\"Cost after step {:5d}: {: .7f}\".format(i + 1, obj_value))\n",
        "          if np.round(old_cost, 4) == np.round(obj_value, 4):\n",
        "              break\n",
        "          else:\n",
        "              old_cost = obj_value\n",
        "  return params"
      ],
      "metadata": {
        "id": "9ZWTxkb4iAQz"
      },
      "execution_count": 29,
      "outputs": []
    },
    {
      "cell_type": "code",
      "source": [
        "def momentum_qng_session(params, stepsize=0.07, momentum=0.9, steps=300):\n",
        "  opt = qml.QNGOptimizer(stepsize=stepsize)\n",
        "  old_cost = 9999.999999\n",
        "  prev_step = params * 0\n",
        "\n",
        "  for i in range(steps):\n",
        "        prev_params = params\n",
        "        params = opt.step(cost, params) + momentum * prev_step\n",
        "        prev_step = params - prev_params\n",
        "        obj_value = cost(params)\n",
        "        momentum_qng_cost.append(obj_value)\n",
        "        if (i + 1) % 5 == 0:\n",
        "            #print(\"Cost after step {:5d}: {: .7f}\".format(i + 1, obj_value))\n",
        "            if np.round(old_cost, 4) == np.round(obj_value, 4):\n",
        "                break\n",
        "            else:\n",
        "                old_cost = obj_value\n",
        "  return params"
      ],
      "metadata": {
        "id": "Fs_pqUnVKTK6"
      },
      "execution_count": 24,
      "outputs": []
    },
    {
      "cell_type": "code",
      "source": [
        "iterations=300\n",
        "stepsize = 0.02\n",
        "momentum=0.9\n",
        "\n",
        "qng_cost = []\n",
        "momentum_qng_cost = []\n",
        "momentum_cost = []\n",
        "#np.random.seed(31415)\n",
        "#np.random.seed()\n",
        "np.random.seed(1)\n",
        "init_params = np.random.rand(2*p)\n",
        "\n",
        "params_qng = qng_session(init_params, stepsize, iterations)\n",
        "params_momentum_qng = momentum_qng_session(init_params, stepsize, momentum, iterations)\n",
        "params_momentum = momentum_session(init_params, stepsize, momentum, iterations)\n",
        "cost_qng = cost(params_qng)\n",
        "cost_momentum_qng = cost(params_momentum_qng)"
      ],
      "metadata": {
        "id": "zSwcQDR6wqPs"
      },
      "execution_count": 30,
      "outputs": []
    },
    {
      "cell_type": "code",
      "source": [
        "import matplotlib.pyplot as plt\n",
        "\n",
        "label_1 = 'QNG'\n",
        "label_2 = 'Momentum-QNG'\n",
        "label_3 = 'Momentum'\n",
        "plt.plot(qng_cost, color='r', marker='o', linestyle='--', linewidth = 2.0, label=label_1)\n",
        "plt.plot(momentum_qng_cost, color='g', marker='x', linestyle='--', linewidth = 2.0, label=label_2)\n",
        "plt.plot(momentum_cost, color='b', marker='+', linestyle='--', linewidth = 2.0, label=label_3)\n",
        "\n",
        "\n",
        "\n",
        "plt.title('Maxcut problem with QAOA')\n",
        "plt.xlabel('Steps')\n",
        "plt.ylabel('Cost')\n",
        "plt.legend(loc='upper right')\n",
        "plt.grid()\n",
        "\n",
        "plt.show()"
      ],
      "metadata": {
        "id": "q14rZtnB122s",
        "colab": {
          "base_uri": "https://localhost:8080/",
          "height": 472
        },
        "outputId": "156ae624-ebd5-4cc6-939c-11b831ebbbe2"
      },
      "execution_count": 31,
      "outputs": [
        {
          "output_type": "display_data",
          "data": {
            "text/plain": [
              "<Figure size 640x480 with 1 Axes>"
            ],
            "image/png": "[encoded data removed]"
          },
          "metadata": {}
        }
      ]
    }
  ],
  "metadata": {
    "kernelspec": {
      "display_name": "Python 3",
      "language": "python",
      "name": "python3"
    },
    "language_info": {
      "codemirror_mode": {
        "name": "ipython",
        "version": 3
      },
      "file_extension": ".py",
      "mimetype": "text/x-python",
      "name": "python",
      "nbconvert_exporter": "python",
      "pygments_lexer": "ipython3",
      "version": "3.10.13"
    },
    "colab": {
      "provenance": [],
      "include_colab_link": true
    }
  },
  "nbformat": 4,
  "nbformat_minor": 0
}