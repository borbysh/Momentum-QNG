{
  "cells": [
    {
      "cell_type": "markdown",
      "metadata": {
        "id": "view-in-github",
        "colab_type": "text"
      },
      "source": [
        "<a href=\"https://colab.research.google.com/github/borbysh/Momentum-QNG/blob/main/Quantum_Machine_Learning/autoencoder.ipynb\" target=\"_parent\"><img src=\"https://colab.research.google.com/assets/colab-badge.svg\" alt=\"Open In Colab\"/></a>"
      ]
    },
    {
      "cell_type": "code",
      "source": [
        "!pip install pennylane"
      ],
      "metadata": {
        "colab": {
          "base_uri": "https://localhost:8080/"
        },
        "id": "YEyeZu89WruN",
        "outputId": "8ee62c2c-3708-4b01-e6c7-27b8c51846b1"
      },
      "execution_count": 1,
      "outputs": [
        {
          "output_type": "stream",
          "name": "stdout",
          "text": [
            "Collecting pennylane\n",
            "  Downloading pennylane-0.42.3-py3-none-any.whl.metadata (11 kB)\n",
            "Requirement already satisfied: scipy in /usr/local/lib/python3.12/dist-packages (from pennylane) (1.16.1)\n",
            "Requirement already satisfied: networkx in /usr/local/lib/python3.12/dist-packages (from pennylane) (3.5)\n",
            "Collecting rustworkx>=0.14.0 (from pennylane)\n",
            "  Downloading rustworkx-0.17.1-cp39-abi3-manylinux_2_17_x86_64.manylinux2014_x86_64.whl.metadata (10 kB)\n",
            "Requirement already satisfied: autograd in /usr/local/lib/python3.12/dist-packages (from pennylane) (1.8.0)\n",
            "Collecting appdirs (from pennylane)\n",
            "  Downloading appdirs-1.4.4-py2.py3-none-any.whl.metadata (9.0 kB)\n",
            "Collecting autoray<0.8,>=0.6.11 (from pennylane)\n",
            "  Downloading autoray-0.7.2-py3-none-any.whl.metadata (5.8 kB)\n",
            "Requirement already satisfied: cachetools in /usr/local/lib/python3.12/dist-packages (from pennylane) (5.5.2)\n",
            "Collecting pennylane-lightning>=0.42 (from pennylane)\n",
            "  Downloading pennylane_lightning-0.42.0-cp312-cp312-manylinux_2_28_x86_64.whl.metadata (11 kB)\n",
            "Requirement already satisfied: requests in /usr/local/lib/python3.12/dist-packages (from pennylane) (2.32.4)\n",
            "Requirement already satisfied: tomlkit in /usr/local/lib/python3.12/dist-packages (from pennylane) (0.13.3)\n",
            "Requirement already satisfied: typing_extensions in /usr/local/lib/python3.12/dist-packages (from pennylane) (4.15.0)\n",
            "Requirement already satisfied: packaging in /usr/local/lib/python3.12/dist-packages (from pennylane) (25.0)\n",
            "Collecting diastatic-malt (from pennylane)\n",
            "  Downloading diastatic_malt-2.15.2-py3-none-any.whl.metadata (2.6 kB)\n",
            "Requirement already satisfied: numpy in /usr/local/lib/python3.12/dist-packages (from pennylane) (2.0.2)\n",
            "Collecting scipy-openblas32>=0.3.26 (from pennylane-lightning>=0.42->pennylane)\n",
            "  Downloading scipy_openblas32-0.3.30.0.2-py3-none-manylinux2014_x86_64.manylinux_2_17_x86_64.whl.metadata (57 kB)\n",
            "\u001b[2K     \u001b[90m━━━━━━━━━━━━━━━━━━━━━━━━━━━━━━━━━━━━━━━━\u001b[0m \u001b[32m57.1/57.1 kB\u001b[0m \u001b[31m3.9 MB/s\u001b[0m eta \u001b[36m0:00:00\u001b[0m\n",
            "\u001b[?25hRequirement already satisfied: astunparse in /usr/local/lib/python3.12/dist-packages (from diastatic-malt->pennylane) (1.6.3)\n",
            "Requirement already satisfied: gast in /usr/local/lib/python3.12/dist-packages (from diastatic-malt->pennylane) (0.6.0)\n",
            "Requirement already satisfied: termcolor in /usr/local/lib/python3.12/dist-packages (from diastatic-malt->pennylane) (3.1.0)\n",
            "Requirement already satisfied: charset_normalizer<4,>=2 in /usr/local/lib/python3.12/dist-packages (from requests->pennylane) (3.4.3)\n",
            "Requirement already satisfied: idna<4,>=2.5 in /usr/local/lib/python3.12/dist-packages (from requests->pennylane) (3.10)\n",
            "Requirement already satisfied: urllib3<3,>=1.21.1 in /usr/local/lib/python3.12/dist-packages (from requests->pennylane) (2.5.0)\n",
            "Requirement already satisfied: certifi>=2017.4.17 in /usr/local/lib/python3.12/dist-packages (from requests->pennylane) (2025.8.3)\n",
            "Requirement already satisfied: wheel<1.0,>=0.23.0 in /usr/local/lib/python3.12/dist-packages (from astunparse->diastatic-malt->pennylane) (0.45.1)\n",
            "Requirement already satisfied: six<2.0,>=1.6.1 in /usr/local/lib/python3.12/dist-packages (from astunparse->diastatic-malt->pennylane) (1.17.0)\n",
            "Downloading pennylane-0.42.3-py3-none-any.whl (4.8 MB)\n",
            "\u001b[2K   \u001b[90m━━━━━━━━━━━━━━━━━━━━━━━━━━━━━━━━━━━━━━━━\u001b[0m \u001b[32m4.8/4.8 MB\u001b[0m \u001b[31m35.4 MB/s\u001b[0m eta \u001b[36m0:00:00\u001b[0m\n",
            "\u001b[?25hDownloading autoray-0.7.2-py3-none-any.whl (930 kB)\n",
            "\u001b[2K   \u001b[90m━━━━━━━━━━━━━━━━━━━━━━━━━━━━━━━━━━━━━━━━\u001b[0m \u001b[32m930.8/930.8 kB\u001b[0m \u001b[31m32.7 MB/s\u001b[0m eta \u001b[36m0:00:00\u001b[0m\n",
            "\u001b[?25hDownloading pennylane_lightning-0.42.0-cp312-cp312-manylinux_2_28_x86_64.whl (2.6 MB)\n",
            "\u001b[2K   \u001b[90m━━━━━━━━━━━━━━━━━━━━━━━━━━━━━━━━━━━━━━━━\u001b[0m \u001b[32m2.6/2.6 MB\u001b[0m \u001b[31m46.9 MB/s\u001b[0m eta \u001b[36m0:00:00\u001b[0m\n",
            "\u001b[?25hDownloading rustworkx-0.17.1-cp39-abi3-manylinux_2_17_x86_64.manylinux2014_x86_64.whl (2.2 MB)\n",
            "\u001b[2K   \u001b[90m━━━━━━━━━━━━━━━━━━━━━━━━━━━━━━━━━━━━━━━━\u001b[0m \u001b[32m2.2/2.2 MB\u001b[0m \u001b[31m44.9 MB/s\u001b[0m eta \u001b[36m0:00:00\u001b[0m\n",
            "\u001b[?25hDownloading appdirs-1.4.4-py2.py3-none-any.whl (9.6 kB)\n",
            "Downloading diastatic_malt-2.15.2-py3-none-any.whl (167 kB)\n",
            "\u001b[2K   \u001b[90m━━━━━━━━━━━━━━━━━━━━━━━━━━━━━━━━━━━━━━━━\u001b[0m \u001b[32m167.9/167.9 kB\u001b[0m \u001b[31m13.5 MB/s\u001b[0m eta \u001b[36m0:00:00\u001b[0m\n",
            "\u001b[?25hDownloading scipy_openblas32-0.3.30.0.2-py3-none-manylinux2014_x86_64.manylinux_2_17_x86_64.whl (8.6 MB)\n",
            "\u001b[2K   \u001b[90m━━━━━━━━━━━━━━━━━━━━━━━━━━━━━━━━━━━━━━━━\u001b[0m \u001b[32m8.6/8.6 MB\u001b[0m \u001b[31m102.6 MB/s\u001b[0m eta \u001b[36m0:00:00\u001b[0m\n",
            "\u001b[?25hInstalling collected packages: appdirs, scipy-openblas32, rustworkx, autoray, diastatic-malt, pennylane-lightning, pennylane\n",
            "Successfully installed appdirs-1.4.4 autoray-0.7.2 diastatic-malt-2.15.2 pennylane-0.42.3 pennylane-lightning-0.42.0 rustworkx-0.17.1 scipy-openblas32-0.3.30.0.2\n"
          ]
        }
      ]
    },
    {
      "cell_type": "code",
      "source": [
        "import pennylane as qml\n",
        "from pennylane import numpy as np"
      ],
      "metadata": {
        "id": "3QoGCYQvPJ3_"
      },
      "execution_count": 7,
      "outputs": []
    },
    {
      "cell_type": "markdown",
      "source": [
        "Adopted from this thread: https://discuss.pennylane.ai/t/training-with-qng-optimizer-on-circuit-with-data-argument/2067"
      ],
      "metadata": {
        "id": "-wrN38fIFZ10"
      }
    },
    {
      "cell_type": "code",
      "source": [
        "Nwires = 5\n",
        "dev = qml.device(\"default.qubit\", wires=Nwires)\n",
        "\n",
        "@qml.qnode(dev)\n",
        "def circuit(params, data):\n",
        "    qml.AngleEmbedding(data, wires=range(Nwires))\n",
        "    qml.StronglyEntanglingLayers(params, wires=range(Nwires))\n",
        "    return qml.expval(qml.PauliZ(Nwires-1))\n",
        "\n",
        "def cost(params, single_sample):\n",
        "     return (1 - circuit(params, single_sample)) ** 2\n",
        "\n",
        "#def cost(params, data):\n",
        "     #return np.sum((1 - circuit(params, single_sample)) ** 2 for single_sample in data) / Nbatch"
      ],
      "metadata": {
        "id": "AkG-bIHTP7Xw"
      },
      "execution_count": 8,
      "outputs": []
    },
    {
      "cell_type": "code",
      "source": [
        "Nbatch = 10\n",
        "np.random.seed(1)\n",
        "data = [np.random.random([Nwires], requires_grad=False) for _ in range(Nbatch)]\n",
        "init_params = np.random.random(qml.StronglyEntanglingLayers.shape(Nwires, Nwires), requires_grad=True)"
      ],
      "metadata": {
        "id": "m8RLTvItQEU4"
      },
      "execution_count": 9,
      "outputs": []
    },
    {
      "cell_type": "code",
      "source": [
        "params = init_params\n",
        "#opt = qml.MomentumQNGOptimizer(stepsize=0.01) #, lam=0.5)\n",
        "opt = qml.QNGOptimizer(0.01)\n",
        "for it in range(20):\n",
        "    for sample in data:\n",
        "        cost_fn = lambda p: cost(p, sample)\n",
        "        metric_fn = lambda p: qml.metric_tensor(circuit, approx=\"block-diag\")(p, sample)\n",
        "\n",
        "        params, loss = opt.step_and_cost(cost_fn, params,  metric_tensor_fn=metric_fn)\n",
        "\n",
        "    print(f\"Epoch: {it} | Loss: {loss} |\")"
      ],
      "metadata": {
        "colab": {
          "base_uri": "https://localhost:8080/"
        },
        "id": "G9FYW7qOWi4M",
        "outputId": "130e396b-b9c5-4be1-f1f5-d331676f53bc"
      },
      "execution_count": 11,
      "outputs": [
        {
          "output_type": "stream",
          "name": "stdout",
          "text": [
            "Epoch: 0 | Loss: 0.2029742748953647 |\n",
            "Epoch: 1 | Loss: 0.11891802664589292 |\n",
            "Epoch: 2 | Loss: 0.08284518359529364 |\n",
            "Epoch: 3 | Loss: 0.0281219891204627 |\n",
            "Epoch: 4 | Loss: 0.021199451649842067 |\n",
            "Epoch: 5 | Loss: 0.024910544736545984 |\n",
            "Epoch: 6 | Loss: 0.03487038209516285 |\n",
            "Epoch: 7 | Loss: 0.025903776927247053 |\n",
            "Epoch: 8 | Loss: 0.021020598333287677 |\n",
            "Epoch: 9 | Loss: 0.017252183836613373 |\n",
            "Epoch: 10 | Loss: 0.009626384341629152 |\n",
            "Epoch: 11 | Loss: 0.01552167713097293 |\n",
            "Epoch: 12 | Loss: 0.010960172216619327 |\n",
            "Epoch: 13 | Loss: 0.012837411429525278 |\n",
            "Epoch: 14 | Loss: 0.011865528368010407 |\n",
            "Epoch: 15 | Loss: 0.007688982169476333 |\n",
            "Epoch: 16 | Loss: 0.007242972232627568 |\n",
            "Epoch: 17 | Loss: 0.007024490974342213 |\n",
            "Epoch: 18 | Loss: 0.010355738569488637 |\n",
            "Epoch: 19 | Loss: 0.015356777520685774 |\n"
          ]
        }
      ]
    },
    {
      "cell_type": "code",
      "source": [
        "params = init_params\n",
        "#opt = qml.MomentumOptimizer(0.25)\n",
        "opt = qml.AdamOptimizer(0.4)\n",
        "for it in range(10):\n",
        "    for sample in data:\n",
        "        cost_fn = lambda p: cost(p, sample)\n",
        "        params, loss = opt.step_and_cost(cost_fn, params)\n",
        "\n",
        "    print(f\"Epoch: {it} | Loss: {loss} |\")"
      ],
      "metadata": {
        "id": "7ZR9Df95RPYg",
        "outputId": "80c614d9-8b18-4512-da97-a3cd572e4d3d",
        "colab": {
          "base_uri": "https://localhost:8080/"
        }
      },
      "execution_count": null,
      "outputs": [
        {
          "output_type": "stream",
          "name": "stdout",
          "text": [
            "Epoch: 0 | Loss: 0.16167785597239656 |\n",
            "Epoch: 1 | Loss: 0.06459249250847056 |\n",
            "Epoch: 2 | Loss: 0.01573537879421543 |\n",
            "Epoch: 3 | Loss: 0.0034557478098580503 |\n",
            "Epoch: 4 | Loss: 0.0011004103078887325 |\n",
            "Epoch: 5 | Loss: 0.0015599274539226779 |\n",
            "Epoch: 6 | Loss: 0.000428989328917876 |\n",
            "Epoch: 7 | Loss: 0.00046221334467888613 |\n",
            "Epoch: 8 | Loss: 0.000344319424176288 |\n",
            "Epoch: 9 | Loss: 0.00047673718521338757 |\n",
            "Epoch: 10 | Loss: 0.0003874049405196013 |\n",
            "Epoch: 11 | Loss: 0.0005548405648947382 |\n",
            "Epoch: 12 | Loss: 0.00046360630460936945 |\n",
            "Epoch: 13 | Loss: 0.0005701716596892077 |\n",
            "Epoch: 14 | Loss: 0.0006239746231974037 |\n",
            "Epoch: 15 | Loss: 0.0009244822456547994 |\n",
            "Epoch: 16 | Loss: 0.001127668181651051 |\n",
            "Epoch: 17 | Loss: 0.0009701518439616064 |\n",
            "Epoch: 18 | Loss: 0.000972672964420587 |\n",
            "Epoch: 19 | Loss: 0.00108868353112428 |\n",
            "Epoch: 20 | Loss: 0.0010739902776120244 |\n",
            "Epoch: 21 | Loss: 0.0010402678568446075 |\n",
            "Epoch: 22 | Loss: 0.0010910032384907641 |\n",
            "Epoch: 23 | Loss: 0.0012640546160207005 |\n",
            "Epoch: 24 | Loss: 0.001438522212639284 |\n",
            "Epoch: 25 | Loss: 0.0014615455486873693 |\n",
            "Epoch: 26 | Loss: 0.0014289744999180082 |\n",
            "Epoch: 27 | Loss: 0.001494147280740036 |\n",
            "Epoch: 28 | Loss: 0.0016325085257257838 |\n",
            "Epoch: 29 | Loss: 0.001748072857465511 |\n",
            "Epoch: 30 | Loss: 0.001658766958584518 |\n",
            "Epoch: 31 | Loss: 0.0013511749821994946 |\n",
            "Epoch: 32 | Loss: 0.0009169731695847645 |\n",
            "Epoch: 33 | Loss: 0.0005000016561143879 |\n",
            "Epoch: 34 | Loss: 0.0002579768246382785 |\n",
            "Epoch: 35 | Loss: 0.00022051722724684581 |\n",
            "Epoch: 36 | Loss: 8.944867662475034e-05 |\n",
            "Epoch: 37 | Loss: 2.386726273043903e-05 |\n",
            "Epoch: 38 | Loss: 2.9691641213403833e-05 |\n",
            "Epoch: 39 | Loss: 1.0037136889063953e-05 |\n",
            "Epoch: 40 | Loss: 7.094697177487866e-06 |\n",
            "Epoch: 41 | Loss: 3.735323628959651e-06 |\n",
            "Epoch: 42 | Loss: 4.98678116452514e-06 |\n",
            "Epoch: 43 | Loss: 3.394643667511556e-06 |\n",
            "Epoch: 44 | Loss: 4.111924997542449e-06 |\n",
            "Epoch: 45 | Loss: 3.537703646749436e-06 |\n",
            "Epoch: 46 | Loss: 3.7342551565421167e-06 |\n",
            "Epoch: 47 | Loss: 3.5055728494603607e-06 |\n",
            "Epoch: 48 | Loss: 3.492328616891038e-06 |\n",
            "Epoch: 49 | Loss: 3.4169397343401974e-06 |\n",
            "Epoch: 50 | Loss: 3.3286173961785636e-06 |\n",
            "Epoch: 51 | Loss: 3.303717578351278e-06 |\n",
            "Epoch: 52 | Loss: 3.215098920442607e-06 |\n",
            "Epoch: 53 | Loss: 3.184304086764177e-06 |\n",
            "Epoch: 54 | Loss: 3.1274725629504374e-06 |\n",
            "Epoch: 55 | Loss: 3.0821510563431227e-06 |\n",
            "Epoch: 56 | Loss: 3.0480859668755117e-06 |\n",
            "Epoch: 57 | Loss: 3.0037720865049554e-06 |\n",
            "Epoch: 58 | Loss: 2.9807981234068117e-06 |\n",
            "Epoch: 59 | Loss: 2.9445101980605907e-06 |\n",
            "Epoch: 60 | Loss: 2.9329857071401035e-06 |\n",
            "Epoch: 61 | Loss: 2.9097637581602054e-06 |\n",
            "Epoch: 62 | Loss: 2.911684552995369e-06 |\n",
            "Epoch: 63 | Loss: 2.9140543333157764e-06 |\n",
            "Epoch: 64 | Loss: 2.9433398335840303e-06 |\n",
            "Epoch: 65 | Loss: 3.0004511363919227e-06 |\n",
            "Epoch: 66 | Loss: 3.0849263642271164e-06 |\n",
            "Epoch: 67 | Loss: 3.085201301864002e-06 |\n",
            "Epoch: 68 | Loss: 2.991958159341649e-06 |\n",
            "Epoch: 69 | Loss: 8.312341993410922e-05 |\n",
            "Epoch: 70 | Loss: 7.2116762436676934e-06 |\n",
            "Epoch: 71 | Loss: 1.3579806971743788e-05 |\n",
            "Epoch: 72 | Loss: 0.03004820445430784 |\n",
            "Epoch: 73 | Loss: 0.3573393199941331 |\n",
            "Epoch: 74 | Loss: 0.34475008516290584 |\n",
            "Epoch: 75 | Loss: 0.17627996787971326 |\n",
            "Epoch: 76 | Loss: 0.08376670305211592 |\n",
            "Epoch: 77 | Loss: 0.01867856199919579 |\n",
            "Epoch: 78 | Loss: 0.017625496421037324 |\n",
            "Epoch: 79 | Loss: 0.004442514709455171 |\n",
            "Epoch: 80 | Loss: 0.017543394187416548 |\n",
            "Epoch: 81 | Loss: 0.01848165339704044 |\n",
            "Epoch: 82 | Loss: 0.005713424835816542 |\n",
            "Epoch: 83 | Loss: 0.0030196402563124575 |\n",
            "Epoch: 84 | Loss: 0.0029752843728288367 |\n",
            "Epoch: 85 | Loss: 0.000515824284692335 |\n",
            "Epoch: 86 | Loss: 0.0028798042990332974 |\n",
            "Epoch: 87 | Loss: 0.004870185471513064 |\n",
            "Epoch: 88 | Loss: 0.00141039948407667 |\n",
            "Epoch: 89 | Loss: 0.0007502434798450872 |\n",
            "Epoch: 90 | Loss: 0.0006191200081575253 |\n",
            "Epoch: 91 | Loss: 0.003224062086474295 |\n",
            "Epoch: 92 | Loss: 0.0024018433254086127 |\n",
            "Epoch: 93 | Loss: 0.0002603430557557961 |\n",
            "Epoch: 94 | Loss: 0.0002537590465736518 |\n",
            "Epoch: 95 | Loss: 0.0007274620100206876 |\n",
            "Epoch: 96 | Loss: 0.0008370869320660093 |\n",
            "Epoch: 97 | Loss: 0.0011517142130744917 |\n",
            "Epoch: 98 | Loss: 0.0014743172018189907 |\n",
            "Epoch: 99 | Loss: 0.00163060088562001 |\n"
          ]
        }
      ]
    },
    {
      "cell_type": "code",
      "source": [
        "def cost(params, data):\n",
        "     return np.sum((1 - circuit(params, single_sample)) ** 2 for single_sample in data) / Nbatch"
      ],
      "metadata": {
        "id": "tY_eeVhihFPr"
      },
      "execution_count": null,
      "outputs": []
    },
    {
      "cell_type": "code",
      "source": [
        "params = init_params\n",
        "opt = qml.MomentumQNGOptimizer(stepsize=0.01) #, lam=0.5)\n",
        "#opt = qml.QNGOptimizer(0.04)\n",
        "for it in range(200):\n",
        "    metric_fn = lambda p: np.sum((qml.metric_tensor(circuit, approx=\"block-diag\")(p, sample) for sample in data), axis = 0)/Nbatch\n",
        "    cost_fn = lambda p: cost(p, data)\n",
        "    params, loss = opt.step_and_cost(cost_fn, params,  metric_tensor_fn=metric_fn)\n",
        "\n",
        "    print(f\"Epoch: {it} | Loss: {loss} |\")"
      ],
      "metadata": {
        "id": "d4pM2KWPhR_3",
        "outputId": "3f332353-6d5f-46c8-c4f6-0634d1fa9639",
        "colab": {
          "base_uri": "https://localhost:8080/"
        }
      },
      "execution_count": null,
      "outputs": [
        {
          "output_type": "stream",
          "name": "stdout",
          "text": [
            "Epoch: 0 | Loss: 0.8005877824610932 |\n",
            "Epoch: 1 | Loss: 0.682570175161767 |\n",
            "Epoch: 2 | Loss: 0.49809886075659693 |\n",
            "Epoch: 3 | Loss: 0.31912237728263104 |\n",
            "Epoch: 4 | Loss: 0.1960505830134369 |\n",
            "Epoch: 5 | Loss: 0.13369686536480224 |\n",
            "Epoch: 6 | Loss: 0.11335349611015447 |\n",
            "Epoch: 7 | Loss: 0.11714881475809617 |\n",
            "Epoch: 8 | Loss: 0.1306696661201468 |\n",
            "Epoch: 9 | Loss: 0.14076377460149309 |\n",
            "Epoch: 10 | Loss: 0.1389576923543719 |\n",
            "Epoch: 11 | Loss: 0.12470072628897785 |\n",
            "Epoch: 12 | Loss: 0.10335355313578956 |\n",
            "Epoch: 13 | Loss: 0.08145272893800663 |\n",
            "Epoch: 14 | Loss: 0.06341340915872991 |\n",
            "Epoch: 15 | Loss: 0.050878986133147695 |\n",
            "Epoch: 16 | Loss: 0.04362094432462051 |\n",
            "Epoch: 17 | Loss: 0.04062292850823951 |\n",
            "Epoch: 18 | Loss: 0.04069257546668531 |\n",
            "Epoch: 19 | Loss: 0.04261375338951394 |\n",
            "Epoch: 20 | Loss: 0.04513436240944693 |\n",
            "Epoch: 21 | Loss: 0.04704518389074256 |\n",
            "Epoch: 22 | Loss: 0.04741019050362502 |\n",
            "Epoch: 23 | Loss: 0.04581617145672498 |\n",
            "Epoch: 24 | Loss: 0.0424536655283768 |\n",
            "Epoch: 25 | Loss: 0.03795683161950923 |\n",
            "Epoch: 26 | Loss: 0.0331022551677571 |\n",
            "Epoch: 27 | Loss: 0.028539906735732912 |\n",
            "Epoch: 28 | Loss: 0.024664597977922906 |\n",
            "Epoch: 29 | Loss: 0.02162353217942823 |\n",
            "Epoch: 30 | Loss: 0.019392270120533572 |\n",
            "Epoch: 31 | Loss: 0.01785580121845088 |\n",
            "Epoch: 32 | Loss: 0.01686533222949834 |\n",
            "Epoch: 33 | Loss: 0.016269142253458647 |\n",
            "Epoch: 34 | Loss: 0.015926971142275835 |\n",
            "Epoch: 35 | Loss: 0.01571712567378568 |\n",
            "Epoch: 36 | Loss: 0.015541255125029494 |\n",
            "Epoch: 37 | Loss: 0.015327941064294404 |\n",
            "Epoch: 38 | Loss: 0.015034310835664321 |\n",
            "Epoch: 39 | Loss: 0.014644690456283563 |\n",
            "Epoch: 40 | Loss: 0.014166123857770645 |\n",
            "Epoch: 41 | Loss: 0.013621595150096533 |\n",
            "Epoch: 42 | Loss: 0.013042422982620436 |\n",
            "Epoch: 43 | Loss: 0.012461334050702638 |\n",
            "Epoch: 44 | Loss: 0.011907273400976661 |\n",
            "Epoch: 45 | Loss: 0.011402353719871477 |\n",
            "Epoch: 46 | Loss: 0.010960764790584821 |\n",
            "Epoch: 47 | Loss: 0.010589120953280257 |\n",
            "Epoch: 48 | Loss: 0.010287639801045939 |\n",
            "Epoch: 49 | Loss: 0.01005164385611344 |\n",
            "Epoch: 50 | Loss: 0.009873053515761624 |\n",
            "Epoch: 51 | Loss: 0.009741709670351869 |\n",
            "Epoch: 52 | Loss: 0.009646483581255968 |\n",
            "Epoch: 53 | Loss: 0.009576191095971534 |\n",
            "Epoch: 54 | Loss: 0.009520340954875956 |\n",
            "Epoch: 55 | Loss: 0.009469733656838961 |\n",
            "Epoch: 56 | Loss: 0.009416907697126666 |\n",
            "Epoch: 57 | Loss: 0.009356417591086118 |\n",
            "Epoch: 58 | Loss: 0.009284929079570299 |\n",
            "Epoch: 59 | Loss: 0.009201130543747594 |\n",
            "Epoch: 60 | Loss: 0.009105480429623834 |\n",
            "Epoch: 61 | Loss: 0.008999830996902887 |\n",
            "Epoch: 62 | Loss: 0.008886982523383559 |\n",
            "Epoch: 63 | Loss: 0.008770225712542764 |\n",
            "Epoch: 64 | Loss: 0.008652923503500318 |\n",
            "Epoch: 65 | Loss: 0.008538169621860516 |\n",
            "Epoch: 66 | Loss: 0.008428544212524331 |\n",
            "Epoch: 67 | Loss: 0.008325970713839257 |\n",
            "Epoch: 68 | Loss: 0.00823166545759654 |\n",
            "Epoch: 69 | Loss: 0.008146163417122721 |\n",
            "Epoch: 70 | Loss: 0.008069399859478636 |\n",
            "Epoch: 71 | Loss: 0.008000827402275439 |\n",
            "Epoch: 72 | Loss: 0.007939549929535446 |\n",
            "Epoch: 73 | Loss: 0.007884457942109829 |\n",
            "Epoch: 74 | Loss: 0.007834353478202674 |\n",
            "Epoch: 75 | Loss: 0.007788056309868831 |\n",
            "Epoch: 76 | Loss: 0.0077444864750102465 |\n",
            "Epoch: 77 | Loss: 0.007702721211530287 |\n",
            "Epoch: 78 | Loss: 0.007662026919869972 |\n",
            "Epoch: 79 | Loss: 0.007621868798704458 |\n",
            "Epoch: 80 | Loss: 0.007581902202944526 |\n",
            "Epoch: 81 | Loss: 0.007541950534825484 |\n",
            "Epoch: 82 | Loss: 0.00750197463147053 |\n",
            "Epoch: 83 | Loss: 0.007462038252184644 |\n",
            "Epoch: 84 | Loss: 0.007422273538328116 |\n",
            "Epoch: 85 | Loss: 0.007382849379822577 |\n",
            "Epoch: 86 | Loss: 0.007343944628797646 |\n",
            "Epoch: 87 | Loss: 0.0073057271763386665 |\n",
            "Epoch: 88 | Loss: 0.007268339135361131 |\n",
            "Epoch: 89 | Loss: 0.007231887791483713 |\n",
            "Epoch: 90 | Loss: 0.0071964415986009 |\n",
            "Epoch: 91 | Loss: 0.007162030285602102 |\n",
            "Epoch: 92 | Loss: 0.007128648070235806 |\n",
            "Epoch: 93 | Loss: 0.007096259006253425 |\n",
            "Epoch: 94 | Loss: 0.007064803584304004 |\n",
            "Epoch: 95 | Loss: 0.007034205835995377 |\n",
            "Epoch: 96 | Loss: 0.0070043803327115225 |\n",
            "Epoch: 97 | Loss: 0.0069752386123904985 |\n",
            "Epoch: 98 | Loss: 0.0069466947008519605 |\n",
            "Epoch: 99 | Loss: 0.006918669515801108 |\n",
            "Epoch: 100 | Loss: 0.006891094049909767 |\n",
            "Epoch: 101 | Loss: 0.006863911323866903 |\n",
            "Epoch: 102 | Loss: 0.006837077180365232 |\n",
            "Epoch: 103 | Loss: 0.006810560054751587 |\n",
            "Epoch: 104 | Loss: 0.0067843399063436585 |\n",
            "Epoch: 105 | Loss: 0.006758406525211804 |\n",
            "Epoch: 106 | Loss: 0.006732757442110324 |\n",
            "Epoch: 107 | Loss: 0.006707395664756202 |\n",
            "Epoch: 108 | Loss: 0.006682327443497825 |\n",
            "Epoch: 109 | Loss: 0.00665756023642834 |\n",
            "Epoch: 110 | Loss: 0.006633101001971254 |\n",
            "Epoch: 111 | Loss: 0.00660895490023374 |\n",
            "Epoch: 112 | Loss: 0.006585124437439542 |\n",
            "Epoch: 113 | Loss: 0.006561609044608134 |\n",
            "Epoch: 114 | Loss: 0.006538405045680373 |\n",
            "Epoch: 115 | Loss: 0.006515505943796421 |\n",
            "Epoch: 116 | Loss: 0.006492902938534642 |\n",
            "Epoch: 117 | Loss: 0.006470585581565327 |\n",
            "Epoch: 118 | Loss: 0.006448542482277944 |\n",
            "Epoch: 119 | Loss: 0.006426761986641824 |\n",
            "Epoch: 120 | Loss: 0.006405232769471439 |\n",
            "Epoch: 121 | Loss: 0.00638394429989817 |\n",
            "Epoch: 122 | Loss: 0.0063628871597424 |\n",
            "Epoch: 123 | Loss: 0.006342053212642328 |\n",
            "Epoch: 124 | Loss: 0.006321435636686074 |\n",
            "Epoch: 125 | Loss: 0.006301028844021801 |\n",
            "Epoch: 126 | Loss: 0.00628082831718392 |\n",
            "Epoch: 127 | Loss: 0.006260830393916408 |\n",
            "Epoch: 128 | Loss: 0.006241032030710857 |\n",
            "Epoch: 129 | Loss: 0.006221430571030127 |\n",
            "Epoch: 130 | Loss: 0.0062020235382462575 |\n",
            "Epoch: 131 | Loss: 0.0061828084666710175 |\n",
            "Epoch: 132 | Loss: 0.00616378277753483 |\n",
            "Epoch: 133 | Loss: 0.006144943701032924 |\n",
            "Epoch: 134 | Loss: 0.00612628824101629 |\n",
            "Epoch: 135 | Loss: 0.006107813175741217 |\n",
            "Epoch: 136 | Loss: 0.006089515086321778 |\n",
            "Epoch: 137 | Loss: 0.006071390403982955 |\n",
            "Epoch: 138 | Loss: 0.006053435467640919 |\n",
            "Epoch: 139 | Loss: 0.00603564658446006 |\n",
            "Epoch: 140 | Loss: 0.006018020087555724 |\n",
            "Epoch: 141 | Loss: 0.006000552386662356 |\n",
            "Epoch: 142 | Loss: 0.0059832400091878735 |\n",
            "Epoch: 143 | Loss: 0.005966079630469233 |\n",
            "Epoch: 144 | Loss: 0.005949068093171661 |\n",
            "Epoch: 145 | Loss: 0.00593220241658892 |\n",
            "Epoch: 146 | Loss: 0.005915479797153492 |\n",
            "Epoch: 147 | Loss: 0.0058988976017492365 |\n",
            "Epoch: 148 | Loss: 0.005882453355538233 |\n",
            "Epoch: 149 | Loss: 0.005866144725970868 |\n",
            "Epoch: 150 | Loss: 0.005849969504529218 |\n",
            "Epoch: 151 | Loss: 0.005833925587575384 |\n",
            "Epoch: 152 | Loss: 0.005818010957472832 |\n",
            "Epoch: 153 | Loss: 0.005802223664927692 |\n",
            "Epoch: 154 | Loss: 0.005786561813283504 |\n",
            "Epoch: 155 | Loss: 0.005771023545284902 |\n",
            "Epoch: 156 | Loss: 0.005755607032623314 |\n",
            "Epoch: 157 | Loss: 0.0057403104683755955 |\n",
            "Epoch: 158 | Loss: 0.00572513206227343 |\n",
            "Epoch: 159 | Loss: 0.005710070038579982 |\n",
            "Epoch: 160 | Loss: 0.005695122636222682 |\n",
            "Epoch: 161 | Loss: 0.005680288110733651 |\n",
            "Epoch: 162 | Loss: 0.005665564737496066 |\n",
            "Epoch: 163 | Loss: 0.00565095081577323 |\n",
            "Epoch: 164 | Loss: 0.005636444673020246 |\n",
            "Epoch: 165 | Loss: 0.005622044669032282 |\n",
            "Epoch: 166 | Loss: 0.005607749199563002 |\n",
            "Epoch: 167 | Loss: 0.005593556699146894 |\n",
            "Epoch: 168 | Loss: 0.005579465642964942 |\n",
            "Epoch: 169 | Loss: 0.005565474547694764 |\n",
            "Epoch: 170 | Loss: 0.005551581971383255 |\n",
            "Epoch: 171 | Loss: 0.005537786512450358 |\n",
            "Epoch: 172 | Loss: 0.0055240868079952125 |\n",
            "Epoch: 173 | Loss: 0.0055104815315964424 |\n",
            "Epoch: 174 | Loss: 0.005496969390819073 |\n",
            "Epoch: 175 | Loss: 0.0054835491246194735 |\n",
            "Epoch: 176 | Loss: 0.005470219500822975 |\n",
            "Epoch: 177 | Loss: 0.0054569793138064164 |\n",
            "Epoch: 178 | Loss: 0.005443827382478379 |\n",
            "Epoch: 179 | Loss: 0.005430762548610033 |\n",
            "Epoch: 180 | Loss: 0.005417783675528924 |\n",
            "Epoch: 181 | Loss: 0.005404889647155865 |\n",
            "Epoch: 182 | Loss: 0.005392079367343239 |\n",
            "Epoch: 183 | Loss: 0.005379351759458601 |\n",
            "Epoch: 184 | Loss: 0.005366705766144555 |\n",
            "Epoch: 185 | Loss: 0.005354140349196334 |\n",
            "Epoch: 186 | Loss: 0.005341654489495006 |\n",
            "Epoch: 187 | Loss: 0.005329247186948376 |\n",
            "Epoch: 188 | Loss: 0.0053169174604071525 |\n",
            "Epoch: 189 | Loss: 0.005304664347523471 |\n",
            "Epoch: 190 | Loss: 0.005292486904549157 |\n",
            "Epoch: 191 | Loss: 0.005280384206061324 |\n",
            "Epoch: 192 | Loss: 0.005268355344625169 |\n",
            "Epoch: 193 | Loss: 0.005256399430401694 |\n",
            "Epoch: 194 | Loss: 0.005244515590711925 |\n",
            "Epoch: 195 | Loss: 0.005232702969573618 |\n",
            "Epoch: 196 | Loss: 0.00522096072722069 |\n",
            "Epoch: 197 | Loss: 0.005209288039621085 |\n",
            "Epoch: 198 | Loss: 0.00519768409799922 |\n",
            "Epoch: 199 | Loss: 0.0051861481083738436 |\n"
          ]
        }
      ]
    },
    {
      "cell_type": "code",
      "execution_count": 2,
      "metadata": {
        "colab": {
          "base_uri": "https://localhost:8080/"
        },
        "id": "6re4ydSAOoJo",
        "outputId": "cd73e8b0-1a00-4707-ad97-c45d83244b06"
      },
      "outputs": [
        {
          "output_type": "stream",
          "name": "stdout",
          "text": [
            "Requirement already satisfied: pennylane in /usr/local/lib/python3.12/dist-packages (0.42.3)\n",
            "Requirement already satisfied: scipy in /usr/local/lib/python3.12/dist-packages (from pennylane) (1.16.1)\n",
            "Requirement already satisfied: networkx in /usr/local/lib/python3.12/dist-packages (from pennylane) (3.5)\n",
            "Requirement already satisfied: rustworkx>=0.14.0 in /usr/local/lib/python3.12/dist-packages (from pennylane) (0.17.1)\n",
            "Requirement already satisfied: autograd in /usr/local/lib/python3.12/dist-packages (from pennylane) (1.8.0)\n",
            "Requirement already satisfied: appdirs in /usr/local/lib/python3.12/dist-packages (from pennylane) (1.4.4)\n",
            "Requirement already satisfied: autoray<0.8,>=0.6.11 in /usr/local/lib/python3.12/dist-packages (from pennylane) (0.7.2)\n",
            "Requirement already satisfied: cachetools in /usr/local/lib/python3.12/dist-packages (from pennylane) (5.5.2)\n",
            "Requirement already satisfied: pennylane-lightning>=0.42 in /usr/local/lib/python3.12/dist-packages (from pennylane) (0.42.0)\n",
            "Requirement already satisfied: requests in /usr/local/lib/python3.12/dist-packages (from pennylane) (2.32.4)\n",
            "Requirement already satisfied: tomlkit in /usr/local/lib/python3.12/dist-packages (from pennylane) (0.13.3)\n",
            "Requirement already satisfied: typing_extensions in /usr/local/lib/python3.12/dist-packages (from pennylane) (4.15.0)\n",
            "Requirement already satisfied: packaging in /usr/local/lib/python3.12/dist-packages (from pennylane) (25.0)\n",
            "Requirement already satisfied: diastatic-malt in /usr/local/lib/python3.12/dist-packages (from pennylane) (2.15.2)\n",
            "Requirement already satisfied: numpy in /usr/local/lib/python3.12/dist-packages (from pennylane) (2.0.2)\n",
            "Requirement already satisfied: scipy-openblas32>=0.3.26 in /usr/local/lib/python3.12/dist-packages (from pennylane-lightning>=0.42->pennylane) (0.3.30.0.2)\n",
            "Requirement already satisfied: astunparse in /usr/local/lib/python3.12/dist-packages (from diastatic-malt->pennylane) (1.6.3)\n",
            "Requirement already satisfied: gast in /usr/local/lib/python3.12/dist-packages (from diastatic-malt->pennylane) (0.6.0)\n",
            "Requirement already satisfied: termcolor in /usr/local/lib/python3.12/dist-packages (from diastatic-malt->pennylane) (3.1.0)\n",
            "Requirement already satisfied: charset_normalizer<4,>=2 in /usr/local/lib/python3.12/dist-packages (from requests->pennylane) (3.4.3)\n",
            "Requirement already satisfied: idna<4,>=2.5 in /usr/local/lib/python3.12/dist-packages (from requests->pennylane) (3.10)\n",
            "Requirement already satisfied: urllib3<3,>=1.21.1 in /usr/local/lib/python3.12/dist-packages (from requests->pennylane) (2.5.0)\n",
            "Requirement already satisfied: certifi>=2017.4.17 in /usr/local/lib/python3.12/dist-packages (from requests->pennylane) (2025.8.3)\n",
            "Requirement already satisfied: wheel<1.0,>=0.23.0 in /usr/local/lib/python3.12/dist-packages (from astunparse->diastatic-malt->pennylane) (0.45.1)\n",
            "Requirement already satisfied: six<2.0,>=1.6.1 in /usr/local/lib/python3.12/dist-packages (from astunparse->diastatic-malt->pennylane) (1.17.0)\n",
            "Collecting pennylane_cirq\n",
            "  Downloading pennylane_cirq-0.42.0-py3-none-any.whl.metadata (7.1 kB)\n",
            "Requirement already satisfied: pennylane>=0.42.0 in /usr/local/lib/python3.12/dist-packages (from pennylane_cirq) (0.42.3)\n",
            "Collecting cirq-core>=0.10 (from pennylane_cirq)\n",
            "  Downloading cirq_core-1.6.1-py3-none-any.whl.metadata (4.8 kB)\n",
            "Collecting cirq-pasqal>=0.10 (from pennylane_cirq)\n",
            "  Downloading cirq_pasqal-1.6.1-py3-none-any.whl.metadata (4.7 kB)\n",
            "Requirement already satisfied: attrs>=21.3.0 in /usr/local/lib/python3.12/dist-packages (from cirq-core>=0.10->pennylane_cirq) (25.3.0)\n",
            "Collecting duet>=0.2.8 (from cirq-core>=0.10->pennylane_cirq)\n",
            "  Downloading duet-0.2.9-py3-none-any.whl.metadata (2.3 kB)\n",
            "Requirement already satisfied: matplotlib~=3.8 in /usr/local/lib/python3.12/dist-packages (from cirq-core>=0.10->pennylane_cirq) (3.10.0)\n",
            "Requirement already satisfied: networkx~=3.4 in /usr/local/lib/python3.12/dist-packages (from cirq-core>=0.10->pennylane_cirq) (3.5)\n",
            "Requirement already satisfied: numpy>=1.26 in /usr/local/lib/python3.12/dist-packages (from cirq-core>=0.10->pennylane_cirq) (2.0.2)\n",
            "Requirement already satisfied: pandas~=2.1 in /usr/local/lib/python3.12/dist-packages (from cirq-core>=0.10->pennylane_cirq) (2.2.2)\n",
            "Requirement already satisfied: sortedcontainers~=2.0 in /usr/local/lib/python3.12/dist-packages (from cirq-core>=0.10->pennylane_cirq) (2.4.0)\n",
            "Requirement already satisfied: scipy~=1.12 in /usr/local/lib/python3.12/dist-packages (from cirq-core>=0.10->pennylane_cirq) (1.16.1)\n",
            "Requirement already satisfied: sympy in /usr/local/lib/python3.12/dist-packages (from cirq-core>=0.10->pennylane_cirq) (1.13.3)\n",
            "Requirement already satisfied: typing_extensions>=4.2 in /usr/local/lib/python3.12/dist-packages (from cirq-core>=0.10->pennylane_cirq) (4.15.0)\n",
            "Requirement already satisfied: tqdm>=4.12 in /usr/local/lib/python3.12/dist-packages (from cirq-core>=0.10->pennylane_cirq) (4.67.1)\n",
            "Requirement already satisfied: requests~=2.32 in /usr/local/lib/python3.12/dist-packages (from cirq-pasqal>=0.10->pennylane_cirq) (2.32.4)\n",
            "Requirement already satisfied: rustworkx>=0.14.0 in /usr/local/lib/python3.12/dist-packages (from pennylane>=0.42.0->pennylane_cirq) (0.17.1)\n",
            "Requirement already satisfied: autograd in /usr/local/lib/python3.12/dist-packages (from pennylane>=0.42.0->pennylane_cirq) (1.8.0)\n",
            "Requirement already satisfied: appdirs in /usr/local/lib/python3.12/dist-packages (from pennylane>=0.42.0->pennylane_cirq) (1.4.4)\n",
            "Requirement already satisfied: autoray<0.8,>=0.6.11 in /usr/local/lib/python3.12/dist-packages (from pennylane>=0.42.0->pennylane_cirq) (0.7.2)\n",
            "Requirement already satisfied: cachetools in /usr/local/lib/python3.12/dist-packages (from pennylane>=0.42.0->pennylane_cirq) (5.5.2)\n",
            "Requirement already satisfied: pennylane-lightning>=0.42 in /usr/local/lib/python3.12/dist-packages (from pennylane>=0.42.0->pennylane_cirq) (0.42.0)\n",
            "Requirement already satisfied: tomlkit in /usr/local/lib/python3.12/dist-packages (from pennylane>=0.42.0->pennylane_cirq) (0.13.3)\n",
            "Requirement already satisfied: packaging in /usr/local/lib/python3.12/dist-packages (from pennylane>=0.42.0->pennylane_cirq) (25.0)\n",
            "Requirement already satisfied: diastatic-malt in /usr/local/lib/python3.12/dist-packages (from pennylane>=0.42.0->pennylane_cirq) (2.15.2)\n",
            "Requirement already satisfied: contourpy>=1.0.1 in /usr/local/lib/python3.12/dist-packages (from matplotlib~=3.8->cirq-core>=0.10->pennylane_cirq) (1.3.3)\n",
            "Requirement already satisfied: cycler>=0.10 in /usr/local/lib/python3.12/dist-packages (from matplotlib~=3.8->cirq-core>=0.10->pennylane_cirq) (0.12.1)\n",
            "Requirement already satisfied: fonttools>=4.22.0 in /usr/local/lib/python3.12/dist-packages (from matplotlib~=3.8->cirq-core>=0.10->pennylane_cirq) (4.59.2)\n",
            "Requirement already satisfied: kiwisolver>=1.3.1 in /usr/local/lib/python3.12/dist-packages (from matplotlib~=3.8->cirq-core>=0.10->pennylane_cirq) (1.4.9)\n",
            "Requirement already satisfied: pillow>=8 in /usr/local/lib/python3.12/dist-packages (from matplotlib~=3.8->cirq-core>=0.10->pennylane_cirq) (11.3.0)\n",
            "Requirement already satisfied: pyparsing>=2.3.1 in /usr/local/lib/python3.12/dist-packages (from matplotlib~=3.8->cirq-core>=0.10->pennylane_cirq) (3.2.3)\n",
            "Requirement already satisfied: python-dateutil>=2.7 in /usr/local/lib/python3.12/dist-packages (from matplotlib~=3.8->cirq-core>=0.10->pennylane_cirq) (2.9.0.post0)\n",
            "Requirement already satisfied: pytz>=2020.1 in /usr/local/lib/python3.12/dist-packages (from pandas~=2.1->cirq-core>=0.10->pennylane_cirq) (2025.2)\n",
            "Requirement already satisfied: tzdata>=2022.7 in /usr/local/lib/python3.12/dist-packages (from pandas~=2.1->cirq-core>=0.10->pennylane_cirq) (2025.2)\n",
            "Requirement already satisfied: scipy-openblas32>=0.3.26 in /usr/local/lib/python3.12/dist-packages (from pennylane-lightning>=0.42->pennylane>=0.42.0->pennylane_cirq) (0.3.30.0.2)\n",
            "Requirement already satisfied: charset_normalizer<4,>=2 in /usr/local/lib/python3.12/dist-packages (from requests~=2.32->cirq-pasqal>=0.10->pennylane_cirq) (3.4.3)\n",
            "Requirement already satisfied: idna<4,>=2.5 in /usr/local/lib/python3.12/dist-packages (from requests~=2.32->cirq-pasqal>=0.10->pennylane_cirq) (3.10)\n",
            "Requirement already satisfied: urllib3<3,>=1.21.1 in /usr/local/lib/python3.12/dist-packages (from requests~=2.32->cirq-pasqal>=0.10->pennylane_cirq) (2.5.0)\n",
            "Requirement already satisfied: certifi>=2017.4.17 in /usr/local/lib/python3.12/dist-packages (from requests~=2.32->cirq-pasqal>=0.10->pennylane_cirq) (2025.8.3)\n",
            "Requirement already satisfied: astunparse in /usr/local/lib/python3.12/dist-packages (from diastatic-malt->pennylane>=0.42.0->pennylane_cirq) (1.6.3)\n",
            "Requirement already satisfied: gast in /usr/local/lib/python3.12/dist-packages (from diastatic-malt->pennylane>=0.42.0->pennylane_cirq) (0.6.0)\n",
            "Requirement already satisfied: termcolor in /usr/local/lib/python3.12/dist-packages (from diastatic-malt->pennylane>=0.42.0->pennylane_cirq) (3.1.0)\n",
            "Requirement already satisfied: mpmath<1.4,>=1.1.0 in /usr/local/lib/python3.12/dist-packages (from sympy->cirq-core>=0.10->pennylane_cirq) (1.3.0)\n",
            "Requirement already satisfied: six>=1.5 in /usr/local/lib/python3.12/dist-packages (from python-dateutil>=2.7->matplotlib~=3.8->cirq-core>=0.10->pennylane_cirq) (1.17.0)\n",
            "Requirement already satisfied: wheel<1.0,>=0.23.0 in /usr/local/lib/python3.12/dist-packages (from astunparse->diastatic-malt->pennylane>=0.42.0->pennylane_cirq) (0.45.1)\n",
            "Downloading pennylane_cirq-0.42.0-py3-none-any.whl (21 kB)\n",
            "Downloading cirq_core-1.6.1-py3-none-any.whl (2.0 MB)\n",
            "\u001b[2K   \u001b[90m━━━━━━━━━━━━━━━━━━━━━━━━━━━━━━━━━━━━━━━━\u001b[0m \u001b[32m2.0/2.0 MB\u001b[0m \u001b[31m68.6 MB/s\u001b[0m eta \u001b[36m0:00:00\u001b[0m\n",
            "\u001b[?25hDownloading cirq_pasqal-1.6.1-py3-none-any.whl (33 kB)\n",
            "Downloading duet-0.2.9-py3-none-any.whl (29 kB)\n",
            "Installing collected packages: duet, cirq-core, cirq-pasqal, pennylane_cirq\n",
            "Successfully installed cirq-core-1.6.1 cirq-pasqal-1.6.1 duet-0.2.9 pennylane_cirq-0.42.0\n"
          ]
        }
      ],
      "source": [
        "# This cell is added by sphinx-gallery\n",
        "# It can be customized to whatever you like\n",
        "%matplotlib inline\n",
        "!pip install pennylane\n",
        "!pip install pennylane_cirq"
      ]
    },
    {
      "cell_type": "markdown",
      "metadata": {
        "id": "e62PsLWNOoJv"
      },
      "source": [
        "# Optimizing noisy circuits with Cirq\n",
        "\n",
        "::: meta\n",
        ":property=\\\"og:description\\\": Learn how noise can affect the\n",
        "optimization and training of quantum computations.\n",
        ":property=\\\"og:image\\\":\n",
        "<https://pennylane.ai/qml/_static/demonstration_assets/noisy_circuit_optimization_thumbnail.png>\n",
        ":::\n",
        "\n",
        "::: related\n",
        "pytorch_noise PyTorch and noisy devices\n",
        ":::\n",
        "\n",
        "![](https://github.com/borbysh/Momentum-QNG/blob/main/_static/demonstration_assets/noisy_circuit_optimization/noisy_qubit.png?raw=1){.align-center\n",
        "width=\"90.0%\"}\n",
        "\n",
        "Until we have fault-tolerant quantum computers, we will have to learn to\n",
        "live with noise. There are lots of exciting ideas and algorithms in\n",
        "quantum computing and quantum machine learning, but how well do they\n",
        "survive the reality of today\\'s noisy devices?\n",
        "\n",
        "## Background\n",
        "\n",
        "Quantum pure-state simulators are great and readily available in a\n",
        "number of quantum software packages. They allow us to experiment,\n",
        "prototype, test, and validate algorithms and research ideas---up to a\n",
        "certain number of qubits, at least.\n",
        "\n",
        "But present-day hardware is not ideal. We\\'re forced to confront\n",
        "decoherence, bit flips, amplitude damping, and so on. Does the presence\n",
        "of noise in near-term devices impact their use in, for example,\n",
        "`variational quantum algorithms </glossary/variational_circuit>`{.interpreted-text\n",
        "role=\"doc\"}? Won\\'t our models, trained so carefully in simulators, fall\n",
        "apart when we run on noisy devices?\n",
        "\n",
        "In fact, there is some optimism that variational algorithms may be the\n",
        "best type of algorithms on near-term devices, and could have an in-built\n",
        "adaptability to noise that more rigid textbook algorithms do not\n",
        "possess. Variational algorithms are somewhat robust against the fact\n",
        "that the device they are run on may not be ideal. Being variational in\n",
        "nature, they can be tuned to \\\"work around\\\" noise to some extent.\n",
        "\n",
        "Quantum machine learning leverages a lot of tools from its classical\n",
        "counterpart. Fortunately, there is great evidence that machine learning\n",
        "algorithms can not only be robust to noise, but can even benefit from\n",
        "it! Examples include the use of [reduced-precision arithmetic in deep\n",
        "learning](https://dl.acm.org/doi/abs/10.5555/3045118.3045303), the\n",
        "strong performance of [stochastic gradient\n",
        "descent](https://en.wikipedia.org/wiki/Stochastic_gradient_descent), and\n",
        "the use of \\\"dropout\\\" noise to [prevent\n",
        "overfitting](https://www.cs.toronto.edu/~hinton/absps/JMLRdropout.pdf).\n",
        "\n",
        "With this evidence to motivate us, we can still hope to find, extract,\n",
        "and work with the underlying quantum \\\"signal\\\" that is influenced by a\n",
        "device\\'s inherent noise.\n",
        "\n",
        "## Noisy circuits: creating a Bell state\n",
        "\n",
        "Let\\'s consider a simple quantum circuit which performs a standard\n",
        "quantum information task: the creation of an entangled state and the\n",
        "measurement of a [Bell\n",
        "inequality](https://en.wikipedia.org/wiki/Bell%27s_theorem) (also known\n",
        "as the [CHSH\n",
        "inequality](https://en.wikipedia.org/wiki/CHSH_inequality)).\n",
        "\n",
        "Since we\\'ll be dealing with noise, we\\'ll need to use a simulator that\n",
        "supports noise and density-state representations of quantum states (in\n",
        "contrast to many simulators, which use a pure-state representation).\n",
        "\n",
        "Fortunately, [Cirq](https://cirq.readthedocs.io) provides mixed-state\n",
        "simulators and noisy operations natively, so we can use the\n",
        "[PennyLane-Cirq plugin](https://pennylane-cirq.readthedocs.io) to carry\n",
        "out our noisy simulations.\n"
      ]
    },
    {
      "cell_type": "code",
      "execution_count": 3,
      "metadata": {
        "colab": {
          "base_uri": "https://localhost:8080/"
        },
        "id": "yWppXB9gOoJz",
        "outputId": "45d188cd-7116-4d67-cb36-52a4bb09d8b3"
      },
      "outputs": [
        {
          "output_type": "stream",
          "name": "stdout",
          "text": [
            "2.726\n"
          ]
        }
      ],
      "source": [
        "import pennylane as qml\n",
        "from pennylane import numpy as np\n",
        "import matplotlib.pyplot as plt\n",
        "\n",
        "dev = qml.device(\"cirq.mixedsimulator\", wires=2, shots=1000)\n",
        "\n",
        "# CHSH observables\n",
        "A1 = qml.PauliZ(0)\n",
        "A2 = qml.PauliX(0)\n",
        "B1 = qml.Hermitian(np.array([[1, 1], [1, -1]]) / np.sqrt(2), wires=1)\n",
        "B2 = qml.Hermitian(np.array([[1, -1], [-1, -1]]) / np.sqrt(2), wires=1)\n",
        "CHSH_observables = [A1 @ B1, A1 @ B2, A2 @ B1, A2 @ B2]\n",
        "\n",
        "\n",
        "# subcircuit for creating an entangled pair of qubits\n",
        "def bell_pair():\n",
        "    qml.Hadamard(wires=0)\n",
        "    qml.CNOT(wires=[0, 1])\n",
        "\n",
        "\n",
        "# circuits for measuring each distinct observable\n",
        "@qml.qnode(dev)\n",
        "def measure_A1B1():\n",
        "    bell_pair()\n",
        "    return qml.expval(A1 @ B1)\n",
        "\n",
        "\n",
        "@qml.qnode(dev)\n",
        "def measure_A1B2():\n",
        "    bell_pair()\n",
        "    return qml.expval(A1 @ B2)\n",
        "\n",
        "\n",
        "@qml.qnode(dev)\n",
        "def measure_A2B1():\n",
        "    bell_pair()\n",
        "    return qml.expval(A2 @ B1)\n",
        "\n",
        "\n",
        "@qml.qnode(dev)\n",
        "def measure_A2B2():\n",
        "    bell_pair()\n",
        "    return qml.expval(A2 @ B2)\n",
        "\n",
        "\n",
        "# now we measure each circuit and construct the CHSH inequality\n",
        "expvals = [measure_A1B1(), measure_A1B2(), measure_A2B1(), measure_A2B2()]\n",
        "\n",
        "# The CHSH operator is A1 @ B1 + A1 @ B2 + A2 @ B1 - A2 @ B2\n",
        "CHSH_expval = np.sum(expvals[:3]) - expvals[3]\n",
        "print(CHSH_expval)"
      ]
    },
    {
      "cell_type": "markdown",
      "metadata": {
        "id": "ReTLZKz_OoJ1"
      },
      "source": [
        "The output here is $2\\sqrt{2},$ which is the maximal value of the CHSH\n",
        "inequality. States which have a value $\\langle CHSH \\rangle \\geq 2$ can\n",
        "safely be considered \\\"quantum\\\".\n",
        "\n",
        "::: note\n",
        "::: title\n",
        "Note\n",
        ":::\n",
        "\n",
        "In this situation \\\"quantum\\\" means that there is no [local hidden\n",
        "variable\n",
        "theory](https://en.wikipedia.org/wiki/Local_hidden-variable_theory)\n",
        "which could produce these measurement outcomes. It does not strictly\n",
        "mean the presence of entanglement.\n",
        ":::\n",
        "\n",
        "Now let\\'s turn up the noise! 📢 📢 📢\n",
        "\n",
        "Cirq provides a number of noisy channels that are not part of PennyLane\n",
        "core. This is no issue, as the\n",
        "[PennyLane-Cirq](https://pennylane-cirq.readthedocs.io) plugin provides\n",
        "these and allows them to be used directly in PennyLane circuit\n",
        "declarations.\n"
      ]
    },
    {
      "cell_type": "code",
      "execution_count": 4,
      "metadata": {
        "colab": {
          "base_uri": "https://localhost:8080/"
        },
        "id": "3Et4BVFDOoJ2",
        "outputId": "2deb9565-ba3c-48d1-a171-b0239dbef428"
      },
      "outputs": [
        {
          "output_type": "stream",
          "name": "stdout",
          "text": [
            "AmplitudeDamp\n",
            "BitFlip\n",
            "Depolarize\n",
            "Operation\n",
            "PhaseDamp\n",
            "PhaseFlip\n"
          ]
        }
      ],
      "source": [
        "from pennylane_cirq import ops as cirq_ops\n",
        "\n",
        "# Note that the 'Operation' op is a generic base class\n",
        "# from PennyLane core.\n",
        "# All other ops are provided by Cirq.\n",
        "available_ops = [op for op in dir(cirq_ops) if not op.startswith(\"_\")]\n",
        "print(\"\\n\".join(available_ops))"
      ]
    },
    {
      "cell_type": "markdown",
      "metadata": {
        "id": "PocSiGKmOoJ3"
      },
      "source": [
        "PennyLane operations and external framework-specific operations can be\n",
        "interwoven freely in circuits that use that plugin\\'s device for\n",
        "execution. In this case, the Cirq-provided channels can be used with\n",
        "Cirq\\'s mixed-state simulator.\n",
        "\n",
        "We\\'ll use the `BitFlip` channel, which has the effect of randomly\n",
        "flipping the qubits in the computational basis.\n"
      ]
    },
    {
      "cell_type": "code",
      "execution_count": 5,
      "metadata": {
        "colab": {
          "base_uri": "https://localhost:8080/",
          "height": 450
        },
        "id": "u95p9DFEOoJ3",
        "outputId": "a8bcafe9-e33e-4669-adb9-32f2bf548ad6"
      },
      "outputs": [
        {
          "output_type": "display_data",
          "data": {
            "text/plain": [
              "<Figure size 640x480 with 1 Axes>"
            ],
            "image/png": "[encoded data removed]"
          },
          "metadata": {}
        }
      ],
      "source": [
        "noise_vals = np.linspace(0, 1, 25)\n",
        "\n",
        "CHSH_vals = []\n",
        "noisy_expvals = []\n",
        "\n",
        "for p in noise_vals:\n",
        "    # we overwrite the bell_pair() subcircuit to add\n",
        "    # extra noisy channels after the entangled state is created\n",
        "    def bell_pair():\n",
        "        qml.Hadamard(wires=0)\n",
        "        qml.CNOT(wires=[0, 1])\n",
        "        cirq_ops.BitFlip(p, wires=0)\n",
        "        cirq_ops.BitFlip(p, wires=1)\n",
        "\n",
        "    # measuring the circuits will now use the new noisy bell_pair() function\n",
        "    expvals = [measure_A1B1(), measure_A1B2(), measure_A2B1(), measure_A2B2()]\n",
        "    noisy_expvals.append(expvals)\n",
        "noisy_expvals = np.array(noisy_expvals)\n",
        "CHSH_expvals = np.sum(noisy_expvals[:, :3], axis=1) - noisy_expvals[:, 3]\n",
        "\n",
        "# Plot the individual observables\n",
        "plt.plot(noise_vals, noisy_expvals[:, 0], \"D\", label=r\"$\\hat{A1}\\otimes \\hat{B1}$\", markersize=5)\n",
        "plt.plot(noise_vals, noisy_expvals[:, 1], \"x\", label=r\"$\\hat{A1}\\otimes \\hat{B2}$\", markersize=12)\n",
        "plt.plot(noise_vals, noisy_expvals[:, 2], \"+\", label=r\"$\\hat{A2}\\otimes \\hat{B1}$\", markersize=10)\n",
        "plt.plot(noise_vals, noisy_expvals[:, 3], \"v\", label=r\"$\\hat{A2}\\otimes \\hat{B2}$\", markersize=10)\n",
        "plt.xlabel(\"Noise parameter\")\n",
        "plt.ylabel(r\"Expectation value $\\langle \\hat{A}_i\\otimes\\hat{B}_j\\rangle$\")\n",
        "plt.legend()\n",
        "plt.show()"
      ]
    },
    {
      "cell_type": "markdown",
      "metadata": {
        "id": "rZ4YHzGrOoJ4"
      },
      "source": [
        "By adding the bit-flip noise, we have degraded the value of the CHSH\n",
        "observable. The first two observables $\\hat{A}_1\\otimes \\hat{B}_1$ and\n",
        "$\\hat{A}_1\\otimes \\hat{B}_2$ are sensitive to this noise parameter.\n",
        "Their value is weakened when the noise parameter is not 0 or 1 (note\n",
        "that the the CHSH operator is symmetric with respect to bit flips).\n",
        "\n",
        "The latter two observables, on the other hand, are seemingly unaffected\n",
        "by the noise at all.\n",
        "\n",
        "We can see that even when noise is present, there may still be subspaces\n",
        "or observables which are minimally affected or unaffected. This gives us\n",
        "some hope that variational algorithms can learn to find and exploit such\n",
        "noise-free substructures on otherwise noisy devices.\n",
        "\n",
        "We can also plot the CHSH observable in the noisy case. Remember, values\n",
        "greater than 2 can safely be considered \\\"quantum\\\".\n"
      ]
    },
    {
      "cell_type": "code",
      "execution_count": 6,
      "metadata": {
        "colab": {
          "base_uri": "https://localhost:8080/",
          "height": 449
        },
        "id": "46Y3HzbfOoJ6",
        "outputId": "8fca0b72-4faf-4276-8a7b-b1b186f14862"
      },
      "outputs": [
        {
          "output_type": "display_data",
          "data": {
            "text/plain": [
              "<Figure size 640x480 with 1 Axes>"
            ],
            "image/png": "[encoded data removed]"
          },
          "metadata": {}
        }
      ],
      "source": [
        "plt.plot(noise_vals, CHSH_expvals, label=\"CHSH\")\n",
        "plt.plot(noise_vals, 2 * np.ones_like(noise_vals), label=\"Quantum-classical boundary\")\n",
        "plt.xlabel(\"Noise parameter\")\n",
        "plt.ylabel(\"CHSH Expectation value\")\n",
        "plt.legend()\n",
        "plt.show()"
      ]
    },
    {
      "cell_type": "markdown",
      "metadata": {
        "id": "KxXwK9tmOoJ7"
      },
      "source": [
        "Too much noise (around 0.2 in this example), and we lose the quantumness\n",
        "we created in our circuit. But if we only have a little noise, the\n",
        "quantumness undeniably remains. So there is still hope that quantum\n",
        "algorithms can do something useful, even on noisy near-term devices, so\n",
        "long as the noise is not high.\n",
        "\n",
        "::: note\n",
        "::: title\n",
        "Note\n",
        ":::\n",
        "\n",
        "In Google\\'s quantum supremacy paper, they were able to show that some\n",
        "small signature of quantumness remained in their computations, even\n",
        "after a deep many-qubit noisy circuit was executed.\n",
        ":::\n"
      ]
    },
    {
      "cell_type": "markdown",
      "metadata": {
        "id": "Ho2TSaFSOoJ8"
      },
      "source": [
        "# Optimizing noisy circuits\n",
        "\n",
        "Now, how does noise affect the ability to optimize or train a\n",
        "variational circuit?\n",
        "\n",
        "Let\\'s consider an analog of the basic\n",
        "`qubit rotation tutorial <demos/tutorial_qubit_rotation>`{.interpreted-text\n",
        "role=\"doc\"}, but where we add an extra noise channel after the gates.\n",
        "\n",
        "::: note\n",
        "::: title\n",
        "Note\n",
        ":::\n",
        "\n",
        "We model the noise process as the application of ideal noise-free gates,\n",
        "followed by the action of a noisy channel. This is a common technique\n",
        "for modelling noise, but may not be appropriate for all situations.\n",
        ":::\n"
      ]
    },
    {
      "cell_type": "code",
      "execution_count": 7,
      "metadata": {
        "colab": {
          "base_uri": "https://localhost:8080/"
        },
        "id": "Td67kO-lOoJ8",
        "outputId": "60ceaa55-1888-44ce-a93f-347366dc86fc"
      },
      "outputs": [
        {
          "output_type": "stream",
          "name": "stdout",
          "text": [
            "Expectation value: 0.862\n"
          ]
        }
      ],
      "source": [
        "@qml.qnode(dev)\n",
        "def circuit(gate_params, noise_param=0.0):\n",
        "    qml.RX(gate_params[0], wires=0)\n",
        "    qml.RY(gate_params[1], wires=0)\n",
        "    cirq_ops.Depolarize(noise_param, wires=0)\n",
        "    return qml.expval(qml.PauliZ(0))\n",
        "\n",
        "\n",
        "gate_pars = [0.54, 0.12]\n",
        "print(\"Expectation value:\", circuit(gate_pars))"
      ]
    },
    {
      "cell_type": "markdown",
      "metadata": {
        "id": "23aVHj89OoJ9"
      },
      "source": [
        "In this case, the depolarizing channel degrades the qubit\\'s density\n",
        "matrix $\\rho$ towards the state\n",
        "\n",
        "$$\\rho' = \\tfrac{1}{3}\\left[X\\rho X + Y\\rho Y + Z\\rho Z\\right]$$\n",
        "\n",
        "(at the value $p=\\frac{3}{4},$ it passes through the maximally mixed\n",
        "state). We can see this in our circuit by looking at how the final\n",
        "`~pennylane.ops.PauliZ`{.interpreted-text role=\"class\"} expectation\n",
        "value changes as a function of the noise strength.\n"
      ]
    },
    {
      "cell_type": "code",
      "execution_count": 8,
      "metadata": {
        "colab": {
          "base_uri": "https://localhost:8080/",
          "height": 453
        },
        "id": "BBlafToiOoJ9",
        "outputId": "0ae90b3e-0e0d-4cc5-d1f9-61d9e8eed839"
      },
      "outputs": [
        {
          "output_type": "display_data",
          "data": {
            "text/plain": [
              "<Figure size 640x480 with 1 Axes>"
            ],
            "image/png": "[encoded data removed]"
          },
          "metadata": {}
        }
      ],
      "source": [
        "noise_vals = np.linspace(0.0, 1.0, 20)\n",
        "expvals = [circuit(gate_pars, noise_param=p) for p in noise_vals]\n",
        "\n",
        "plt.plot(noise_vals, expvals, label=\"Expectation value\")\n",
        "plt.plot(noise_vals, np.ones_like(noise_vals), \"--\", label=\"Highest possible\")\n",
        "plt.plot(noise_vals, -np.ones_like(noise_vals), \"--\", label=\"Lowest possible\")\n",
        "plt.ylabel(r\"Expectation value $\\langle \\hat{Z} \\rangle$\")\n",
        "plt.xlabel(r\"Noise strength $p$\")\n",
        "plt.legend()\n",
        "plt.show()"
      ]
    },
    {
      "cell_type": "markdown",
      "metadata": {
        "id": "LrlxmNX5OoJ-"
      },
      "source": [
        "Let\\'s fix the noise parameter and see how the noise affects the\n",
        "optimization of our circuit. The goal is the same as the\n",
        "`qubit rotation tutorial <demos/tutorial_qubit_rotation>`{.interpreted-text\n",
        "role=\"doc\"}, i.e., to tune the qubit state until it has a `PauliZ`\n",
        "expectation value of $-1$ (the lowest possible).\n"
      ]
    },
    {
      "cell_type": "code",
      "execution_count": 12,
      "metadata": {
        "colab": {
          "base_uri": "https://localhost:8080/"
        },
        "id": "tqxyibYVOoJ-",
        "outputId": "21bdc3f5-ee68-4df0-cbaa-354d43011fbe"
      },
      "outputs": [
        {
          "output_type": "stream",
          "name": "stderr",
          "text": [
            "/usr/local/lib/python3.12/dist-packages/pennylane/transforms/decompose.py:767: UserWarning: Operator Depolarize does not define a decomposition and was not found in the target gate set. To remove this warning, add the operator name (Depolarize) or type (<class 'pennylane_cirq.ops.Depolarize'>) to the gate set.\n",
            "  warnings.warn(\n",
            "/usr/local/lib/python3.12/dist-packages/pennylane/transforms/decompose.py:767: UserWarning: Operator Depolarize does not define a decomposition and was not found in the target gate set. To remove this warning, add the operator name (Depolarize) or type (<class 'pennylane_cirq.ops.Depolarize'>) to the gate set.\n",
            "  warnings.warn(\n",
            "/usr/local/lib/python3.12/dist-packages/pennylane/transforms/decompose.py:767: UserWarning: Operator Depolarize does not define a decomposition and was not found in the target gate set. To remove this warning, add the operator name (Depolarize) or type (<class 'pennylane_cirq.ops.Depolarize'>) to the gate set.\n",
            "  warnings.warn(\n",
            "/usr/local/lib/python3.12/dist-packages/pennylane/transforms/decompose.py:767: UserWarning: Operator Depolarize does not define a decomposition and was not found in the target gate set. To remove this warning, add the operator name (Depolarize) or type (<class 'pennylane_cirq.ops.Depolarize'>) to the gate set.\n",
            "  warnings.warn(\n",
            "/usr/local/lib/python3.12/dist-packages/pennylane/transforms/decompose.py:767: UserWarning: Operator Depolarize does not define a decomposition and was not found in the target gate set. To remove this warning, add the operator name (Depolarize) or type (<class 'pennylane_cirq.ops.Depolarize'>) to the gate set.\n",
            "  warnings.warn(\n",
            "/usr/local/lib/python3.12/dist-packages/pennylane/transforms/decompose.py:767: UserWarning: Operator Depolarize does not define a decomposition and was not found in the target gate set. To remove this warning, add the operator name (Depolarize) or type (<class 'pennylane_cirq.ops.Depolarize'>) to the gate set.\n",
            "  warnings.warn(\n",
            "/usr/local/lib/python3.12/dist-packages/pennylane/transforms/decompose.py:767: UserWarning: Operator Depolarize does not define a decomposition and was not found in the target gate set. To remove this warning, add the operator name (Depolarize) or type (<class 'pennylane_cirq.ops.Depolarize'>) to the gate set.\n",
            "  warnings.warn(\n",
            "/usr/local/lib/python3.12/dist-packages/pennylane/transforms/decompose.py:767: UserWarning: Operator Depolarize does not define a decomposition and was not found in the target gate set. To remove this warning, add the operator name (Depolarize) or type (<class 'pennylane_cirq.ops.Depolarize'>) to the gate set.\n",
            "  warnings.warn(\n",
            "/usr/local/lib/python3.12/dist-packages/pennylane/transforms/decompose.py:767: UserWarning: Operator Depolarize does not define a decomposition and was not found in the target gate set. To remove this warning, add the operator name (Depolarize) or type (<class 'pennylane_cirq.ops.Depolarize'>) to the gate set.\n",
            "  warnings.warn(\n",
            "/usr/local/lib/python3.12/dist-packages/pennylane/transforms/decompose.py:767: UserWarning: Operator Depolarize does not define a decomposition and was not found in the target gate set. To remove this warning, add the operator name (Depolarize) or type (<class 'pennylane_cirq.ops.Depolarize'>) to the gate set.\n",
            "  warnings.warn(\n",
            "/usr/local/lib/python3.12/dist-packages/pennylane/transforms/decompose.py:767: UserWarning: Operator Depolarize does not define a decomposition and was not found in the target gate set. To remove this warning, add the operator name (Depolarize) or type (<class 'pennylane_cirq.ops.Depolarize'>) to the gate set.\n",
            "  warnings.warn(\n",
            "/usr/local/lib/python3.12/dist-packages/pennylane/transforms/decompose.py:767: UserWarning: Operator Depolarize does not define a decomposition and was not found in the target gate set. To remove this warning, add the operator name (Depolarize) or type (<class 'pennylane_cirq.ops.Depolarize'>) to the gate set.\n",
            "  warnings.warn(\n",
            "/usr/local/lib/python3.12/dist-packages/pennylane/transforms/decompose.py:767: UserWarning: Operator Depolarize does not define a decomposition and was not found in the target gate set. To remove this warning, add the operator name (Depolarize) or type (<class 'pennylane_cirq.ops.Depolarize'>) to the gate set.\n",
            "  warnings.warn(\n"
          ]
        },
        {
          "output_type": "stream",
          "name": "stdout",
          "text": [
            "Step     5. Cost: -0.6280000; Noisy Cost:  0.4020000\n"
          ]
        },
        {
          "output_type": "stream",
          "name": "stderr",
          "text": [
            "/usr/local/lib/python3.12/dist-packages/pennylane/transforms/decompose.py:767: UserWarning: Operator Depolarize does not define a decomposition and was not found in the target gate set. To remove this warning, add the operator name (Depolarize) or type (<class 'pennylane_cirq.ops.Depolarize'>) to the gate set.\n",
            "  warnings.warn(\n",
            "/usr/local/lib/python3.12/dist-packages/pennylane/transforms/decompose.py:767: UserWarning: Operator Depolarize does not define a decomposition and was not found in the target gate set. To remove this warning, add the operator name (Depolarize) or type (<class 'pennylane_cirq.ops.Depolarize'>) to the gate set.\n",
            "  warnings.warn(\n",
            "/usr/local/lib/python3.12/dist-packages/pennylane/transforms/decompose.py:767: UserWarning: Operator Depolarize does not define a decomposition and was not found in the target gate set. To remove this warning, add the operator name (Depolarize) or type (<class 'pennylane_cirq.ops.Depolarize'>) to the gate set.\n",
            "  warnings.warn(\n",
            "/usr/local/lib/python3.12/dist-packages/pennylane/transforms/decompose.py:767: UserWarning: Operator Depolarize does not define a decomposition and was not found in the target gate set. To remove this warning, add the operator name (Depolarize) or type (<class 'pennylane_cirq.ops.Depolarize'>) to the gate set.\n",
            "  warnings.warn(\n",
            "/usr/local/lib/python3.12/dist-packages/pennylane/transforms/decompose.py:767: UserWarning: Operator Depolarize does not define a decomposition and was not found in the target gate set. To remove this warning, add the operator name (Depolarize) or type (<class 'pennylane_cirq.ops.Depolarize'>) to the gate set.\n",
            "  warnings.warn(\n",
            "/usr/local/lib/python3.12/dist-packages/pennylane/transforms/decompose.py:767: UserWarning: Operator Depolarize does not define a decomposition and was not found in the target gate set. To remove this warning, add the operator name (Depolarize) or type (<class 'pennylane_cirq.ops.Depolarize'>) to the gate set.\n",
            "  warnings.warn(\n",
            "/usr/local/lib/python3.12/dist-packages/pennylane/transforms/decompose.py:767: UserWarning: Operator Depolarize does not define a decomposition and was not found in the target gate set. To remove this warning, add the operator name (Depolarize) or type (<class 'pennylane_cirq.ops.Depolarize'>) to the gate set.\n",
            "  warnings.warn(\n",
            "/usr/local/lib/python3.12/dist-packages/pennylane/transforms/decompose.py:767: UserWarning: Operator Depolarize does not define a decomposition and was not found in the target gate set. To remove this warning, add the operator name (Depolarize) or type (<class 'pennylane_cirq.ops.Depolarize'>) to the gate set.\n",
            "  warnings.warn(\n"
          ]
        },
        {
          "output_type": "stream",
          "name": "stdout",
          "text": [
            "Step    10. Cost: -0.9880000; Noisy Cost: -0.6120000\n"
          ]
        },
        {
          "output_type": "stream",
          "name": "stderr",
          "text": [
            "/usr/local/lib/python3.12/dist-packages/pennylane/transforms/decompose.py:767: UserWarning: Operator Depolarize does not define a decomposition and was not found in the target gate set. To remove this warning, add the operator name (Depolarize) or type (<class 'pennylane_cirq.ops.Depolarize'>) to the gate set.\n",
            "  warnings.warn(\n",
            "/usr/local/lib/python3.12/dist-packages/pennylane/transforms/decompose.py:767: UserWarning: Operator Depolarize does not define a decomposition and was not found in the target gate set. To remove this warning, add the operator name (Depolarize) or type (<class 'pennylane_cirq.ops.Depolarize'>) to the gate set.\n",
            "  warnings.warn(\n",
            "/usr/local/lib/python3.12/dist-packages/pennylane/transforms/decompose.py:767: UserWarning: Operator Depolarize does not define a decomposition and was not found in the target gate set. To remove this warning, add the operator name (Depolarize) or type (<class 'pennylane_cirq.ops.Depolarize'>) to the gate set.\n",
            "  warnings.warn(\n",
            "/usr/local/lib/python3.12/dist-packages/pennylane/transforms/decompose.py:767: UserWarning: Operator Depolarize does not define a decomposition and was not found in the target gate set. To remove this warning, add the operator name (Depolarize) or type (<class 'pennylane_cirq.ops.Depolarize'>) to the gate set.\n",
            "  warnings.warn(\n",
            "/usr/local/lib/python3.12/dist-packages/pennylane/transforms/decompose.py:767: UserWarning: Operator Depolarize does not define a decomposition and was not found in the target gate set. To remove this warning, add the operator name (Depolarize) or type (<class 'pennylane_cirq.ops.Depolarize'>) to the gate set.\n",
            "  warnings.warn(\n",
            "/usr/local/lib/python3.12/dist-packages/pennylane/transforms/decompose.py:767: UserWarning: Operator Depolarize does not define a decomposition and was not found in the target gate set. To remove this warning, add the operator name (Depolarize) or type (<class 'pennylane_cirq.ops.Depolarize'>) to the gate set.\n",
            "  warnings.warn(\n",
            "/usr/local/lib/python3.12/dist-packages/pennylane/transforms/decompose.py:767: UserWarning: Operator Depolarize does not define a decomposition and was not found in the target gate set. To remove this warning, add the operator name (Depolarize) or type (<class 'pennylane_cirq.ops.Depolarize'>) to the gate set.\n",
            "  warnings.warn(\n",
            "/usr/local/lib/python3.12/dist-packages/pennylane/transforms/decompose.py:767: UserWarning: Operator Depolarize does not define a decomposition and was not found in the target gate set. To remove this warning, add the operator name (Depolarize) or type (<class 'pennylane_cirq.ops.Depolarize'>) to the gate set.\n",
            "  warnings.warn(\n",
            "/usr/local/lib/python3.12/dist-packages/pennylane/transforms/decompose.py:767: UserWarning: Operator Depolarize does not define a decomposition and was not found in the target gate set. To remove this warning, add the operator name (Depolarize) or type (<class 'pennylane_cirq.ops.Depolarize'>) to the gate set.\n",
            "  warnings.warn(\n"
          ]
        },
        {
          "output_type": "stream",
          "name": "stdout",
          "text": [
            "Step    15. Cost: -1.0000000; Noisy Cost: -0.6260000\n"
          ]
        },
        {
          "output_type": "stream",
          "name": "stderr",
          "text": [
            "/usr/local/lib/python3.12/dist-packages/pennylane/transforms/decompose.py:767: UserWarning: Operator Depolarize does not define a decomposition and was not found in the target gate set. To remove this warning, add the operator name (Depolarize) or type (<class 'pennylane_cirq.ops.Depolarize'>) to the gate set.\n",
            "  warnings.warn(\n",
            "/usr/local/lib/python3.12/dist-packages/pennylane/transforms/decompose.py:767: UserWarning: Operator Depolarize does not define a decomposition and was not found in the target gate set. To remove this warning, add the operator name (Depolarize) or type (<class 'pennylane_cirq.ops.Depolarize'>) to the gate set.\n",
            "  warnings.warn(\n",
            "/usr/local/lib/python3.12/dist-packages/pennylane/transforms/decompose.py:767: UserWarning: Operator Depolarize does not define a decomposition and was not found in the target gate set. To remove this warning, add the operator name (Depolarize) or type (<class 'pennylane_cirq.ops.Depolarize'>) to the gate set.\n",
            "  warnings.warn(\n",
            "/usr/local/lib/python3.12/dist-packages/pennylane/transforms/decompose.py:767: UserWarning: Operator Depolarize does not define a decomposition and was not found in the target gate set. To remove this warning, add the operator name (Depolarize) or type (<class 'pennylane_cirq.ops.Depolarize'>) to the gate set.\n",
            "  warnings.warn(\n",
            "/usr/local/lib/python3.12/dist-packages/pennylane/transforms/decompose.py:767: UserWarning: Operator Depolarize does not define a decomposition and was not found in the target gate set. To remove this warning, add the operator name (Depolarize) or type (<class 'pennylane_cirq.ops.Depolarize'>) to the gate set.\n",
            "  warnings.warn(\n",
            "/usr/local/lib/python3.12/dist-packages/pennylane/transforms/decompose.py:767: UserWarning: Operator Depolarize does not define a decomposition and was not found in the target gate set. To remove this warning, add the operator name (Depolarize) or type (<class 'pennylane_cirq.ops.Depolarize'>) to the gate set.\n",
            "  warnings.warn(\n",
            "/usr/local/lib/python3.12/dist-packages/pennylane/transforms/decompose.py:767: UserWarning: Operator Depolarize does not define a decomposition and was not found in the target gate set. To remove this warning, add the operator name (Depolarize) or type (<class 'pennylane_cirq.ops.Depolarize'>) to the gate set.\n",
            "  warnings.warn(\n",
            "/usr/local/lib/python3.12/dist-packages/pennylane/transforms/decompose.py:767: UserWarning: Operator Depolarize does not define a decomposition and was not found in the target gate set. To remove this warning, add the operator name (Depolarize) or type (<class 'pennylane_cirq.ops.Depolarize'>) to the gate set.\n",
            "  warnings.warn(\n",
            "/usr/local/lib/python3.12/dist-packages/pennylane/transforms/decompose.py:767: UserWarning: Operator Depolarize does not define a decomposition and was not found in the target gate set. To remove this warning, add the operator name (Depolarize) or type (<class 'pennylane_cirq.ops.Depolarize'>) to the gate set.\n",
            "  warnings.warn(\n",
            "/usr/local/lib/python3.12/dist-packages/pennylane/transforms/decompose.py:767: UserWarning: Operator Depolarize does not define a decomposition and was not found in the target gate set. To remove this warning, add the operator name (Depolarize) or type (<class 'pennylane_cirq.ops.Depolarize'>) to the gate set.\n",
            "  warnings.warn(\n",
            "/usr/local/lib/python3.12/dist-packages/pennylane/transforms/decompose.py:767: UserWarning: Operator Depolarize does not define a decomposition and was not found in the target gate set. To remove this warning, add the operator name (Depolarize) or type (<class 'pennylane_cirq.ops.Depolarize'>) to the gate set.\n",
            "  warnings.warn(\n",
            "/usr/local/lib/python3.12/dist-packages/pennylane/transforms/decompose.py:767: UserWarning: Operator Depolarize does not define a decomposition and was not found in the target gate set. To remove this warning, add the operator name (Depolarize) or type (<class 'pennylane_cirq.ops.Depolarize'>) to the gate set.\n",
            "  warnings.warn(\n"
          ]
        },
        {
          "output_type": "stream",
          "name": "stdout",
          "text": [
            "Step    20. Cost: -1.0000000; Noisy Cost: -0.5880000\n"
          ]
        },
        {
          "output_type": "stream",
          "name": "stderr",
          "text": [
            "/usr/local/lib/python3.12/dist-packages/pennylane/transforms/decompose.py:767: UserWarning: Operator Depolarize does not define a decomposition and was not found in the target gate set. To remove this warning, add the operator name (Depolarize) or type (<class 'pennylane_cirq.ops.Depolarize'>) to the gate set.\n",
            "  warnings.warn(\n",
            "/usr/local/lib/python3.12/dist-packages/pennylane/transforms/decompose.py:767: UserWarning: Operator Depolarize does not define a decomposition and was not found in the target gate set. To remove this warning, add the operator name (Depolarize) or type (<class 'pennylane_cirq.ops.Depolarize'>) to the gate set.\n",
            "  warnings.warn(\n",
            "/usr/local/lib/python3.12/dist-packages/pennylane/transforms/decompose.py:767: UserWarning: Operator Depolarize does not define a decomposition and was not found in the target gate set. To remove this warning, add the operator name (Depolarize) or type (<class 'pennylane_cirq.ops.Depolarize'>) to the gate set.\n",
            "  warnings.warn(\n",
            "/usr/local/lib/python3.12/dist-packages/pennylane/transforms/decompose.py:767: UserWarning: Operator Depolarize does not define a decomposition and was not found in the target gate set. To remove this warning, add the operator name (Depolarize) or type (<class 'pennylane_cirq.ops.Depolarize'>) to the gate set.\n",
            "  warnings.warn(\n",
            "/usr/local/lib/python3.12/dist-packages/pennylane/transforms/decompose.py:767: UserWarning: Operator Depolarize does not define a decomposition and was not found in the target gate set. To remove this warning, add the operator name (Depolarize) or type (<class 'pennylane_cirq.ops.Depolarize'>) to the gate set.\n",
            "  warnings.warn(\n",
            "/usr/local/lib/python3.12/dist-packages/pennylane/transforms/decompose.py:767: UserWarning: Operator Depolarize does not define a decomposition and was not found in the target gate set. To remove this warning, add the operator name (Depolarize) or type (<class 'pennylane_cirq.ops.Depolarize'>) to the gate set.\n",
            "  warnings.warn(\n",
            "/usr/local/lib/python3.12/dist-packages/pennylane/transforms/decompose.py:767: UserWarning: Operator Depolarize does not define a decomposition and was not found in the target gate set. To remove this warning, add the operator name (Depolarize) or type (<class 'pennylane_cirq.ops.Depolarize'>) to the gate set.\n",
            "  warnings.warn(\n",
            "/usr/local/lib/python3.12/dist-packages/pennylane/transforms/decompose.py:767: UserWarning: Operator Depolarize does not define a decomposition and was not found in the target gate set. To remove this warning, add the operator name (Depolarize) or type (<class 'pennylane_cirq.ops.Depolarize'>) to the gate set.\n",
            "  warnings.warn(\n",
            "/usr/local/lib/python3.12/dist-packages/pennylane/transforms/decompose.py:767: UserWarning: Operator Depolarize does not define a decomposition and was not found in the target gate set. To remove this warning, add the operator name (Depolarize) or type (<class 'pennylane_cirq.ops.Depolarize'>) to the gate set.\n",
            "  warnings.warn(\n"
          ]
        },
        {
          "output_type": "stream",
          "name": "stdout",
          "text": [
            "Step    25. Cost: -1.0000000; Noisy Cost: -0.6160000\n"
          ]
        },
        {
          "output_type": "stream",
          "name": "stderr",
          "text": [
            "/usr/local/lib/python3.12/dist-packages/pennylane/transforms/decompose.py:767: UserWarning: Operator Depolarize does not define a decomposition and was not found in the target gate set. To remove this warning, add the operator name (Depolarize) or type (<class 'pennylane_cirq.ops.Depolarize'>) to the gate set.\n",
            "  warnings.warn(\n",
            "/usr/local/lib/python3.12/dist-packages/pennylane/transforms/decompose.py:767: UserWarning: Operator Depolarize does not define a decomposition and was not found in the target gate set. To remove this warning, add the operator name (Depolarize) or type (<class 'pennylane_cirq.ops.Depolarize'>) to the gate set.\n",
            "  warnings.warn(\n",
            "/usr/local/lib/python3.12/dist-packages/pennylane/transforms/decompose.py:767: UserWarning: Operator Depolarize does not define a decomposition and was not found in the target gate set. To remove this warning, add the operator name (Depolarize) or type (<class 'pennylane_cirq.ops.Depolarize'>) to the gate set.\n",
            "  warnings.warn(\n",
            "/usr/local/lib/python3.12/dist-packages/pennylane/transforms/decompose.py:767: UserWarning: Operator Depolarize does not define a decomposition and was not found in the target gate set. To remove this warning, add the operator name (Depolarize) or type (<class 'pennylane_cirq.ops.Depolarize'>) to the gate set.\n",
            "  warnings.warn(\n",
            "/usr/local/lib/python3.12/dist-packages/pennylane/transforms/decompose.py:767: UserWarning: Operator Depolarize does not define a decomposition and was not found in the target gate set. To remove this warning, add the operator name (Depolarize) or type (<class 'pennylane_cirq.ops.Depolarize'>) to the gate set.\n",
            "  warnings.warn(\n",
            "/usr/local/lib/python3.12/dist-packages/pennylane/transforms/decompose.py:767: UserWarning: Operator Depolarize does not define a decomposition and was not found in the target gate set. To remove this warning, add the operator name (Depolarize) or type (<class 'pennylane_cirq.ops.Depolarize'>) to the gate set.\n",
            "  warnings.warn(\n",
            "/usr/local/lib/python3.12/dist-packages/pennylane/transforms/decompose.py:767: UserWarning: Operator Depolarize does not define a decomposition and was not found in the target gate set. To remove this warning, add the operator name (Depolarize) or type (<class 'pennylane_cirq.ops.Depolarize'>) to the gate set.\n",
            "  warnings.warn(\n",
            "/usr/local/lib/python3.12/dist-packages/pennylane/transforms/decompose.py:767: UserWarning: Operator Depolarize does not define a decomposition and was not found in the target gate set. To remove this warning, add the operator name (Depolarize) or type (<class 'pennylane_cirq.ops.Depolarize'>) to the gate set.\n",
            "  warnings.warn(\n",
            "/usr/local/lib/python3.12/dist-packages/pennylane/transforms/decompose.py:767: UserWarning: Operator Depolarize does not define a decomposition and was not found in the target gate set. To remove this warning, add the operator name (Depolarize) or type (<class 'pennylane_cirq.ops.Depolarize'>) to the gate set.\n",
            "  warnings.warn(\n",
            "/usr/local/lib/python3.12/dist-packages/pennylane/transforms/decompose.py:767: UserWarning: Operator Depolarize does not define a decomposition and was not found in the target gate set. To remove this warning, add the operator name (Depolarize) or type (<class 'pennylane_cirq.ops.Depolarize'>) to the gate set.\n",
            "  warnings.warn(\n"
          ]
        },
        {
          "output_type": "stream",
          "name": "stdout",
          "text": [
            "Step    30. Cost: -1.0000000; Noisy Cost: -0.5940000\n"
          ]
        },
        {
          "output_type": "stream",
          "name": "stderr",
          "text": [
            "/usr/local/lib/python3.12/dist-packages/pennylane/transforms/decompose.py:767: UserWarning: Operator Depolarize does not define a decomposition and was not found in the target gate set. To remove this warning, add the operator name (Depolarize) or type (<class 'pennylane_cirq.ops.Depolarize'>) to the gate set.\n",
            "  warnings.warn(\n",
            "/usr/local/lib/python3.12/dist-packages/pennylane/transforms/decompose.py:767: UserWarning: Operator Depolarize does not define a decomposition and was not found in the target gate set. To remove this warning, add the operator name (Depolarize) or type (<class 'pennylane_cirq.ops.Depolarize'>) to the gate set.\n",
            "  warnings.warn(\n",
            "/usr/local/lib/python3.12/dist-packages/pennylane/transforms/decompose.py:767: UserWarning: Operator Depolarize does not define a decomposition and was not found in the target gate set. To remove this warning, add the operator name (Depolarize) or type (<class 'pennylane_cirq.ops.Depolarize'>) to the gate set.\n",
            "  warnings.warn(\n",
            "/usr/local/lib/python3.12/dist-packages/pennylane/transforms/decompose.py:767: UserWarning: Operator Depolarize does not define a decomposition and was not found in the target gate set. To remove this warning, add the operator name (Depolarize) or type (<class 'pennylane_cirq.ops.Depolarize'>) to the gate set.\n",
            "  warnings.warn(\n",
            "/usr/local/lib/python3.12/dist-packages/pennylane/transforms/decompose.py:767: UserWarning: Operator Depolarize does not define a decomposition and was not found in the target gate set. To remove this warning, add the operator name (Depolarize) or type (<class 'pennylane_cirq.ops.Depolarize'>) to the gate set.\n",
            "  warnings.warn(\n",
            "/usr/local/lib/python3.12/dist-packages/pennylane/transforms/decompose.py:767: UserWarning: Operator Depolarize does not define a decomposition and was not found in the target gate set. To remove this warning, add the operator name (Depolarize) or type (<class 'pennylane_cirq.ops.Depolarize'>) to the gate set.\n",
            "  warnings.warn(\n",
            "/usr/local/lib/python3.12/dist-packages/pennylane/transforms/decompose.py:767: UserWarning: Operator Depolarize does not define a decomposition and was not found in the target gate set. To remove this warning, add the operator name (Depolarize) or type (<class 'pennylane_cirq.ops.Depolarize'>) to the gate set.\n",
            "  warnings.warn(\n",
            "/usr/local/lib/python3.12/dist-packages/pennylane/transforms/decompose.py:767: UserWarning: Operator Depolarize does not define a decomposition and was not found in the target gate set. To remove this warning, add the operator name (Depolarize) or type (<class 'pennylane_cirq.ops.Depolarize'>) to the gate set.\n",
            "  warnings.warn(\n",
            "/usr/local/lib/python3.12/dist-packages/pennylane/transforms/decompose.py:767: UserWarning: Operator Depolarize does not define a decomposition and was not found in the target gate set. To remove this warning, add the operator name (Depolarize) or type (<class 'pennylane_cirq.ops.Depolarize'>) to the gate set.\n",
            "  warnings.warn(\n",
            "/usr/local/lib/python3.12/dist-packages/pennylane/transforms/decompose.py:767: UserWarning: Operator Depolarize does not define a decomposition and was not found in the target gate set. To remove this warning, add the operator name (Depolarize) or type (<class 'pennylane_cirq.ops.Depolarize'>) to the gate set.\n",
            "  warnings.warn(\n",
            "/usr/local/lib/python3.12/dist-packages/pennylane/transforms/decompose.py:767: UserWarning: Operator Depolarize does not define a decomposition and was not found in the target gate set. To remove this warning, add the operator name (Depolarize) or type (<class 'pennylane_cirq.ops.Depolarize'>) to the gate set.\n",
            "  warnings.warn(\n",
            "/usr/local/lib/python3.12/dist-packages/pennylane/transforms/decompose.py:767: UserWarning: Operator Depolarize does not define a decomposition and was not found in the target gate set. To remove this warning, add the operator name (Depolarize) or type (<class 'pennylane_cirq.ops.Depolarize'>) to the gate set.\n",
            "  warnings.warn(\n",
            "/usr/local/lib/python3.12/dist-packages/pennylane/transforms/decompose.py:767: UserWarning: Operator Depolarize does not define a decomposition and was not found in the target gate set. To remove this warning, add the operator name (Depolarize) or type (<class 'pennylane_cirq.ops.Depolarize'>) to the gate set.\n",
            "  warnings.warn(\n"
          ]
        },
        {
          "output_type": "stream",
          "name": "stdout",
          "text": [
            "Step    35. Cost: -0.9780000; Noisy Cost: -0.6220000\n"
          ]
        },
        {
          "output_type": "stream",
          "name": "stderr",
          "text": [
            "/usr/local/lib/python3.12/dist-packages/pennylane/transforms/decompose.py:767: UserWarning: Operator Depolarize does not define a decomposition and was not found in the target gate set. To remove this warning, add the operator name (Depolarize) or type (<class 'pennylane_cirq.ops.Depolarize'>) to the gate set.\n",
            "  warnings.warn(\n",
            "/usr/local/lib/python3.12/dist-packages/pennylane/transforms/decompose.py:767: UserWarning: Operator Depolarize does not define a decomposition and was not found in the target gate set. To remove this warning, add the operator name (Depolarize) or type (<class 'pennylane_cirq.ops.Depolarize'>) to the gate set.\n",
            "  warnings.warn(\n",
            "/usr/local/lib/python3.12/dist-packages/pennylane/transforms/decompose.py:767: UserWarning: Operator Depolarize does not define a decomposition and was not found in the target gate set. To remove this warning, add the operator name (Depolarize) or type (<class 'pennylane_cirq.ops.Depolarize'>) to the gate set.\n",
            "  warnings.warn(\n",
            "/usr/local/lib/python3.12/dist-packages/pennylane/transforms/decompose.py:767: UserWarning: Operator Depolarize does not define a decomposition and was not found in the target gate set. To remove this warning, add the operator name (Depolarize) or type (<class 'pennylane_cirq.ops.Depolarize'>) to the gate set.\n",
            "  warnings.warn(\n",
            "/usr/local/lib/python3.12/dist-packages/pennylane/transforms/decompose.py:767: UserWarning: Operator Depolarize does not define a decomposition and was not found in the target gate set. To remove this warning, add the operator name (Depolarize) or type (<class 'pennylane_cirq.ops.Depolarize'>) to the gate set.\n",
            "  warnings.warn(\n",
            "/usr/local/lib/python3.12/dist-packages/pennylane/transforms/decompose.py:767: UserWarning: Operator Depolarize does not define a decomposition and was not found in the target gate set. To remove this warning, add the operator name (Depolarize) or type (<class 'pennylane_cirq.ops.Depolarize'>) to the gate set.\n",
            "  warnings.warn(\n",
            "/usr/local/lib/python3.12/dist-packages/pennylane/transforms/decompose.py:767: UserWarning: Operator Depolarize does not define a decomposition and was not found in the target gate set. To remove this warning, add the operator name (Depolarize) or type (<class 'pennylane_cirq.ops.Depolarize'>) to the gate set.\n",
            "  warnings.warn(\n",
            "/usr/local/lib/python3.12/dist-packages/pennylane/transforms/decompose.py:767: UserWarning: Operator Depolarize does not define a decomposition and was not found in the target gate set. To remove this warning, add the operator name (Depolarize) or type (<class 'pennylane_cirq.ops.Depolarize'>) to the gate set.\n",
            "  warnings.warn(\n"
          ]
        },
        {
          "output_type": "stream",
          "name": "stdout",
          "text": [
            "Step    40. Cost: -1.0000000; Noisy Cost: -0.5800000\n"
          ]
        },
        {
          "output_type": "stream",
          "name": "stderr",
          "text": [
            "/usr/local/lib/python3.12/dist-packages/pennylane/transforms/decompose.py:767: UserWarning: Operator Depolarize does not define a decomposition and was not found in the target gate set. To remove this warning, add the operator name (Depolarize) or type (<class 'pennylane_cirq.ops.Depolarize'>) to the gate set.\n",
            "  warnings.warn(\n",
            "/usr/local/lib/python3.12/dist-packages/pennylane/transforms/decompose.py:767: UserWarning: Operator Depolarize does not define a decomposition and was not found in the target gate set. To remove this warning, add the operator name (Depolarize) or type (<class 'pennylane_cirq.ops.Depolarize'>) to the gate set.\n",
            "  warnings.warn(\n",
            "/usr/local/lib/python3.12/dist-packages/pennylane/transforms/decompose.py:767: UserWarning: Operator Depolarize does not define a decomposition and was not found in the target gate set. To remove this warning, add the operator name (Depolarize) or type (<class 'pennylane_cirq.ops.Depolarize'>) to the gate set.\n",
            "  warnings.warn(\n",
            "/usr/local/lib/python3.12/dist-packages/pennylane/transforms/decompose.py:767: UserWarning: Operator Depolarize does not define a decomposition and was not found in the target gate set. To remove this warning, add the operator name (Depolarize) or type (<class 'pennylane_cirq.ops.Depolarize'>) to the gate set.\n",
            "  warnings.warn(\n",
            "/usr/local/lib/python3.12/dist-packages/pennylane/transforms/decompose.py:767: UserWarning: Operator Depolarize does not define a decomposition and was not found in the target gate set. To remove this warning, add the operator name (Depolarize) or type (<class 'pennylane_cirq.ops.Depolarize'>) to the gate set.\n",
            "  warnings.warn(\n",
            "/usr/local/lib/python3.12/dist-packages/pennylane/transforms/decompose.py:767: UserWarning: Operator Depolarize does not define a decomposition and was not found in the target gate set. To remove this warning, add the operator name (Depolarize) or type (<class 'pennylane_cirq.ops.Depolarize'>) to the gate set.\n",
            "  warnings.warn(\n",
            "/usr/local/lib/python3.12/dist-packages/pennylane/transforms/decompose.py:767: UserWarning: Operator Depolarize does not define a decomposition and was not found in the target gate set. To remove this warning, add the operator name (Depolarize) or type (<class 'pennylane_cirq.ops.Depolarize'>) to the gate set.\n",
            "  warnings.warn(\n",
            "/usr/local/lib/python3.12/dist-packages/pennylane/transforms/decompose.py:767: UserWarning: Operator Depolarize does not define a decomposition and was not found in the target gate set. To remove this warning, add the operator name (Depolarize) or type (<class 'pennylane_cirq.ops.Depolarize'>) to the gate set.\n",
            "  warnings.warn(\n",
            "/usr/local/lib/python3.12/dist-packages/pennylane/transforms/decompose.py:767: UserWarning: Operator Depolarize does not define a decomposition and was not found in the target gate set. To remove this warning, add the operator name (Depolarize) or type (<class 'pennylane_cirq.ops.Depolarize'>) to the gate set.\n",
            "  warnings.warn(\n"
          ]
        },
        {
          "output_type": "stream",
          "name": "stdout",
          "text": [
            "Step    45. Cost: -1.0000000; Noisy Cost: -0.6240000\n"
          ]
        },
        {
          "output_type": "stream",
          "name": "stderr",
          "text": [
            "/usr/local/lib/python3.12/dist-packages/pennylane/transforms/decompose.py:767: UserWarning: Operator Depolarize does not define a decomposition and was not found in the target gate set. To remove this warning, add the operator name (Depolarize) or type (<class 'pennylane_cirq.ops.Depolarize'>) to the gate set.\n",
            "  warnings.warn(\n",
            "/usr/local/lib/python3.12/dist-packages/pennylane/transforms/decompose.py:767: UserWarning: Operator Depolarize does not define a decomposition and was not found in the target gate set. To remove this warning, add the operator name (Depolarize) or type (<class 'pennylane_cirq.ops.Depolarize'>) to the gate set.\n",
            "  warnings.warn(\n",
            "/usr/local/lib/python3.12/dist-packages/pennylane/transforms/decompose.py:767: UserWarning: Operator Depolarize does not define a decomposition and was not found in the target gate set. To remove this warning, add the operator name (Depolarize) or type (<class 'pennylane_cirq.ops.Depolarize'>) to the gate set.\n",
            "  warnings.warn(\n",
            "/usr/local/lib/python3.12/dist-packages/pennylane/transforms/decompose.py:767: UserWarning: Operator Depolarize does not define a decomposition and was not found in the target gate set. To remove this warning, add the operator name (Depolarize) or type (<class 'pennylane_cirq.ops.Depolarize'>) to the gate set.\n",
            "  warnings.warn(\n",
            "/usr/local/lib/python3.12/dist-packages/pennylane/transforms/decompose.py:767: UserWarning: Operator Depolarize does not define a decomposition and was not found in the target gate set. To remove this warning, add the operator name (Depolarize) or type (<class 'pennylane_cirq.ops.Depolarize'>) to the gate set.\n",
            "  warnings.warn(\n",
            "/usr/local/lib/python3.12/dist-packages/pennylane/transforms/decompose.py:767: UserWarning: Operator Depolarize does not define a decomposition and was not found in the target gate set. To remove this warning, add the operator name (Depolarize) or type (<class 'pennylane_cirq.ops.Depolarize'>) to the gate set.\n",
            "  warnings.warn(\n",
            "/usr/local/lib/python3.12/dist-packages/pennylane/transforms/decompose.py:767: UserWarning: Operator Depolarize does not define a decomposition and was not found in the target gate set. To remove this warning, add the operator name (Depolarize) or type (<class 'pennylane_cirq.ops.Depolarize'>) to the gate set.\n",
            "  warnings.warn(\n",
            "/usr/local/lib/python3.12/dist-packages/pennylane/transforms/decompose.py:767: UserWarning: Operator Depolarize does not define a decomposition and was not found in the target gate set. To remove this warning, add the operator name (Depolarize) or type (<class 'pennylane_cirq.ops.Depolarize'>) to the gate set.\n",
            "  warnings.warn(\n",
            "/usr/local/lib/python3.12/dist-packages/pennylane/transforms/decompose.py:767: UserWarning: Operator Depolarize does not define a decomposition and was not found in the target gate set. To remove this warning, add the operator name (Depolarize) or type (<class 'pennylane_cirq.ops.Depolarize'>) to the gate set.\n",
            "  warnings.warn(\n"
          ]
        },
        {
          "output_type": "stream",
          "name": "stdout",
          "text": [
            "Step    50. Cost: -1.0000000; Noisy Cost: -0.5600000\n"
          ]
        },
        {
          "output_type": "stream",
          "name": "stderr",
          "text": [
            "/usr/local/lib/python3.12/dist-packages/pennylane/transforms/decompose.py:767: UserWarning: Operator Depolarize does not define a decomposition and was not found in the target gate set. To remove this warning, add the operator name (Depolarize) or type (<class 'pennylane_cirq.ops.Depolarize'>) to the gate set.\n",
            "  warnings.warn(\n",
            "/usr/local/lib/python3.12/dist-packages/pennylane/transforms/decompose.py:767: UserWarning: Operator Depolarize does not define a decomposition and was not found in the target gate set. To remove this warning, add the operator name (Depolarize) or type (<class 'pennylane_cirq.ops.Depolarize'>) to the gate set.\n",
            "  warnings.warn(\n",
            "/usr/local/lib/python3.12/dist-packages/pennylane/transforms/decompose.py:767: UserWarning: Operator Depolarize does not define a decomposition and was not found in the target gate set. To remove this warning, add the operator name (Depolarize) or type (<class 'pennylane_cirq.ops.Depolarize'>) to the gate set.\n",
            "  warnings.warn(\n",
            "/usr/local/lib/python3.12/dist-packages/pennylane/transforms/decompose.py:767: UserWarning: Operator Depolarize does not define a decomposition and was not found in the target gate set. To remove this warning, add the operator name (Depolarize) or type (<class 'pennylane_cirq.ops.Depolarize'>) to the gate set.\n",
            "  warnings.warn(\n",
            "/usr/local/lib/python3.12/dist-packages/pennylane/transforms/decompose.py:767: UserWarning: Operator Depolarize does not define a decomposition and was not found in the target gate set. To remove this warning, add the operator name (Depolarize) or type (<class 'pennylane_cirq.ops.Depolarize'>) to the gate set.\n",
            "  warnings.warn(\n",
            "/usr/local/lib/python3.12/dist-packages/pennylane/transforms/decompose.py:767: UserWarning: Operator Depolarize does not define a decomposition and was not found in the target gate set. To remove this warning, add the operator name (Depolarize) or type (<class 'pennylane_cirq.ops.Depolarize'>) to the gate set.\n",
            "  warnings.warn(\n",
            "/usr/local/lib/python3.12/dist-packages/pennylane/transforms/decompose.py:767: UserWarning: Operator Depolarize does not define a decomposition and was not found in the target gate set. To remove this warning, add the operator name (Depolarize) or type (<class 'pennylane_cirq.ops.Depolarize'>) to the gate set.\n",
            "  warnings.warn(\n",
            "/usr/local/lib/python3.12/dist-packages/pennylane/transforms/decompose.py:767: UserWarning: Operator Depolarize does not define a decomposition and was not found in the target gate set. To remove this warning, add the operator name (Depolarize) or type (<class 'pennylane_cirq.ops.Depolarize'>) to the gate set.\n",
            "  warnings.warn(\n",
            "/usr/local/lib/python3.12/dist-packages/pennylane/transforms/decompose.py:767: UserWarning: Operator Depolarize does not define a decomposition and was not found in the target gate set. To remove this warning, add the operator name (Depolarize) or type (<class 'pennylane_cirq.ops.Depolarize'>) to the gate set.\n",
            "  warnings.warn(\n",
            "/usr/local/lib/python3.12/dist-packages/pennylane/transforms/decompose.py:767: UserWarning: Operator Depolarize does not define a decomposition and was not found in the target gate set. To remove this warning, add the operator name (Depolarize) or type (<class 'pennylane_cirq.ops.Depolarize'>) to the gate set.\n",
            "  warnings.warn(\n",
            "/usr/local/lib/python3.12/dist-packages/pennylane/transforms/decompose.py:767: UserWarning: Operator Depolarize does not define a decomposition and was not found in the target gate set. To remove this warning, add the operator name (Depolarize) or type (<class 'pennylane_cirq.ops.Depolarize'>) to the gate set.\n",
            "  warnings.warn(\n",
            "/usr/local/lib/python3.12/dist-packages/pennylane/transforms/decompose.py:767: UserWarning: Operator Depolarize does not define a decomposition and was not found in the target gate set. To remove this warning, add the operator name (Depolarize) or type (<class 'pennylane_cirq.ops.Depolarize'>) to the gate set.\n",
            "  warnings.warn(\n",
            "/usr/local/lib/python3.12/dist-packages/pennylane/transforms/decompose.py:767: UserWarning: Operator Depolarize does not define a decomposition and was not found in the target gate set. To remove this warning, add the operator name (Depolarize) or type (<class 'pennylane_cirq.ops.Depolarize'>) to the gate set.\n",
            "  warnings.warn(\n"
          ]
        },
        {
          "output_type": "stream",
          "name": "stdout",
          "text": [
            "Step    55. Cost: -1.0000000; Noisy Cost: -0.5680000\n"
          ]
        },
        {
          "output_type": "stream",
          "name": "stderr",
          "text": [
            "/usr/local/lib/python3.12/dist-packages/pennylane/transforms/decompose.py:767: UserWarning: Operator Depolarize does not define a decomposition and was not found in the target gate set. To remove this warning, add the operator name (Depolarize) or type (<class 'pennylane_cirq.ops.Depolarize'>) to the gate set.\n",
            "  warnings.warn(\n",
            "/usr/local/lib/python3.12/dist-packages/pennylane/transforms/decompose.py:767: UserWarning: Operator Depolarize does not define a decomposition and was not found in the target gate set. To remove this warning, add the operator name (Depolarize) or type (<class 'pennylane_cirq.ops.Depolarize'>) to the gate set.\n",
            "  warnings.warn(\n",
            "/usr/local/lib/python3.12/dist-packages/pennylane/transforms/decompose.py:767: UserWarning: Operator Depolarize does not define a decomposition and was not found in the target gate set. To remove this warning, add the operator name (Depolarize) or type (<class 'pennylane_cirq.ops.Depolarize'>) to the gate set.\n",
            "  warnings.warn(\n",
            "/usr/local/lib/python3.12/dist-packages/pennylane/transforms/decompose.py:767: UserWarning: Operator Depolarize does not define a decomposition and was not found in the target gate set. To remove this warning, add the operator name (Depolarize) or type (<class 'pennylane_cirq.ops.Depolarize'>) to the gate set.\n",
            "  warnings.warn(\n",
            "/usr/local/lib/python3.12/dist-packages/pennylane/transforms/decompose.py:767: UserWarning: Operator Depolarize does not define a decomposition and was not found in the target gate set. To remove this warning, add the operator name (Depolarize) or type (<class 'pennylane_cirq.ops.Depolarize'>) to the gate set.\n",
            "  warnings.warn(\n",
            "/usr/local/lib/python3.12/dist-packages/pennylane/transforms/decompose.py:767: UserWarning: Operator Depolarize does not define a decomposition and was not found in the target gate set. To remove this warning, add the operator name (Depolarize) or type (<class 'pennylane_cirq.ops.Depolarize'>) to the gate set.\n",
            "  warnings.warn(\n",
            "/usr/local/lib/python3.12/dist-packages/pennylane/transforms/decompose.py:767: UserWarning: Operator Depolarize does not define a decomposition and was not found in the target gate set. To remove this warning, add the operator name (Depolarize) or type (<class 'pennylane_cirq.ops.Depolarize'>) to the gate set.\n",
            "  warnings.warn(\n",
            "/usr/local/lib/python3.12/dist-packages/pennylane/transforms/decompose.py:767: UserWarning: Operator Depolarize does not define a decomposition and was not found in the target gate set. To remove this warning, add the operator name (Depolarize) or type (<class 'pennylane_cirq.ops.Depolarize'>) to the gate set.\n",
            "  warnings.warn(\n"
          ]
        },
        {
          "output_type": "stream",
          "name": "stdout",
          "text": [
            "Step    60. Cost: -1.0000000; Noisy Cost: -0.6080000\n"
          ]
        },
        {
          "output_type": "stream",
          "name": "stderr",
          "text": [
            "/usr/local/lib/python3.12/dist-packages/pennylane/transforms/decompose.py:767: UserWarning: Operator Depolarize does not define a decomposition and was not found in the target gate set. To remove this warning, add the operator name (Depolarize) or type (<class 'pennylane_cirq.ops.Depolarize'>) to the gate set.\n",
            "  warnings.warn(\n",
            "/usr/local/lib/python3.12/dist-packages/pennylane/transforms/decompose.py:767: UserWarning: Operator Depolarize does not define a decomposition and was not found in the target gate set. To remove this warning, add the operator name (Depolarize) or type (<class 'pennylane_cirq.ops.Depolarize'>) to the gate set.\n",
            "  warnings.warn(\n",
            "/usr/local/lib/python3.12/dist-packages/pennylane/transforms/decompose.py:767: UserWarning: Operator Depolarize does not define a decomposition and was not found in the target gate set. To remove this warning, add the operator name (Depolarize) or type (<class 'pennylane_cirq.ops.Depolarize'>) to the gate set.\n",
            "  warnings.warn(\n",
            "/usr/local/lib/python3.12/dist-packages/pennylane/transforms/decompose.py:767: UserWarning: Operator Depolarize does not define a decomposition and was not found in the target gate set. To remove this warning, add the operator name (Depolarize) or type (<class 'pennylane_cirq.ops.Depolarize'>) to the gate set.\n",
            "  warnings.warn(\n",
            "/usr/local/lib/python3.12/dist-packages/pennylane/transforms/decompose.py:767: UserWarning: Operator Depolarize does not define a decomposition and was not found in the target gate set. To remove this warning, add the operator name (Depolarize) or type (<class 'pennylane_cirq.ops.Depolarize'>) to the gate set.\n",
            "  warnings.warn(\n",
            "/usr/local/lib/python3.12/dist-packages/pennylane/transforms/decompose.py:767: UserWarning: Operator Depolarize does not define a decomposition and was not found in the target gate set. To remove this warning, add the operator name (Depolarize) or type (<class 'pennylane_cirq.ops.Depolarize'>) to the gate set.\n",
            "  warnings.warn(\n",
            "/usr/local/lib/python3.12/dist-packages/pennylane/transforms/decompose.py:767: UserWarning: Operator Depolarize does not define a decomposition and was not found in the target gate set. To remove this warning, add the operator name (Depolarize) or type (<class 'pennylane_cirq.ops.Depolarize'>) to the gate set.\n",
            "  warnings.warn(\n",
            "/usr/local/lib/python3.12/dist-packages/pennylane/transforms/decompose.py:767: UserWarning: Operator Depolarize does not define a decomposition and was not found in the target gate set. To remove this warning, add the operator name (Depolarize) or type (<class 'pennylane_cirq.ops.Depolarize'>) to the gate set.\n",
            "  warnings.warn(\n",
            "/usr/local/lib/python3.12/dist-packages/pennylane/transforms/decompose.py:767: UserWarning: Operator Depolarize does not define a decomposition and was not found in the target gate set. To remove this warning, add the operator name (Depolarize) or type (<class 'pennylane_cirq.ops.Depolarize'>) to the gate set.\n",
            "  warnings.warn(\n",
            "/usr/local/lib/python3.12/dist-packages/pennylane/transforms/decompose.py:767: UserWarning: Operator Depolarize does not define a decomposition and was not found in the target gate set. To remove this warning, add the operator name (Depolarize) or type (<class 'pennylane_cirq.ops.Depolarize'>) to the gate set.\n",
            "  warnings.warn(\n",
            "/usr/local/lib/python3.12/dist-packages/pennylane/transforms/decompose.py:767: UserWarning: Operator Depolarize does not define a decomposition and was not found in the target gate set. To remove this warning, add the operator name (Depolarize) or type (<class 'pennylane_cirq.ops.Depolarize'>) to the gate set.\n",
            "  warnings.warn(\n",
            "/usr/local/lib/python3.12/dist-packages/pennylane/transforms/decompose.py:767: UserWarning: Operator Depolarize does not define a decomposition and was not found in the target gate set. To remove this warning, add the operator name (Depolarize) or type (<class 'pennylane_cirq.ops.Depolarize'>) to the gate set.\n",
            "  warnings.warn(\n"
          ]
        },
        {
          "output_type": "stream",
          "name": "stdout",
          "text": [
            "Step    65. Cost: -0.9960000; Noisy Cost: -0.5820000\n"
          ]
        },
        {
          "output_type": "stream",
          "name": "stderr",
          "text": [
            "/usr/local/lib/python3.12/dist-packages/pennylane/transforms/decompose.py:767: UserWarning: Operator Depolarize does not define a decomposition and was not found in the target gate set. To remove this warning, add the operator name (Depolarize) or type (<class 'pennylane_cirq.ops.Depolarize'>) to the gate set.\n",
            "  warnings.warn(\n",
            "/usr/local/lib/python3.12/dist-packages/pennylane/transforms/decompose.py:767: UserWarning: Operator Depolarize does not define a decomposition and was not found in the target gate set. To remove this warning, add the operator name (Depolarize) or type (<class 'pennylane_cirq.ops.Depolarize'>) to the gate set.\n",
            "  warnings.warn(\n",
            "/usr/local/lib/python3.12/dist-packages/pennylane/transforms/decompose.py:767: UserWarning: Operator Depolarize does not define a decomposition and was not found in the target gate set. To remove this warning, add the operator name (Depolarize) or type (<class 'pennylane_cirq.ops.Depolarize'>) to the gate set.\n",
            "  warnings.warn(\n",
            "/usr/local/lib/python3.12/dist-packages/pennylane/transforms/decompose.py:767: UserWarning: Operator Depolarize does not define a decomposition and was not found in the target gate set. To remove this warning, add the operator name (Depolarize) or type (<class 'pennylane_cirq.ops.Depolarize'>) to the gate set.\n",
            "  warnings.warn(\n",
            "/usr/local/lib/python3.12/dist-packages/pennylane/transforms/decompose.py:767: UserWarning: Operator Depolarize does not define a decomposition and was not found in the target gate set. To remove this warning, add the operator name (Depolarize) or type (<class 'pennylane_cirq.ops.Depolarize'>) to the gate set.\n",
            "  warnings.warn(\n",
            "/usr/local/lib/python3.12/dist-packages/pennylane/transforms/decompose.py:767: UserWarning: Operator Depolarize does not define a decomposition and was not found in the target gate set. To remove this warning, add the operator name (Depolarize) or type (<class 'pennylane_cirq.ops.Depolarize'>) to the gate set.\n",
            "  warnings.warn(\n",
            "/usr/local/lib/python3.12/dist-packages/pennylane/transforms/decompose.py:767: UserWarning: Operator Depolarize does not define a decomposition and was not found in the target gate set. To remove this warning, add the operator name (Depolarize) or type (<class 'pennylane_cirq.ops.Depolarize'>) to the gate set.\n",
            "  warnings.warn(\n",
            "/usr/local/lib/python3.12/dist-packages/pennylane/transforms/decompose.py:767: UserWarning: Operator Depolarize does not define a decomposition and was not found in the target gate set. To remove this warning, add the operator name (Depolarize) or type (<class 'pennylane_cirq.ops.Depolarize'>) to the gate set.\n",
            "  warnings.warn(\n"
          ]
        },
        {
          "output_type": "stream",
          "name": "stdout",
          "text": [
            "Step    70. Cost: -1.0000000; Noisy Cost: -0.5900000\n"
          ]
        },
        {
          "output_type": "stream",
          "name": "stderr",
          "text": [
            "/usr/local/lib/python3.12/dist-packages/pennylane/transforms/decompose.py:767: UserWarning: Operator Depolarize does not define a decomposition and was not found in the target gate set. To remove this warning, add the operator name (Depolarize) or type (<class 'pennylane_cirq.ops.Depolarize'>) to the gate set.\n",
            "  warnings.warn(\n",
            "/usr/local/lib/python3.12/dist-packages/pennylane/transforms/decompose.py:767: UserWarning: Operator Depolarize does not define a decomposition and was not found in the target gate set. To remove this warning, add the operator name (Depolarize) or type (<class 'pennylane_cirq.ops.Depolarize'>) to the gate set.\n",
            "  warnings.warn(\n",
            "/usr/local/lib/python3.12/dist-packages/pennylane/transforms/decompose.py:767: UserWarning: Operator Depolarize does not define a decomposition and was not found in the target gate set. To remove this warning, add the operator name (Depolarize) or type (<class 'pennylane_cirq.ops.Depolarize'>) to the gate set.\n",
            "  warnings.warn(\n",
            "/usr/local/lib/python3.12/dist-packages/pennylane/transforms/decompose.py:767: UserWarning: Operator Depolarize does not define a decomposition and was not found in the target gate set. To remove this warning, add the operator name (Depolarize) or type (<class 'pennylane_cirq.ops.Depolarize'>) to the gate set.\n",
            "  warnings.warn(\n",
            "/usr/local/lib/python3.12/dist-packages/pennylane/transforms/decompose.py:767: UserWarning: Operator Depolarize does not define a decomposition and was not found in the target gate set. To remove this warning, add the operator name (Depolarize) or type (<class 'pennylane_cirq.ops.Depolarize'>) to the gate set.\n",
            "  warnings.warn(\n",
            "/usr/local/lib/python3.12/dist-packages/pennylane/transforms/decompose.py:767: UserWarning: Operator Depolarize does not define a decomposition and was not found in the target gate set. To remove this warning, add the operator name (Depolarize) or type (<class 'pennylane_cirq.ops.Depolarize'>) to the gate set.\n",
            "  warnings.warn(\n",
            "/usr/local/lib/python3.12/dist-packages/pennylane/transforms/decompose.py:767: UserWarning: Operator Depolarize does not define a decomposition and was not found in the target gate set. To remove this warning, add the operator name (Depolarize) or type (<class 'pennylane_cirq.ops.Depolarize'>) to the gate set.\n",
            "  warnings.warn(\n",
            "/usr/local/lib/python3.12/dist-packages/pennylane/transforms/decompose.py:767: UserWarning: Operator Depolarize does not define a decomposition and was not found in the target gate set. To remove this warning, add the operator name (Depolarize) or type (<class 'pennylane_cirq.ops.Depolarize'>) to the gate set.\n",
            "  warnings.warn(\n",
            "/usr/local/lib/python3.12/dist-packages/pennylane/transforms/decompose.py:767: UserWarning: Operator Depolarize does not define a decomposition and was not found in the target gate set. To remove this warning, add the operator name (Depolarize) or type (<class 'pennylane_cirq.ops.Depolarize'>) to the gate set.\n",
            "  warnings.warn(\n",
            "/usr/local/lib/python3.12/dist-packages/pennylane/transforms/decompose.py:767: UserWarning: Operator Depolarize does not define a decomposition and was not found in the target gate set. To remove this warning, add the operator name (Depolarize) or type (<class 'pennylane_cirq.ops.Depolarize'>) to the gate set.\n",
            "  warnings.warn(\n",
            "/usr/local/lib/python3.12/dist-packages/pennylane/transforms/decompose.py:767: UserWarning: Operator Depolarize does not define a decomposition and was not found in the target gate set. To remove this warning, add the operator name (Depolarize) or type (<class 'pennylane_cirq.ops.Depolarize'>) to the gate set.\n",
            "  warnings.warn(\n",
            "/usr/local/lib/python3.12/dist-packages/pennylane/transforms/decompose.py:767: UserWarning: Operator Depolarize does not define a decomposition and was not found in the target gate set. To remove this warning, add the operator name (Depolarize) or type (<class 'pennylane_cirq.ops.Depolarize'>) to the gate set.\n",
            "  warnings.warn(\n"
          ]
        },
        {
          "output_type": "stream",
          "name": "stdout",
          "text": [
            "Step    75. Cost: -0.9960000; Noisy Cost: -0.6040000\n"
          ]
        },
        {
          "output_type": "stream",
          "name": "stderr",
          "text": [
            "/usr/local/lib/python3.12/dist-packages/pennylane/transforms/decompose.py:767: UserWarning: Operator Depolarize does not define a decomposition and was not found in the target gate set. To remove this warning, add the operator name (Depolarize) or type (<class 'pennylane_cirq.ops.Depolarize'>) to the gate set.\n",
            "  warnings.warn(\n",
            "/usr/local/lib/python3.12/dist-packages/pennylane/transforms/decompose.py:767: UserWarning: Operator Depolarize does not define a decomposition and was not found in the target gate set. To remove this warning, add the operator name (Depolarize) or type (<class 'pennylane_cirq.ops.Depolarize'>) to the gate set.\n",
            "  warnings.warn(\n",
            "/usr/local/lib/python3.12/dist-packages/pennylane/transforms/decompose.py:767: UserWarning: Operator Depolarize does not define a decomposition and was not found in the target gate set. To remove this warning, add the operator name (Depolarize) or type (<class 'pennylane_cirq.ops.Depolarize'>) to the gate set.\n",
            "  warnings.warn(\n",
            "/usr/local/lib/python3.12/dist-packages/pennylane/transforms/decompose.py:767: UserWarning: Operator Depolarize does not define a decomposition and was not found in the target gate set. To remove this warning, add the operator name (Depolarize) or type (<class 'pennylane_cirq.ops.Depolarize'>) to the gate set.\n",
            "  warnings.warn(\n",
            "/usr/local/lib/python3.12/dist-packages/pennylane/transforms/decompose.py:767: UserWarning: Operator Depolarize does not define a decomposition and was not found in the target gate set. To remove this warning, add the operator name (Depolarize) or type (<class 'pennylane_cirq.ops.Depolarize'>) to the gate set.\n",
            "  warnings.warn(\n",
            "/usr/local/lib/python3.12/dist-packages/pennylane/transforms/decompose.py:767: UserWarning: Operator Depolarize does not define a decomposition and was not found in the target gate set. To remove this warning, add the operator name (Depolarize) or type (<class 'pennylane_cirq.ops.Depolarize'>) to the gate set.\n",
            "  warnings.warn(\n",
            "/usr/local/lib/python3.12/dist-packages/pennylane/transforms/decompose.py:767: UserWarning: Operator Depolarize does not define a decomposition and was not found in the target gate set. To remove this warning, add the operator name (Depolarize) or type (<class 'pennylane_cirq.ops.Depolarize'>) to the gate set.\n",
            "  warnings.warn(\n",
            "/usr/local/lib/python3.12/dist-packages/pennylane/transforms/decompose.py:767: UserWarning: Operator Depolarize does not define a decomposition and was not found in the target gate set. To remove this warning, add the operator name (Depolarize) or type (<class 'pennylane_cirq.ops.Depolarize'>) to the gate set.\n",
            "  warnings.warn(\n",
            "/usr/local/lib/python3.12/dist-packages/pennylane/transforms/decompose.py:767: UserWarning: Operator Depolarize does not define a decomposition and was not found in the target gate set. To remove this warning, add the operator name (Depolarize) or type (<class 'pennylane_cirq.ops.Depolarize'>) to the gate set.\n",
            "  warnings.warn(\n",
            "/usr/local/lib/python3.12/dist-packages/pennylane/transforms/decompose.py:767: UserWarning: Operator Depolarize does not define a decomposition and was not found in the target gate set. To remove this warning, add the operator name (Depolarize) or type (<class 'pennylane_cirq.ops.Depolarize'>) to the gate set.\n",
            "  warnings.warn(\n"
          ]
        },
        {
          "output_type": "stream",
          "name": "stdout",
          "text": [
            "Step    80. Cost: -0.9960000; Noisy Cost: -0.6220000\n"
          ]
        },
        {
          "output_type": "stream",
          "name": "stderr",
          "text": [
            "/usr/local/lib/python3.12/dist-packages/pennylane/transforms/decompose.py:767: UserWarning: Operator Depolarize does not define a decomposition and was not found in the target gate set. To remove this warning, add the operator name (Depolarize) or type (<class 'pennylane_cirq.ops.Depolarize'>) to the gate set.\n",
            "  warnings.warn(\n",
            "/usr/local/lib/python3.12/dist-packages/pennylane/transforms/decompose.py:767: UserWarning: Operator Depolarize does not define a decomposition and was not found in the target gate set. To remove this warning, add the operator name (Depolarize) or type (<class 'pennylane_cirq.ops.Depolarize'>) to the gate set.\n",
            "  warnings.warn(\n",
            "/usr/local/lib/python3.12/dist-packages/pennylane/transforms/decompose.py:767: UserWarning: Operator Depolarize does not define a decomposition and was not found in the target gate set. To remove this warning, add the operator name (Depolarize) or type (<class 'pennylane_cirq.ops.Depolarize'>) to the gate set.\n",
            "  warnings.warn(\n",
            "/usr/local/lib/python3.12/dist-packages/pennylane/transforms/decompose.py:767: UserWarning: Operator Depolarize does not define a decomposition and was not found in the target gate set. To remove this warning, add the operator name (Depolarize) or type (<class 'pennylane_cirq.ops.Depolarize'>) to the gate set.\n",
            "  warnings.warn(\n",
            "/usr/local/lib/python3.12/dist-packages/pennylane/transforms/decompose.py:767: UserWarning: Operator Depolarize does not define a decomposition and was not found in the target gate set. To remove this warning, add the operator name (Depolarize) or type (<class 'pennylane_cirq.ops.Depolarize'>) to the gate set.\n",
            "  warnings.warn(\n",
            "/usr/local/lib/python3.12/dist-packages/pennylane/transforms/decompose.py:767: UserWarning: Operator Depolarize does not define a decomposition and was not found in the target gate set. To remove this warning, add the operator name (Depolarize) or type (<class 'pennylane_cirq.ops.Depolarize'>) to the gate set.\n",
            "  warnings.warn(\n",
            "/usr/local/lib/python3.12/dist-packages/pennylane/transforms/decompose.py:767: UserWarning: Operator Depolarize does not define a decomposition and was not found in the target gate set. To remove this warning, add the operator name (Depolarize) or type (<class 'pennylane_cirq.ops.Depolarize'>) to the gate set.\n",
            "  warnings.warn(\n",
            "/usr/local/lib/python3.12/dist-packages/pennylane/transforms/decompose.py:767: UserWarning: Operator Depolarize does not define a decomposition and was not found in the target gate set. To remove this warning, add the operator name (Depolarize) or type (<class 'pennylane_cirq.ops.Depolarize'>) to the gate set.\n",
            "  warnings.warn(\n",
            "/usr/local/lib/python3.12/dist-packages/pennylane/transforms/decompose.py:767: UserWarning: Operator Depolarize does not define a decomposition and was not found in the target gate set. To remove this warning, add the operator name (Depolarize) or type (<class 'pennylane_cirq.ops.Depolarize'>) to the gate set.\n",
            "  warnings.warn(\n"
          ]
        },
        {
          "output_type": "stream",
          "name": "stdout",
          "text": [
            "Step    85. Cost: -0.9980000; Noisy Cost: -0.5940000\n"
          ]
        },
        {
          "output_type": "stream",
          "name": "stderr",
          "text": [
            "/usr/local/lib/python3.12/dist-packages/pennylane/transforms/decompose.py:767: UserWarning: Operator Depolarize does not define a decomposition and was not found in the target gate set. To remove this warning, add the operator name (Depolarize) or type (<class 'pennylane_cirq.ops.Depolarize'>) to the gate set.\n",
            "  warnings.warn(\n",
            "/usr/local/lib/python3.12/dist-packages/pennylane/transforms/decompose.py:767: UserWarning: Operator Depolarize does not define a decomposition and was not found in the target gate set. To remove this warning, add the operator name (Depolarize) or type (<class 'pennylane_cirq.ops.Depolarize'>) to the gate set.\n",
            "  warnings.warn(\n",
            "/usr/local/lib/python3.12/dist-packages/pennylane/transforms/decompose.py:767: UserWarning: Operator Depolarize does not define a decomposition and was not found in the target gate set. To remove this warning, add the operator name (Depolarize) or type (<class 'pennylane_cirq.ops.Depolarize'>) to the gate set.\n",
            "  warnings.warn(\n",
            "/usr/local/lib/python3.12/dist-packages/pennylane/transforms/decompose.py:767: UserWarning: Operator Depolarize does not define a decomposition and was not found in the target gate set. To remove this warning, add the operator name (Depolarize) or type (<class 'pennylane_cirq.ops.Depolarize'>) to the gate set.\n",
            "  warnings.warn(\n",
            "/usr/local/lib/python3.12/dist-packages/pennylane/transforms/decompose.py:767: UserWarning: Operator Depolarize does not define a decomposition and was not found in the target gate set. To remove this warning, add the operator name (Depolarize) or type (<class 'pennylane_cirq.ops.Depolarize'>) to the gate set.\n",
            "  warnings.warn(\n",
            "/usr/local/lib/python3.12/dist-packages/pennylane/transforms/decompose.py:767: UserWarning: Operator Depolarize does not define a decomposition and was not found in the target gate set. To remove this warning, add the operator name (Depolarize) or type (<class 'pennylane_cirq.ops.Depolarize'>) to the gate set.\n",
            "  warnings.warn(\n",
            "/usr/local/lib/python3.12/dist-packages/pennylane/transforms/decompose.py:767: UserWarning: Operator Depolarize does not define a decomposition and was not found in the target gate set. To remove this warning, add the operator name (Depolarize) or type (<class 'pennylane_cirq.ops.Depolarize'>) to the gate set.\n",
            "  warnings.warn(\n",
            "/usr/local/lib/python3.12/dist-packages/pennylane/transforms/decompose.py:767: UserWarning: Operator Depolarize does not define a decomposition and was not found in the target gate set. To remove this warning, add the operator name (Depolarize) or type (<class 'pennylane_cirq.ops.Depolarize'>) to the gate set.\n",
            "  warnings.warn(\n",
            "/usr/local/lib/python3.12/dist-packages/pennylane/transforms/decompose.py:767: UserWarning: Operator Depolarize does not define a decomposition and was not found in the target gate set. To remove this warning, add the operator name (Depolarize) or type (<class 'pennylane_cirq.ops.Depolarize'>) to the gate set.\n",
            "  warnings.warn(\n"
          ]
        },
        {
          "output_type": "stream",
          "name": "stdout",
          "text": [
            "Step    90. Cost: -0.9980000; Noisy Cost: -0.5740000\n"
          ]
        },
        {
          "output_type": "stream",
          "name": "stderr",
          "text": [
            "/usr/local/lib/python3.12/dist-packages/pennylane/transforms/decompose.py:767: UserWarning: Operator Depolarize does not define a decomposition and was not found in the target gate set. To remove this warning, add the operator name (Depolarize) or type (<class 'pennylane_cirq.ops.Depolarize'>) to the gate set.\n",
            "  warnings.warn(\n",
            "/usr/local/lib/python3.12/dist-packages/pennylane/transforms/decompose.py:767: UserWarning: Operator Depolarize does not define a decomposition and was not found in the target gate set. To remove this warning, add the operator name (Depolarize) or type (<class 'pennylane_cirq.ops.Depolarize'>) to the gate set.\n",
            "  warnings.warn(\n",
            "/usr/local/lib/python3.12/dist-packages/pennylane/transforms/decompose.py:767: UserWarning: Operator Depolarize does not define a decomposition and was not found in the target gate set. To remove this warning, add the operator name (Depolarize) or type (<class 'pennylane_cirq.ops.Depolarize'>) to the gate set.\n",
            "  warnings.warn(\n",
            "/usr/local/lib/python3.12/dist-packages/pennylane/transforms/decompose.py:767: UserWarning: Operator Depolarize does not define a decomposition and was not found in the target gate set. To remove this warning, add the operator name (Depolarize) or type (<class 'pennylane_cirq.ops.Depolarize'>) to the gate set.\n",
            "  warnings.warn(\n",
            "/usr/local/lib/python3.12/dist-packages/pennylane/transforms/decompose.py:767: UserWarning: Operator Depolarize does not define a decomposition and was not found in the target gate set. To remove this warning, add the operator name (Depolarize) or type (<class 'pennylane_cirq.ops.Depolarize'>) to the gate set.\n",
            "  warnings.warn(\n",
            "/usr/local/lib/python3.12/dist-packages/pennylane/transforms/decompose.py:767: UserWarning: Operator Depolarize does not define a decomposition and was not found in the target gate set. To remove this warning, add the operator name (Depolarize) or type (<class 'pennylane_cirq.ops.Depolarize'>) to the gate set.\n",
            "  warnings.warn(\n",
            "/usr/local/lib/python3.12/dist-packages/pennylane/transforms/decompose.py:767: UserWarning: Operator Depolarize does not define a decomposition and was not found in the target gate set. To remove this warning, add the operator name (Depolarize) or type (<class 'pennylane_cirq.ops.Depolarize'>) to the gate set.\n",
            "  warnings.warn(\n",
            "/usr/local/lib/python3.12/dist-packages/pennylane/transforms/decompose.py:767: UserWarning: Operator Depolarize does not define a decomposition and was not found in the target gate set. To remove this warning, add the operator name (Depolarize) or type (<class 'pennylane_cirq.ops.Depolarize'>) to the gate set.\n",
            "  warnings.warn(\n",
            "/usr/local/lib/python3.12/dist-packages/pennylane/transforms/decompose.py:767: UserWarning: Operator Depolarize does not define a decomposition and was not found in the target gate set. To remove this warning, add the operator name (Depolarize) or type (<class 'pennylane_cirq.ops.Depolarize'>) to the gate set.\n",
            "  warnings.warn(\n",
            "/usr/local/lib/python3.12/dist-packages/pennylane/transforms/decompose.py:767: UserWarning: Operator Depolarize does not define a decomposition and was not found in the target gate set. To remove this warning, add the operator name (Depolarize) or type (<class 'pennylane_cirq.ops.Depolarize'>) to the gate set.\n",
            "  warnings.warn(\n",
            "/usr/local/lib/python3.12/dist-packages/pennylane/transforms/decompose.py:767: UserWarning: Operator Depolarize does not define a decomposition and was not found in the target gate set. To remove this warning, add the operator name (Depolarize) or type (<class 'pennylane_cirq.ops.Depolarize'>) to the gate set.\n",
            "  warnings.warn(\n",
            "/usr/local/lib/python3.12/dist-packages/pennylane/transforms/decompose.py:767: UserWarning: Operator Depolarize does not define a decomposition and was not found in the target gate set. To remove this warning, add the operator name (Depolarize) or type (<class 'pennylane_cirq.ops.Depolarize'>) to the gate set.\n",
            "  warnings.warn(\n"
          ]
        },
        {
          "output_type": "stream",
          "name": "stdout",
          "text": [
            "Step    95. Cost: -0.9960000; Noisy Cost: -0.6120000\n"
          ]
        },
        {
          "output_type": "stream",
          "name": "stderr",
          "text": [
            "/usr/local/lib/python3.12/dist-packages/pennylane/transforms/decompose.py:767: UserWarning: Operator Depolarize does not define a decomposition and was not found in the target gate set. To remove this warning, add the operator name (Depolarize) or type (<class 'pennylane_cirq.ops.Depolarize'>) to the gate set.\n",
            "  warnings.warn(\n",
            "/usr/local/lib/python3.12/dist-packages/pennylane/transforms/decompose.py:767: UserWarning: Operator Depolarize does not define a decomposition and was not found in the target gate set. To remove this warning, add the operator name (Depolarize) or type (<class 'pennylane_cirq.ops.Depolarize'>) to the gate set.\n",
            "  warnings.warn(\n",
            "/usr/local/lib/python3.12/dist-packages/pennylane/transforms/decompose.py:767: UserWarning: Operator Depolarize does not define a decomposition and was not found in the target gate set. To remove this warning, add the operator name (Depolarize) or type (<class 'pennylane_cirq.ops.Depolarize'>) to the gate set.\n",
            "  warnings.warn(\n",
            "/usr/local/lib/python3.12/dist-packages/pennylane/transforms/decompose.py:767: UserWarning: Operator Depolarize does not define a decomposition and was not found in the target gate set. To remove this warning, add the operator name (Depolarize) or type (<class 'pennylane_cirq.ops.Depolarize'>) to the gate set.\n",
            "  warnings.warn(\n"
          ]
        },
        {
          "output_type": "stream",
          "name": "stdout",
          "text": [
            "Step   100. Cost: -0.9980000; Noisy Cost: -0.6280000\n",
            "\n",
            "Optimized rotation angles (noise-free case):\n",
            "(-0.0363148,  3.1242885)\n",
            "Optimized rotation angles (noisy case):\n",
            "( 0.0035724,  3.1503551)\n"
          ]
        },
        {
          "output_type": "stream",
          "name": "stderr",
          "text": [
            "/usr/local/lib/python3.12/dist-packages/pennylane/transforms/decompose.py:767: UserWarning: Operator Depolarize does not define a decomposition and was not found in the target gate set. To remove this warning, add the operator name (Depolarize) or type (<class 'pennylane_cirq.ops.Depolarize'>) to the gate set.\n",
            "  warnings.warn(\n",
            "/usr/local/lib/python3.12/dist-packages/pennylane/transforms/decompose.py:767: UserWarning: Operator Depolarize does not define a decomposition and was not found in the target gate set. To remove this warning, add the operator name (Depolarize) or type (<class 'pennylane_cirq.ops.Depolarize'>) to the gate set.\n",
            "  warnings.warn(\n",
            "/usr/local/lib/python3.12/dist-packages/pennylane/transforms/decompose.py:767: UserWarning: Operator Depolarize does not define a decomposition and was not found in the target gate set. To remove this warning, add the operator name (Depolarize) or type (<class 'pennylane_cirq.ops.Depolarize'>) to the gate set.\n",
            "  warnings.warn(\n"
          ]
        }
      ],
      "source": [
        "# declare the cost functions to be optimized\n",
        "def cost(x, noise_param):\n",
        "    return circuit(x, noise_param)\n",
        "\n",
        "\n",
        "#def noisy_cost(x):\n",
        "    #return circuit(x, noise_param=0.3)\n",
        "\n",
        "\n",
        "# initialize the optimizer\n",
        "#opt = qml.GradientDescentOptimizer(stepsize=0.4)\n",
        "opt = qml.QNGOptimizer(stepsize=0.4)\n",
        "\n",
        "# set the number of steps\n",
        "steps = 100\n",
        "# set the initial parameter values\n",
        "init_params = np.array([0.011, 0.055], requires_grad=True)\n",
        "noisy_circuit_params = init_params\n",
        "params = init_params\n",
        "\n",
        "for i in range(steps):\n",
        "    # update the circuit parameters\n",
        "    # we can optimize both in the same training loop\n",
        "    noisy_cost_fn = lambda p: cost(p, 0.3)\n",
        "    noisy_metric_fn = lambda p: qml.metric_tensor(circuit, approx=\"block-diag\")(p, 0.3)\n",
        "    noisy_circuit_params, noisy_loss = opt.step_and_cost(noisy_cost_fn, noisy_circuit_params, metric_tensor_fn=noisy_metric_fn)\n",
        "\n",
        "    cost_fn = lambda p: cost(p, 0.0)\n",
        "    metric_fn = lambda p: qml.metric_tensor(circuit, approx=\"block-diag\")(p, 0.0)\n",
        "    params, loss = opt.step_and_cost(cost_fn, params, metric_tensor_fn=metric_fn)\n",
        "    if (i + 1) % 5 == 0:\n",
        "        print(\n",
        "            \"Step {:5d}. Cost: {: .7f}; Noisy Cost: {: .7f}\".format(\n",
        "                i + 1, loss, noisy_loss\n",
        "            )\n",
        "        )\n",
        "\n",
        "print(\"\\nOptimized rotation angles (noise-free case):\")\n",
        "print(\"({: .7f}, {: .7f})\".format(*params))\n",
        "print(\"Optimized rotation angles (noisy case):\")\n",
        "print(\"({: .7f}, {: .7f})\".format(*noisy_circuit_params))"
      ]
    },
    {
      "cell_type": "markdown",
      "metadata": {
        "id": "BhcB9SBlOoJ-"
      },
      "source": [
        "There are a couple interesting observations here:\n",
        "\n",
        "i)  The noisy circuit isn\\'t able to achieve the same final cost\n",
        "    function value as the ideal circuit. This is because the noise\n",
        "    causes the state to become irreversibly mixed. Mixed states can\\'t\n",
        "    achieve the same extremal expectation values as pure states.\n",
        "ii) However, both circuits still converge to the *same parameter values*\n",
        "    $(0,\\pi),$ despite having different final states.\n",
        "\n",
        "It could have been the case that noisy devices irreparably damage the\n",
        "optimization of variational circuits, steering us towards parameter\n",
        "values which are not at all useful. Luckily, at least for the simple\n",
        "example above, this is not the case. *Optimizations on noisy devices can\n",
        "still lead to similar parameter values as when we run on ideal devices.*\n"
      ]
    },
    {
      "cell_type": "markdown",
      "metadata": {
        "id": "a8GAEI0IOoJ_"
      },
      "source": [
        "# Understanding the effect of noisy channels\n",
        "\n",
        "Let\\'s dig a bit into the underlying quantum information theory to\n",
        "understand better what\\'s happening. Expectation values of\n",
        "`variational circuits </glossary/variational_circuit>`{.interpreted-text\n",
        "role=\"doc\"}, like the one we are measuring, are composed of three\n",
        "pieces:\n",
        "\n",
        "i)  an initial quantum state $\\rho$ (usually the zero state);\n",
        "ii) a parameterized unitary transformation $U(\\theta)$); and\n",
        "iii) measurement of a final observable $\\hat{B}.$\n",
        "\n",
        "The equation for the expectation value is given by the [Born\n",
        "rule](https://en.wikipedia.org/wiki/Born_rule):\n",
        "\n",
        "$$\\langle \\hat{B} \\rangle (\\theta) =\n",
        "        \\mathrm{Tr}(\\hat{B}U(\\theta)\\rho U^\\dagger(\\theta)).$$\n",
        "\n",
        "When optimizing, we can compute gradients of many common gates using the\n",
        "`parameter-shift rule </glossary/parameter_shift>`{.interpreted-text\n",
        "role=\"doc\"}:\n",
        "\n",
        "$$\\nabla_\\theta\\langle \\hat{B} \\rangle(\\theta)\n",
        "   =  \\frac{1}{2}\n",
        "         \\left[\n",
        "             \\langle \\hat{B} \\rangle\\left(\\theta + \\frac{\\pi}{2}\\right)\n",
        "           - \\langle \\hat{B} \\rangle\\left(\\theta - \\frac{\\pi}{2}\\right)\n",
        "         \\right].$$\n",
        "\n",
        "In our example, the parametrized unitary $U(\\theta)$ is split into two\n",
        "gates, $U = U_2 U_1,$ where $U_1=R_X$ and $U_1=R_Y,$ and each takes an\n",
        "independent parameter $\\theta_i.$\n",
        "\n",
        "What happens when we apply a noisy channel $\\Lambda$ after the gates? In\n",
        "this case, the expectation value is now taken with respect to the noisy\n",
        "circuit:\n",
        "\n",
        "$$\\langle \\hat{B} \\rangle (\\theta) =\n",
        "       \\mathrm{Tr}\\left(\\hat{B}\\Lambda\\left[\n",
        "                      U(\\theta)\\rho U^\\dagger(\\theta)\n",
        "                  \\right]\\right).$$\n",
        "\n",
        "Thus, we can treat it as the expectation value of the same observable,\n",
        "but with respect to a different state\n",
        "$\\rho' = \\Lambda\\left[U(\\theta)\\rho U^\\dagger(\\theta)\\right].$\n",
        "\n",
        "Alternatively, using the Heisenberg picture, we can transfer the channel\n",
        "$\\Lambda$ acting on the state $U(\\theta)\\rho U^\\dagger(\\theta)$ into the\n",
        "*adjoint channel* $\\Lambda^\\dagger$ acting on the observable $\\hat{B},$\n",
        "transforming it to a new observable\n",
        "$\\hat{B} = \\Lambda^\\dagger[\\hat{B}]=\\hat{B}'.$\n",
        "\n",
        "With the channel present, the expectation value can be interpreted as if\n",
        "we had the same variational state, but measured a different observable:\n",
        "\n",
        "$$\\langle \\hat{B} \\rangle (\\theta) =\n",
        "       \\mathrm{Tr}(\\hat{B}'U(\\theta)\\rho U^\\dagger(\\theta)) =\n",
        "       \\langle \\hat{B}' \\rangle (\\theta).$$\n",
        "\n",
        "This has immediate consequences for the parameter-shift rule. With the\n",
        "channel present, we have simply\n",
        "\n",
        "$$\\nabla_\\theta\\langle \\hat{B} \\rangle(\\theta)\n",
        "  =  \\frac{1}{2}\n",
        "        \\left[\n",
        "            \\langle \\hat{B}' \\rangle\\left(\\theta + \\frac{\\pi}{2}\\right)\n",
        "          - \\langle \\hat{B}' \\rangle\\left(\\theta - \\frac{\\pi}{2}\\right)\n",
        "        \\right].$$\n",
        "\n",
        "In other words, the parameter-shift rule continues to hold for all\n",
        "gates, even when we have additional noise!\n",
        "\n",
        "::: note\n",
        "::: title\n",
        "Note\n",
        ":::\n",
        "\n",
        "In the above derivation, we implicitly assumed that the channel does not\n",
        "depend on the variational circuit\\'s parameters. If the channel depended\n",
        "on the particular state, or if it depended on the parameters $\\theta,$\n",
        "we would need to be more careful.\n",
        ":::\n",
        "\n",
        "Let\\'s confirm the above derivation with an example.\n"
      ]
    },
    {
      "cell_type": "code",
      "execution_count": null,
      "metadata": {
        "id": "j6eFRsnCOoJ_"
      },
      "outputs": [],
      "source": [
        "angles = np.linspace(0, 2 * np.pi, 50)\n",
        "theta2 = np.pi / 4\n",
        "\n",
        "\n",
        "def param_shift(theta1):\n",
        "    return 0.5 * (\n",
        "        noisy_cost([theta1 + np.pi / 2, theta2]) - noisy_cost([theta1 - np.pi / 2, theta2])\n",
        "    )\n",
        "\n",
        "\n",
        "noisy_expvals = [noisy_cost([theta1, theta2]) for theta1 in angles]\n",
        "noisy_param_shift = [param_shift(theta1) for theta1 in angles]\n",
        "\n",
        "plt.plot(angles, noisy_expvals, label=\"Expectation value\")  # looks like 0.4 * cos(phi)\n",
        "plt.plot(angles, noisy_param_shift, label=\"Parameter-shift value\")  # looks like -0.4 * sin(phi)\n",
        "plt.ylabel(r\"Expectation value $\\langle \\hat{Z} \\rangle$\")\n",
        "plt.xlabel(r\"Angle $\\theta_1$\")\n",
        "plt.legend()\n",
        "plt.show()"
      ]
    },
    {
      "cell_type": "markdown",
      "metadata": {
        "id": "xNNs8kN6OoKA"
      },
      "source": [
        "By inspecting the two curves, we can see that the parameter-shift rule\n",
        "gives the correct gradient of the expectation value, even with the\n",
        "presence of the noisy channel!\n",
        "\n",
        "In this example, the influence of the channel is to attenuate the\n",
        "maximal amplitude that the qubit state can achieve ($\\approx 0.4$). But\n",
        "even though the qubit\\'s amplitude is attenuated, the gradient computed\n",
        "by the parameter-shift rule still \\\"points in the right direction\\\".\n",
        "\n",
        "This backs up the observation we made earlier that the result of the\n",
        "optimization gave the correct values for the angle parameters, but the\n",
        "value of the final cost function was lower than the noise-free case.\n"
      ]
    },
    {
      "cell_type": "markdown",
      "metadata": {
        "id": "9z4yF6oGOoKA"
      },
      "source": [
        "# Interpreting noisy circuit optimizations\n",
        "\n",
        "Despite the observations that we can compute gradients for noisy\n",
        "channels, and that optimization may lead to the same parameter values\n",
        "for both noise-free and noisy circuits, we must still remain cautious in\n",
        "how we interpret the results.\n",
        "\n",
        "We can evaluate the correct gradient for the expectation value\n",
        "\n",
        "$$\\langle \\hat{B} \\rangle =\n",
        "       \\mathrm{Tr}\\left(\\hat{B}\\Lambda\\left[\n",
        "                      U(\\theta)\\rho U^\\dagger(\\theta)\n",
        "                  \\right]\\right),$$\n",
        "\n",
        "but, because the noisy channel is present, *this expectation value may\n",
        "not reflect the actual expectation value we wanted to compute*. This is\n",
        "important to keep in mind for certain algorithms that have a physical\n",
        "interpretation for the variational circuit.\n",
        "\n",
        "For example, in the\n",
        "`variational quantum eigensolver <demos/tutorial_vqe>`{.interpreted-text\n",
        "role=\"doc\"}, we want to find the ground-state energy of a physical\n",
        "system. If there is an appreciable amount of noise present, the state we\n",
        "are optimizing will necessarily become mixed, and we should be careful\n",
        "interpreting the optimum value as the exact ground-state energy.\n"
      ]
    },
    {
      "cell_type": "markdown",
      "metadata": {
        "id": "xKvnRM24OoKA"
      },
      "source": [
        "# References\n"
      ]
    }
  ],
  "metadata": {
    "kernelspec": {
      "display_name": "Python 3",
      "language": "python",
      "name": "python3"
    },
    "language_info": {
      "codemirror_mode": {
        "name": "ipython",
        "version": 3
      },
      "file_extension": ".py",
      "mimetype": "text/x-python",
      "name": "python",
      "nbconvert_exporter": "python",
      "pygments_lexer": "ipython3",
      "version": "3.10.18"
    },
    "colab": {
      "provenance": [],
      "include_colab_link": true
    }
  },
  "nbformat": 4,
  "nbformat_minor": 0
}