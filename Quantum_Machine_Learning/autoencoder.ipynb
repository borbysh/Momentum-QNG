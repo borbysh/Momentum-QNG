{
  "cells": [
    {
      "cell_type": "markdown",
      "metadata": {
        "id": "view-in-github",
        "colab_type": "text"
      },
      "source": [
        "<a href=\"https://colab.research.google.com/github/borbysh/Momentum-QNG/blob/main/Quantum_Machine_Learning/autoencoder.ipynb\" target=\"_parent\"><img src=\"https://colab.research.google.com/assets/colab-badge.svg\" alt=\"Open In Colab\"/></a>"
      ]
    },
    {
      "cell_type": "code",
      "source": [
        "!pip install pennylane"
      ],
      "metadata": {
        "colab": {
          "base_uri": "https://localhost:8080/"
        },
        "id": "YEyeZu89WruN",
        "outputId": "7934d57a-54c8-4254-f05d-652ee92c4cee"
      },
      "execution_count": 10,
      "outputs": [
        {
          "output_type": "stream",
          "name": "stdout",
          "text": [
            "Requirement already satisfied: pennylane in /usr/local/lib/python3.12/dist-packages (0.42.3)\n",
            "Requirement already satisfied: scipy in /usr/local/lib/python3.12/dist-packages (from pennylane) (1.16.2)\n",
            "Requirement already satisfied: networkx in /usr/local/lib/python3.12/dist-packages (from pennylane) (3.5)\n",
            "Requirement already satisfied: rustworkx>=0.14.0 in /usr/local/lib/python3.12/dist-packages (from pennylane) (0.17.1)\n",
            "Requirement already satisfied: autograd in /usr/local/lib/python3.12/dist-packages (from pennylane) (1.8.0)\n",
            "Requirement already satisfied: appdirs in /usr/local/lib/python3.12/dist-packages (from pennylane) (1.4.4)\n",
            "Requirement already satisfied: autoray<0.8,>=0.6.11 in /usr/local/lib/python3.12/dist-packages (from pennylane) (0.7.2)\n",
            "Requirement already satisfied: cachetools in /usr/local/lib/python3.12/dist-packages (from pennylane) (5.5.2)\n",
            "Requirement already satisfied: pennylane-lightning>=0.42 in /usr/local/lib/python3.12/dist-packages (from pennylane) (0.42.0)\n",
            "Requirement already satisfied: requests in /usr/local/lib/python3.12/dist-packages (from pennylane) (2.32.4)\n",
            "Requirement already satisfied: tomlkit in /usr/local/lib/python3.12/dist-packages (from pennylane) (0.13.3)\n",
            "Requirement already satisfied: typing_extensions in /usr/local/lib/python3.12/dist-packages (from pennylane) (4.15.0)\n",
            "Requirement already satisfied: packaging in /usr/local/lib/python3.12/dist-packages (from pennylane) (25.0)\n",
            "Requirement already satisfied: diastatic-malt in /usr/local/lib/python3.12/dist-packages (from pennylane) (2.15.2)\n",
            "Requirement already satisfied: numpy in /usr/local/lib/python3.12/dist-packages (from pennylane) (2.0.2)\n",
            "Requirement already satisfied: scipy-openblas32>=0.3.26 in /usr/local/lib/python3.12/dist-packages (from pennylane-lightning>=0.42->pennylane) (0.3.30.0.2)\n",
            "Requirement already satisfied: astunparse in /usr/local/lib/python3.12/dist-packages (from diastatic-malt->pennylane) (1.6.3)\n",
            "Requirement already satisfied: gast in /usr/local/lib/python3.12/dist-packages (from diastatic-malt->pennylane) (0.6.0)\n",
            "Requirement already satisfied: termcolor in /usr/local/lib/python3.12/dist-packages (from diastatic-malt->pennylane) (3.1.0)\n",
            "Requirement already satisfied: charset_normalizer<4,>=2 in /usr/local/lib/python3.12/dist-packages (from requests->pennylane) (3.4.3)\n",
            "Requirement already satisfied: idna<4,>=2.5 in /usr/local/lib/python3.12/dist-packages (from requests->pennylane) (3.10)\n",
            "Requirement already satisfied: urllib3<3,>=1.21.1 in /usr/local/lib/python3.12/dist-packages (from requests->pennylane) (2.5.0)\n",
            "Requirement already satisfied: certifi>=2017.4.17 in /usr/local/lib/python3.12/dist-packages (from requests->pennylane) (2025.8.3)\n",
            "Requirement already satisfied: wheel<1.0,>=0.23.0 in /usr/local/lib/python3.12/dist-packages (from astunparse->diastatic-malt->pennylane) (0.45.1)\n",
            "Requirement already satisfied: six<2.0,>=1.6.1 in /usr/local/lib/python3.12/dist-packages (from astunparse->diastatic-malt->pennylane) (1.17.0)\n"
          ]
        }
      ]
    },
    {
      "cell_type": "code",
      "source": [
        "import pennylane as qml\n",
        "from pennylane import numpy as np"
      ],
      "metadata": {
        "id": "3QoGCYQvPJ3_"
      },
      "execution_count": 11,
      "outputs": []
    },
    {
      "cell_type": "markdown",
      "source": [
        "Adopted from this thread: https://discuss.pennylane.ai/t/training-with-qng-optimizer-on-circuit-with-data-argument/2067"
      ],
      "metadata": {
        "id": "-wrN38fIFZ10"
      }
    },
    {
      "cell_type": "code",
      "source": [
        "Nwires = 5\n",
        "dev = qml.device(\"default.qubit\", wires=Nwires)\n",
        "\n",
        "@qml.qnode(dev)\n",
        "def circuit(params, data):\n",
        "    qml.AngleEmbedding(data, wires=range(Nwires))\n",
        "    qml.StronglyEntanglingLayers(params, wires=range(Nwires))\n",
        "    return qml.expval(qml.PauliZ(Nwires-1))\n",
        "    #return qml.expval(qml.PauliZ(0))\n",
        "\n",
        "def cost(params, single_sample):\n",
        "     return (1 - circuit(params, single_sample)) ** 2\n",
        "\n",
        "#def cost(params, data):\n",
        "     #return np.sum((1 - circuit(params, single_sample)) ** 2 for single_sample in data) / Nbatch"
      ],
      "metadata": {
        "id": "AkG-bIHTP7Xw"
      },
      "execution_count": 16,
      "outputs": []
    },
    {
      "cell_type": "code",
      "source": [
        "Nbatch = 10\n",
        "np.random.seed(1)\n",
        "data = [np.random.random([Nwires], requires_grad=False) for _ in range(Nbatch)]\n",
        "init_params = np.random.random(qml.StronglyEntanglingLayers.shape(Nwires, Nwires), requires_grad=True)"
      ],
      "metadata": {
        "id": "m8RLTvItQEU4"
      },
      "execution_count": 17,
      "outputs": []
    },
    {
      "cell_type": "code",
      "source": [
        "params = init_params\n",
        "opt = qml.MomentumQNGOptimizer(stepsize=0.01) #, lam=0.5)\n",
        "#opt = qml.QNGOptimizer(0.01)\n",
        "for it in range(20):\n",
        "    for sample in data:\n",
        "        cost_fn = lambda p: cost(p, sample)\n",
        "        metric_fn = lambda p: qml.metric_tensor(circuit, approx=\"block-diag\")(p, sample)\n",
        "\n",
        "        params, loss = opt.step_and_cost(cost_fn, params,  metric_tensor_fn=metric_fn)\n",
        "\n",
        "    print(f\"Epoch: {it} | Loss: {loss} |\")"
      ],
      "metadata": {
        "colab": {
          "base_uri": "https://localhost:8080/"
        },
        "id": "G9FYW7qOWi4M",
        "outputId": "2fcd37b3-1878-45db-ca77-22031b1ba53d"
      },
      "execution_count": 22,
      "outputs": [
        {
          "output_type": "stream",
          "name": "stdout",
          "text": [
            "Epoch: 0 | Loss: 0.15549695541357283 |\n",
            "Epoch: 1 | Loss: 0.05988706628428329 |\n",
            "Epoch: 2 | Loss: 0.042608079109815296 |\n",
            "Epoch: 3 | Loss: 0.009655835195325006 |\n",
            "Epoch: 4 | Loss: 0.009107617638430017 |\n",
            "Epoch: 5 | Loss: 0.009786467945918965 |\n",
            "Epoch: 6 | Loss: 0.00494552775393942 |\n",
            "Epoch: 7 | Loss: 0.003910207831195334 |\n",
            "Epoch: 8 | Loss: 0.004644458519323576 |\n",
            "Epoch: 9 | Loss: 0.004848368295093205 |\n",
            "Epoch: 10 | Loss: 0.0056210984433385245 |\n",
            "Epoch: 11 | Loss: 0.0057894144255329185 |\n",
            "Epoch: 12 | Loss: 0.0022214316292274213 |\n",
            "Epoch: 13 | Loss: 0.0016241872083111756 |\n",
            "Epoch: 14 | Loss: 0.0020737342430632005 |\n",
            "Epoch: 15 | Loss: 0.002011271751105126 |\n",
            "Epoch: 16 | Loss: 0.0019071500311215004 |\n",
            "Epoch: 17 | Loss: 0.002128495421098454 |\n",
            "Epoch: 18 | Loss: 0.002794015627004573 |\n",
            "Epoch: 19 | Loss: 0.0018101366613166817 |\n"
          ]
        }
      ]
    },
    {
      "cell_type": "code",
      "source": [
        "params = init_params\n",
        "#opt = qml.MomentumOptimizer(0.25)\n",
        "opt = qml.AdamOptimizer(0.3)\n",
        "for it in range(20):\n",
        "    for sample in data:\n",
        "        cost_fn = lambda p: cost(p, sample)\n",
        "        params, loss = opt.step_and_cost(cost_fn, params)\n",
        "\n",
        "    print(f\"Epoch: {it} | Loss: {loss} |\")"
      ],
      "metadata": {
        "id": "7ZR9Df95RPYg",
        "outputId": "117c8f59-8cad-4018-ff70-d217bf7f1956",
        "colab": {
          "base_uri": "https://localhost:8080/"
        }
      },
      "execution_count": 27,
      "outputs": [
        {
          "output_type": "stream",
          "name": "stdout",
          "text": [
            "Epoch: 0 | Loss: 0.04624321895554315 |\n",
            "Epoch: 1 | Loss: 0.02655710977331679 |\n",
            "Epoch: 2 | Loss: 0.005047409158737415 |\n",
            "Epoch: 3 | Loss: 0.00184142298152455 |\n",
            "Epoch: 4 | Loss: 0.0001323355668437131 |\n",
            "Epoch: 5 | Loss: 0.0005171355954513288 |\n",
            "Epoch: 6 | Loss: 0.0014999484135997491 |\n",
            "Epoch: 7 | Loss: 0.00184955456304657 |\n",
            "Epoch: 8 | Loss: 0.0028353575518977187 |\n",
            "Epoch: 9 | Loss: 0.002081845800501092 |\n",
            "Epoch: 10 | Loss: 0.0005504415210112592 |\n",
            "Epoch: 11 | Loss: 0.0008673205647957051 |\n",
            "Epoch: 12 | Loss: 0.000930478095192633 |\n",
            "Epoch: 13 | Loss: 0.00042083822014304316 |\n",
            "Epoch: 14 | Loss: 0.0007118981484338083 |\n",
            "Epoch: 15 | Loss: 0.0006118166049433029 |\n",
            "Epoch: 16 | Loss: 0.0006835555729658541 |\n",
            "Epoch: 17 | Loss: 0.0007129300866910232 |\n",
            "Epoch: 18 | Loss: 0.0008971942210156729 |\n",
            "Epoch: 19 | Loss: 0.000873066604117647 |\n"
          ]
        }
      ]
    },
    {
      "cell_type": "code",
      "source": [
        "def cost(params, data):\n",
        "     return np.sum((1 - circuit(params, single_sample)) ** 2 for single_sample in data) / Nbatch"
      ],
      "metadata": {
        "id": "tY_eeVhihFPr"
      },
      "execution_count": 28,
      "outputs": []
    },
    {
      "cell_type": "code",
      "source": [
        "params = init_params\n",
        "opt = qml.MomentumQNGOptimizer(stepsize=0.01) #, lam=0.5)\n",
        "#opt = qml.QNGOptimizer(0.04)\n",
        "for it in range(200):\n",
        "    metric_fn = lambda p: np.sum((qml.metric_tensor(circuit, approx=\"block-diag\")(p, sample) for sample in data), axis = 0)/Nbatch\n",
        "    cost_fn = lambda p: cost(p, data)\n",
        "    params, loss = opt.step_and_cost(cost_fn, params,  metric_tensor_fn=metric_fn)\n",
        "\n",
        "    print(f\"Epoch: {it} | Loss: {loss} |\")"
      ],
      "metadata": {
        "id": "d4pM2KWPhR_3",
        "outputId": "fe64c44f-b4a2-4225-bb3d-831b98cdd301",
        "colab": {
          "base_uri": "https://localhost:8080/",
          "height": 1000
        }
      },
      "execution_count": 29,
      "outputs": [
        {
          "output_type": "stream",
          "name": "stdout",
          "text": [
            "Epoch: 0 | Loss: 0.8005877824610932 |\n",
            "Epoch: 1 | Loss: 0.682570175161767 |\n",
            "Epoch: 2 | Loss: 0.49809886075659693 |\n",
            "Epoch: 3 | Loss: 0.31912237728263104 |\n",
            "Epoch: 4 | Loss: 0.1960505830134369 |\n",
            "Epoch: 5 | Loss: 0.13369686536480224 |\n",
            "Epoch: 6 | Loss: 0.11335349611015447 |\n",
            "Epoch: 7 | Loss: 0.11714881475809617 |\n",
            "Epoch: 8 | Loss: 0.1306696661201468 |\n",
            "Epoch: 9 | Loss: 0.14076377460149309 |\n",
            "Epoch: 10 | Loss: 0.1389576923543719 |\n",
            "Epoch: 11 | Loss: 0.12470072628897785 |\n",
            "Epoch: 12 | Loss: 0.10335355313578956 |\n",
            "Epoch: 13 | Loss: 0.08145272893800663 |\n",
            "Epoch: 14 | Loss: 0.06341340915872991 |\n",
            "Epoch: 15 | Loss: 0.050878986133147695 |\n",
            "Epoch: 16 | Loss: 0.04362094432462051 |\n",
            "Epoch: 17 | Loss: 0.04062292850823951 |\n",
            "Epoch: 18 | Loss: 0.04069257546668531 |\n",
            "Epoch: 19 | Loss: 0.04261375338951394 |\n",
            "Epoch: 20 | Loss: 0.04513436240944693 |\n",
            "Epoch: 21 | Loss: 0.04704518389074256 |\n",
            "Epoch: 22 | Loss: 0.04741019050362502 |\n",
            "Epoch: 23 | Loss: 0.04581617145672498 |\n",
            "Epoch: 24 | Loss: 0.0424536655283768 |\n",
            "Epoch: 25 | Loss: 0.03795683161950923 |\n",
            "Epoch: 26 | Loss: 0.0331022551677571 |\n",
            "Epoch: 27 | Loss: 0.028539906735732912 |\n",
            "Epoch: 28 | Loss: 0.024664597977922906 |\n",
            "Epoch: 29 | Loss: 0.02162353217942823 |\n",
            "Epoch: 30 | Loss: 0.019392270120533572 |\n",
            "Epoch: 31 | Loss: 0.01785580121845088 |\n",
            "Epoch: 32 | Loss: 0.01686533222949834 |\n",
            "Epoch: 33 | Loss: 0.016269142253458647 |\n",
            "Epoch: 34 | Loss: 0.015926971142275835 |\n",
            "Epoch: 35 | Loss: 0.01571712567378568 |\n",
            "Epoch: 36 | Loss: 0.015541255125029494 |\n",
            "Epoch: 37 | Loss: 0.015327941064294404 |\n",
            "Epoch: 38 | Loss: 0.015034310835664321 |\n",
            "Epoch: 39 | Loss: 0.014644690456283563 |\n",
            "Epoch: 40 | Loss: 0.014166123857770645 |\n",
            "Epoch: 41 | Loss: 0.013621595150096533 |\n",
            "Epoch: 42 | Loss: 0.013042422982620436 |\n",
            "Epoch: 43 | Loss: 0.012461334050702638 |\n",
            "Epoch: 44 | Loss: 0.011907273400976661 |\n",
            "Epoch: 45 | Loss: 0.011402353719871477 |\n",
            "Epoch: 46 | Loss: 0.010960764790584821 |\n",
            "Epoch: 47 | Loss: 0.010589120953280257 |\n",
            "Epoch: 48 | Loss: 0.010287639801045939 |\n",
            "Epoch: 49 | Loss: 0.01005164385611344 |\n",
            "Epoch: 50 | Loss: 0.009873053515761624 |\n",
            "Epoch: 51 | Loss: 0.009741709670351869 |\n",
            "Epoch: 52 | Loss: 0.009646483581255968 |\n",
            "Epoch: 53 | Loss: 0.009576191095971534 |\n",
            "Epoch: 54 | Loss: 0.009520340954875956 |\n",
            "Epoch: 55 | Loss: 0.009469733656838961 |\n",
            "Epoch: 56 | Loss: 0.009416907697126666 |\n",
            "Epoch: 57 | Loss: 0.009356417591086118 |\n",
            "Epoch: 58 | Loss: 0.009284929079570299 |\n",
            "Epoch: 59 | Loss: 0.009201130543747594 |\n",
            "Epoch: 60 | Loss: 0.009105480429623834 |\n",
            "Epoch: 61 | Loss: 0.008999830996902887 |\n",
            "Epoch: 62 | Loss: 0.008886982523383559 |\n",
            "Epoch: 63 | Loss: 0.008770225712542764 |\n",
            "Epoch: 64 | Loss: 0.008652923503500318 |\n",
            "Epoch: 65 | Loss: 0.008538169621860516 |\n",
            "Epoch: 66 | Loss: 0.008428544212524331 |\n",
            "Epoch: 67 | Loss: 0.008325970713839257 |\n",
            "Epoch: 68 | Loss: 0.00823166545759654 |\n",
            "Epoch: 69 | Loss: 0.008146163417122721 |\n",
            "Epoch: 70 | Loss: 0.008069399859478636 |\n",
            "Epoch: 71 | Loss: 0.008000827402275439 |\n",
            "Epoch: 72 | Loss: 0.007939549929535446 |\n",
            "Epoch: 73 | Loss: 0.007884457942109829 |\n",
            "Epoch: 74 | Loss: 0.007834353478202674 |\n",
            "Epoch: 75 | Loss: 0.007788056309868831 |\n",
            "Epoch: 76 | Loss: 0.0077444864750102465 |\n",
            "Epoch: 77 | Loss: 0.007702721211530287 |\n",
            "Epoch: 78 | Loss: 0.007662026919869972 |\n",
            "Epoch: 79 | Loss: 0.007621868798704458 |\n",
            "Epoch: 80 | Loss: 0.007581902202944526 |\n",
            "Epoch: 81 | Loss: 0.007541950534825484 |\n",
            "Epoch: 82 | Loss: 0.00750197463147053 |\n",
            "Epoch: 83 | Loss: 0.007462038252184644 |\n",
            "Epoch: 84 | Loss: 0.007422273538328116 |\n",
            "Epoch: 85 | Loss: 0.007382849379822577 |\n",
            "Epoch: 86 | Loss: 0.007343944628797646 |\n",
            "Epoch: 87 | Loss: 0.0073057271763386665 |\n",
            "Epoch: 88 | Loss: 0.007268339135361131 |\n",
            "Epoch: 89 | Loss: 0.007231887791483713 |\n",
            "Epoch: 90 | Loss: 0.0071964415986009 |\n",
            "Epoch: 91 | Loss: 0.007162030285602102 |\n",
            "Epoch: 92 | Loss: 0.007128648070235806 |\n",
            "Epoch: 93 | Loss: 0.007096259006253425 |\n",
            "Epoch: 94 | Loss: 0.007064803584304004 |\n",
            "Epoch: 95 | Loss: 0.007034205835995377 |\n",
            "Epoch: 96 | Loss: 0.0070043803327115225 |\n",
            "Epoch: 97 | Loss: 0.0069752386123904985 |\n",
            "Epoch: 98 | Loss: 0.0069466947008519605 |\n",
            "Epoch: 99 | Loss: 0.006918669515801108 |\n",
            "Epoch: 100 | Loss: 0.006891094049909767 |\n",
            "Epoch: 101 | Loss: 0.006863911323866903 |\n",
            "Epoch: 102 | Loss: 0.006837077180365232 |\n",
            "Epoch: 103 | Loss: 0.006810560054751587 |\n",
            "Epoch: 104 | Loss: 0.0067843399063436585 |\n",
            "Epoch: 105 | Loss: 0.006758406525211804 |\n",
            "Epoch: 106 | Loss: 0.006732757442110324 |\n",
            "Epoch: 107 | Loss: 0.006707395664756202 |\n",
            "Epoch: 108 | Loss: 0.006682327443497825 |\n",
            "Epoch: 109 | Loss: 0.00665756023642834 |\n",
            "Epoch: 110 | Loss: 0.006633101001971254 |\n",
            "Epoch: 111 | Loss: 0.00660895490023374 |\n",
            "Epoch: 112 | Loss: 0.006585124437439542 |\n",
            "Epoch: 113 | Loss: 0.006561609044608134 |\n",
            "Epoch: 114 | Loss: 0.006538405045680373 |\n",
            "Epoch: 115 | Loss: 0.006515505943796421 |\n",
            "Epoch: 116 | Loss: 0.006492902938534642 |\n",
            "Epoch: 117 | Loss: 0.006470585581565327 |\n",
            "Epoch: 118 | Loss: 0.006448542482277944 |\n",
            "Epoch: 119 | Loss: 0.006426761986641824 |\n",
            "Epoch: 120 | Loss: 0.006405232769471439 |\n",
            "Epoch: 121 | Loss: 0.00638394429989817 |\n",
            "Epoch: 122 | Loss: 0.0063628871597424 |\n",
            "Epoch: 123 | Loss: 0.006342053212642328 |\n",
            "Epoch: 124 | Loss: 0.006321435636686074 |\n",
            "Epoch: 125 | Loss: 0.006301028844021801 |\n",
            "Epoch: 126 | Loss: 0.00628082831718392 |\n",
            "Epoch: 127 | Loss: 0.006260830393916408 |\n",
            "Epoch: 128 | Loss: 0.006241032030710857 |\n",
            "Epoch: 129 | Loss: 0.006221430571030127 |\n",
            "Epoch: 130 | Loss: 0.0062020235382462575 |\n",
            "Epoch: 131 | Loss: 0.0061828084666710175 |\n"
          ]
        },
        {
          "output_type": "error",
          "ename": "KeyboardInterrupt",
          "evalue": "",
          "traceback": [
            "\u001b[0;31m---------------------------------------------------------------------------\u001b[0m",
            "\u001b[0;31mKeyboardInterrupt\u001b[0m                         Traceback (most recent call last)",
            "\u001b[0;32m/tmp/ipython-input-3722703142.py\u001b[0m in \u001b[0;36m<cell line: 0>\u001b[0;34m()\u001b[0m\n\u001b[1;32m      5\u001b[0m     \u001b[0mmetric_fn\u001b[0m \u001b[0;34m=\u001b[0m \u001b[0;32mlambda\u001b[0m \u001b[0mp\u001b[0m\u001b[0;34m:\u001b[0m \u001b[0mnp\u001b[0m\u001b[0;34m.\u001b[0m\u001b[0msum\u001b[0m\u001b[0;34m(\u001b[0m\u001b[0;34m(\u001b[0m\u001b[0mqml\u001b[0m\u001b[0;34m.\u001b[0m\u001b[0mmetric_tensor\u001b[0m\u001b[0;34m(\u001b[0m\u001b[0mcircuit\u001b[0m\u001b[0;34m,\u001b[0m \u001b[0mapprox\u001b[0m\u001b[0;34m=\u001b[0m\u001b[0;34m\"block-diag\"\u001b[0m\u001b[0;34m)\u001b[0m\u001b[0;34m(\u001b[0m\u001b[0mp\u001b[0m\u001b[0;34m,\u001b[0m \u001b[0msample\u001b[0m\u001b[0;34m)\u001b[0m \u001b[0;32mfor\u001b[0m \u001b[0msample\u001b[0m \u001b[0;32min\u001b[0m \u001b[0mdata\u001b[0m\u001b[0;34m)\u001b[0m\u001b[0;34m,\u001b[0m \u001b[0maxis\u001b[0m \u001b[0;34m=\u001b[0m \u001b[0;36m0\u001b[0m\u001b[0;34m)\u001b[0m\u001b[0;34m/\u001b[0m\u001b[0mNbatch\u001b[0m\u001b[0;34m\u001b[0m\u001b[0;34m\u001b[0m\u001b[0m\n\u001b[1;32m      6\u001b[0m     \u001b[0mcost_fn\u001b[0m \u001b[0;34m=\u001b[0m \u001b[0;32mlambda\u001b[0m \u001b[0mp\u001b[0m\u001b[0;34m:\u001b[0m \u001b[0mcost\u001b[0m\u001b[0;34m(\u001b[0m\u001b[0mp\u001b[0m\u001b[0;34m,\u001b[0m \u001b[0mdata\u001b[0m\u001b[0;34m)\u001b[0m\u001b[0;34m\u001b[0m\u001b[0;34m\u001b[0m\u001b[0m\n\u001b[0;32m----> 7\u001b[0;31m     \u001b[0mparams\u001b[0m\u001b[0;34m,\u001b[0m \u001b[0mloss\u001b[0m \u001b[0;34m=\u001b[0m \u001b[0mopt\u001b[0m\u001b[0;34m.\u001b[0m\u001b[0mstep_and_cost\u001b[0m\u001b[0;34m(\u001b[0m\u001b[0mcost_fn\u001b[0m\u001b[0;34m,\u001b[0m \u001b[0mparams\u001b[0m\u001b[0;34m,\u001b[0m  \u001b[0mmetric_tensor_fn\u001b[0m\u001b[0;34m=\u001b[0m\u001b[0mmetric_fn\u001b[0m\u001b[0;34m)\u001b[0m\u001b[0;34m\u001b[0m\u001b[0;34m\u001b[0m\u001b[0m\n\u001b[0m\u001b[1;32m      8\u001b[0m \u001b[0;34m\u001b[0m\u001b[0m\n\u001b[1;32m      9\u001b[0m     \u001b[0mprint\u001b[0m\u001b[0;34m(\u001b[0m\u001b[0;34mf\"Epoch: {it} | Loss: {loss} |\"\u001b[0m\u001b[0;34m)\u001b[0m\u001b[0;34m\u001b[0m\u001b[0;34m\u001b[0m\u001b[0m\n",
            "\u001b[0;32m/usr/local/lib/python3.12/dist-packages/pennylane/optimize/qng.py\u001b[0m in \u001b[0;36mstep_and_cost\u001b[0;34m(self, qnode, grad_fn, recompute_tensor, metric_tensor_fn, *args, **kwargs)\u001b[0m\n\u001b[1;32m    212\u001b[0m                 \u001b[0mmetric_tensor_fn\u001b[0m \u001b[0;34m=\u001b[0m \u001b[0mmetric_tensor\u001b[0m\u001b[0;34m(\u001b[0m\u001b[0mqnode\u001b[0m\u001b[0;34m,\u001b[0m \u001b[0mapprox\u001b[0m\u001b[0;34m=\u001b[0m\u001b[0mself\u001b[0m\u001b[0;34m.\u001b[0m\u001b[0mapprox\u001b[0m\u001b[0;34m)\u001b[0m\u001b[0;34m\u001b[0m\u001b[0;34m\u001b[0m\u001b[0m\n\u001b[1;32m    213\u001b[0m \u001b[0;34m\u001b[0m\u001b[0m\n\u001b[0;32m--> 214\u001b[0;31m             \u001b[0mmt\u001b[0m \u001b[0;34m=\u001b[0m \u001b[0mmetric_tensor_fn\u001b[0m\u001b[0;34m(\u001b[0m\u001b[0;34m*\u001b[0m\u001b[0margs\u001b[0m\u001b[0;34m,\u001b[0m \u001b[0;34m**\u001b[0m\u001b[0mkwargs\u001b[0m\u001b[0;34m)\u001b[0m\u001b[0;34m\u001b[0m\u001b[0;34m\u001b[0m\u001b[0m\n\u001b[0m\u001b[1;32m    215\u001b[0m             \u001b[0;32mif\u001b[0m \u001b[0misinstance\u001b[0m\u001b[0;34m(\u001b[0m\u001b[0mmt\u001b[0m\u001b[0;34m,\u001b[0m \u001b[0mtuple\u001b[0m\u001b[0;34m)\u001b[0m\u001b[0;34m:\u001b[0m\u001b[0;34m\u001b[0m\u001b[0;34m\u001b[0m\u001b[0m\n\u001b[1;32m    216\u001b[0m                 \u001b[0mself\u001b[0m\u001b[0;34m.\u001b[0m\u001b[0mmetric_tensor\u001b[0m \u001b[0;34m=\u001b[0m \u001b[0mtuple\u001b[0m\u001b[0;34m(\u001b[0m\u001b[0m_reshape_and_regularize\u001b[0m\u001b[0;34m(\u001b[0m\u001b[0m_mt\u001b[0m\u001b[0;34m,\u001b[0m \u001b[0mself\u001b[0m\u001b[0;34m.\u001b[0m\u001b[0mlam\u001b[0m\u001b[0;34m)\u001b[0m \u001b[0;32mfor\u001b[0m \u001b[0m_mt\u001b[0m \u001b[0;32min\u001b[0m \u001b[0mmt\u001b[0m\u001b[0;34m)\u001b[0m\u001b[0;34m\u001b[0m\u001b[0;34m\u001b[0m\u001b[0m\n",
            "\u001b[0;32m/tmp/ipython-input-3722703142.py\u001b[0m in \u001b[0;36m<lambda>\u001b[0;34m(p)\u001b[0m\n\u001b[1;32m      3\u001b[0m \u001b[0;31m#opt = qml.QNGOptimizer(0.04)\u001b[0m\u001b[0;34m\u001b[0m\u001b[0;34m\u001b[0m\u001b[0m\n\u001b[1;32m      4\u001b[0m \u001b[0;32mfor\u001b[0m \u001b[0mit\u001b[0m \u001b[0;32min\u001b[0m \u001b[0mrange\u001b[0m\u001b[0;34m(\u001b[0m\u001b[0;36m200\u001b[0m\u001b[0;34m)\u001b[0m\u001b[0;34m:\u001b[0m\u001b[0;34m\u001b[0m\u001b[0;34m\u001b[0m\u001b[0m\n\u001b[0;32m----> 5\u001b[0;31m     \u001b[0mmetric_fn\u001b[0m \u001b[0;34m=\u001b[0m \u001b[0;32mlambda\u001b[0m \u001b[0mp\u001b[0m\u001b[0;34m:\u001b[0m \u001b[0mnp\u001b[0m\u001b[0;34m.\u001b[0m\u001b[0msum\u001b[0m\u001b[0;34m(\u001b[0m\u001b[0;34m(\u001b[0m\u001b[0mqml\u001b[0m\u001b[0;34m.\u001b[0m\u001b[0mmetric_tensor\u001b[0m\u001b[0;34m(\u001b[0m\u001b[0mcircuit\u001b[0m\u001b[0;34m,\u001b[0m \u001b[0mapprox\u001b[0m\u001b[0;34m=\u001b[0m\u001b[0;34m\"block-diag\"\u001b[0m\u001b[0;34m)\u001b[0m\u001b[0;34m(\u001b[0m\u001b[0mp\u001b[0m\u001b[0;34m,\u001b[0m \u001b[0msample\u001b[0m\u001b[0;34m)\u001b[0m \u001b[0;32mfor\u001b[0m \u001b[0msample\u001b[0m \u001b[0;32min\u001b[0m \u001b[0mdata\u001b[0m\u001b[0;34m)\u001b[0m\u001b[0;34m,\u001b[0m \u001b[0maxis\u001b[0m \u001b[0;34m=\u001b[0m \u001b[0;36m0\u001b[0m\u001b[0;34m)\u001b[0m\u001b[0;34m/\u001b[0m\u001b[0mNbatch\u001b[0m\u001b[0;34m\u001b[0m\u001b[0;34m\u001b[0m\u001b[0m\n\u001b[0m\u001b[1;32m      6\u001b[0m     \u001b[0mcost_fn\u001b[0m \u001b[0;34m=\u001b[0m \u001b[0;32mlambda\u001b[0m \u001b[0mp\u001b[0m\u001b[0;34m:\u001b[0m \u001b[0mcost\u001b[0m\u001b[0;34m(\u001b[0m\u001b[0mp\u001b[0m\u001b[0;34m,\u001b[0m \u001b[0mdata\u001b[0m\u001b[0;34m)\u001b[0m\u001b[0;34m\u001b[0m\u001b[0;34m\u001b[0m\u001b[0m\n\u001b[1;32m      7\u001b[0m     \u001b[0mparams\u001b[0m\u001b[0;34m,\u001b[0m \u001b[0mloss\u001b[0m \u001b[0;34m=\u001b[0m \u001b[0mopt\u001b[0m\u001b[0;34m.\u001b[0m\u001b[0mstep_and_cost\u001b[0m\u001b[0;34m(\u001b[0m\u001b[0mcost_fn\u001b[0m\u001b[0;34m,\u001b[0m \u001b[0mparams\u001b[0m\u001b[0;34m,\u001b[0m  \u001b[0mmetric_tensor_fn\u001b[0m\u001b[0;34m=\u001b[0m\u001b[0mmetric_fn\u001b[0m\u001b[0;34m)\u001b[0m\u001b[0;34m\u001b[0m\u001b[0;34m\u001b[0m\u001b[0m\n",
            "\u001b[0;32m/usr/local/lib/python3.12/dist-packages/pennylane/numpy/wrapper.py\u001b[0m in \u001b[0;36m_wrapped\u001b[0;34m(*args, **kwargs)\u001b[0m\n\u001b[1;32m    115\u001b[0m \u001b[0;34m\u001b[0m\u001b[0m\n\u001b[1;32m    116\u001b[0m         \u001b[0;31m# evaluate the original object\u001b[0m\u001b[0;34m\u001b[0m\u001b[0;34m\u001b[0m\u001b[0m\n\u001b[0;32m--> 117\u001b[0;31m         \u001b[0mres\u001b[0m \u001b[0;34m=\u001b[0m \u001b[0mobj\u001b[0m\u001b[0;34m(\u001b[0m\u001b[0;34m*\u001b[0m\u001b[0margs\u001b[0m\u001b[0;34m,\u001b[0m \u001b[0;34m**\u001b[0m\u001b[0mkwargs\u001b[0m\u001b[0;34m)\u001b[0m\u001b[0;34m\u001b[0m\u001b[0;34m\u001b[0m\u001b[0m\n\u001b[0m\u001b[1;32m    118\u001b[0m \u001b[0;34m\u001b[0m\u001b[0m\n\u001b[1;32m    119\u001b[0m         \u001b[0;32mif\u001b[0m \u001b[0misinstance\u001b[0m\u001b[0;34m(\u001b[0m\u001b[0mres\u001b[0m\u001b[0;34m,\u001b[0m \u001b[0m_np\u001b[0m\u001b[0;34m.\u001b[0m\u001b[0mndarray\u001b[0m\u001b[0;34m)\u001b[0m\u001b[0;34m:\u001b[0m\u001b[0;34m\u001b[0m\u001b[0;34m\u001b[0m\u001b[0m\n",
            "\u001b[0;32m/usr/local/lib/python3.12/dist-packages/autograd/tracer.py\u001b[0m in \u001b[0;36mf_wrapped\u001b[0;34m(*args, **kwargs)\u001b[0m\n\u001b[1;32m     52\u001b[0m             \u001b[0;32mreturn\u001b[0m \u001b[0mnew_box\u001b[0m\u001b[0;34m(\u001b[0m\u001b[0mans\u001b[0m\u001b[0;34m,\u001b[0m \u001b[0mtrace\u001b[0m\u001b[0;34m,\u001b[0m \u001b[0mnode\u001b[0m\u001b[0;34m)\u001b[0m\u001b[0;34m\u001b[0m\u001b[0;34m\u001b[0m\u001b[0m\n\u001b[1;32m     53\u001b[0m         \u001b[0;32melse\u001b[0m\u001b[0;34m:\u001b[0m\u001b[0;34m\u001b[0m\u001b[0;34m\u001b[0m\u001b[0m\n\u001b[0;32m---> 54\u001b[0;31m             \u001b[0;32mreturn\u001b[0m \u001b[0mf_raw\u001b[0m\u001b[0;34m(\u001b[0m\u001b[0;34m*\u001b[0m\u001b[0margs\u001b[0m\u001b[0;34m,\u001b[0m \u001b[0;34m**\u001b[0m\u001b[0mkwargs\u001b[0m\u001b[0;34m)\u001b[0m\u001b[0;34m\u001b[0m\u001b[0;34m\u001b[0m\u001b[0m\n\u001b[0m\u001b[1;32m     55\u001b[0m \u001b[0;34m\u001b[0m\u001b[0m\n\u001b[1;32m     56\u001b[0m     \u001b[0mf_wrapped\u001b[0m\u001b[0;34m.\u001b[0m\u001b[0mfun\u001b[0m \u001b[0;34m=\u001b[0m \u001b[0mf_raw\u001b[0m\u001b[0;34m\u001b[0m\u001b[0;34m\u001b[0m\u001b[0m\n",
            "\u001b[0;32m/usr/local/lib/python3.12/dist-packages/numpy/_core/fromnumeric.py\u001b[0m in \u001b[0;36msum\u001b[0;34m(a, axis, dtype, out, keepdims, initial, where)\u001b[0m\n\u001b[1;32m   2381\u001b[0m         )\n\u001b[1;32m   2382\u001b[0m \u001b[0;34m\u001b[0m\u001b[0m\n\u001b[0;32m-> 2383\u001b[0;31m         \u001b[0mres\u001b[0m \u001b[0;34m=\u001b[0m \u001b[0m_sum_\u001b[0m\u001b[0;34m(\u001b[0m\u001b[0ma\u001b[0m\u001b[0;34m)\u001b[0m\u001b[0;34m\u001b[0m\u001b[0;34m\u001b[0m\u001b[0m\n\u001b[0m\u001b[1;32m   2384\u001b[0m         \u001b[0;32mif\u001b[0m \u001b[0mout\u001b[0m \u001b[0;32mis\u001b[0m \u001b[0;32mnot\u001b[0m \u001b[0;32mNone\u001b[0m\u001b[0;34m:\u001b[0m\u001b[0;34m\u001b[0m\u001b[0;34m\u001b[0m\u001b[0m\n\u001b[1;32m   2385\u001b[0m             \u001b[0mout\u001b[0m\u001b[0;34m[\u001b[0m\u001b[0;34m...\u001b[0m\u001b[0;34m]\u001b[0m \u001b[0;34m=\u001b[0m \u001b[0mres\u001b[0m\u001b[0;34m\u001b[0m\u001b[0;34m\u001b[0m\u001b[0m\n",
            "\u001b[0;32m/tmp/ipython-input-3722703142.py\u001b[0m in \u001b[0;36m<genexpr>\u001b[0;34m(.0)\u001b[0m\n\u001b[1;32m      3\u001b[0m \u001b[0;31m#opt = qml.QNGOptimizer(0.04)\u001b[0m\u001b[0;34m\u001b[0m\u001b[0;34m\u001b[0m\u001b[0m\n\u001b[1;32m      4\u001b[0m \u001b[0;32mfor\u001b[0m \u001b[0mit\u001b[0m \u001b[0;32min\u001b[0m \u001b[0mrange\u001b[0m\u001b[0;34m(\u001b[0m\u001b[0;36m200\u001b[0m\u001b[0;34m)\u001b[0m\u001b[0;34m:\u001b[0m\u001b[0;34m\u001b[0m\u001b[0;34m\u001b[0m\u001b[0m\n\u001b[0;32m----> 5\u001b[0;31m     \u001b[0mmetric_fn\u001b[0m \u001b[0;34m=\u001b[0m \u001b[0;32mlambda\u001b[0m \u001b[0mp\u001b[0m\u001b[0;34m:\u001b[0m \u001b[0mnp\u001b[0m\u001b[0;34m.\u001b[0m\u001b[0msum\u001b[0m\u001b[0;34m(\u001b[0m\u001b[0;34m(\u001b[0m\u001b[0mqml\u001b[0m\u001b[0;34m.\u001b[0m\u001b[0mmetric_tensor\u001b[0m\u001b[0;34m(\u001b[0m\u001b[0mcircuit\u001b[0m\u001b[0;34m,\u001b[0m \u001b[0mapprox\u001b[0m\u001b[0;34m=\u001b[0m\u001b[0;34m\"block-diag\"\u001b[0m\u001b[0;34m)\u001b[0m\u001b[0;34m(\u001b[0m\u001b[0mp\u001b[0m\u001b[0;34m,\u001b[0m \u001b[0msample\u001b[0m\u001b[0;34m)\u001b[0m \u001b[0;32mfor\u001b[0m \u001b[0msample\u001b[0m \u001b[0;32min\u001b[0m \u001b[0mdata\u001b[0m\u001b[0;34m)\u001b[0m\u001b[0;34m,\u001b[0m \u001b[0maxis\u001b[0m \u001b[0;34m=\u001b[0m \u001b[0;36m0\u001b[0m\u001b[0;34m)\u001b[0m\u001b[0;34m/\u001b[0m\u001b[0mNbatch\u001b[0m\u001b[0;34m\u001b[0m\u001b[0;34m\u001b[0m\u001b[0m\n\u001b[0m\u001b[1;32m      6\u001b[0m     \u001b[0mcost_fn\u001b[0m \u001b[0;34m=\u001b[0m \u001b[0;32mlambda\u001b[0m \u001b[0mp\u001b[0m\u001b[0;34m:\u001b[0m \u001b[0mcost\u001b[0m\u001b[0;34m(\u001b[0m\u001b[0mp\u001b[0m\u001b[0;34m,\u001b[0m \u001b[0mdata\u001b[0m\u001b[0;34m)\u001b[0m\u001b[0;34m\u001b[0m\u001b[0;34m\u001b[0m\u001b[0m\n\u001b[1;32m      7\u001b[0m     \u001b[0mparams\u001b[0m\u001b[0;34m,\u001b[0m \u001b[0mloss\u001b[0m \u001b[0;34m=\u001b[0m \u001b[0mopt\u001b[0m\u001b[0;34m.\u001b[0m\u001b[0mstep_and_cost\u001b[0m\u001b[0;34m(\u001b[0m\u001b[0mcost_fn\u001b[0m\u001b[0;34m,\u001b[0m \u001b[0mparams\u001b[0m\u001b[0;34m,\u001b[0m  \u001b[0mmetric_tensor_fn\u001b[0m\u001b[0;34m=\u001b[0m\u001b[0mmetric_fn\u001b[0m\u001b[0;34m)\u001b[0m\u001b[0;34m\u001b[0m\u001b[0;34m\u001b[0m\u001b[0m\n",
            "\u001b[0;32m/usr/local/lib/python3.12/dist-packages/pennylane/workflow/qnode.py\u001b[0m in \u001b[0;36m__call__\u001b[0;34m(self, *args, **kwargs)\u001b[0m\n\u001b[1;32m    920\u001b[0m \u001b[0;34m\u001b[0m\u001b[0m\n\u001b[1;32m    921\u001b[0m             \u001b[0;32mreturn\u001b[0m \u001b[0mcapture_qnode\u001b[0m\u001b[0;34m(\u001b[0m\u001b[0mself\u001b[0m\u001b[0;34m,\u001b[0m \u001b[0;34m*\u001b[0m\u001b[0margs\u001b[0m\u001b[0;34m,\u001b[0m \u001b[0;34m**\u001b[0m\u001b[0mkwargs\u001b[0m\u001b[0;34m)\u001b[0m\u001b[0;34m\u001b[0m\u001b[0;34m\u001b[0m\u001b[0m\n\u001b[0;32m--> 922\u001b[0;31m         \u001b[0;32mreturn\u001b[0m \u001b[0mself\u001b[0m\u001b[0;34m.\u001b[0m\u001b[0m_impl_call\u001b[0m\u001b[0;34m(\u001b[0m\u001b[0;34m*\u001b[0m\u001b[0margs\u001b[0m\u001b[0;34m,\u001b[0m \u001b[0;34m**\u001b[0m\u001b[0mkwargs\u001b[0m\u001b[0;34m)\u001b[0m\u001b[0;34m\u001b[0m\u001b[0;34m\u001b[0m\u001b[0m\n\u001b[0m\u001b[1;32m    923\u001b[0m \u001b[0;34m\u001b[0m\u001b[0m\n\u001b[1;32m    924\u001b[0m \u001b[0;34m\u001b[0m\u001b[0m\n",
            "\u001b[0;32m/usr/local/lib/python3.12/dist-packages/pennylane/workflow/qnode.py\u001b[0m in \u001b[0;36m_impl_call\u001b[0;34m(self, *args, **kwargs)\u001b[0m\n\u001b[1;32m    893\u001b[0m         \u001b[0mself\u001b[0m\u001b[0;34m.\u001b[0m\u001b[0m_transform_program\u001b[0m\u001b[0;34m.\u001b[0m\u001b[0mset_classical_component\u001b[0m\u001b[0;34m(\u001b[0m\u001b[0mself\u001b[0m\u001b[0;34m,\u001b[0m \u001b[0margs\u001b[0m\u001b[0;34m,\u001b[0m \u001b[0mkwargs\u001b[0m\u001b[0;34m)\u001b[0m\u001b[0;34m\u001b[0m\u001b[0;34m\u001b[0m\u001b[0m\n\u001b[1;32m    894\u001b[0m \u001b[0;34m\u001b[0m\u001b[0m\n\u001b[0;32m--> 895\u001b[0;31m         res = execute(\n\u001b[0m\u001b[1;32m    896\u001b[0m             \u001b[0;34m(\u001b[0m\u001b[0mtape\u001b[0m\u001b[0;34m,\u001b[0m\u001b[0;34m)\u001b[0m\u001b[0;34m,\u001b[0m\u001b[0;34m\u001b[0m\u001b[0;34m\u001b[0m\u001b[0m\n\u001b[1;32m    897\u001b[0m             \u001b[0mdevice\u001b[0m\u001b[0;34m=\u001b[0m\u001b[0mself\u001b[0m\u001b[0;34m.\u001b[0m\u001b[0mdevice\u001b[0m\u001b[0;34m,\u001b[0m\u001b[0;34m\u001b[0m\u001b[0;34m\u001b[0m\u001b[0m\n",
            "\u001b[0;32m/usr/local/lib/python3.12/dist-packages/pennylane/workflow/execution.py\u001b[0m in \u001b[0;36mexecute\u001b[0;34m(tapes, device, diff_method, interface, grad_on_execution, cache, cachesize, max_diff, device_vjp, postselect_mode, mcm_method, gradient_kwargs, transform_program, executor_backend)\u001b[0m\n\u001b[1;32m    232\u001b[0m \u001b[0;34m\u001b[0m\u001b[0m\n\u001b[1;32m    233\u001b[0m     \u001b[0mresults\u001b[0m \u001b[0;34m=\u001b[0m \u001b[0mrun\u001b[0m\u001b[0;34m(\u001b[0m\u001b[0mtapes\u001b[0m\u001b[0;34m,\u001b[0m \u001b[0mdevice\u001b[0m\u001b[0;34m,\u001b[0m \u001b[0mconfig\u001b[0m\u001b[0;34m,\u001b[0m \u001b[0minner_transform\u001b[0m\u001b[0;34m)\u001b[0m\u001b[0;34m\u001b[0m\u001b[0;34m\u001b[0m\u001b[0m\n\u001b[0;32m--> 234\u001b[0;31m     \u001b[0;32mreturn\u001b[0m \u001b[0muser_post_processing\u001b[0m\u001b[0;34m(\u001b[0m\u001b[0mouter_post_processing\u001b[0m\u001b[0;34m(\u001b[0m\u001b[0mresults\u001b[0m\u001b[0;34m)\u001b[0m\u001b[0;34m)\u001b[0m\u001b[0;34m\u001b[0m\u001b[0;34m\u001b[0m\u001b[0m\n\u001b[0m",
            "\u001b[0;32m/usr/local/lib/python3.12/dist-packages/pennylane/transforms/core/transform_program.py\u001b[0m in \u001b[0;36m_apply_postprocessing_stack\u001b[0;34m(results, postprocessing_stack)\u001b[0m\n\u001b[1;32m     85\u001b[0m     \"\"\"\n\u001b[1;32m     86\u001b[0m     \u001b[0;32mfor\u001b[0m \u001b[0mpostprocessing\u001b[0m \u001b[0;32min\u001b[0m \u001b[0mreversed\u001b[0m\u001b[0;34m(\u001b[0m\u001b[0mpostprocessing_stack\u001b[0m\u001b[0;34m)\u001b[0m\u001b[0;34m:\u001b[0m\u001b[0;34m\u001b[0m\u001b[0;34m\u001b[0m\u001b[0m\n\u001b[0;32m---> 87\u001b[0;31m         \u001b[0mresults\u001b[0m \u001b[0;34m=\u001b[0m \u001b[0mpostprocessing\u001b[0m\u001b[0;34m(\u001b[0m\u001b[0mresults\u001b[0m\u001b[0;34m)\u001b[0m\u001b[0;34m\u001b[0m\u001b[0;34m\u001b[0m\u001b[0m\n\u001b[0m\u001b[1;32m     88\u001b[0m     \u001b[0;32mreturn\u001b[0m \u001b[0mresults\u001b[0m\u001b[0;34m\u001b[0m\u001b[0;34m\u001b[0m\u001b[0m\n\u001b[1;32m     89\u001b[0m \u001b[0;34m\u001b[0m\u001b[0m\n",
            "\u001b[0;32m/usr/local/lib/python3.12/dist-packages/pennylane/transforms/core/transform_program.py\u001b[0m in \u001b[0;36m_batch_postprocessing\u001b[0;34m(results, individual_fns, slices)\u001b[0m\n\u001b[1;32m     55\u001b[0m \u001b[0;34m\u001b[0m\u001b[0m\n\u001b[1;32m     56\u001b[0m     \"\"\"\n\u001b[0;32m---> 57\u001b[0;31m     \u001b[0;32mreturn\u001b[0m \u001b[0mtuple\u001b[0m\u001b[0;34m(\u001b[0m\u001b[0mfn\u001b[0m\u001b[0;34m(\u001b[0m\u001b[0mresults\u001b[0m\u001b[0;34m[\u001b[0m\u001b[0msl\u001b[0m\u001b[0;34m]\u001b[0m\u001b[0;34m)\u001b[0m \u001b[0;32mfor\u001b[0m \u001b[0mfn\u001b[0m\u001b[0;34m,\u001b[0m \u001b[0msl\u001b[0m \u001b[0;32min\u001b[0m \u001b[0mzip\u001b[0m\u001b[0;34m(\u001b[0m\u001b[0mindividual_fns\u001b[0m\u001b[0;34m,\u001b[0m \u001b[0mslices\u001b[0m\u001b[0;34m)\u001b[0m\u001b[0;34m)\u001b[0m\u001b[0;34m\u001b[0m\u001b[0;34m\u001b[0m\u001b[0m\n\u001b[0m\u001b[1;32m     58\u001b[0m \u001b[0;34m\u001b[0m\u001b[0m\n\u001b[1;32m     59\u001b[0m \u001b[0;34m\u001b[0m\u001b[0m\n",
            "\u001b[0;32m/usr/local/lib/python3.12/dist-packages/pennylane/transforms/core/transform_program.py\u001b[0m in \u001b[0;36m<genexpr>\u001b[0;34m(.0)\u001b[0m\n\u001b[1;32m     55\u001b[0m \u001b[0;34m\u001b[0m\u001b[0m\n\u001b[1;32m     56\u001b[0m     \"\"\"\n\u001b[0;32m---> 57\u001b[0;31m     \u001b[0;32mreturn\u001b[0m \u001b[0mtuple\u001b[0m\u001b[0;34m(\u001b[0m\u001b[0mfn\u001b[0m\u001b[0;34m(\u001b[0m\u001b[0mresults\u001b[0m\u001b[0;34m[\u001b[0m\u001b[0msl\u001b[0m\u001b[0;34m]\u001b[0m\u001b[0;34m)\u001b[0m \u001b[0;32mfor\u001b[0m \u001b[0mfn\u001b[0m\u001b[0;34m,\u001b[0m \u001b[0msl\u001b[0m \u001b[0;32min\u001b[0m \u001b[0mzip\u001b[0m\u001b[0;34m(\u001b[0m\u001b[0mindividual_fns\u001b[0m\u001b[0;34m,\u001b[0m \u001b[0mslices\u001b[0m\u001b[0;34m)\u001b[0m\u001b[0;34m)\u001b[0m\u001b[0;34m\u001b[0m\u001b[0;34m\u001b[0m\u001b[0m\n\u001b[0m\u001b[1;32m     58\u001b[0m \u001b[0;34m\u001b[0m\u001b[0m\n\u001b[1;32m     59\u001b[0m \u001b[0;34m\u001b[0m\u001b[0m\n",
            "\u001b[0;32m/usr/local/lib/python3.12/dist-packages/pennylane/gradients/metric_tensor.py\u001b[0m in \u001b[0;36mprocessing_fn\u001b[0;34m(probabilities)\u001b[0m\n\u001b[1;32m    543\u001b[0m \u001b[0;34m\u001b[0m\u001b[0m\n\u001b[1;32m    544\u001b[0m         \u001b[0;31m# create the block diagonal metric tensor\u001b[0m\u001b[0;34m\u001b[0m\u001b[0;34m\u001b[0m\u001b[0m\n\u001b[0;32m--> 545\u001b[0;31m         \u001b[0;32mreturn\u001b[0m \u001b[0mmath\u001b[0m\u001b[0;34m.\u001b[0m\u001b[0mblock_diag\u001b[0m\u001b[0;34m(\u001b[0m\u001b[0mgs\u001b[0m\u001b[0;34m)\u001b[0m\u001b[0;34m\u001b[0m\u001b[0;34m\u001b[0m\u001b[0m\n\u001b[0m\u001b[1;32m    546\u001b[0m \u001b[0;34m\u001b[0m\u001b[0m\n\u001b[1;32m    547\u001b[0m     return (\n",
            "\u001b[0;32m/usr/local/lib/python3.12/dist-packages/pennylane/math/multi_dispatch.py\u001b[0m in \u001b[0;36mwrapper\u001b[0;34m(*args, **kwargs)\u001b[0m\n\u001b[1;32m    151\u001b[0m             \u001b[0mkwargs\u001b[0m\u001b[0;34m[\u001b[0m\u001b[0;34m\"like\"\u001b[0m\u001b[0;34m]\u001b[0m \u001b[0;34m=\u001b[0m \u001b[0minterface\u001b[0m\u001b[0;34m\u001b[0m\u001b[0;34m\u001b[0m\u001b[0m\n\u001b[1;32m    152\u001b[0m \u001b[0;34m\u001b[0m\u001b[0m\n\u001b[0;32m--> 153\u001b[0;31m             \u001b[0;32mreturn\u001b[0m \u001b[0mfn\u001b[0m\u001b[0;34m(\u001b[0m\u001b[0;34m*\u001b[0m\u001b[0margs\u001b[0m\u001b[0;34m,\u001b[0m \u001b[0;34m**\u001b[0m\u001b[0mkwargs\u001b[0m\u001b[0;34m)\u001b[0m\u001b[0;34m\u001b[0m\u001b[0;34m\u001b[0m\u001b[0m\n\u001b[0m\u001b[1;32m    154\u001b[0m \u001b[0;34m\u001b[0m\u001b[0m\n\u001b[1;32m    155\u001b[0m         \u001b[0;32mreturn\u001b[0m \u001b[0mwrapper\u001b[0m\u001b[0;34m\u001b[0m\u001b[0;34m\u001b[0m\u001b[0m\n",
            "\u001b[0;32m/usr/local/lib/python3.12/dist-packages/pennylane/math/multi_dispatch.py\u001b[0m in \u001b[0;36mblock_diag\u001b[0;34m(values, like)\u001b[0m\n\u001b[1;32m    206\u001b[0m     \"\"\"\n\u001b[1;32m    207\u001b[0m     \u001b[0mvalues\u001b[0m \u001b[0;34m=\u001b[0m \u001b[0mnp\u001b[0m\u001b[0;34m.\u001b[0m\u001b[0mcoerce\u001b[0m\u001b[0;34m(\u001b[0m\u001b[0mvalues\u001b[0m\u001b[0;34m,\u001b[0m \u001b[0mlike\u001b[0m\u001b[0;34m=\u001b[0m\u001b[0mlike\u001b[0m\u001b[0;34m)\u001b[0m\u001b[0;34m\u001b[0m\u001b[0;34m\u001b[0m\u001b[0m\n\u001b[0;32m--> 208\u001b[0;31m     \u001b[0;32mreturn\u001b[0m \u001b[0mnp\u001b[0m\u001b[0;34m.\u001b[0m\u001b[0mblock_diag\u001b[0m\u001b[0;34m(\u001b[0m\u001b[0mvalues\u001b[0m\u001b[0;34m,\u001b[0m \u001b[0mlike\u001b[0m\u001b[0;34m=\u001b[0m\u001b[0mlike\u001b[0m\u001b[0;34m)\u001b[0m\u001b[0;34m\u001b[0m\u001b[0;34m\u001b[0m\u001b[0m\n\u001b[0m\u001b[1;32m    209\u001b[0m \u001b[0;34m\u001b[0m\u001b[0m\n\u001b[1;32m    210\u001b[0m \u001b[0;34m\u001b[0m\u001b[0m\n",
            "\u001b[0;32m/usr/local/lib/python3.12/dist-packages/autoray/autoray.py\u001b[0m in \u001b[0;36mdo\u001b[0;34m(fn, like, *args, **kwargs)\u001b[0m\n\u001b[1;32m     79\u001b[0m     \u001b[0mbackend\u001b[0m \u001b[0;34m=\u001b[0m \u001b[0m_choose_backend\u001b[0m\u001b[0;34m(\u001b[0m\u001b[0mfn\u001b[0m\u001b[0;34m,\u001b[0m \u001b[0margs\u001b[0m\u001b[0;34m,\u001b[0m \u001b[0mkwargs\u001b[0m\u001b[0;34m,\u001b[0m \u001b[0mlike\u001b[0m\u001b[0;34m=\u001b[0m\u001b[0mlike\u001b[0m\u001b[0;34m)\u001b[0m\u001b[0;34m\u001b[0m\u001b[0;34m\u001b[0m\u001b[0m\n\u001b[1;32m     80\u001b[0m     \u001b[0mfunc\u001b[0m \u001b[0;34m=\u001b[0m \u001b[0mget_lib_fn\u001b[0m\u001b[0;34m(\u001b[0m\u001b[0mbackend\u001b[0m\u001b[0;34m,\u001b[0m \u001b[0mfn\u001b[0m\u001b[0;34m)\u001b[0m\u001b[0;34m\u001b[0m\u001b[0;34m\u001b[0m\u001b[0m\n\u001b[0;32m---> 81\u001b[0;31m     \u001b[0;32mreturn\u001b[0m \u001b[0mfunc\u001b[0m\u001b[0;34m(\u001b[0m\u001b[0;34m*\u001b[0m\u001b[0margs\u001b[0m\u001b[0;34m,\u001b[0m \u001b[0;34m**\u001b[0m\u001b[0mkwargs\u001b[0m\u001b[0;34m)\u001b[0m\u001b[0;34m\u001b[0m\u001b[0;34m\u001b[0m\u001b[0m\n\u001b[0m\u001b[1;32m     82\u001b[0m \u001b[0;34m\u001b[0m\u001b[0m\n\u001b[1;32m     83\u001b[0m \u001b[0;34m\u001b[0m\u001b[0m\n",
            "\u001b[0;32m/usr/local/lib/python3.12/dist-packages/pennylane/math/single_dispatch.py\u001b[0m in \u001b[0;36m_block_diag_autograd\u001b[0;34m(tensors)\u001b[0m\n\u001b[1;32m    226\u001b[0m     \u001b[0mtensors\u001b[0m \u001b[0;34m=\u001b[0m \u001b[0;34m[\u001b[0m\u001b[0mt\u001b[0m\u001b[0;34m.\u001b[0m\u001b[0mreshape\u001b[0m\u001b[0;34m(\u001b[0m\u001b[0;34m(\u001b[0m\u001b[0;36m1\u001b[0m\u001b[0;34m,\u001b[0m \u001b[0mlen\u001b[0m\u001b[0;34m(\u001b[0m\u001b[0mt\u001b[0m\u001b[0;34m)\u001b[0m\u001b[0;34m)\u001b[0m\u001b[0;34m)\u001b[0m \u001b[0;32mif\u001b[0m \u001b[0mlen\u001b[0m\u001b[0;34m(\u001b[0m\u001b[0mt\u001b[0m\u001b[0;34m.\u001b[0m\u001b[0mshape\u001b[0m\u001b[0;34m)\u001b[0m \u001b[0;34m==\u001b[0m \u001b[0;36m1\u001b[0m \u001b[0;32melse\u001b[0m \u001b[0mt\u001b[0m \u001b[0;32mfor\u001b[0m \u001b[0mt\u001b[0m \u001b[0;32min\u001b[0m \u001b[0mtensors\u001b[0m\u001b[0;34m]\u001b[0m\u001b[0;34m\u001b[0m\u001b[0;34m\u001b[0m\u001b[0m\n\u001b[1;32m    227\u001b[0m     \u001b[0mrsizes\u001b[0m\u001b[0;34m,\u001b[0m \u001b[0mcsizes\u001b[0m \u001b[0;34m=\u001b[0m \u001b[0m_np\u001b[0m\u001b[0;34m.\u001b[0m\u001b[0marray\u001b[0m\u001b[0;34m(\u001b[0m\u001b[0;34m[\u001b[0m\u001b[0mt\u001b[0m\u001b[0;34m.\u001b[0m\u001b[0mshape\u001b[0m \u001b[0;32mfor\u001b[0m \u001b[0mt\u001b[0m \u001b[0;32min\u001b[0m \u001b[0mtensors\u001b[0m\u001b[0;34m]\u001b[0m\u001b[0;34m)\u001b[0m\u001b[0;34m.\u001b[0m\u001b[0mT\u001b[0m\u001b[0;34m\u001b[0m\u001b[0;34m\u001b[0m\u001b[0m\n\u001b[0;32m--> 228\u001b[0;31m     \u001b[0mall_zeros\u001b[0m \u001b[0;34m=\u001b[0m \u001b[0;34m[\u001b[0m\u001b[0;34m[\u001b[0m\u001b[0m_np\u001b[0m\u001b[0;34m.\u001b[0m\u001b[0mzeros\u001b[0m\u001b[0;34m(\u001b[0m\u001b[0;34m(\u001b[0m\u001b[0mrsize\u001b[0m\u001b[0;34m,\u001b[0m \u001b[0mcsize\u001b[0m\u001b[0;34m)\u001b[0m\u001b[0;34m)\u001b[0m \u001b[0;32mfor\u001b[0m \u001b[0mcsize\u001b[0m \u001b[0;32min\u001b[0m \u001b[0mcsizes\u001b[0m\u001b[0;34m]\u001b[0m \u001b[0;32mfor\u001b[0m \u001b[0mrsize\u001b[0m \u001b[0;32min\u001b[0m \u001b[0mrsizes\u001b[0m\u001b[0;34m]\u001b[0m\u001b[0;34m\u001b[0m\u001b[0;34m\u001b[0m\u001b[0m\n\u001b[0m\u001b[1;32m    229\u001b[0m \u001b[0;34m\u001b[0m\u001b[0m\n\u001b[1;32m    230\u001b[0m     \u001b[0mres\u001b[0m \u001b[0;34m=\u001b[0m \u001b[0m_np\u001b[0m\u001b[0;34m.\u001b[0m\u001b[0mhstack\u001b[0m\u001b[0;34m(\u001b[0m\u001b[0;34m[\u001b[0m\u001b[0mtensors\u001b[0m\u001b[0;34m[\u001b[0m\u001b[0;36m0\u001b[0m\u001b[0;34m]\u001b[0m\u001b[0;34m,\u001b[0m \u001b[0;34m*\u001b[0m\u001b[0mall_zeros\u001b[0m\u001b[0;34m[\u001b[0m\u001b[0;36m0\u001b[0m\u001b[0;34m]\u001b[0m\u001b[0;34m[\u001b[0m\u001b[0;36m1\u001b[0m\u001b[0;34m:\u001b[0m\u001b[0;34m]\u001b[0m\u001b[0;34m]\u001b[0m\u001b[0;34m)\u001b[0m\u001b[0;34m\u001b[0m\u001b[0;34m\u001b[0m\u001b[0m\n",
            "\u001b[0;32m/usr/local/lib/python3.12/dist-packages/pennylane/numpy/wrapper.py\u001b[0m in \u001b[0;36m_wrapped\u001b[0;34m(*args, **kwargs)\u001b[0m\n\u001b[1;32m    112\u001b[0m                 \u001b[0;31m# NOTE: Use of Python's ``any`` results in an infinite recursion,\u001b[0m\u001b[0;34m\u001b[0m\u001b[0;34m\u001b[0m\u001b[0m\n\u001b[1;32m    113\u001b[0m                 \u001b[0;31m# and I'm not sure why. Using ``np.any`` works fine.\u001b[0m\u001b[0;34m\u001b[0m\u001b[0;34m\u001b[0m\u001b[0m\n\u001b[0;32m--> 114\u001b[0;31m                 \u001b[0mtensor_kwargs\u001b[0m\u001b[0;34m[\u001b[0m\u001b[0;34m\"requires_grad\"\u001b[0m\u001b[0;34m]\u001b[0m \u001b[0;34m=\u001b[0m \u001b[0m_np\u001b[0m\u001b[0;34m.\u001b[0m\u001b[0many\u001b[0m\u001b[0;34m(\u001b[0m\u001b[0;34m[\u001b[0m\u001b[0mi\u001b[0m\u001b[0;34m.\u001b[0m\u001b[0mrequires_grad\u001b[0m \u001b[0;32mfor\u001b[0m \u001b[0mi\u001b[0m \u001b[0;32min\u001b[0m \u001b[0mtensor_args\u001b[0m\u001b[0;34m]\u001b[0m\u001b[0;34m)\u001b[0m\u001b[0;34m\u001b[0m\u001b[0;34m\u001b[0m\u001b[0m\n\u001b[0m\u001b[1;32m    115\u001b[0m \u001b[0;34m\u001b[0m\u001b[0m\n\u001b[1;32m    116\u001b[0m         \u001b[0;31m# evaluate the original object\u001b[0m\u001b[0;34m\u001b[0m\u001b[0;34m\u001b[0m\u001b[0m\n",
            "\u001b[0;32m/usr/local/lib/python3.12/dist-packages/autograd/tracer.py\u001b[0m in \u001b[0;36mf_wrapped\u001b[0;34m(*args, **kwargs)\u001b[0m\n\u001b[1;32m     52\u001b[0m             \u001b[0;32mreturn\u001b[0m \u001b[0mnew_box\u001b[0m\u001b[0;34m(\u001b[0m\u001b[0mans\u001b[0m\u001b[0;34m,\u001b[0m \u001b[0mtrace\u001b[0m\u001b[0;34m,\u001b[0m \u001b[0mnode\u001b[0m\u001b[0;34m)\u001b[0m\u001b[0;34m\u001b[0m\u001b[0;34m\u001b[0m\u001b[0m\n\u001b[1;32m     53\u001b[0m         \u001b[0;32melse\u001b[0m\u001b[0;34m:\u001b[0m\u001b[0;34m\u001b[0m\u001b[0;34m\u001b[0m\u001b[0m\n\u001b[0;32m---> 54\u001b[0;31m             \u001b[0;32mreturn\u001b[0m \u001b[0mf_raw\u001b[0m\u001b[0;34m(\u001b[0m\u001b[0;34m*\u001b[0m\u001b[0margs\u001b[0m\u001b[0;34m,\u001b[0m \u001b[0;34m**\u001b[0m\u001b[0mkwargs\u001b[0m\u001b[0;34m)\u001b[0m\u001b[0;34m\u001b[0m\u001b[0;34m\u001b[0m\u001b[0m\n\u001b[0m\u001b[1;32m     55\u001b[0m \u001b[0;34m\u001b[0m\u001b[0m\n\u001b[1;32m     56\u001b[0m     \u001b[0mf_wrapped\u001b[0m\u001b[0;34m.\u001b[0m\u001b[0mfun\u001b[0m \u001b[0;34m=\u001b[0m \u001b[0mf_raw\u001b[0m\u001b[0;34m\u001b[0m\u001b[0;34m\u001b[0m\u001b[0m\n",
            "\u001b[0;32m/usr/local/lib/python3.12/dist-packages/numpy/_core/fromnumeric.py\u001b[0m in \u001b[0;36many\u001b[0;34m(a, axis, out, keepdims, where)\u001b[0m\n\u001b[1;32m   2502\u001b[0m \u001b[0;34m\u001b[0m\u001b[0m\n\u001b[1;32m   2503\u001b[0m     \"\"\"\n\u001b[0;32m-> 2504\u001b[0;31m     return _wrapreduction_any_all(a, np.logical_or, 'any', axis, out,\n\u001b[0m\u001b[1;32m   2505\u001b[0m                                   keepdims=keepdims, where=where)\n\u001b[1;32m   2506\u001b[0m \u001b[0;34m\u001b[0m\u001b[0m\n",
            "\u001b[0;32m/usr/local/lib/python3.12/dist-packages/numpy/_core/fromnumeric.py\u001b[0m in \u001b[0;36m_wrapreduction_any_all\u001b[0;34m(obj, ufunc, method, axis, out, **kwargs)\u001b[0m\n\u001b[1;32m    100\u001b[0m             \u001b[0;32mreturn\u001b[0m \u001b[0mreduction\u001b[0m\u001b[0;34m(\u001b[0m\u001b[0maxis\u001b[0m\u001b[0;34m=\u001b[0m\u001b[0maxis\u001b[0m\u001b[0;34m,\u001b[0m \u001b[0mout\u001b[0m\u001b[0;34m=\u001b[0m\u001b[0mout\u001b[0m\u001b[0;34m,\u001b[0m \u001b[0;34m**\u001b[0m\u001b[0mpasskwargs\u001b[0m\u001b[0;34m)\u001b[0m\u001b[0;34m\u001b[0m\u001b[0;34m\u001b[0m\u001b[0m\n\u001b[1;32m    101\u001b[0m \u001b[0;34m\u001b[0m\u001b[0m\n\u001b[0;32m--> 102\u001b[0;31m     \u001b[0;32mreturn\u001b[0m \u001b[0mufunc\u001b[0m\u001b[0;34m.\u001b[0m\u001b[0mreduce\u001b[0m\u001b[0;34m(\u001b[0m\u001b[0mobj\u001b[0m\u001b[0;34m,\u001b[0m \u001b[0maxis\u001b[0m\u001b[0;34m,\u001b[0m \u001b[0mbool\u001b[0m\u001b[0;34m,\u001b[0m \u001b[0mout\u001b[0m\u001b[0;34m,\u001b[0m \u001b[0;34m**\u001b[0m\u001b[0mpasskwargs\u001b[0m\u001b[0;34m)\u001b[0m\u001b[0;34m\u001b[0m\u001b[0;34m\u001b[0m\u001b[0m\n\u001b[0m\u001b[1;32m    103\u001b[0m \u001b[0;34m\u001b[0m\u001b[0m\n\u001b[1;32m    104\u001b[0m \u001b[0;34m\u001b[0m\u001b[0m\n",
            "\u001b[0;31mKeyboardInterrupt\u001b[0m: "
          ]
        }
      ]
    },
    {
      "cell_type": "code",
      "source": [
        "params = init_params\n",
        "opt = qml.MomentumOptimizer(stepsize=0.05) #, lam=0.5)\n",
        "#opt = qml.AdamOptimizer(0.4)\n",
        "for it in range(200):\n",
        "    cost_fn = lambda p: cost(p, data)\n",
        "    params, loss = opt.step_and_cost(cost_fn, params)\n",
        "\n",
        "    print(f\"Epoch: {it} | Loss: {loss} |\")"
      ],
      "metadata": {
        "id": "oFJKRgi492zT",
        "outputId": "0294ffef-2fce-4005-aefa-89b3b4f6b929",
        "colab": {
          "base_uri": "https://localhost:8080/"
        }
      },
      "execution_count": null,
      "outputs": [
        {
          "output_type": "stream",
          "name": "stdout",
          "text": [
            "Epoch: 0 | Loss: 0.8005877824610932 |\n",
            "Epoch: 1 | Loss: 0.689309159850268 |\n",
            "Epoch: 2 | Loss: 0.5128848848516961 |\n",
            "Epoch: 3 | Loss: 0.33586376643435706 |\n",
            "Epoch: 4 | Loss: 0.20717285630028007 |\n",
            "Epoch: 5 | Loss: 0.13719511720888644 |\n",
            "Epoch: 6 | Loss: 0.11151536001804185 |\n",
            "Epoch: 7 | Loss: 0.1134018817221522 |\n",
            "Epoch: 8 | Loss: 0.12930765910431644 |\n",
            "Epoch: 9 | Loss: 0.14573200053379212 |\n",
            "Epoch: 10 | Loss: 0.15101229596442964 |\n",
            "Epoch: 11 | Loss: 0.1406563167236349 |\n",
            "Epoch: 12 | Loss: 0.11863338094356787 |\n",
            "Epoch: 13 | Loss: 0.09321516335931906 |\n",
            "Epoch: 14 | Loss: 0.07149634134981742 |\n",
            "Epoch: 15 | Loss: 0.05664103871289887 |\n",
            "Epoch: 16 | Loss: 0.04850351646416414 |\n",
            "Epoch: 17 | Loss: 0.045467906079759354 |\n",
            "Epoch: 18 | Loss: 0.04563742453906376 |\n",
            "Epoch: 19 | Loss: 0.047206593459886495 |\n",
            "Epoch: 20 | Loss: 0.04860924219670255 |\n",
            "Epoch: 21 | Loss: 0.048751658938616896 |\n",
            "Epoch: 22 | Loss: 0.04720337650075823 |\n",
            "Epoch: 23 | Loss: 0.044145677557382815 |\n",
            "Epoch: 24 | Loss: 0.040101477984634024 |\n",
            "Epoch: 25 | Loss: 0.03564432992907 |\n",
            "Epoch: 26 | Loss: 0.031236314662196424 |\n",
            "Epoch: 27 | Loss: 0.02719701620570421 |\n",
            "Epoch: 28 | Loss: 0.023728500276000382 |\n",
            "Epoch: 29 | Loss: 0.020940034698625234 |\n",
            "Epoch: 30 | Loss: 0.018861416981166702 |\n",
            "Epoch: 31 | Loss: 0.01745395283187349 |\n",
            "Epoch: 32 | Loss: 0.016624293395322783 |\n",
            "Epoch: 33 | Loss: 0.016239834157287324 |\n",
            "Epoch: 34 | Loss: 0.016144968613948988 |\n",
            "Epoch: 35 | Loss: 0.01618036206012878 |\n",
            "Epoch: 36 | Loss: 0.016205989695592737 |\n",
            "Epoch: 37 | Loss: 0.01612320495994292 |\n",
            "Epoch: 38 | Loss: 0.015887369412760095 |\n",
            "Epoch: 39 | Loss: 0.01550523768190889 |\n",
            "Epoch: 40 | Loss: 0.015018799161072821 |\n",
            "Epoch: 41 | Loss: 0.014483582817148446 |\n",
            "Epoch: 42 | Loss: 0.013950208839210795 |\n",
            "Epoch: 43 | Loss: 0.01345407761536222 |\n",
            "Epoch: 44 | Loss: 0.013013313388810645 |\n",
            "Epoch: 45 | Loss: 0.0126322109278346 |\n",
            "Epoch: 46 | Loss: 0.012306851569986867 |\n",
            "Epoch: 47 | Loss: 0.012030317517372522 |\n",
            "Epoch: 48 | Loss: 0.011796099733021901 |\n",
            "Epoch: 49 | Loss: 0.011599368289601276 |\n",
            "Epoch: 50 | Loss: 0.011436551534375141 |\n",
            "Epoch: 51 | Loss: 0.011304067097392598 |\n",
            "Epoch: 52 | Loss: 0.01119706796824133 |\n",
            "Epoch: 53 | Loss: 0.01110881341829045 |\n",
            "Epoch: 54 | Loss: 0.011030904785484293 |\n",
            "Epoch: 55 | Loss: 0.010954280305613195 |\n",
            "Epoch: 56 | Loss: 0.010870625132437752 |\n",
            "Epoch: 57 | Loss: 0.010773754945652626 |\n",
            "Epoch: 58 | Loss: 0.010660573502517916 |\n",
            "Epoch: 59 | Loss: 0.010531358918273628 |\n",
            "Epoch: 60 | Loss: 0.010389345933157337 |\n",
            "Epoch: 61 | Loss: 0.010239770549677663 |\n",
            "Epoch: 62 | Loss: 0.010088666403844425 |\n",
            "Epoch: 63 | Loss: 0.00994172073986294 |\n",
            "Epoch: 64 | Loss: 0.009803425895946747 |\n",
            "Epoch: 65 | Loss: 0.009676642061395086 |\n",
            "Epoch: 66 | Loss: 0.009562565441901174 |\n",
            "Epoch: 67 | Loss: 0.009461005884155264 |\n",
            "Epoch: 68 | Loss: 0.009370833228356782 |\n",
            "Epoch: 69 | Loss: 0.009290450495130737 |\n",
            "Epoch: 70 | Loss: 0.009218183745284316 |\n",
            "Epoch: 71 | Loss: 0.009152528270329145 |\n",
            "Epoch: 72 | Loss: 0.009092243125740748 |\n",
            "Epoch: 73 | Loss: 0.009036327535769651 |\n",
            "Epoch: 74 | Loss: 0.008983934964170569 |\n",
            "Epoch: 75 | Loss: 0.008934281855415931 |\n",
            "Epoch: 76 | Loss: 0.008886592588448818 |\n",
            "Epoch: 77 | Loss: 0.008840098248270041 |\n",
            "Epoch: 78 | Loss: 0.00879408323836894 |\n",
            "Epoch: 79 | Loss: 0.00874795729410267 |\n",
            "Epoch: 80 | Loss: 0.008701324372053957 |\n",
            "Epoch: 81 | Loss: 0.00865402382336242 |\n",
            "Epoch: 82 | Loss: 0.00860613011319385 |\n",
            "Epoch: 83 | Loss: 0.008557910699658831 |\n",
            "Epoch: 84 | Loss: 0.008509753264368236 |\n",
            "Epoch: 85 | Loss: 0.008462080338493326 |\n",
            "Epoch: 86 | Loss: 0.008415270421470623 |\n",
            "Epoch: 87 | Loss: 0.00836960067392126 |\n",
            "Epoch: 88 | Loss: 0.00832521913379385 |\n",
            "Epoch: 89 | Loss: 0.008282146540295802 |\n",
            "Epoch: 90 | Loss: 0.008240301352564292 |\n",
            "Epoch: 91 | Loss: 0.008199537758407384 |\n",
            "Epoch: 92 | Loss: 0.008159685787959637 |\n",
            "Epoch: 93 | Loss: 0.008120584637159759 |\n",
            "Epoch: 94 | Loss: 0.008082103951992787 |\n",
            "Epoch: 95 | Loss: 0.008044151897250029 |\n",
            "Epoch: 96 | Loss: 0.008006672239294115 |\n",
            "Epoch: 97 | Loss: 0.007969634707937597 |\n",
            "Epoch: 98 | Loss: 0.007933023363364308 |\n",
            "Epoch: 99 | Loss: 0.007896826827458917 |\n",
            "Epoch: 100 | Loss: 0.007861032584055285 |\n",
            "Epoch: 101 | Loss: 0.007825625733812335 |\n",
            "Epoch: 102 | Loss: 0.007790591131215577 |\n",
            "Epoch: 103 | Loss: 0.007755917041989549 |\n",
            "Epoch: 104 | Loss: 0.00772159839873447 |\n",
            "Epoch: 105 | Loss: 0.0076876382526667505 |\n",
            "Epoch: 106 | Loss: 0.00765404684917464 |\n"
          ]
        }
      ]
    },
    {
      "cell_type": "code",
      "execution_count": 2,
      "metadata": {
        "colab": {
          "base_uri": "https://localhost:8080/"
        },
        "id": "6re4ydSAOoJo",
        "outputId": "673bc0b1-02e5-4fbf-ca31-4a4311434813"
      },
      "outputs": [
        {
          "output_type": "stream",
          "name": "stdout",
          "text": [
            "Collecting pennylane\n",
            "  Downloading pennylane-0.42.3-py3-none-any.whl.metadata (11 kB)\n",
            "Requirement already satisfied: scipy in /usr/local/lib/python3.12/dist-packages (from pennylane) (1.16.2)\n",
            "Requirement already satisfied: networkx in /usr/local/lib/python3.12/dist-packages (from pennylane) (3.5)\n",
            "Collecting rustworkx>=0.14.0 (from pennylane)\n",
            "  Downloading rustworkx-0.17.1-cp39-abi3-manylinux_2_17_x86_64.manylinux2014_x86_64.whl.metadata (10 kB)\n",
            "Requirement already satisfied: autograd in /usr/local/lib/python3.12/dist-packages (from pennylane) (1.8.0)\n",
            "Collecting appdirs (from pennylane)\n",
            "  Downloading appdirs-1.4.4-py2.py3-none-any.whl.metadata (9.0 kB)\n",
            "Collecting autoray<0.8,>=0.6.11 (from pennylane)\n",
            "  Downloading autoray-0.7.2-py3-none-any.whl.metadata (5.8 kB)\n",
            "Requirement already satisfied: cachetools in /usr/local/lib/python3.12/dist-packages (from pennylane) (5.5.2)\n",
            "Collecting pennylane-lightning>=0.42 (from pennylane)\n",
            "  Downloading pennylane_lightning-0.42.0-cp312-cp312-manylinux_2_28_x86_64.whl.metadata (11 kB)\n",
            "Requirement already satisfied: requests in /usr/local/lib/python3.12/dist-packages (from pennylane) (2.32.4)\n",
            "Requirement already satisfied: tomlkit in /usr/local/lib/python3.12/dist-packages (from pennylane) (0.13.3)\n",
            "Requirement already satisfied: typing_extensions in /usr/local/lib/python3.12/dist-packages (from pennylane) (4.15.0)\n",
            "Requirement already satisfied: packaging in /usr/local/lib/python3.12/dist-packages (from pennylane) (25.0)\n",
            "Collecting diastatic-malt (from pennylane)\n",
            "  Downloading diastatic_malt-2.15.2-py3-none-any.whl.metadata (2.6 kB)\n",
            "Requirement already satisfied: numpy in /usr/local/lib/python3.12/dist-packages (from pennylane) (2.0.2)\n",
            "Collecting scipy-openblas32>=0.3.26 (from pennylane-lightning>=0.42->pennylane)\n",
            "  Downloading scipy_openblas32-0.3.30.0.2-py3-none-manylinux2014_x86_64.manylinux_2_17_x86_64.whl.metadata (57 kB)\n",
            "\u001b[2K     \u001b[90m━━━━━━━━━━━━━━━━━━━━━━━━━━━━━━━━━━━━━━━━\u001b[0m \u001b[32m57.1/57.1 kB\u001b[0m \u001b[31m1.3 MB/s\u001b[0m eta \u001b[36m0:00:00\u001b[0m\n",
            "\u001b[?25hRequirement already satisfied: astunparse in /usr/local/lib/python3.12/dist-packages (from diastatic-malt->pennylane) (1.6.3)\n",
            "Requirement already satisfied: gast in /usr/local/lib/python3.12/dist-packages (from diastatic-malt->pennylane) (0.6.0)\n",
            "Requirement already satisfied: termcolor in /usr/local/lib/python3.12/dist-packages (from diastatic-malt->pennylane) (3.1.0)\n",
            "Requirement already satisfied: charset_normalizer<4,>=2 in /usr/local/lib/python3.12/dist-packages (from requests->pennylane) (3.4.3)\n",
            "Requirement already satisfied: idna<4,>=2.5 in /usr/local/lib/python3.12/dist-packages (from requests->pennylane) (3.10)\n",
            "Requirement already satisfied: urllib3<3,>=1.21.1 in /usr/local/lib/python3.12/dist-packages (from requests->pennylane) (2.5.0)\n",
            "Requirement already satisfied: certifi>=2017.4.17 in /usr/local/lib/python3.12/dist-packages (from requests->pennylane) (2025.8.3)\n",
            "Requirement already satisfied: wheel<1.0,>=0.23.0 in /usr/local/lib/python3.12/dist-packages (from astunparse->diastatic-malt->pennylane) (0.45.1)\n",
            "Requirement already satisfied: six<2.0,>=1.6.1 in /usr/local/lib/python3.12/dist-packages (from astunparse->diastatic-malt->pennylane) (1.17.0)\n",
            "Downloading pennylane-0.42.3-py3-none-any.whl (4.8 MB)\n",
            "\u001b[2K   \u001b[90m━━━━━━━━━━━━━━━━━━━━━━━━━━━━━━━━━━━━━━━━\u001b[0m \u001b[32m4.8/4.8 MB\u001b[0m \u001b[31m29.5 MB/s\u001b[0m eta \u001b[36m0:00:00\u001b[0m\n",
            "\u001b[?25hDownloading autoray-0.7.2-py3-none-any.whl (930 kB)\n",
            "\u001b[2K   \u001b[90m━━━━━━━━━━━━━━━━━━━━━━━━━━━━━━━━━━━━━━━━\u001b[0m \u001b[32m930.8/930.8 kB\u001b[0m \u001b[31m49.7 MB/s\u001b[0m eta \u001b[36m0:00:00\u001b[0m\n",
            "\u001b[?25hDownloading pennylane_lightning-0.42.0-cp312-cp312-manylinux_2_28_x86_64.whl (2.6 MB)\n",
            "\u001b[2K   \u001b[90m━━━━━━━━━━━━━━━━━━━━━━━━━━━━━━━━━━━━━━━━\u001b[0m \u001b[32m2.6/2.6 MB\u001b[0m \u001b[31m82.4 MB/s\u001b[0m eta \u001b[36m0:00:00\u001b[0m\n",
            "\u001b[?25hDownloading rustworkx-0.17.1-cp39-abi3-manylinux_2_17_x86_64.manylinux2014_x86_64.whl (2.2 MB)\n",
            "\u001b[2K   \u001b[90m━━━━━━━━━━━━━━━━━━━━━━━━━━━━━━━━━━━━━━━━\u001b[0m \u001b[32m2.2/2.2 MB\u001b[0m \u001b[31m78.5 MB/s\u001b[0m eta \u001b[36m0:00:00\u001b[0m\n",
            "\u001b[?25hDownloading appdirs-1.4.4-py2.py3-none-any.whl (9.6 kB)\n",
            "Downloading diastatic_malt-2.15.2-py3-none-any.whl (167 kB)\n",
            "\u001b[2K   \u001b[90m━━━━━━━━━━━━━━━━━━━━━━━━━━━━━━━━━━━━━━━━\u001b[0m \u001b[32m167.9/167.9 kB\u001b[0m \u001b[31m13.8 MB/s\u001b[0m eta \u001b[36m0:00:00\u001b[0m\n",
            "\u001b[?25hDownloading scipy_openblas32-0.3.30.0.2-py3-none-manylinux2014_x86_64.manylinux_2_17_x86_64.whl (8.6 MB)\n",
            "\u001b[2K   \u001b[90m━━━━━━━━━━━━━━━━━━━━━━━━━━━━━━━━━━━━━━━━\u001b[0m \u001b[32m8.6/8.6 MB\u001b[0m \u001b[31m84.3 MB/s\u001b[0m eta \u001b[36m0:00:00\u001b[0m\n",
            "\u001b[?25hInstalling collected packages: appdirs, scipy-openblas32, rustworkx, autoray, diastatic-malt, pennylane-lightning, pennylane\n",
            "Successfully installed appdirs-1.4.4 autoray-0.7.2 diastatic-malt-2.15.2 pennylane-0.42.3 pennylane-lightning-0.42.0 rustworkx-0.17.1 scipy-openblas32-0.3.30.0.2\n",
            "Collecting pennylane_cirq\n",
            "  Downloading pennylane_cirq-0.42.0-py3-none-any.whl.metadata (7.1 kB)\n",
            "Requirement already satisfied: pennylane>=0.42.0 in /usr/local/lib/python3.12/dist-packages (from pennylane_cirq) (0.42.3)\n",
            "Collecting cirq-core>=0.10 (from pennylane_cirq)\n",
            "  Downloading cirq_core-1.6.1-py3-none-any.whl.metadata (4.8 kB)\n",
            "Collecting cirq-pasqal>=0.10 (from pennylane_cirq)\n",
            "  Downloading cirq_pasqal-1.6.1-py3-none-any.whl.metadata (4.7 kB)\n",
            "Requirement already satisfied: attrs>=21.3.0 in /usr/local/lib/python3.12/dist-packages (from cirq-core>=0.10->pennylane_cirq) (25.3.0)\n",
            "Collecting duet>=0.2.8 (from cirq-core>=0.10->pennylane_cirq)\n",
            "  Downloading duet-0.2.9-py3-none-any.whl.metadata (2.3 kB)\n",
            "Requirement already satisfied: matplotlib~=3.8 in /usr/local/lib/python3.12/dist-packages (from cirq-core>=0.10->pennylane_cirq) (3.10.0)\n",
            "Requirement already satisfied: networkx~=3.4 in /usr/local/lib/python3.12/dist-packages (from cirq-core>=0.10->pennylane_cirq) (3.5)\n",
            "Requirement already satisfied: numpy>=1.26 in /usr/local/lib/python3.12/dist-packages (from cirq-core>=0.10->pennylane_cirq) (2.0.2)\n",
            "Requirement already satisfied: pandas~=2.1 in /usr/local/lib/python3.12/dist-packages (from cirq-core>=0.10->pennylane_cirq) (2.2.2)\n",
            "Requirement already satisfied: sortedcontainers~=2.0 in /usr/local/lib/python3.12/dist-packages (from cirq-core>=0.10->pennylane_cirq) (2.4.0)\n",
            "Requirement already satisfied: scipy~=1.12 in /usr/local/lib/python3.12/dist-packages (from cirq-core>=0.10->pennylane_cirq) (1.16.2)\n",
            "Requirement already satisfied: sympy in /usr/local/lib/python3.12/dist-packages (from cirq-core>=0.10->pennylane_cirq) (1.13.3)\n",
            "Requirement already satisfied: typing_extensions>=4.2 in /usr/local/lib/python3.12/dist-packages (from cirq-core>=0.10->pennylane_cirq) (4.15.0)\n",
            "Requirement already satisfied: tqdm>=4.12 in /usr/local/lib/python3.12/dist-packages (from cirq-core>=0.10->pennylane_cirq) (4.67.1)\n",
            "Requirement already satisfied: requests~=2.32 in /usr/local/lib/python3.12/dist-packages (from cirq-pasqal>=0.10->pennylane_cirq) (2.32.4)\n",
            "Requirement already satisfied: rustworkx>=0.14.0 in /usr/local/lib/python3.12/dist-packages (from pennylane>=0.42.0->pennylane_cirq) (0.17.1)\n",
            "Requirement already satisfied: autograd in /usr/local/lib/python3.12/dist-packages (from pennylane>=0.42.0->pennylane_cirq) (1.8.0)\n",
            "Requirement already satisfied: appdirs in /usr/local/lib/python3.12/dist-packages (from pennylane>=0.42.0->pennylane_cirq) (1.4.4)\n",
            "Requirement already satisfied: autoray<0.8,>=0.6.11 in /usr/local/lib/python3.12/dist-packages (from pennylane>=0.42.0->pennylane_cirq) (0.7.2)\n",
            "Requirement already satisfied: cachetools in /usr/local/lib/python3.12/dist-packages (from pennylane>=0.42.0->pennylane_cirq) (5.5.2)\n",
            "Requirement already satisfied: pennylane-lightning>=0.42 in /usr/local/lib/python3.12/dist-packages (from pennylane>=0.42.0->pennylane_cirq) (0.42.0)\n",
            "Requirement already satisfied: tomlkit in /usr/local/lib/python3.12/dist-packages (from pennylane>=0.42.0->pennylane_cirq) (0.13.3)\n",
            "Requirement already satisfied: packaging in /usr/local/lib/python3.12/dist-packages (from pennylane>=0.42.0->pennylane_cirq) (25.0)\n",
            "Requirement already satisfied: diastatic-malt in /usr/local/lib/python3.12/dist-packages (from pennylane>=0.42.0->pennylane_cirq) (2.15.2)\n",
            "Requirement already satisfied: contourpy>=1.0.1 in /usr/local/lib/python3.12/dist-packages (from matplotlib~=3.8->cirq-core>=0.10->pennylane_cirq) (1.3.3)\n",
            "Requirement already satisfied: cycler>=0.10 in /usr/local/lib/python3.12/dist-packages (from matplotlib~=3.8->cirq-core>=0.10->pennylane_cirq) (0.12.1)\n",
            "Requirement already satisfied: fonttools>=4.22.0 in /usr/local/lib/python3.12/dist-packages (from matplotlib~=3.8->cirq-core>=0.10->pennylane_cirq) (4.60.0)\n",
            "Requirement already satisfied: kiwisolver>=1.3.1 in /usr/local/lib/python3.12/dist-packages (from matplotlib~=3.8->cirq-core>=0.10->pennylane_cirq) (1.4.9)\n",
            "Requirement already satisfied: pillow>=8 in /usr/local/lib/python3.12/dist-packages (from matplotlib~=3.8->cirq-core>=0.10->pennylane_cirq) (11.3.0)\n",
            "Requirement already satisfied: pyparsing>=2.3.1 in /usr/local/lib/python3.12/dist-packages (from matplotlib~=3.8->cirq-core>=0.10->pennylane_cirq) (3.2.4)\n",
            "Requirement already satisfied: python-dateutil>=2.7 in /usr/local/lib/python3.12/dist-packages (from matplotlib~=3.8->cirq-core>=0.10->pennylane_cirq) (2.9.0.post0)\n",
            "Requirement already satisfied: pytz>=2020.1 in /usr/local/lib/python3.12/dist-packages (from pandas~=2.1->cirq-core>=0.10->pennylane_cirq) (2025.2)\n",
            "Requirement already satisfied: tzdata>=2022.7 in /usr/local/lib/python3.12/dist-packages (from pandas~=2.1->cirq-core>=0.10->pennylane_cirq) (2025.2)\n",
            "Requirement already satisfied: scipy-openblas32>=0.3.26 in /usr/local/lib/python3.12/dist-packages (from pennylane-lightning>=0.42->pennylane>=0.42.0->pennylane_cirq) (0.3.30.0.2)\n",
            "Requirement already satisfied: charset_normalizer<4,>=2 in /usr/local/lib/python3.12/dist-packages (from requests~=2.32->cirq-pasqal>=0.10->pennylane_cirq) (3.4.3)\n",
            "Requirement already satisfied: idna<4,>=2.5 in /usr/local/lib/python3.12/dist-packages (from requests~=2.32->cirq-pasqal>=0.10->pennylane_cirq) (3.10)\n",
            "Requirement already satisfied: urllib3<3,>=1.21.1 in /usr/local/lib/python3.12/dist-packages (from requests~=2.32->cirq-pasqal>=0.10->pennylane_cirq) (2.5.0)\n",
            "Requirement already satisfied: certifi>=2017.4.17 in /usr/local/lib/python3.12/dist-packages (from requests~=2.32->cirq-pasqal>=0.10->pennylane_cirq) (2025.8.3)\n",
            "Requirement already satisfied: astunparse in /usr/local/lib/python3.12/dist-packages (from diastatic-malt->pennylane>=0.42.0->pennylane_cirq) (1.6.3)\n",
            "Requirement already satisfied: gast in /usr/local/lib/python3.12/dist-packages (from diastatic-malt->pennylane>=0.42.0->pennylane_cirq) (0.6.0)\n",
            "Requirement already satisfied: termcolor in /usr/local/lib/python3.12/dist-packages (from diastatic-malt->pennylane>=0.42.0->pennylane_cirq) (3.1.0)\n",
            "Requirement already satisfied: mpmath<1.4,>=1.1.0 in /usr/local/lib/python3.12/dist-packages (from sympy->cirq-core>=0.10->pennylane_cirq) (1.3.0)\n",
            "Requirement already satisfied: six>=1.5 in /usr/local/lib/python3.12/dist-packages (from python-dateutil>=2.7->matplotlib~=3.8->cirq-core>=0.10->pennylane_cirq) (1.17.0)\n",
            "Requirement already satisfied: wheel<1.0,>=0.23.0 in /usr/local/lib/python3.12/dist-packages (from astunparse->diastatic-malt->pennylane>=0.42.0->pennylane_cirq) (0.45.1)\n",
            "Downloading pennylane_cirq-0.42.0-py3-none-any.whl (21 kB)\n",
            "Downloading cirq_core-1.6.1-py3-none-any.whl (2.0 MB)\n",
            "\u001b[2K   \u001b[90m━━━━━━━━━━━━━━━━━━━━━━━━━━━━━━━━━━━━━━━━\u001b[0m \u001b[32m2.0/2.0 MB\u001b[0m \u001b[31m14.3 MB/s\u001b[0m eta \u001b[36m0:00:00\u001b[0m\n",
            "\u001b[?25hDownloading cirq_pasqal-1.6.1-py3-none-any.whl (33 kB)\n",
            "Downloading duet-0.2.9-py3-none-any.whl (29 kB)\n",
            "Installing collected packages: duet, cirq-core, cirq-pasqal, pennylane_cirq\n",
            "Successfully installed cirq-core-1.6.1 cirq-pasqal-1.6.1 duet-0.2.9 pennylane_cirq-0.42.0\n"
          ]
        }
      ],
      "source": [
        "# This cell is added by sphinx-gallery\n",
        "# It can be customized to whatever you like\n",
        "%matplotlib inline\n",
        "!pip install pennylane\n",
        "!pip install pennylane_cirq"
      ]
    },
    {
      "cell_type": "markdown",
      "metadata": {
        "id": "e62PsLWNOoJv"
      },
      "source": [
        "# Optimizing noisy circuits with Cirq\n",
        "\n",
        "::: meta\n",
        ":property=\\\"og:description\\\": Learn how noise can affect the\n",
        "optimization and training of quantum computations.\n",
        ":property=\\\"og:image\\\":\n",
        "<https://pennylane.ai/qml/_static/demonstration_assets/noisy_circuit_optimization_thumbnail.png>\n",
        ":::\n",
        "\n",
        "::: related\n",
        "pytorch_noise PyTorch and noisy devices\n",
        ":::\n",
        "\n",
        "![](https://github.com/borbysh/Momentum-QNG/blob/main/_static/demonstration_assets/noisy_circuit_optimization/noisy_qubit.png?raw=1){.align-center\n",
        "width=\"90.0%\"}\n",
        "\n",
        "Until we have fault-tolerant quantum computers, we will have to learn to\n",
        "live with noise. There are lots of exciting ideas and algorithms in\n",
        "quantum computing and quantum machine learning, but how well do they\n",
        "survive the reality of today\\'s noisy devices?\n",
        "\n",
        "## Background\n",
        "\n",
        "Quantum pure-state simulators are great and readily available in a\n",
        "number of quantum software packages. They allow us to experiment,\n",
        "prototype, test, and validate algorithms and research ideas---up to a\n",
        "certain number of qubits, at least.\n",
        "\n",
        "But present-day hardware is not ideal. We\\'re forced to confront\n",
        "decoherence, bit flips, amplitude damping, and so on. Does the presence\n",
        "of noise in near-term devices impact their use in, for example,\n",
        "`variational quantum algorithms </glossary/variational_circuit>`{.interpreted-text\n",
        "role=\"doc\"}? Won\\'t our models, trained so carefully in simulators, fall\n",
        "apart when we run on noisy devices?\n",
        "\n",
        "In fact, there is some optimism that variational algorithms may be the\n",
        "best type of algorithms on near-term devices, and could have an in-built\n",
        "adaptability to noise that more rigid textbook algorithms do not\n",
        "possess. Variational algorithms are somewhat robust against the fact\n",
        "that the device they are run on may not be ideal. Being variational in\n",
        "nature, they can be tuned to \\\"work around\\\" noise to some extent.\n",
        "\n",
        "Quantum machine learning leverages a lot of tools from its classical\n",
        "counterpart. Fortunately, there is great evidence that machine learning\n",
        "algorithms can not only be robust to noise, but can even benefit from\n",
        "it! Examples include the use of [reduced-precision arithmetic in deep\n",
        "learning](https://dl.acm.org/doi/abs/10.5555/3045118.3045303), the\n",
        "strong performance of [stochastic gradient\n",
        "descent](https://en.wikipedia.org/wiki/Stochastic_gradient_descent), and\n",
        "the use of \\\"dropout\\\" noise to [prevent\n",
        "overfitting](https://www.cs.toronto.edu/~hinton/absps/JMLRdropout.pdf).\n",
        "\n",
        "With this evidence to motivate us, we can still hope to find, extract,\n",
        "and work with the underlying quantum \\\"signal\\\" that is influenced by a\n",
        "device\\'s inherent noise.\n",
        "\n",
        "## Noisy circuits: creating a Bell state\n",
        "\n",
        "Let\\'s consider a simple quantum circuit which performs a standard\n",
        "quantum information task: the creation of an entangled state and the\n",
        "measurement of a [Bell\n",
        "inequality](https://en.wikipedia.org/wiki/Bell%27s_theorem) (also known\n",
        "as the [CHSH\n",
        "inequality](https://en.wikipedia.org/wiki/CHSH_inequality)).\n",
        "\n",
        "Since we\\'ll be dealing with noise, we\\'ll need to use a simulator that\n",
        "supports noise and density-state representations of quantum states (in\n",
        "contrast to many simulators, which use a pure-state representation).\n",
        "\n",
        "Fortunately, [Cirq](https://cirq.readthedocs.io) provides mixed-state\n",
        "simulators and noisy operations natively, so we can use the\n",
        "[PennyLane-Cirq plugin](https://pennylane-cirq.readthedocs.io) to carry\n",
        "out our noisy simulations.\n"
      ]
    },
    {
      "cell_type": "code",
      "execution_count": 3,
      "metadata": {
        "colab": {
          "base_uri": "https://localhost:8080/"
        },
        "id": "yWppXB9gOoJz",
        "outputId": "767edcb2-6cdb-491b-e772-2c78760f2e42"
      },
      "outputs": [
        {
          "output_type": "stream",
          "name": "stdout",
          "text": [
            "2.8659999999999997\n"
          ]
        }
      ],
      "source": [
        "import pennylane as qml\n",
        "from pennylane import numpy as np\n",
        "import matplotlib.pyplot as plt\n",
        "\n",
        "dev = qml.device(\"cirq.mixedsimulator\", wires=2, shots=1000)\n",
        "\n",
        "# CHSH observables\n",
        "A1 = qml.PauliZ(0)\n",
        "A2 = qml.PauliX(0)\n",
        "B1 = qml.Hermitian(np.array([[1, 1], [1, -1]]) / np.sqrt(2), wires=1)\n",
        "B2 = qml.Hermitian(np.array([[1, -1], [-1, -1]]) / np.sqrt(2), wires=1)\n",
        "CHSH_observables = [A1 @ B1, A1 @ B2, A2 @ B1, A2 @ B2]\n",
        "\n",
        "\n",
        "# subcircuit for creating an entangled pair of qubits\n",
        "def bell_pair():\n",
        "    qml.Hadamard(wires=0)\n",
        "    qml.CNOT(wires=[0, 1])\n",
        "\n",
        "\n",
        "# circuits for measuring each distinct observable\n",
        "@qml.qnode(dev)\n",
        "def measure_A1B1():\n",
        "    bell_pair()\n",
        "    return qml.expval(A1 @ B1)\n",
        "\n",
        "\n",
        "@qml.qnode(dev)\n",
        "def measure_A1B2():\n",
        "    bell_pair()\n",
        "    return qml.expval(A1 @ B2)\n",
        "\n",
        "\n",
        "@qml.qnode(dev)\n",
        "def measure_A2B1():\n",
        "    bell_pair()\n",
        "    return qml.expval(A2 @ B1)\n",
        "\n",
        "\n",
        "@qml.qnode(dev)\n",
        "def measure_A2B2():\n",
        "    bell_pair()\n",
        "    return qml.expval(A2 @ B2)\n",
        "\n",
        "\n",
        "# now we measure each circuit and construct the CHSH inequality\n",
        "expvals = [measure_A1B1(), measure_A1B2(), measure_A2B1(), measure_A2B2()]\n",
        "\n",
        "# The CHSH operator is A1 @ B1 + A1 @ B2 + A2 @ B1 - A2 @ B2\n",
        "CHSH_expval = np.sum(expvals[:3]) - expvals[3]\n",
        "print(CHSH_expval)"
      ]
    },
    {
      "cell_type": "markdown",
      "metadata": {
        "id": "ReTLZKz_OoJ1"
      },
      "source": [
        "The output here is $2\\sqrt{2},$ which is the maximal value of the CHSH\n",
        "inequality. States which have a value $\\langle CHSH \\rangle \\geq 2$ can\n",
        "safely be considered \\\"quantum\\\".\n",
        "\n",
        "::: note\n",
        "::: title\n",
        "Note\n",
        ":::\n",
        "\n",
        "In this situation \\\"quantum\\\" means that there is no [local hidden\n",
        "variable\n",
        "theory](https://en.wikipedia.org/wiki/Local_hidden-variable_theory)\n",
        "which could produce these measurement outcomes. It does not strictly\n",
        "mean the presence of entanglement.\n",
        ":::\n",
        "\n",
        "Now let\\'s turn up the noise! 📢 📢 📢\n",
        "\n",
        "Cirq provides a number of noisy channels that are not part of PennyLane\n",
        "core. This is no issue, as the\n",
        "[PennyLane-Cirq](https://pennylane-cirq.readthedocs.io) plugin provides\n",
        "these and allows them to be used directly in PennyLane circuit\n",
        "declarations.\n"
      ]
    },
    {
      "cell_type": "code",
      "execution_count": 4,
      "metadata": {
        "colab": {
          "base_uri": "https://localhost:8080/"
        },
        "id": "3Et4BVFDOoJ2",
        "outputId": "cd37d9e8-a3dd-457f-ccc4-81d08759b007"
      },
      "outputs": [
        {
          "output_type": "stream",
          "name": "stdout",
          "text": [
            "AmplitudeDamp\n",
            "BitFlip\n",
            "Depolarize\n",
            "Operation\n",
            "PhaseDamp\n",
            "PhaseFlip\n"
          ]
        }
      ],
      "source": [
        "from pennylane_cirq import ops as cirq_ops\n",
        "\n",
        "# Note that the 'Operation' op is a generic base class\n",
        "# from PennyLane core.\n",
        "# All other ops are provided by Cirq.\n",
        "available_ops = [op for op in dir(cirq_ops) if not op.startswith(\"_\")]\n",
        "print(\"\\n\".join(available_ops))"
      ]
    },
    {
      "cell_type": "markdown",
      "metadata": {
        "id": "PocSiGKmOoJ3"
      },
      "source": [
        "PennyLane operations and external framework-specific operations can be\n",
        "interwoven freely in circuits that use that plugin\\'s device for\n",
        "execution. In this case, the Cirq-provided channels can be used with\n",
        "Cirq\\'s mixed-state simulator.\n",
        "\n",
        "We\\'ll use the `BitFlip` channel, which has the effect of randomly\n",
        "flipping the qubits in the computational basis.\n"
      ]
    },
    {
      "cell_type": "code",
      "execution_count": 5,
      "metadata": {
        "colab": {
          "base_uri": "https://localhost:8080/",
          "height": 449
        },
        "id": "u95p9DFEOoJ3",
        "outputId": "a81e5d7b-fca7-413b-8e74-bf9b858c1a0a"
      },
      "outputs": [
        {
          "output_type": "display_data",
          "data": {
            "text/plain": [
              "<Figure size 640x480 with 1 Axes>"
            ],
            "image/png": "[encoded data removed]"
          },
          "metadata": {}
        }
      ],
      "source": [
        "noise_vals = np.linspace(0, 1, 25)\n",
        "\n",
        "CHSH_vals = []\n",
        "noisy_expvals = []\n",
        "\n",
        "for p in noise_vals:\n",
        "    # we overwrite the bell_pair() subcircuit to add\n",
        "    # extra noisy channels after the entangled state is created\n",
        "    def bell_pair():\n",
        "        qml.Hadamard(wires=0)\n",
        "        qml.CNOT(wires=[0, 1])\n",
        "        cirq_ops.BitFlip(p, wires=0)\n",
        "        cirq_ops.BitFlip(p, wires=1)\n",
        "\n",
        "    # measuring the circuits will now use the new noisy bell_pair() function\n",
        "    expvals = [measure_A1B1(), measure_A1B2(), measure_A2B1(), measure_A2B2()]\n",
        "    noisy_expvals.append(expvals)\n",
        "noisy_expvals = np.array(noisy_expvals)\n",
        "CHSH_expvals = np.sum(noisy_expvals[:, :3], axis=1) - noisy_expvals[:, 3]\n",
        "\n",
        "# Plot the individual observables\n",
        "plt.plot(noise_vals, noisy_expvals[:, 0], \"D\", label=r\"$\\hat{A1}\\otimes \\hat{B1}$\", markersize=5)\n",
        "plt.plot(noise_vals, noisy_expvals[:, 1], \"x\", label=r\"$\\hat{A1}\\otimes \\hat{B2}$\", markersize=12)\n",
        "plt.plot(noise_vals, noisy_expvals[:, 2], \"+\", label=r\"$\\hat{A2}\\otimes \\hat{B1}$\", markersize=10)\n",
        "plt.plot(noise_vals, noisy_expvals[:, 3], \"v\", label=r\"$\\hat{A2}\\otimes \\hat{B2}$\", markersize=10)\n",
        "plt.xlabel(\"Noise parameter\")\n",
        "plt.ylabel(r\"Expectation value $\\langle \\hat{A}_i\\otimes\\hat{B}_j\\rangle$\")\n",
        "plt.legend()\n",
        "plt.show()"
      ]
    },
    {
      "cell_type": "markdown",
      "metadata": {
        "id": "rZ4YHzGrOoJ4"
      },
      "source": [
        "By adding the bit-flip noise, we have degraded the value of the CHSH\n",
        "observable. The first two observables $\\hat{A}_1\\otimes \\hat{B}_1$ and\n",
        "$\\hat{A}_1\\otimes \\hat{B}_2$ are sensitive to this noise parameter.\n",
        "Their value is weakened when the noise parameter is not 0 or 1 (note\n",
        "that the the CHSH operator is symmetric with respect to bit flips).\n",
        "\n",
        "The latter two observables, on the other hand, are seemingly unaffected\n",
        "by the noise at all.\n",
        "\n",
        "We can see that even when noise is present, there may still be subspaces\n",
        "or observables which are minimally affected or unaffected. This gives us\n",
        "some hope that variational algorithms can learn to find and exploit such\n",
        "noise-free substructures on otherwise noisy devices.\n",
        "\n",
        "We can also plot the CHSH observable in the noisy case. Remember, values\n",
        "greater than 2 can safely be considered \\\"quantum\\\".\n"
      ]
    },
    {
      "cell_type": "code",
      "execution_count": 6,
      "metadata": {
        "colab": {
          "base_uri": "https://localhost:8080/",
          "height": 449
        },
        "id": "46Y3HzbfOoJ6",
        "outputId": "cdf30806-cb2c-4855-bf94-2cb3421f32e6"
      },
      "outputs": [
        {
          "output_type": "display_data",
          "data": {
            "text/plain": [
              "<Figure size 640x480 with 1 Axes>"
            ],
            "image/png": "[encoded data removed]"
          },
          "metadata": {}
        }
      ],
      "source": [
        "plt.plot(noise_vals, CHSH_expvals, label=\"CHSH\")\n",
        "plt.plot(noise_vals, 2 * np.ones_like(noise_vals), label=\"Quantum-classical boundary\")\n",
        "plt.xlabel(\"Noise parameter\")\n",
        "plt.ylabel(\"CHSH Expectation value\")\n",
        "plt.legend()\n",
        "plt.show()"
      ]
    },
    {
      "cell_type": "markdown",
      "metadata": {
        "id": "KxXwK9tmOoJ7"
      },
      "source": [
        "Too much noise (around 0.2 in this example), and we lose the quantumness\n",
        "we created in our circuit. But if we only have a little noise, the\n",
        "quantumness undeniably remains. So there is still hope that quantum\n",
        "algorithms can do something useful, even on noisy near-term devices, so\n",
        "long as the noise is not high.\n",
        "\n",
        "::: note\n",
        "::: title\n",
        "Note\n",
        ":::\n",
        "\n",
        "In Google\\'s quantum supremacy paper, they were able to show that some\n",
        "small signature of quantumness remained in their computations, even\n",
        "after a deep many-qubit noisy circuit was executed.\n",
        ":::\n"
      ]
    },
    {
      "cell_type": "markdown",
      "metadata": {
        "id": "Ho2TSaFSOoJ8"
      },
      "source": [
        "# Optimizing noisy circuits\n",
        "\n",
        "Now, how does noise affect the ability to optimize or train a\n",
        "variational circuit?\n",
        "\n",
        "Let\\'s consider an analog of the basic\n",
        "`qubit rotation tutorial <demos/tutorial_qubit_rotation>`{.interpreted-text\n",
        "role=\"doc\"}, but where we add an extra noise channel after the gates.\n",
        "\n",
        "::: note\n",
        "::: title\n",
        "Note\n",
        ":::\n",
        "\n",
        "We model the noise process as the application of ideal noise-free gates,\n",
        "followed by the action of a noisy channel. This is a common technique\n",
        "for modelling noise, but may not be appropriate for all situations.\n",
        ":::\n"
      ]
    },
    {
      "cell_type": "code",
      "execution_count": 7,
      "metadata": {
        "colab": {
          "base_uri": "https://localhost:8080/"
        },
        "id": "Td67kO-lOoJ8",
        "outputId": "8b8a642e-d764-4d50-9ec0-f9f998518459"
      },
      "outputs": [
        {
          "output_type": "stream",
          "name": "stdout",
          "text": [
            "Expectation value: 0.858\n"
          ]
        }
      ],
      "source": [
        "@qml.qnode(dev)\n",
        "def circuit(gate_params, noise_param=0.0):\n",
        "    qml.RX(gate_params[0], wires=0)\n",
        "    qml.RY(gate_params[1], wires=0)\n",
        "    cirq_ops.Depolarize(noise_param, wires=0)\n",
        "    return qml.expval(qml.PauliZ(0))\n",
        "\n",
        "\n",
        "gate_pars = [0.54, 0.12]\n",
        "print(\"Expectation value:\", circuit(gate_pars))"
      ]
    },
    {
      "cell_type": "markdown",
      "metadata": {
        "id": "23aVHj89OoJ9"
      },
      "source": [
        "In this case, the depolarizing channel degrades the qubit\\'s density\n",
        "matrix $\\rho$ towards the state\n",
        "\n",
        "$$\\rho' = \\tfrac{1}{3}\\left[X\\rho X + Y\\rho Y + Z\\rho Z\\right]$$\n",
        "\n",
        "(at the value $p=\\frac{3}{4},$ it passes through the maximally mixed\n",
        "state). We can see this in our circuit by looking at how the final\n",
        "`~pennylane.ops.PauliZ`{.interpreted-text role=\"class\"} expectation\n",
        "value changes as a function of the noise strength.\n"
      ]
    },
    {
      "cell_type": "code",
      "execution_count": 8,
      "metadata": {
        "colab": {
          "base_uri": "https://localhost:8080/",
          "height": 453
        },
        "id": "BBlafToiOoJ9",
        "outputId": "4888440d-3496-4818-e13c-4aac16108a85"
      },
      "outputs": [
        {
          "output_type": "display_data",
          "data": {
            "text/plain": [
              "<Figure size 640x480 with 1 Axes>"
            ],
            "image/png": "[encoded data removed]"
          },
          "metadata": {}
        }
      ],
      "source": [
        "noise_vals = np.linspace(0.0, 1.0, 20)\n",
        "expvals = [circuit(gate_pars, noise_param=p) for p in noise_vals]\n",
        "\n",
        "plt.plot(noise_vals, expvals, label=\"Expectation value\")\n",
        "plt.plot(noise_vals, np.ones_like(noise_vals), \"--\", label=\"Highest possible\")\n",
        "plt.plot(noise_vals, -np.ones_like(noise_vals), \"--\", label=\"Lowest possible\")\n",
        "plt.ylabel(r\"Expectation value $\\langle \\hat{Z} \\rangle$\")\n",
        "plt.xlabel(r\"Noise strength $p$\")\n",
        "plt.legend()\n",
        "plt.show()"
      ]
    },
    {
      "cell_type": "markdown",
      "metadata": {
        "id": "LrlxmNX5OoJ-"
      },
      "source": [
        "Let\\'s fix the noise parameter and see how the noise affects the\n",
        "optimization of our circuit. The goal is the same as the\n",
        "`qubit rotation tutorial <demos/tutorial_qubit_rotation>`{.interpreted-text\n",
        "role=\"doc\"}, i.e., to tune the qubit state until it has a `PauliZ`\n",
        "expectation value of $-1$ (the lowest possible).\n"
      ]
    },
    {
      "cell_type": "code",
      "execution_count": 9,
      "metadata": {
        "colab": {
          "base_uri": "https://localhost:8080/"
        },
        "id": "tqxyibYVOoJ-",
        "outputId": "7ea27777-caad-44d6-8c3b-678ab05b489d"
      },
      "outputs": [
        {
          "output_type": "stream",
          "name": "stderr",
          "text": [
            "/usr/local/lib/python3.12/dist-packages/pennylane/transforms/decompose.py:767: UserWarning: Operator Depolarize does not define a decomposition and was not found in the target gate set. To remove this warning, add the operator name (Depolarize) or type (<class 'pennylane_cirq.ops.Depolarize'>) to the gate set.\n",
            "  warnings.warn(\n",
            "/usr/local/lib/python3.12/dist-packages/pennylane/transforms/decompose.py:767: UserWarning: Operator Depolarize does not define a decomposition and was not found in the target gate set. To remove this warning, add the operator name (Depolarize) or type (<class 'pennylane_cirq.ops.Depolarize'>) to the gate set.\n",
            "  warnings.warn(\n",
            "/usr/local/lib/python3.12/dist-packages/pennylane/transforms/decompose.py:767: UserWarning: Operator Depolarize does not define a decomposition and was not found in the target gate set. To remove this warning, add the operator name (Depolarize) or type (<class 'pennylane_cirq.ops.Depolarize'>) to the gate set.\n",
            "  warnings.warn(\n",
            "/usr/local/lib/python3.12/dist-packages/pennylane/transforms/decompose.py:767: UserWarning: Operator Depolarize does not define a decomposition and was not found in the target gate set. To remove this warning, add the operator name (Depolarize) or type (<class 'pennylane_cirq.ops.Depolarize'>) to the gate set.\n",
            "  warnings.warn(\n",
            "/usr/local/lib/python3.12/dist-packages/pennylane/transforms/decompose.py:767: UserWarning: Operator Depolarize does not define a decomposition and was not found in the target gate set. To remove this warning, add the operator name (Depolarize) or type (<class 'pennylane_cirq.ops.Depolarize'>) to the gate set.\n",
            "  warnings.warn(\n",
            "/usr/local/lib/python3.12/dist-packages/pennylane/transforms/decompose.py:767: UserWarning: Operator Depolarize does not define a decomposition and was not found in the target gate set. To remove this warning, add the operator name (Depolarize) or type (<class 'pennylane_cirq.ops.Depolarize'>) to the gate set.\n",
            "  warnings.warn(\n",
            "/usr/local/lib/python3.12/dist-packages/pennylane/transforms/decompose.py:767: UserWarning: Operator Depolarize does not define a decomposition and was not found in the target gate set. To remove this warning, add the operator name (Depolarize) or type (<class 'pennylane_cirq.ops.Depolarize'>) to the gate set.\n",
            "  warnings.warn(\n",
            "/usr/local/lib/python3.12/dist-packages/pennylane/transforms/decompose.py:767: UserWarning: Operator Depolarize does not define a decomposition and was not found in the target gate set. To remove this warning, add the operator name (Depolarize) or type (<class 'pennylane_cirq.ops.Depolarize'>) to the gate set.\n",
            "  warnings.warn(\n",
            "/usr/local/lib/python3.12/dist-packages/pennylane/transforms/decompose.py:767: UserWarning: Operator Depolarize does not define a decomposition and was not found in the target gate set. To remove this warning, add the operator name (Depolarize) or type (<class 'pennylane_cirq.ops.Depolarize'>) to the gate set.\n",
            "  warnings.warn(\n",
            "/usr/local/lib/python3.12/dist-packages/pennylane/transforms/decompose.py:767: UserWarning: Operator Depolarize does not define a decomposition and was not found in the target gate set. To remove this warning, add the operator name (Depolarize) or type (<class 'pennylane_cirq.ops.Depolarize'>) to the gate set.\n",
            "  warnings.warn(\n",
            "/usr/local/lib/python3.12/dist-packages/pennylane/transforms/decompose.py:767: UserWarning: Operator Depolarize does not define a decomposition and was not found in the target gate set. To remove this warning, add the operator name (Depolarize) or type (<class 'pennylane_cirq.ops.Depolarize'>) to the gate set.\n",
            "  warnings.warn(\n",
            "/usr/local/lib/python3.12/dist-packages/pennylane/transforms/decompose.py:767: UserWarning: Operator Depolarize does not define a decomposition and was not found in the target gate set. To remove this warning, add the operator name (Depolarize) or type (<class 'pennylane_cirq.ops.Depolarize'>) to the gate set.\n",
            "  warnings.warn(\n"
          ]
        },
        {
          "output_type": "stream",
          "name": "stdout",
          "text": [
            "Step     5. Cost:  0.3580000; Noisy Cost:  0.4120000\n"
          ]
        },
        {
          "output_type": "stream",
          "name": "stderr",
          "text": [
            "/usr/local/lib/python3.12/dist-packages/pennylane/transforms/decompose.py:767: UserWarning: Operator Depolarize does not define a decomposition and was not found in the target gate set. To remove this warning, add the operator name (Depolarize) or type (<class 'pennylane_cirq.ops.Depolarize'>) to the gate set.\n",
            "  warnings.warn(\n",
            "/usr/local/lib/python3.12/dist-packages/pennylane/transforms/decompose.py:767: UserWarning: Operator Depolarize does not define a decomposition and was not found in the target gate set. To remove this warning, add the operator name (Depolarize) or type (<class 'pennylane_cirq.ops.Depolarize'>) to the gate set.\n",
            "  warnings.warn(\n",
            "/usr/local/lib/python3.12/dist-packages/pennylane/transforms/decompose.py:767: UserWarning: Operator Depolarize does not define a decomposition and was not found in the target gate set. To remove this warning, add the operator name (Depolarize) or type (<class 'pennylane_cirq.ops.Depolarize'>) to the gate set.\n",
            "  warnings.warn(\n",
            "/usr/local/lib/python3.12/dist-packages/pennylane/transforms/decompose.py:767: UserWarning: Operator Depolarize does not define a decomposition and was not found in the target gate set. To remove this warning, add the operator name (Depolarize) or type (<class 'pennylane_cirq.ops.Depolarize'>) to the gate set.\n",
            "  warnings.warn(\n",
            "/usr/local/lib/python3.12/dist-packages/pennylane/transforms/decompose.py:767: UserWarning: Operator Depolarize does not define a decomposition and was not found in the target gate set. To remove this warning, add the operator name (Depolarize) or type (<class 'pennylane_cirq.ops.Depolarize'>) to the gate set.\n",
            "  warnings.warn(\n",
            "/usr/local/lib/python3.12/dist-packages/pennylane/transforms/decompose.py:767: UserWarning: Operator Depolarize does not define a decomposition and was not found in the target gate set. To remove this warning, add the operator name (Depolarize) or type (<class 'pennylane_cirq.ops.Depolarize'>) to the gate set.\n",
            "  warnings.warn(\n",
            "/usr/local/lib/python3.12/dist-packages/pennylane/transforms/decompose.py:767: UserWarning: Operator Depolarize does not define a decomposition and was not found in the target gate set. To remove this warning, add the operator name (Depolarize) or type (<class 'pennylane_cirq.ops.Depolarize'>) to the gate set.\n",
            "  warnings.warn(\n",
            "/usr/local/lib/python3.12/dist-packages/pennylane/transforms/decompose.py:767: UserWarning: Operator Depolarize does not define a decomposition and was not found in the target gate set. To remove this warning, add the operator name (Depolarize) or type (<class 'pennylane_cirq.ops.Depolarize'>) to the gate set.\n",
            "  warnings.warn(\n"
          ]
        },
        {
          "output_type": "stream",
          "name": "stdout",
          "text": [
            "Step    10. Cost: -0.9960000; Noisy Cost: -0.6140000\n"
          ]
        },
        {
          "output_type": "stream",
          "name": "stderr",
          "text": [
            "/usr/local/lib/python3.12/dist-packages/pennylane/transforms/decompose.py:767: UserWarning: Operator Depolarize does not define a decomposition and was not found in the target gate set. To remove this warning, add the operator name (Depolarize) or type (<class 'pennylane_cirq.ops.Depolarize'>) to the gate set.\n",
            "  warnings.warn(\n",
            "/usr/local/lib/python3.12/dist-packages/pennylane/transforms/decompose.py:767: UserWarning: Operator Depolarize does not define a decomposition and was not found in the target gate set. To remove this warning, add the operator name (Depolarize) or type (<class 'pennylane_cirq.ops.Depolarize'>) to the gate set.\n",
            "  warnings.warn(\n",
            "/usr/local/lib/python3.12/dist-packages/pennylane/transforms/decompose.py:767: UserWarning: Operator Depolarize does not define a decomposition and was not found in the target gate set. To remove this warning, add the operator name (Depolarize) or type (<class 'pennylane_cirq.ops.Depolarize'>) to the gate set.\n",
            "  warnings.warn(\n",
            "/usr/local/lib/python3.12/dist-packages/pennylane/transforms/decompose.py:767: UserWarning: Operator Depolarize does not define a decomposition and was not found in the target gate set. To remove this warning, add the operator name (Depolarize) or type (<class 'pennylane_cirq.ops.Depolarize'>) to the gate set.\n",
            "  warnings.warn(\n",
            "/usr/local/lib/python3.12/dist-packages/pennylane/transforms/decompose.py:767: UserWarning: Operator Depolarize does not define a decomposition and was not found in the target gate set. To remove this warning, add the operator name (Depolarize) or type (<class 'pennylane_cirq.ops.Depolarize'>) to the gate set.\n",
            "  warnings.warn(\n",
            "/usr/local/lib/python3.12/dist-packages/pennylane/transforms/decompose.py:767: UserWarning: Operator Depolarize does not define a decomposition and was not found in the target gate set. To remove this warning, add the operator name (Depolarize) or type (<class 'pennylane_cirq.ops.Depolarize'>) to the gate set.\n",
            "  warnings.warn(\n",
            "/usr/local/lib/python3.12/dist-packages/pennylane/transforms/decompose.py:767: UserWarning: Operator Depolarize does not define a decomposition and was not found in the target gate set. To remove this warning, add the operator name (Depolarize) or type (<class 'pennylane_cirq.ops.Depolarize'>) to the gate set.\n",
            "  warnings.warn(\n",
            "/usr/local/lib/python3.12/dist-packages/pennylane/transforms/decompose.py:767: UserWarning: Operator Depolarize does not define a decomposition and was not found in the target gate set. To remove this warning, add the operator name (Depolarize) or type (<class 'pennylane_cirq.ops.Depolarize'>) to the gate set.\n",
            "  warnings.warn(\n",
            "/usr/local/lib/python3.12/dist-packages/pennylane/transforms/decompose.py:767: UserWarning: Operator Depolarize does not define a decomposition and was not found in the target gate set. To remove this warning, add the operator name (Depolarize) or type (<class 'pennylane_cirq.ops.Depolarize'>) to the gate set.\n",
            "  warnings.warn(\n",
            "/usr/local/lib/python3.12/dist-packages/pennylane/transforms/decompose.py:767: UserWarning: Operator Depolarize does not define a decomposition and was not found in the target gate set. To remove this warning, add the operator name (Depolarize) or type (<class 'pennylane_cirq.ops.Depolarize'>) to the gate set.\n",
            "  warnings.warn(\n",
            "/usr/local/lib/python3.12/dist-packages/pennylane/transforms/decompose.py:767: UserWarning: Operator Depolarize does not define a decomposition and was not found in the target gate set. To remove this warning, add the operator name (Depolarize) or type (<class 'pennylane_cirq.ops.Depolarize'>) to the gate set.\n",
            "  warnings.warn(\n",
            "/usr/local/lib/python3.12/dist-packages/pennylane/transforms/decompose.py:767: UserWarning: Operator Depolarize does not define a decomposition and was not found in the target gate set. To remove this warning, add the operator name (Depolarize) or type (<class 'pennylane_cirq.ops.Depolarize'>) to the gate set.\n",
            "  warnings.warn(\n",
            "/usr/local/lib/python3.12/dist-packages/pennylane/transforms/decompose.py:767: UserWarning: Operator Depolarize does not define a decomposition and was not found in the target gate set. To remove this warning, add the operator name (Depolarize) or type (<class 'pennylane_cirq.ops.Depolarize'>) to the gate set.\n",
            "  warnings.warn(\n",
            "/usr/local/lib/python3.12/dist-packages/pennylane/transforms/decompose.py:767: UserWarning: Operator Depolarize does not define a decomposition and was not found in the target gate set. To remove this warning, add the operator name (Depolarize) or type (<class 'pennylane_cirq.ops.Depolarize'>) to the gate set.\n",
            "  warnings.warn(\n"
          ]
        },
        {
          "output_type": "stream",
          "name": "stdout",
          "text": [
            "Step    15. Cost: -0.9900000; Noisy Cost: -0.5940000\n"
          ]
        },
        {
          "output_type": "stream",
          "name": "stderr",
          "text": [
            "/usr/local/lib/python3.12/dist-packages/pennylane/transforms/decompose.py:767: UserWarning: Operator Depolarize does not define a decomposition and was not found in the target gate set. To remove this warning, add the operator name (Depolarize) or type (<class 'pennylane_cirq.ops.Depolarize'>) to the gate set.\n",
            "  warnings.warn(\n",
            "/usr/local/lib/python3.12/dist-packages/pennylane/transforms/decompose.py:767: UserWarning: Operator Depolarize does not define a decomposition and was not found in the target gate set. To remove this warning, add the operator name (Depolarize) or type (<class 'pennylane_cirq.ops.Depolarize'>) to the gate set.\n",
            "  warnings.warn(\n",
            "/usr/local/lib/python3.12/dist-packages/pennylane/transforms/decompose.py:767: UserWarning: Operator Depolarize does not define a decomposition and was not found in the target gate set. To remove this warning, add the operator name (Depolarize) or type (<class 'pennylane_cirq.ops.Depolarize'>) to the gate set.\n",
            "  warnings.warn(\n",
            "/usr/local/lib/python3.12/dist-packages/pennylane/transforms/decompose.py:767: UserWarning: Operator Depolarize does not define a decomposition and was not found in the target gate set. To remove this warning, add the operator name (Depolarize) or type (<class 'pennylane_cirq.ops.Depolarize'>) to the gate set.\n",
            "  warnings.warn(\n",
            "/usr/local/lib/python3.12/dist-packages/pennylane/transforms/decompose.py:767: UserWarning: Operator Depolarize does not define a decomposition and was not found in the target gate set. To remove this warning, add the operator name (Depolarize) or type (<class 'pennylane_cirq.ops.Depolarize'>) to the gate set.\n",
            "  warnings.warn(\n",
            "/usr/local/lib/python3.12/dist-packages/pennylane/transforms/decompose.py:767: UserWarning: Operator Depolarize does not define a decomposition and was not found in the target gate set. To remove this warning, add the operator name (Depolarize) or type (<class 'pennylane_cirq.ops.Depolarize'>) to the gate set.\n",
            "  warnings.warn(\n"
          ]
        },
        {
          "output_type": "stream",
          "name": "stdout",
          "text": [
            "Step    20. Cost: -0.9980000; Noisy Cost: -0.5860000\n"
          ]
        },
        {
          "output_type": "stream",
          "name": "stderr",
          "text": [
            "/usr/local/lib/python3.12/dist-packages/pennylane/transforms/decompose.py:767: UserWarning: Operator Depolarize does not define a decomposition and was not found in the target gate set. To remove this warning, add the operator name (Depolarize) or type (<class 'pennylane_cirq.ops.Depolarize'>) to the gate set.\n",
            "  warnings.warn(\n",
            "/usr/local/lib/python3.12/dist-packages/pennylane/transforms/decompose.py:767: UserWarning: Operator Depolarize does not define a decomposition and was not found in the target gate set. To remove this warning, add the operator name (Depolarize) or type (<class 'pennylane_cirq.ops.Depolarize'>) to the gate set.\n",
            "  warnings.warn(\n",
            "/usr/local/lib/python3.12/dist-packages/pennylane/transforms/decompose.py:767: UserWarning: Operator Depolarize does not define a decomposition and was not found in the target gate set. To remove this warning, add the operator name (Depolarize) or type (<class 'pennylane_cirq.ops.Depolarize'>) to the gate set.\n",
            "  warnings.warn(\n",
            "/usr/local/lib/python3.12/dist-packages/pennylane/transforms/decompose.py:767: UserWarning: Operator Depolarize does not define a decomposition and was not found in the target gate set. To remove this warning, add the operator name (Depolarize) or type (<class 'pennylane_cirq.ops.Depolarize'>) to the gate set.\n",
            "  warnings.warn(\n",
            "/usr/local/lib/python3.12/dist-packages/pennylane/transforms/decompose.py:767: UserWarning: Operator Depolarize does not define a decomposition and was not found in the target gate set. To remove this warning, add the operator name (Depolarize) or type (<class 'pennylane_cirq.ops.Depolarize'>) to the gate set.\n",
            "  warnings.warn(\n",
            "/usr/local/lib/python3.12/dist-packages/pennylane/transforms/decompose.py:767: UserWarning: Operator Depolarize does not define a decomposition and was not found in the target gate set. To remove this warning, add the operator name (Depolarize) or type (<class 'pennylane_cirq.ops.Depolarize'>) to the gate set.\n",
            "  warnings.warn(\n",
            "/usr/local/lib/python3.12/dist-packages/pennylane/transforms/decompose.py:767: UserWarning: Operator Depolarize does not define a decomposition and was not found in the target gate set. To remove this warning, add the operator name (Depolarize) or type (<class 'pennylane_cirq.ops.Depolarize'>) to the gate set.\n",
            "  warnings.warn(\n",
            "/usr/local/lib/python3.12/dist-packages/pennylane/transforms/decompose.py:767: UserWarning: Operator Depolarize does not define a decomposition and was not found in the target gate set. To remove this warning, add the operator name (Depolarize) or type (<class 'pennylane_cirq.ops.Depolarize'>) to the gate set.\n",
            "  warnings.warn(\n",
            "/usr/local/lib/python3.12/dist-packages/pennylane/transforms/decompose.py:767: UserWarning: Operator Depolarize does not define a decomposition and was not found in the target gate set. To remove this warning, add the operator name (Depolarize) or type (<class 'pennylane_cirq.ops.Depolarize'>) to the gate set.\n",
            "  warnings.warn(\n",
            "/usr/local/lib/python3.12/dist-packages/pennylane/transforms/decompose.py:767: UserWarning: Operator Depolarize does not define a decomposition and was not found in the target gate set. To remove this warning, add the operator name (Depolarize) or type (<class 'pennylane_cirq.ops.Depolarize'>) to the gate set.\n",
            "  warnings.warn(\n",
            "/usr/local/lib/python3.12/dist-packages/pennylane/transforms/decompose.py:767: UserWarning: Operator Depolarize does not define a decomposition and was not found in the target gate set. To remove this warning, add the operator name (Depolarize) or type (<class 'pennylane_cirq.ops.Depolarize'>) to the gate set.\n",
            "  warnings.warn(\n",
            "/usr/local/lib/python3.12/dist-packages/pennylane/transforms/decompose.py:767: UserWarning: Operator Depolarize does not define a decomposition and was not found in the target gate set. To remove this warning, add the operator name (Depolarize) or type (<class 'pennylane_cirq.ops.Depolarize'>) to the gate set.\n",
            "  warnings.warn(\n",
            "/usr/local/lib/python3.12/dist-packages/pennylane/transforms/decompose.py:767: UserWarning: Operator Depolarize does not define a decomposition and was not found in the target gate set. To remove this warning, add the operator name (Depolarize) or type (<class 'pennylane_cirq.ops.Depolarize'>) to the gate set.\n",
            "  warnings.warn(\n"
          ]
        },
        {
          "output_type": "stream",
          "name": "stdout",
          "text": [
            "Step    25. Cost: -0.9900000; Noisy Cost: -0.5560000\n"
          ]
        },
        {
          "output_type": "stream",
          "name": "stderr",
          "text": [
            "/usr/local/lib/python3.12/dist-packages/pennylane/transforms/decompose.py:767: UserWarning: Operator Depolarize does not define a decomposition and was not found in the target gate set. To remove this warning, add the operator name (Depolarize) or type (<class 'pennylane_cirq.ops.Depolarize'>) to the gate set.\n",
            "  warnings.warn(\n",
            "/usr/local/lib/python3.12/dist-packages/pennylane/transforms/decompose.py:767: UserWarning: Operator Depolarize does not define a decomposition and was not found in the target gate set. To remove this warning, add the operator name (Depolarize) or type (<class 'pennylane_cirq.ops.Depolarize'>) to the gate set.\n",
            "  warnings.warn(\n",
            "/usr/local/lib/python3.12/dist-packages/pennylane/transforms/decompose.py:767: UserWarning: Operator Depolarize does not define a decomposition and was not found in the target gate set. To remove this warning, add the operator name (Depolarize) or type (<class 'pennylane_cirq.ops.Depolarize'>) to the gate set.\n",
            "  warnings.warn(\n",
            "/usr/local/lib/python3.12/dist-packages/pennylane/transforms/decompose.py:767: UserWarning: Operator Depolarize does not define a decomposition and was not found in the target gate set. To remove this warning, add the operator name (Depolarize) or type (<class 'pennylane_cirq.ops.Depolarize'>) to the gate set.\n",
            "  warnings.warn(\n",
            "/usr/local/lib/python3.12/dist-packages/pennylane/transforms/decompose.py:767: UserWarning: Operator Depolarize does not define a decomposition and was not found in the target gate set. To remove this warning, add the operator name (Depolarize) or type (<class 'pennylane_cirq.ops.Depolarize'>) to the gate set.\n",
            "  warnings.warn(\n",
            "/usr/local/lib/python3.12/dist-packages/pennylane/transforms/decompose.py:767: UserWarning: Operator Depolarize does not define a decomposition and was not found in the target gate set. To remove this warning, add the operator name (Depolarize) or type (<class 'pennylane_cirq.ops.Depolarize'>) to the gate set.\n",
            "  warnings.warn(\n",
            "/usr/local/lib/python3.12/dist-packages/pennylane/transforms/decompose.py:767: UserWarning: Operator Depolarize does not define a decomposition and was not found in the target gate set. To remove this warning, add the operator name (Depolarize) or type (<class 'pennylane_cirq.ops.Depolarize'>) to the gate set.\n",
            "  warnings.warn(\n",
            "/usr/local/lib/python3.12/dist-packages/pennylane/transforms/decompose.py:767: UserWarning: Operator Depolarize does not define a decomposition and was not found in the target gate set. To remove this warning, add the operator name (Depolarize) or type (<class 'pennylane_cirq.ops.Depolarize'>) to the gate set.\n",
            "  warnings.warn(\n",
            "/usr/local/lib/python3.12/dist-packages/pennylane/transforms/decompose.py:767: UserWarning: Operator Depolarize does not define a decomposition and was not found in the target gate set. To remove this warning, add the operator name (Depolarize) or type (<class 'pennylane_cirq.ops.Depolarize'>) to the gate set.\n",
            "  warnings.warn(\n"
          ]
        },
        {
          "output_type": "stream",
          "name": "stdout",
          "text": [
            "Step    30. Cost: -1.0000000; Noisy Cost: -0.5840000\n"
          ]
        },
        {
          "output_type": "stream",
          "name": "stderr",
          "text": [
            "/usr/local/lib/python3.12/dist-packages/pennylane/transforms/decompose.py:767: UserWarning: Operator Depolarize does not define a decomposition and was not found in the target gate set. To remove this warning, add the operator name (Depolarize) or type (<class 'pennylane_cirq.ops.Depolarize'>) to the gate set.\n",
            "  warnings.warn(\n",
            "/usr/local/lib/python3.12/dist-packages/pennylane/transforms/decompose.py:767: UserWarning: Operator Depolarize does not define a decomposition and was not found in the target gate set. To remove this warning, add the operator name (Depolarize) or type (<class 'pennylane_cirq.ops.Depolarize'>) to the gate set.\n",
            "  warnings.warn(\n",
            "/usr/local/lib/python3.12/dist-packages/pennylane/transforms/decompose.py:767: UserWarning: Operator Depolarize does not define a decomposition and was not found in the target gate set. To remove this warning, add the operator name (Depolarize) or type (<class 'pennylane_cirq.ops.Depolarize'>) to the gate set.\n",
            "  warnings.warn(\n",
            "/usr/local/lib/python3.12/dist-packages/pennylane/transforms/decompose.py:767: UserWarning: Operator Depolarize does not define a decomposition and was not found in the target gate set. To remove this warning, add the operator name (Depolarize) or type (<class 'pennylane_cirq.ops.Depolarize'>) to the gate set.\n",
            "  warnings.warn(\n",
            "/usr/local/lib/python3.12/dist-packages/pennylane/transforms/decompose.py:767: UserWarning: Operator Depolarize does not define a decomposition and was not found in the target gate set. To remove this warning, add the operator name (Depolarize) or type (<class 'pennylane_cirq.ops.Depolarize'>) to the gate set.\n",
            "  warnings.warn(\n",
            "/usr/local/lib/python3.12/dist-packages/pennylane/transforms/decompose.py:767: UserWarning: Operator Depolarize does not define a decomposition and was not found in the target gate set. To remove this warning, add the operator name (Depolarize) or type (<class 'pennylane_cirq.ops.Depolarize'>) to the gate set.\n",
            "  warnings.warn(\n",
            "/usr/local/lib/python3.12/dist-packages/pennylane/transforms/decompose.py:767: UserWarning: Operator Depolarize does not define a decomposition and was not found in the target gate set. To remove this warning, add the operator name (Depolarize) or type (<class 'pennylane_cirq.ops.Depolarize'>) to the gate set.\n",
            "  warnings.warn(\n",
            "/usr/local/lib/python3.12/dist-packages/pennylane/transforms/decompose.py:767: UserWarning: Operator Depolarize does not define a decomposition and was not found in the target gate set. To remove this warning, add the operator name (Depolarize) or type (<class 'pennylane_cirq.ops.Depolarize'>) to the gate set.\n",
            "  warnings.warn(\n",
            "/usr/local/lib/python3.12/dist-packages/pennylane/transforms/decompose.py:767: UserWarning: Operator Depolarize does not define a decomposition and was not found in the target gate set. To remove this warning, add the operator name (Depolarize) or type (<class 'pennylane_cirq.ops.Depolarize'>) to the gate set.\n",
            "  warnings.warn(\n"
          ]
        },
        {
          "output_type": "stream",
          "name": "stdout",
          "text": [
            "Step    35. Cost: -1.0000000; Noisy Cost: -0.5780000\n"
          ]
        },
        {
          "output_type": "stream",
          "name": "stderr",
          "text": [
            "/usr/local/lib/python3.12/dist-packages/pennylane/transforms/decompose.py:767: UserWarning: Operator Depolarize does not define a decomposition and was not found in the target gate set. To remove this warning, add the operator name (Depolarize) or type (<class 'pennylane_cirq.ops.Depolarize'>) to the gate set.\n",
            "  warnings.warn(\n",
            "/usr/local/lib/python3.12/dist-packages/pennylane/transforms/decompose.py:767: UserWarning: Operator Depolarize does not define a decomposition and was not found in the target gate set. To remove this warning, add the operator name (Depolarize) or type (<class 'pennylane_cirq.ops.Depolarize'>) to the gate set.\n",
            "  warnings.warn(\n",
            "/usr/local/lib/python3.12/dist-packages/pennylane/transforms/decompose.py:767: UserWarning: Operator Depolarize does not define a decomposition and was not found in the target gate set. To remove this warning, add the operator name (Depolarize) or type (<class 'pennylane_cirq.ops.Depolarize'>) to the gate set.\n",
            "  warnings.warn(\n",
            "/usr/local/lib/python3.12/dist-packages/pennylane/transforms/decompose.py:767: UserWarning: Operator Depolarize does not define a decomposition and was not found in the target gate set. To remove this warning, add the operator name (Depolarize) or type (<class 'pennylane_cirq.ops.Depolarize'>) to the gate set.\n",
            "  warnings.warn(\n",
            "/usr/local/lib/python3.12/dist-packages/pennylane/transforms/decompose.py:767: UserWarning: Operator Depolarize does not define a decomposition and was not found in the target gate set. To remove this warning, add the operator name (Depolarize) or type (<class 'pennylane_cirq.ops.Depolarize'>) to the gate set.\n",
            "  warnings.warn(\n",
            "/usr/local/lib/python3.12/dist-packages/pennylane/transforms/decompose.py:767: UserWarning: Operator Depolarize does not define a decomposition and was not found in the target gate set. To remove this warning, add the operator name (Depolarize) or type (<class 'pennylane_cirq.ops.Depolarize'>) to the gate set.\n",
            "  warnings.warn(\n",
            "/usr/local/lib/python3.12/dist-packages/pennylane/transforms/decompose.py:767: UserWarning: Operator Depolarize does not define a decomposition and was not found in the target gate set. To remove this warning, add the operator name (Depolarize) or type (<class 'pennylane_cirq.ops.Depolarize'>) to the gate set.\n",
            "  warnings.warn(\n",
            "/usr/local/lib/python3.12/dist-packages/pennylane/transforms/decompose.py:767: UserWarning: Operator Depolarize does not define a decomposition and was not found in the target gate set. To remove this warning, add the operator name (Depolarize) or type (<class 'pennylane_cirq.ops.Depolarize'>) to the gate set.\n",
            "  warnings.warn(\n",
            "/usr/local/lib/python3.12/dist-packages/pennylane/transforms/decompose.py:767: UserWarning: Operator Depolarize does not define a decomposition and was not found in the target gate set. To remove this warning, add the operator name (Depolarize) or type (<class 'pennylane_cirq.ops.Depolarize'>) to the gate set.\n",
            "  warnings.warn(\n",
            "/usr/local/lib/python3.12/dist-packages/pennylane/transforms/decompose.py:767: UserWarning: Operator Depolarize does not define a decomposition and was not found in the target gate set. To remove this warning, add the operator name (Depolarize) or type (<class 'pennylane_cirq.ops.Depolarize'>) to the gate set.\n",
            "  warnings.warn(\n",
            "/usr/local/lib/python3.12/dist-packages/pennylane/transforms/decompose.py:767: UserWarning: Operator Depolarize does not define a decomposition and was not found in the target gate set. To remove this warning, add the operator name (Depolarize) or type (<class 'pennylane_cirq.ops.Depolarize'>) to the gate set.\n",
            "  warnings.warn(\n",
            "/usr/local/lib/python3.12/dist-packages/pennylane/transforms/decompose.py:767: UserWarning: Operator Depolarize does not define a decomposition and was not found in the target gate set. To remove this warning, add the operator name (Depolarize) or type (<class 'pennylane_cirq.ops.Depolarize'>) to the gate set.\n",
            "  warnings.warn(\n"
          ]
        },
        {
          "output_type": "stream",
          "name": "stdout",
          "text": [
            "Step    40. Cost: -0.9980000; Noisy Cost: -0.6420000\n"
          ]
        },
        {
          "output_type": "stream",
          "name": "stderr",
          "text": [
            "/usr/local/lib/python3.12/dist-packages/pennylane/transforms/decompose.py:767: UserWarning: Operator Depolarize does not define a decomposition and was not found in the target gate set. To remove this warning, add the operator name (Depolarize) or type (<class 'pennylane_cirq.ops.Depolarize'>) to the gate set.\n",
            "  warnings.warn(\n",
            "/usr/local/lib/python3.12/dist-packages/pennylane/transforms/decompose.py:767: UserWarning: Operator Depolarize does not define a decomposition and was not found in the target gate set. To remove this warning, add the operator name (Depolarize) or type (<class 'pennylane_cirq.ops.Depolarize'>) to the gate set.\n",
            "  warnings.warn(\n",
            "/usr/local/lib/python3.12/dist-packages/pennylane/transforms/decompose.py:767: UserWarning: Operator Depolarize does not define a decomposition and was not found in the target gate set. To remove this warning, add the operator name (Depolarize) or type (<class 'pennylane_cirq.ops.Depolarize'>) to the gate set.\n",
            "  warnings.warn(\n",
            "/usr/local/lib/python3.12/dist-packages/pennylane/transforms/decompose.py:767: UserWarning: Operator Depolarize does not define a decomposition and was not found in the target gate set. To remove this warning, add the operator name (Depolarize) or type (<class 'pennylane_cirq.ops.Depolarize'>) to the gate set.\n",
            "  warnings.warn(\n",
            "/usr/local/lib/python3.12/dist-packages/pennylane/transforms/decompose.py:767: UserWarning: Operator Depolarize does not define a decomposition and was not found in the target gate set. To remove this warning, add the operator name (Depolarize) or type (<class 'pennylane_cirq.ops.Depolarize'>) to the gate set.\n",
            "  warnings.warn(\n",
            "/usr/local/lib/python3.12/dist-packages/pennylane/transforms/decompose.py:767: UserWarning: Operator Depolarize does not define a decomposition and was not found in the target gate set. To remove this warning, add the operator name (Depolarize) or type (<class 'pennylane_cirq.ops.Depolarize'>) to the gate set.\n",
            "  warnings.warn(\n",
            "/usr/local/lib/python3.12/dist-packages/pennylane/transforms/decompose.py:767: UserWarning: Operator Depolarize does not define a decomposition and was not found in the target gate set. To remove this warning, add the operator name (Depolarize) or type (<class 'pennylane_cirq.ops.Depolarize'>) to the gate set.\n",
            "  warnings.warn(\n",
            "/usr/local/lib/python3.12/dist-packages/pennylane/transforms/decompose.py:767: UserWarning: Operator Depolarize does not define a decomposition and was not found in the target gate set. To remove this warning, add the operator name (Depolarize) or type (<class 'pennylane_cirq.ops.Depolarize'>) to the gate set.\n",
            "  warnings.warn(\n",
            "/usr/local/lib/python3.12/dist-packages/pennylane/transforms/decompose.py:767: UserWarning: Operator Depolarize does not define a decomposition and was not found in the target gate set. To remove this warning, add the operator name (Depolarize) or type (<class 'pennylane_cirq.ops.Depolarize'>) to the gate set.\n",
            "  warnings.warn(\n"
          ]
        },
        {
          "output_type": "stream",
          "name": "stdout",
          "text": [
            "Step    45. Cost: -0.9960000; Noisy Cost: -0.5920000\n"
          ]
        },
        {
          "output_type": "stream",
          "name": "stderr",
          "text": [
            "/usr/local/lib/python3.12/dist-packages/pennylane/transforms/decompose.py:767: UserWarning: Operator Depolarize does not define a decomposition and was not found in the target gate set. To remove this warning, add the operator name (Depolarize) or type (<class 'pennylane_cirq.ops.Depolarize'>) to the gate set.\n",
            "  warnings.warn(\n",
            "/usr/local/lib/python3.12/dist-packages/pennylane/transforms/decompose.py:767: UserWarning: Operator Depolarize does not define a decomposition and was not found in the target gate set. To remove this warning, add the operator name (Depolarize) or type (<class 'pennylane_cirq.ops.Depolarize'>) to the gate set.\n",
            "  warnings.warn(\n",
            "/usr/local/lib/python3.12/dist-packages/pennylane/transforms/decompose.py:767: UserWarning: Operator Depolarize does not define a decomposition and was not found in the target gate set. To remove this warning, add the operator name (Depolarize) or type (<class 'pennylane_cirq.ops.Depolarize'>) to the gate set.\n",
            "  warnings.warn(\n",
            "/usr/local/lib/python3.12/dist-packages/pennylane/transforms/decompose.py:767: UserWarning: Operator Depolarize does not define a decomposition and was not found in the target gate set. To remove this warning, add the operator name (Depolarize) or type (<class 'pennylane_cirq.ops.Depolarize'>) to the gate set.\n",
            "  warnings.warn(\n",
            "/usr/local/lib/python3.12/dist-packages/pennylane/transforms/decompose.py:767: UserWarning: Operator Depolarize does not define a decomposition and was not found in the target gate set. To remove this warning, add the operator name (Depolarize) or type (<class 'pennylane_cirq.ops.Depolarize'>) to the gate set.\n",
            "  warnings.warn(\n",
            "/usr/local/lib/python3.12/dist-packages/pennylane/transforms/decompose.py:767: UserWarning: Operator Depolarize does not define a decomposition and was not found in the target gate set. To remove this warning, add the operator name (Depolarize) or type (<class 'pennylane_cirq.ops.Depolarize'>) to the gate set.\n",
            "  warnings.warn(\n",
            "/usr/local/lib/python3.12/dist-packages/pennylane/transforms/decompose.py:767: UserWarning: Operator Depolarize does not define a decomposition and was not found in the target gate set. To remove this warning, add the operator name (Depolarize) or type (<class 'pennylane_cirq.ops.Depolarize'>) to the gate set.\n",
            "  warnings.warn(\n",
            "/usr/local/lib/python3.12/dist-packages/pennylane/transforms/decompose.py:767: UserWarning: Operator Depolarize does not define a decomposition and was not found in the target gate set. To remove this warning, add the operator name (Depolarize) or type (<class 'pennylane_cirq.ops.Depolarize'>) to the gate set.\n",
            "  warnings.warn(\n",
            "/usr/local/lib/python3.12/dist-packages/pennylane/transforms/decompose.py:767: UserWarning: Operator Depolarize does not define a decomposition and was not found in the target gate set. To remove this warning, add the operator name (Depolarize) or type (<class 'pennylane_cirq.ops.Depolarize'>) to the gate set.\n",
            "  warnings.warn(\n",
            "/usr/local/lib/python3.12/dist-packages/pennylane/transforms/decompose.py:767: UserWarning: Operator Depolarize does not define a decomposition and was not found in the target gate set. To remove this warning, add the operator name (Depolarize) or type (<class 'pennylane_cirq.ops.Depolarize'>) to the gate set.\n",
            "  warnings.warn(\n"
          ]
        },
        {
          "output_type": "stream",
          "name": "stdout",
          "text": [
            "Step    50. Cost: -0.9880000; Noisy Cost: -0.5440000\n"
          ]
        },
        {
          "output_type": "stream",
          "name": "stderr",
          "text": [
            "/usr/local/lib/python3.12/dist-packages/pennylane/transforms/decompose.py:767: UserWarning: Operator Depolarize does not define a decomposition and was not found in the target gate set. To remove this warning, add the operator name (Depolarize) or type (<class 'pennylane_cirq.ops.Depolarize'>) to the gate set.\n",
            "  warnings.warn(\n",
            "/usr/local/lib/python3.12/dist-packages/pennylane/transforms/decompose.py:767: UserWarning: Operator Depolarize does not define a decomposition and was not found in the target gate set. To remove this warning, add the operator name (Depolarize) or type (<class 'pennylane_cirq.ops.Depolarize'>) to the gate set.\n",
            "  warnings.warn(\n",
            "/usr/local/lib/python3.12/dist-packages/pennylane/transforms/decompose.py:767: UserWarning: Operator Depolarize does not define a decomposition and was not found in the target gate set. To remove this warning, add the operator name (Depolarize) or type (<class 'pennylane_cirq.ops.Depolarize'>) to the gate set.\n",
            "  warnings.warn(\n",
            "/usr/local/lib/python3.12/dist-packages/pennylane/transforms/decompose.py:767: UserWarning: Operator Depolarize does not define a decomposition and was not found in the target gate set. To remove this warning, add the operator name (Depolarize) or type (<class 'pennylane_cirq.ops.Depolarize'>) to the gate set.\n",
            "  warnings.warn(\n",
            "/usr/local/lib/python3.12/dist-packages/pennylane/transforms/decompose.py:767: UserWarning: Operator Depolarize does not define a decomposition and was not found in the target gate set. To remove this warning, add the operator name (Depolarize) or type (<class 'pennylane_cirq.ops.Depolarize'>) to the gate set.\n",
            "  warnings.warn(\n",
            "/usr/local/lib/python3.12/dist-packages/pennylane/transforms/decompose.py:767: UserWarning: Operator Depolarize does not define a decomposition and was not found in the target gate set. To remove this warning, add the operator name (Depolarize) or type (<class 'pennylane_cirq.ops.Depolarize'>) to the gate set.\n",
            "  warnings.warn(\n",
            "/usr/local/lib/python3.12/dist-packages/pennylane/transforms/decompose.py:767: UserWarning: Operator Depolarize does not define a decomposition and was not found in the target gate set. To remove this warning, add the operator name (Depolarize) or type (<class 'pennylane_cirq.ops.Depolarize'>) to the gate set.\n",
            "  warnings.warn(\n",
            "/usr/local/lib/python3.12/dist-packages/pennylane/transforms/decompose.py:767: UserWarning: Operator Depolarize does not define a decomposition and was not found in the target gate set. To remove this warning, add the operator name (Depolarize) or type (<class 'pennylane_cirq.ops.Depolarize'>) to the gate set.\n",
            "  warnings.warn(\n",
            "/usr/local/lib/python3.12/dist-packages/pennylane/transforms/decompose.py:767: UserWarning: Operator Depolarize does not define a decomposition and was not found in the target gate set. To remove this warning, add the operator name (Depolarize) or type (<class 'pennylane_cirq.ops.Depolarize'>) to the gate set.\n",
            "  warnings.warn(\n"
          ]
        },
        {
          "output_type": "stream",
          "name": "stdout",
          "text": [
            "Step    55. Cost: -0.9960000; Noisy Cost: -0.6420000\n"
          ]
        },
        {
          "output_type": "stream",
          "name": "stderr",
          "text": [
            "/usr/local/lib/python3.12/dist-packages/pennylane/transforms/decompose.py:767: UserWarning: Operator Depolarize does not define a decomposition and was not found in the target gate set. To remove this warning, add the operator name (Depolarize) or type (<class 'pennylane_cirq.ops.Depolarize'>) to the gate set.\n",
            "  warnings.warn(\n",
            "/usr/local/lib/python3.12/dist-packages/pennylane/transforms/decompose.py:767: UserWarning: Operator Depolarize does not define a decomposition and was not found in the target gate set. To remove this warning, add the operator name (Depolarize) or type (<class 'pennylane_cirq.ops.Depolarize'>) to the gate set.\n",
            "  warnings.warn(\n",
            "/usr/local/lib/python3.12/dist-packages/pennylane/transforms/decompose.py:767: UserWarning: Operator Depolarize does not define a decomposition and was not found in the target gate set. To remove this warning, add the operator name (Depolarize) or type (<class 'pennylane_cirq.ops.Depolarize'>) to the gate set.\n",
            "  warnings.warn(\n",
            "/usr/local/lib/python3.12/dist-packages/pennylane/transforms/decompose.py:767: UserWarning: Operator Depolarize does not define a decomposition and was not found in the target gate set. To remove this warning, add the operator name (Depolarize) or type (<class 'pennylane_cirq.ops.Depolarize'>) to the gate set.\n",
            "  warnings.warn(\n",
            "/usr/local/lib/python3.12/dist-packages/pennylane/transforms/decompose.py:767: UserWarning: Operator Depolarize does not define a decomposition and was not found in the target gate set. To remove this warning, add the operator name (Depolarize) or type (<class 'pennylane_cirq.ops.Depolarize'>) to the gate set.\n",
            "  warnings.warn(\n",
            "/usr/local/lib/python3.12/dist-packages/pennylane/transforms/decompose.py:767: UserWarning: Operator Depolarize does not define a decomposition and was not found in the target gate set. To remove this warning, add the operator name (Depolarize) or type (<class 'pennylane_cirq.ops.Depolarize'>) to the gate set.\n",
            "  warnings.warn(\n",
            "/usr/local/lib/python3.12/dist-packages/pennylane/transforms/decompose.py:767: UserWarning: Operator Depolarize does not define a decomposition and was not found in the target gate set. To remove this warning, add the operator name (Depolarize) or type (<class 'pennylane_cirq.ops.Depolarize'>) to the gate set.\n",
            "  warnings.warn(\n",
            "/usr/local/lib/python3.12/dist-packages/pennylane/transforms/decompose.py:767: UserWarning: Operator Depolarize does not define a decomposition and was not found in the target gate set. To remove this warning, add the operator name (Depolarize) or type (<class 'pennylane_cirq.ops.Depolarize'>) to the gate set.\n",
            "  warnings.warn(\n",
            "/usr/local/lib/python3.12/dist-packages/pennylane/transforms/decompose.py:767: UserWarning: Operator Depolarize does not define a decomposition and was not found in the target gate set. To remove this warning, add the operator name (Depolarize) or type (<class 'pennylane_cirq.ops.Depolarize'>) to the gate set.\n",
            "  warnings.warn(\n",
            "/usr/local/lib/python3.12/dist-packages/pennylane/transforms/decompose.py:767: UserWarning: Operator Depolarize does not define a decomposition and was not found in the target gate set. To remove this warning, add the operator name (Depolarize) or type (<class 'pennylane_cirq.ops.Depolarize'>) to the gate set.\n",
            "  warnings.warn(\n"
          ]
        },
        {
          "output_type": "stream",
          "name": "stdout",
          "text": [
            "Step    60. Cost: -0.9920000; Noisy Cost: -0.5660000\n"
          ]
        },
        {
          "output_type": "stream",
          "name": "stderr",
          "text": [
            "/usr/local/lib/python3.12/dist-packages/pennylane/transforms/decompose.py:767: UserWarning: Operator Depolarize does not define a decomposition and was not found in the target gate set. To remove this warning, add the operator name (Depolarize) or type (<class 'pennylane_cirq.ops.Depolarize'>) to the gate set.\n",
            "  warnings.warn(\n",
            "/usr/local/lib/python3.12/dist-packages/pennylane/transforms/decompose.py:767: UserWarning: Operator Depolarize does not define a decomposition and was not found in the target gate set. To remove this warning, add the operator name (Depolarize) or type (<class 'pennylane_cirq.ops.Depolarize'>) to the gate set.\n",
            "  warnings.warn(\n",
            "/usr/local/lib/python3.12/dist-packages/pennylane/transforms/decompose.py:767: UserWarning: Operator Depolarize does not define a decomposition and was not found in the target gate set. To remove this warning, add the operator name (Depolarize) or type (<class 'pennylane_cirq.ops.Depolarize'>) to the gate set.\n",
            "  warnings.warn(\n",
            "/usr/local/lib/python3.12/dist-packages/pennylane/transforms/decompose.py:767: UserWarning: Operator Depolarize does not define a decomposition and was not found in the target gate set. To remove this warning, add the operator name (Depolarize) or type (<class 'pennylane_cirq.ops.Depolarize'>) to the gate set.\n",
            "  warnings.warn(\n",
            "/usr/local/lib/python3.12/dist-packages/pennylane/transforms/decompose.py:767: UserWarning: Operator Depolarize does not define a decomposition and was not found in the target gate set. To remove this warning, add the operator name (Depolarize) or type (<class 'pennylane_cirq.ops.Depolarize'>) to the gate set.\n",
            "  warnings.warn(\n",
            "/usr/local/lib/python3.12/dist-packages/pennylane/transforms/decompose.py:767: UserWarning: Operator Depolarize does not define a decomposition and was not found in the target gate set. To remove this warning, add the operator name (Depolarize) or type (<class 'pennylane_cirq.ops.Depolarize'>) to the gate set.\n",
            "  warnings.warn(\n",
            "/usr/local/lib/python3.12/dist-packages/pennylane/transforms/decompose.py:767: UserWarning: Operator Depolarize does not define a decomposition and was not found in the target gate set. To remove this warning, add the operator name (Depolarize) or type (<class 'pennylane_cirq.ops.Depolarize'>) to the gate set.\n",
            "  warnings.warn(\n",
            "/usr/local/lib/python3.12/dist-packages/pennylane/transforms/decompose.py:767: UserWarning: Operator Depolarize does not define a decomposition and was not found in the target gate set. To remove this warning, add the operator name (Depolarize) or type (<class 'pennylane_cirq.ops.Depolarize'>) to the gate set.\n",
            "  warnings.warn(\n",
            "/usr/local/lib/python3.12/dist-packages/pennylane/transforms/decompose.py:767: UserWarning: Operator Depolarize does not define a decomposition and was not found in the target gate set. To remove this warning, add the operator name (Depolarize) or type (<class 'pennylane_cirq.ops.Depolarize'>) to the gate set.\n",
            "  warnings.warn(\n",
            "/usr/local/lib/python3.12/dist-packages/pennylane/transforms/decompose.py:767: UserWarning: Operator Depolarize does not define a decomposition and was not found in the target gate set. To remove this warning, add the operator name (Depolarize) or type (<class 'pennylane_cirq.ops.Depolarize'>) to the gate set.\n",
            "  warnings.warn(\n",
            "/usr/local/lib/python3.12/dist-packages/pennylane/transforms/decompose.py:767: UserWarning: Operator Depolarize does not define a decomposition and was not found in the target gate set. To remove this warning, add the operator name (Depolarize) or type (<class 'pennylane_cirq.ops.Depolarize'>) to the gate set.\n",
            "  warnings.warn(\n",
            "/usr/local/lib/python3.12/dist-packages/pennylane/transforms/decompose.py:767: UserWarning: Operator Depolarize does not define a decomposition and was not found in the target gate set. To remove this warning, add the operator name (Depolarize) or type (<class 'pennylane_cirq.ops.Depolarize'>) to the gate set.\n",
            "  warnings.warn(\n"
          ]
        },
        {
          "output_type": "stream",
          "name": "stdout",
          "text": [
            "Step    65. Cost: -0.9980000; Noisy Cost: -0.6000000\n"
          ]
        },
        {
          "output_type": "stream",
          "name": "stderr",
          "text": [
            "/usr/local/lib/python3.12/dist-packages/pennylane/transforms/decompose.py:767: UserWarning: Operator Depolarize does not define a decomposition and was not found in the target gate set. To remove this warning, add the operator name (Depolarize) or type (<class 'pennylane_cirq.ops.Depolarize'>) to the gate set.\n",
            "  warnings.warn(\n",
            "/usr/local/lib/python3.12/dist-packages/pennylane/transforms/decompose.py:767: UserWarning: Operator Depolarize does not define a decomposition and was not found in the target gate set. To remove this warning, add the operator name (Depolarize) or type (<class 'pennylane_cirq.ops.Depolarize'>) to the gate set.\n",
            "  warnings.warn(\n",
            "/usr/local/lib/python3.12/dist-packages/pennylane/transforms/decompose.py:767: UserWarning: Operator Depolarize does not define a decomposition and was not found in the target gate set. To remove this warning, add the operator name (Depolarize) or type (<class 'pennylane_cirq.ops.Depolarize'>) to the gate set.\n",
            "  warnings.warn(\n",
            "/usr/local/lib/python3.12/dist-packages/pennylane/transforms/decompose.py:767: UserWarning: Operator Depolarize does not define a decomposition and was not found in the target gate set. To remove this warning, add the operator name (Depolarize) or type (<class 'pennylane_cirq.ops.Depolarize'>) to the gate set.\n",
            "  warnings.warn(\n",
            "/usr/local/lib/python3.12/dist-packages/pennylane/transforms/decompose.py:767: UserWarning: Operator Depolarize does not define a decomposition and was not found in the target gate set. To remove this warning, add the operator name (Depolarize) or type (<class 'pennylane_cirq.ops.Depolarize'>) to the gate set.\n",
            "  warnings.warn(\n",
            "/usr/local/lib/python3.12/dist-packages/pennylane/transforms/decompose.py:767: UserWarning: Operator Depolarize does not define a decomposition and was not found in the target gate set. To remove this warning, add the operator name (Depolarize) or type (<class 'pennylane_cirq.ops.Depolarize'>) to the gate set.\n",
            "  warnings.warn(\n",
            "/usr/local/lib/python3.12/dist-packages/pennylane/transforms/decompose.py:767: UserWarning: Operator Depolarize does not define a decomposition and was not found in the target gate set. To remove this warning, add the operator name (Depolarize) or type (<class 'pennylane_cirq.ops.Depolarize'>) to the gate set.\n",
            "  warnings.warn(\n",
            "/usr/local/lib/python3.12/dist-packages/pennylane/transforms/decompose.py:767: UserWarning: Operator Depolarize does not define a decomposition and was not found in the target gate set. To remove this warning, add the operator name (Depolarize) or type (<class 'pennylane_cirq.ops.Depolarize'>) to the gate set.\n",
            "  warnings.warn(\n"
          ]
        },
        {
          "output_type": "stream",
          "name": "stdout",
          "text": [
            "Step    70. Cost: -1.0000000; Noisy Cost: -0.6280000\n"
          ]
        },
        {
          "output_type": "stream",
          "name": "stderr",
          "text": [
            "/usr/local/lib/python3.12/dist-packages/pennylane/transforms/decompose.py:767: UserWarning: Operator Depolarize does not define a decomposition and was not found in the target gate set. To remove this warning, add the operator name (Depolarize) or type (<class 'pennylane_cirq.ops.Depolarize'>) to the gate set.\n",
            "  warnings.warn(\n",
            "/usr/local/lib/python3.12/dist-packages/pennylane/transforms/decompose.py:767: UserWarning: Operator Depolarize does not define a decomposition and was not found in the target gate set. To remove this warning, add the operator name (Depolarize) or type (<class 'pennylane_cirq.ops.Depolarize'>) to the gate set.\n",
            "  warnings.warn(\n",
            "/usr/local/lib/python3.12/dist-packages/pennylane/transforms/decompose.py:767: UserWarning: Operator Depolarize does not define a decomposition and was not found in the target gate set. To remove this warning, add the operator name (Depolarize) or type (<class 'pennylane_cirq.ops.Depolarize'>) to the gate set.\n",
            "  warnings.warn(\n",
            "/usr/local/lib/python3.12/dist-packages/pennylane/transforms/decompose.py:767: UserWarning: Operator Depolarize does not define a decomposition and was not found in the target gate set. To remove this warning, add the operator name (Depolarize) or type (<class 'pennylane_cirq.ops.Depolarize'>) to the gate set.\n",
            "  warnings.warn(\n",
            "/usr/local/lib/python3.12/dist-packages/pennylane/transforms/decompose.py:767: UserWarning: Operator Depolarize does not define a decomposition and was not found in the target gate set. To remove this warning, add the operator name (Depolarize) or type (<class 'pennylane_cirq.ops.Depolarize'>) to the gate set.\n",
            "  warnings.warn(\n",
            "/usr/local/lib/python3.12/dist-packages/pennylane/transforms/decompose.py:767: UserWarning: Operator Depolarize does not define a decomposition and was not found in the target gate set. To remove this warning, add the operator name (Depolarize) or type (<class 'pennylane_cirq.ops.Depolarize'>) to the gate set.\n",
            "  warnings.warn(\n",
            "/usr/local/lib/python3.12/dist-packages/pennylane/transforms/decompose.py:767: UserWarning: Operator Depolarize does not define a decomposition and was not found in the target gate set. To remove this warning, add the operator name (Depolarize) or type (<class 'pennylane_cirq.ops.Depolarize'>) to the gate set.\n",
            "  warnings.warn(\n",
            "/usr/local/lib/python3.12/dist-packages/pennylane/transforms/decompose.py:767: UserWarning: Operator Depolarize does not define a decomposition and was not found in the target gate set. To remove this warning, add the operator name (Depolarize) or type (<class 'pennylane_cirq.ops.Depolarize'>) to the gate set.\n",
            "  warnings.warn(\n",
            "/usr/local/lib/python3.12/dist-packages/pennylane/transforms/decompose.py:767: UserWarning: Operator Depolarize does not define a decomposition and was not found in the target gate set. To remove this warning, add the operator name (Depolarize) or type (<class 'pennylane_cirq.ops.Depolarize'>) to the gate set.\n",
            "  warnings.warn(\n",
            "/usr/local/lib/python3.12/dist-packages/pennylane/transforms/decompose.py:767: UserWarning: Operator Depolarize does not define a decomposition and was not found in the target gate set. To remove this warning, add the operator name (Depolarize) or type (<class 'pennylane_cirq.ops.Depolarize'>) to the gate set.\n",
            "  warnings.warn(\n",
            "/usr/local/lib/python3.12/dist-packages/pennylane/transforms/decompose.py:767: UserWarning: Operator Depolarize does not define a decomposition and was not found in the target gate set. To remove this warning, add the operator name (Depolarize) or type (<class 'pennylane_cirq.ops.Depolarize'>) to the gate set.\n",
            "  warnings.warn(\n",
            "/usr/local/lib/python3.12/dist-packages/pennylane/transforms/decompose.py:767: UserWarning: Operator Depolarize does not define a decomposition and was not found in the target gate set. To remove this warning, add the operator name (Depolarize) or type (<class 'pennylane_cirq.ops.Depolarize'>) to the gate set.\n",
            "  warnings.warn(\n"
          ]
        },
        {
          "output_type": "stream",
          "name": "stdout",
          "text": [
            "Step    75. Cost: -0.9920000; Noisy Cost: -0.5860000\n"
          ]
        },
        {
          "output_type": "stream",
          "name": "stderr",
          "text": [
            "/usr/local/lib/python3.12/dist-packages/pennylane/transforms/decompose.py:767: UserWarning: Operator Depolarize does not define a decomposition and was not found in the target gate set. To remove this warning, add the operator name (Depolarize) or type (<class 'pennylane_cirq.ops.Depolarize'>) to the gate set.\n",
            "  warnings.warn(\n",
            "/usr/local/lib/python3.12/dist-packages/pennylane/transforms/decompose.py:767: UserWarning: Operator Depolarize does not define a decomposition and was not found in the target gate set. To remove this warning, add the operator name (Depolarize) or type (<class 'pennylane_cirq.ops.Depolarize'>) to the gate set.\n",
            "  warnings.warn(\n",
            "/usr/local/lib/python3.12/dist-packages/pennylane/transforms/decompose.py:767: UserWarning: Operator Depolarize does not define a decomposition and was not found in the target gate set. To remove this warning, add the operator name (Depolarize) or type (<class 'pennylane_cirq.ops.Depolarize'>) to the gate set.\n",
            "  warnings.warn(\n",
            "/usr/local/lib/python3.12/dist-packages/pennylane/transforms/decompose.py:767: UserWarning: Operator Depolarize does not define a decomposition and was not found in the target gate set. To remove this warning, add the operator name (Depolarize) or type (<class 'pennylane_cirq.ops.Depolarize'>) to the gate set.\n",
            "  warnings.warn(\n",
            "/usr/local/lib/python3.12/dist-packages/pennylane/transforms/decompose.py:767: UserWarning: Operator Depolarize does not define a decomposition and was not found in the target gate set. To remove this warning, add the operator name (Depolarize) or type (<class 'pennylane_cirq.ops.Depolarize'>) to the gate set.\n",
            "  warnings.warn(\n",
            "/usr/local/lib/python3.12/dist-packages/pennylane/transforms/decompose.py:767: UserWarning: Operator Depolarize does not define a decomposition and was not found in the target gate set. To remove this warning, add the operator name (Depolarize) or type (<class 'pennylane_cirq.ops.Depolarize'>) to the gate set.\n",
            "  warnings.warn(\n",
            "/usr/local/lib/python3.12/dist-packages/pennylane/transforms/decompose.py:767: UserWarning: Operator Depolarize does not define a decomposition and was not found in the target gate set. To remove this warning, add the operator name (Depolarize) or type (<class 'pennylane_cirq.ops.Depolarize'>) to the gate set.\n",
            "  warnings.warn(\n",
            "/usr/local/lib/python3.12/dist-packages/pennylane/transforms/decompose.py:767: UserWarning: Operator Depolarize does not define a decomposition and was not found in the target gate set. To remove this warning, add the operator name (Depolarize) or type (<class 'pennylane_cirq.ops.Depolarize'>) to the gate set.\n",
            "  warnings.warn(\n"
          ]
        },
        {
          "output_type": "stream",
          "name": "stdout",
          "text": [
            "Step    80. Cost: -0.9920000; Noisy Cost: -0.5720000\n"
          ]
        },
        {
          "output_type": "stream",
          "name": "stderr",
          "text": [
            "/usr/local/lib/python3.12/dist-packages/pennylane/transforms/decompose.py:767: UserWarning: Operator Depolarize does not define a decomposition and was not found in the target gate set. To remove this warning, add the operator name (Depolarize) or type (<class 'pennylane_cirq.ops.Depolarize'>) to the gate set.\n",
            "  warnings.warn(\n",
            "/usr/local/lib/python3.12/dist-packages/pennylane/transforms/decompose.py:767: UserWarning: Operator Depolarize does not define a decomposition and was not found in the target gate set. To remove this warning, add the operator name (Depolarize) or type (<class 'pennylane_cirq.ops.Depolarize'>) to the gate set.\n",
            "  warnings.warn(\n",
            "/usr/local/lib/python3.12/dist-packages/pennylane/transforms/decompose.py:767: UserWarning: Operator Depolarize does not define a decomposition and was not found in the target gate set. To remove this warning, add the operator name (Depolarize) or type (<class 'pennylane_cirq.ops.Depolarize'>) to the gate set.\n",
            "  warnings.warn(\n",
            "/usr/local/lib/python3.12/dist-packages/pennylane/transforms/decompose.py:767: UserWarning: Operator Depolarize does not define a decomposition and was not found in the target gate set. To remove this warning, add the operator name (Depolarize) or type (<class 'pennylane_cirq.ops.Depolarize'>) to the gate set.\n",
            "  warnings.warn(\n",
            "/usr/local/lib/python3.12/dist-packages/pennylane/transforms/decompose.py:767: UserWarning: Operator Depolarize does not define a decomposition and was not found in the target gate set. To remove this warning, add the operator name (Depolarize) or type (<class 'pennylane_cirq.ops.Depolarize'>) to the gate set.\n",
            "  warnings.warn(\n",
            "/usr/local/lib/python3.12/dist-packages/pennylane/transforms/decompose.py:767: UserWarning: Operator Depolarize does not define a decomposition and was not found in the target gate set. To remove this warning, add the operator name (Depolarize) or type (<class 'pennylane_cirq.ops.Depolarize'>) to the gate set.\n",
            "  warnings.warn(\n",
            "/usr/local/lib/python3.12/dist-packages/pennylane/transforms/decompose.py:767: UserWarning: Operator Depolarize does not define a decomposition and was not found in the target gate set. To remove this warning, add the operator name (Depolarize) or type (<class 'pennylane_cirq.ops.Depolarize'>) to the gate set.\n",
            "  warnings.warn(\n",
            "/usr/local/lib/python3.12/dist-packages/pennylane/transforms/decompose.py:767: UserWarning: Operator Depolarize does not define a decomposition and was not found in the target gate set. To remove this warning, add the operator name (Depolarize) or type (<class 'pennylane_cirq.ops.Depolarize'>) to the gate set.\n",
            "  warnings.warn(\n",
            "/usr/local/lib/python3.12/dist-packages/pennylane/transforms/decompose.py:767: UserWarning: Operator Depolarize does not define a decomposition and was not found in the target gate set. To remove this warning, add the operator name (Depolarize) or type (<class 'pennylane_cirq.ops.Depolarize'>) to the gate set.\n",
            "  warnings.warn(\n",
            "/usr/local/lib/python3.12/dist-packages/pennylane/transforms/decompose.py:767: UserWarning: Operator Depolarize does not define a decomposition and was not found in the target gate set. To remove this warning, add the operator name (Depolarize) or type (<class 'pennylane_cirq.ops.Depolarize'>) to the gate set.\n",
            "  warnings.warn(\n",
            "/usr/local/lib/python3.12/dist-packages/pennylane/transforms/decompose.py:767: UserWarning: Operator Depolarize does not define a decomposition and was not found in the target gate set. To remove this warning, add the operator name (Depolarize) or type (<class 'pennylane_cirq.ops.Depolarize'>) to the gate set.\n",
            "  warnings.warn(\n",
            "/usr/local/lib/python3.12/dist-packages/pennylane/transforms/decompose.py:767: UserWarning: Operator Depolarize does not define a decomposition and was not found in the target gate set. To remove this warning, add the operator name (Depolarize) or type (<class 'pennylane_cirq.ops.Depolarize'>) to the gate set.\n",
            "  warnings.warn(\n"
          ]
        },
        {
          "output_type": "stream",
          "name": "stdout",
          "text": [
            "Step    85. Cost: -1.0000000; Noisy Cost: -0.6160000\n"
          ]
        },
        {
          "output_type": "stream",
          "name": "stderr",
          "text": [
            "/usr/local/lib/python3.12/dist-packages/pennylane/transforms/decompose.py:767: UserWarning: Operator Depolarize does not define a decomposition and was not found in the target gate set. To remove this warning, add the operator name (Depolarize) or type (<class 'pennylane_cirq.ops.Depolarize'>) to the gate set.\n",
            "  warnings.warn(\n",
            "/usr/local/lib/python3.12/dist-packages/pennylane/transforms/decompose.py:767: UserWarning: Operator Depolarize does not define a decomposition and was not found in the target gate set. To remove this warning, add the operator name (Depolarize) or type (<class 'pennylane_cirq.ops.Depolarize'>) to the gate set.\n",
            "  warnings.warn(\n",
            "/usr/local/lib/python3.12/dist-packages/pennylane/transforms/decompose.py:767: UserWarning: Operator Depolarize does not define a decomposition and was not found in the target gate set. To remove this warning, add the operator name (Depolarize) or type (<class 'pennylane_cirq.ops.Depolarize'>) to the gate set.\n",
            "  warnings.warn(\n",
            "/usr/local/lib/python3.12/dist-packages/pennylane/transforms/decompose.py:767: UserWarning: Operator Depolarize does not define a decomposition and was not found in the target gate set. To remove this warning, add the operator name (Depolarize) or type (<class 'pennylane_cirq.ops.Depolarize'>) to the gate set.\n",
            "  warnings.warn(\n",
            "/usr/local/lib/python3.12/dist-packages/pennylane/transforms/decompose.py:767: UserWarning: Operator Depolarize does not define a decomposition and was not found in the target gate set. To remove this warning, add the operator name (Depolarize) or type (<class 'pennylane_cirq.ops.Depolarize'>) to the gate set.\n",
            "  warnings.warn(\n",
            "/usr/local/lib/python3.12/dist-packages/pennylane/transforms/decompose.py:767: UserWarning: Operator Depolarize does not define a decomposition and was not found in the target gate set. To remove this warning, add the operator name (Depolarize) or type (<class 'pennylane_cirq.ops.Depolarize'>) to the gate set.\n",
            "  warnings.warn(\n",
            "/usr/local/lib/python3.12/dist-packages/pennylane/transforms/decompose.py:767: UserWarning: Operator Depolarize does not define a decomposition and was not found in the target gate set. To remove this warning, add the operator name (Depolarize) or type (<class 'pennylane_cirq.ops.Depolarize'>) to the gate set.\n",
            "  warnings.warn(\n"
          ]
        },
        {
          "output_type": "stream",
          "name": "stdout",
          "text": [
            "Step    90. Cost: -0.9980000; Noisy Cost: -0.5640000\n"
          ]
        },
        {
          "output_type": "stream",
          "name": "stderr",
          "text": [
            "/usr/local/lib/python3.12/dist-packages/pennylane/transforms/decompose.py:767: UserWarning: Operator Depolarize does not define a decomposition and was not found in the target gate set. To remove this warning, add the operator name (Depolarize) or type (<class 'pennylane_cirq.ops.Depolarize'>) to the gate set.\n",
            "  warnings.warn(\n",
            "/usr/local/lib/python3.12/dist-packages/pennylane/transforms/decompose.py:767: UserWarning: Operator Depolarize does not define a decomposition and was not found in the target gate set. To remove this warning, add the operator name (Depolarize) or type (<class 'pennylane_cirq.ops.Depolarize'>) to the gate set.\n",
            "  warnings.warn(\n",
            "/usr/local/lib/python3.12/dist-packages/pennylane/transforms/decompose.py:767: UserWarning: Operator Depolarize does not define a decomposition and was not found in the target gate set. To remove this warning, add the operator name (Depolarize) or type (<class 'pennylane_cirq.ops.Depolarize'>) to the gate set.\n",
            "  warnings.warn(\n",
            "/usr/local/lib/python3.12/dist-packages/pennylane/transforms/decompose.py:767: UserWarning: Operator Depolarize does not define a decomposition and was not found in the target gate set. To remove this warning, add the operator name (Depolarize) or type (<class 'pennylane_cirq.ops.Depolarize'>) to the gate set.\n",
            "  warnings.warn(\n",
            "/usr/local/lib/python3.12/dist-packages/pennylane/transforms/decompose.py:767: UserWarning: Operator Depolarize does not define a decomposition and was not found in the target gate set. To remove this warning, add the operator name (Depolarize) or type (<class 'pennylane_cirq.ops.Depolarize'>) to the gate set.\n",
            "  warnings.warn(\n",
            "/usr/local/lib/python3.12/dist-packages/pennylane/transforms/decompose.py:767: UserWarning: Operator Depolarize does not define a decomposition and was not found in the target gate set. To remove this warning, add the operator name (Depolarize) or type (<class 'pennylane_cirq.ops.Depolarize'>) to the gate set.\n",
            "  warnings.warn(\n",
            "/usr/local/lib/python3.12/dist-packages/pennylane/transforms/decompose.py:767: UserWarning: Operator Depolarize does not define a decomposition and was not found in the target gate set. To remove this warning, add the operator name (Depolarize) or type (<class 'pennylane_cirq.ops.Depolarize'>) to the gate set.\n",
            "  warnings.warn(\n",
            "/usr/local/lib/python3.12/dist-packages/pennylane/transforms/decompose.py:767: UserWarning: Operator Depolarize does not define a decomposition and was not found in the target gate set. To remove this warning, add the operator name (Depolarize) or type (<class 'pennylane_cirq.ops.Depolarize'>) to the gate set.\n",
            "  warnings.warn(\n",
            "/usr/local/lib/python3.12/dist-packages/pennylane/transforms/decompose.py:767: UserWarning: Operator Depolarize does not define a decomposition and was not found in the target gate set. To remove this warning, add the operator name (Depolarize) or type (<class 'pennylane_cirq.ops.Depolarize'>) to the gate set.\n",
            "  warnings.warn(\n",
            "/usr/local/lib/python3.12/dist-packages/pennylane/transforms/decompose.py:767: UserWarning: Operator Depolarize does not define a decomposition and was not found in the target gate set. To remove this warning, add the operator name (Depolarize) or type (<class 'pennylane_cirq.ops.Depolarize'>) to the gate set.\n",
            "  warnings.warn(\n"
          ]
        },
        {
          "output_type": "stream",
          "name": "stdout",
          "text": [
            "Step    95. Cost: -1.0000000; Noisy Cost: -0.5860000\n"
          ]
        },
        {
          "output_type": "stream",
          "name": "stderr",
          "text": [
            "/usr/local/lib/python3.12/dist-packages/pennylane/transforms/decompose.py:767: UserWarning: Operator Depolarize does not define a decomposition and was not found in the target gate set. To remove this warning, add the operator name (Depolarize) or type (<class 'pennylane_cirq.ops.Depolarize'>) to the gate set.\n",
            "  warnings.warn(\n",
            "/usr/local/lib/python3.12/dist-packages/pennylane/transforms/decompose.py:767: UserWarning: Operator Depolarize does not define a decomposition and was not found in the target gate set. To remove this warning, add the operator name (Depolarize) or type (<class 'pennylane_cirq.ops.Depolarize'>) to the gate set.\n",
            "  warnings.warn(\n",
            "/usr/local/lib/python3.12/dist-packages/pennylane/transforms/decompose.py:767: UserWarning: Operator Depolarize does not define a decomposition and was not found in the target gate set. To remove this warning, add the operator name (Depolarize) or type (<class 'pennylane_cirq.ops.Depolarize'>) to the gate set.\n",
            "  warnings.warn(\n",
            "/usr/local/lib/python3.12/dist-packages/pennylane/transforms/decompose.py:767: UserWarning: Operator Depolarize does not define a decomposition and was not found in the target gate set. To remove this warning, add the operator name (Depolarize) or type (<class 'pennylane_cirq.ops.Depolarize'>) to the gate set.\n",
            "  warnings.warn(\n",
            "/usr/local/lib/python3.12/dist-packages/pennylane/transforms/decompose.py:767: UserWarning: Operator Depolarize does not define a decomposition and was not found in the target gate set. To remove this warning, add the operator name (Depolarize) or type (<class 'pennylane_cirq.ops.Depolarize'>) to the gate set.\n",
            "  warnings.warn(\n",
            "/usr/local/lib/python3.12/dist-packages/pennylane/transforms/decompose.py:767: UserWarning: Operator Depolarize does not define a decomposition and was not found in the target gate set. To remove this warning, add the operator name (Depolarize) or type (<class 'pennylane_cirq.ops.Depolarize'>) to the gate set.\n",
            "  warnings.warn(\n",
            "/usr/local/lib/python3.12/dist-packages/pennylane/transforms/decompose.py:767: UserWarning: Operator Depolarize does not define a decomposition and was not found in the target gate set. To remove this warning, add the operator name (Depolarize) or type (<class 'pennylane_cirq.ops.Depolarize'>) to the gate set.\n",
            "  warnings.warn(\n",
            "/usr/local/lib/python3.12/dist-packages/pennylane/transforms/decompose.py:767: UserWarning: Operator Depolarize does not define a decomposition and was not found in the target gate set. To remove this warning, add the operator name (Depolarize) or type (<class 'pennylane_cirq.ops.Depolarize'>) to the gate set.\n",
            "  warnings.warn(\n",
            "/usr/local/lib/python3.12/dist-packages/pennylane/transforms/decompose.py:767: UserWarning: Operator Depolarize does not define a decomposition and was not found in the target gate set. To remove this warning, add the operator name (Depolarize) or type (<class 'pennylane_cirq.ops.Depolarize'>) to the gate set.\n",
            "  warnings.warn(\n"
          ]
        },
        {
          "output_type": "stream",
          "name": "stdout",
          "text": [
            "Step   100. Cost: -1.0000000; Noisy Cost: -0.5320000\n",
            "\n",
            "Optimized rotation angles (noise-free case):\n",
            "( 0.0594328,  3.1280751)\n",
            "Optimized rotation angles (noisy case):\n",
            "(-0.0161992,  3.1374266)\n"
          ]
        },
        {
          "output_type": "stream",
          "name": "stderr",
          "text": [
            "/usr/local/lib/python3.12/dist-packages/pennylane/transforms/decompose.py:767: UserWarning: Operator Depolarize does not define a decomposition and was not found in the target gate set. To remove this warning, add the operator name (Depolarize) or type (<class 'pennylane_cirq.ops.Depolarize'>) to the gate set.\n",
            "  warnings.warn(\n"
          ]
        }
      ],
      "source": [
        "# declare the cost functions to be optimized\n",
        "def cost(x, noise_param):\n",
        "    return circuit(x, noise_param)\n",
        "\n",
        "\n",
        "#def noisy_cost(x):\n",
        "    #return circuit(x, noise_param=0.3)\n",
        "\n",
        "\n",
        "# initialize the optimizer\n",
        "#opt = qml.GradientDescentOptimizer(stepsize=0.4)\n",
        "opt = qml.QNGOptimizer(stepsize=0.4)\n",
        "\n",
        "# set the number of steps\n",
        "steps = 100\n",
        "# set the initial parameter values\n",
        "init_params = np.array([0.011, 0.055], requires_grad=True)\n",
        "noisy_circuit_params = init_params\n",
        "params = init_params\n",
        "\n",
        "for i in range(steps):\n",
        "    # update the circuit parameters\n",
        "    # we can optimize both in the same training loop\n",
        "    noisy_cost_fn = lambda p: cost(p, 0.3)\n",
        "    noisy_metric_fn = lambda p: qml.metric_tensor(circuit, approx=\"block-diag\")(p, 0.3)\n",
        "    noisy_circuit_params, noisy_loss = opt.step_and_cost(noisy_cost_fn, noisy_circuit_params, metric_tensor_fn=noisy_metric_fn)\n",
        "\n",
        "    cost_fn = lambda p: cost(p, 0.0)\n",
        "    metric_fn = lambda p: qml.metric_tensor(circuit, approx=\"block-diag\")(p, 0.0)\n",
        "    params, loss = opt.step_and_cost(cost_fn, params, metric_tensor_fn=metric_fn)\n",
        "    if (i + 1) % 5 == 0:\n",
        "        print(\n",
        "            \"Step {:5d}. Cost: {: .7f}; Noisy Cost: {: .7f}\".format(\n",
        "                i + 1, loss, noisy_loss\n",
        "            )\n",
        "        )\n",
        "\n",
        "print(\"\\nOptimized rotation angles (noise-free case):\")\n",
        "print(\"({: .7f}, {: .7f})\".format(*params))\n",
        "print(\"Optimized rotation angles (noisy case):\")\n",
        "print(\"({: .7f}, {: .7f})\".format(*noisy_circuit_params))"
      ]
    },
    {
      "cell_type": "markdown",
      "metadata": {
        "id": "BhcB9SBlOoJ-"
      },
      "source": [
        "There are a couple interesting observations here:\n",
        "\n",
        "i)  The noisy circuit isn\\'t able to achieve the same final cost\n",
        "    function value as the ideal circuit. This is because the noise\n",
        "    causes the state to become irreversibly mixed. Mixed states can\\'t\n",
        "    achieve the same extremal expectation values as pure states.\n",
        "ii) However, both circuits still converge to the *same parameter values*\n",
        "    $(0,\\pi),$ despite having different final states.\n",
        "\n",
        "It could have been the case that noisy devices irreparably damage the\n",
        "optimization of variational circuits, steering us towards parameter\n",
        "values which are not at all useful. Luckily, at least for the simple\n",
        "example above, this is not the case. *Optimizations on noisy devices can\n",
        "still lead to similar parameter values as when we run on ideal devices.*\n"
      ]
    },
    {
      "cell_type": "markdown",
      "metadata": {
        "id": "a8GAEI0IOoJ_"
      },
      "source": [
        "# Understanding the effect of noisy channels\n",
        "\n",
        "Let\\'s dig a bit into the underlying quantum information theory to\n",
        "understand better what\\'s happening. Expectation values of\n",
        "`variational circuits </glossary/variational_circuit>`{.interpreted-text\n",
        "role=\"doc\"}, like the one we are measuring, are composed of three\n",
        "pieces:\n",
        "\n",
        "i)  an initial quantum state $\\rho$ (usually the zero state);\n",
        "ii) a parameterized unitary transformation $U(\\theta)$); and\n",
        "iii) measurement of a final observable $\\hat{B}.$\n",
        "\n",
        "The equation for the expectation value is given by the [Born\n",
        "rule](https://en.wikipedia.org/wiki/Born_rule):\n",
        "\n",
        "$$\\langle \\hat{B} \\rangle (\\theta) =\n",
        "        \\mathrm{Tr}(\\hat{B}U(\\theta)\\rho U^\\dagger(\\theta)).$$\n",
        "\n",
        "When optimizing, we can compute gradients of many common gates using the\n",
        "`parameter-shift rule </glossary/parameter_shift>`{.interpreted-text\n",
        "role=\"doc\"}:\n",
        "\n",
        "$$\\nabla_\\theta\\langle \\hat{B} \\rangle(\\theta)\n",
        "   =  \\frac{1}{2}\n",
        "         \\left[\n",
        "             \\langle \\hat{B} \\rangle\\left(\\theta + \\frac{\\pi}{2}\\right)\n",
        "           - \\langle \\hat{B} \\rangle\\left(\\theta - \\frac{\\pi}{2}\\right)\n",
        "         \\right].$$\n",
        "\n",
        "In our example, the parametrized unitary $U(\\theta)$ is split into two\n",
        "gates, $U = U_2 U_1,$ where $U_1=R_X$ and $U_1=R_Y,$ and each takes an\n",
        "independent parameter $\\theta_i.$\n",
        "\n",
        "What happens when we apply a noisy channel $\\Lambda$ after the gates? In\n",
        "this case, the expectation value is now taken with respect to the noisy\n",
        "circuit:\n",
        "\n",
        "$$\\langle \\hat{B} \\rangle (\\theta) =\n",
        "       \\mathrm{Tr}\\left(\\hat{B}\\Lambda\\left[\n",
        "                      U(\\theta)\\rho U^\\dagger(\\theta)\n",
        "                  \\right]\\right).$$\n",
        "\n",
        "Thus, we can treat it as the expectation value of the same observable,\n",
        "but with respect to a different state\n",
        "$\\rho' = \\Lambda\\left[U(\\theta)\\rho U^\\dagger(\\theta)\\right].$\n",
        "\n",
        "Alternatively, using the Heisenberg picture, we can transfer the channel\n",
        "$\\Lambda$ acting on the state $U(\\theta)\\rho U^\\dagger(\\theta)$ into the\n",
        "*adjoint channel* $\\Lambda^\\dagger$ acting on the observable $\\hat{B},$\n",
        "transforming it to a new observable\n",
        "$\\hat{B} = \\Lambda^\\dagger[\\hat{B}]=\\hat{B}'.$\n",
        "\n",
        "With the channel present, the expectation value can be interpreted as if\n",
        "we had the same variational state, but measured a different observable:\n",
        "\n",
        "$$\\langle \\hat{B} \\rangle (\\theta) =\n",
        "       \\mathrm{Tr}(\\hat{B}'U(\\theta)\\rho U^\\dagger(\\theta)) =\n",
        "       \\langle \\hat{B}' \\rangle (\\theta).$$\n",
        "\n",
        "This has immediate consequences for the parameter-shift rule. With the\n",
        "channel present, we have simply\n",
        "\n",
        "$$\\nabla_\\theta\\langle \\hat{B} \\rangle(\\theta)\n",
        "  =  \\frac{1}{2}\n",
        "        \\left[\n",
        "            \\langle \\hat{B}' \\rangle\\left(\\theta + \\frac{\\pi}{2}\\right)\n",
        "          - \\langle \\hat{B}' \\rangle\\left(\\theta - \\frac{\\pi}{2}\\right)\n",
        "        \\right].$$\n",
        "\n",
        "In other words, the parameter-shift rule continues to hold for all\n",
        "gates, even when we have additional noise!\n",
        "\n",
        "::: note\n",
        "::: title\n",
        "Note\n",
        ":::\n",
        "\n",
        "In the above derivation, we implicitly assumed that the channel does not\n",
        "depend on the variational circuit\\'s parameters. If the channel depended\n",
        "on the particular state, or if it depended on the parameters $\\theta,$\n",
        "we would need to be more careful.\n",
        ":::\n",
        "\n",
        "Let\\'s confirm the above derivation with an example.\n"
      ]
    },
    {
      "cell_type": "code",
      "execution_count": null,
      "metadata": {
        "id": "j6eFRsnCOoJ_"
      },
      "outputs": [],
      "source": [
        "angles = np.linspace(0, 2 * np.pi, 50)\n",
        "theta2 = np.pi / 4\n",
        "\n",
        "\n",
        "def param_shift(theta1):\n",
        "    return 0.5 * (\n",
        "        noisy_cost([theta1 + np.pi / 2, theta2]) - noisy_cost([theta1 - np.pi / 2, theta2])\n",
        "    )\n",
        "\n",
        "\n",
        "noisy_expvals = [noisy_cost([theta1, theta2]) for theta1 in angles]\n",
        "noisy_param_shift = [param_shift(theta1) for theta1 in angles]\n",
        "\n",
        "plt.plot(angles, noisy_expvals, label=\"Expectation value\")  # looks like 0.4 * cos(phi)\n",
        "plt.plot(angles, noisy_param_shift, label=\"Parameter-shift value\")  # looks like -0.4 * sin(phi)\n",
        "plt.ylabel(r\"Expectation value $\\langle \\hat{Z} \\rangle$\")\n",
        "plt.xlabel(r\"Angle $\\theta_1$\")\n",
        "plt.legend()\n",
        "plt.show()"
      ]
    },
    {
      "cell_type": "markdown",
      "metadata": {
        "id": "xNNs8kN6OoKA"
      },
      "source": [
        "By inspecting the two curves, we can see that the parameter-shift rule\n",
        "gives the correct gradient of the expectation value, even with the\n",
        "presence of the noisy channel!\n",
        "\n",
        "In this example, the influence of the channel is to attenuate the\n",
        "maximal amplitude that the qubit state can achieve ($\\approx 0.4$). But\n",
        "even though the qubit\\'s amplitude is attenuated, the gradient computed\n",
        "by the parameter-shift rule still \\\"points in the right direction\\\".\n",
        "\n",
        "This backs up the observation we made earlier that the result of the\n",
        "optimization gave the correct values for the angle parameters, but the\n",
        "value of the final cost function was lower than the noise-free case.\n"
      ]
    },
    {
      "cell_type": "markdown",
      "metadata": {
        "id": "9z4yF6oGOoKA"
      },
      "source": [
        "# Interpreting noisy circuit optimizations\n",
        "\n",
        "Despite the observations that we can compute gradients for noisy\n",
        "channels, and that optimization may lead to the same parameter values\n",
        "for both noise-free and noisy circuits, we must still remain cautious in\n",
        "how we interpret the results.\n",
        "\n",
        "We can evaluate the correct gradient for the expectation value\n",
        "\n",
        "$$\\langle \\hat{B} \\rangle =\n",
        "       \\mathrm{Tr}\\left(\\hat{B}\\Lambda\\left[\n",
        "                      U(\\theta)\\rho U^\\dagger(\\theta)\n",
        "                  \\right]\\right),$$\n",
        "\n",
        "but, because the noisy channel is present, *this expectation value may\n",
        "not reflect the actual expectation value we wanted to compute*. This is\n",
        "important to keep in mind for certain algorithms that have a physical\n",
        "interpretation for the variational circuit.\n",
        "\n",
        "For example, in the\n",
        "`variational quantum eigensolver <demos/tutorial_vqe>`{.interpreted-text\n",
        "role=\"doc\"}, we want to find the ground-state energy of a physical\n",
        "system. If there is an appreciable amount of noise present, the state we\n",
        "are optimizing will necessarily become mixed, and we should be careful\n",
        "interpreting the optimum value as the exact ground-state energy.\n"
      ]
    },
    {
      "cell_type": "markdown",
      "metadata": {
        "id": "xKvnRM24OoKA"
      },
      "source": [
        "# References\n"
      ]
    }
  ],
  "metadata": {
    "kernelspec": {
      "display_name": "Python 3",
      "language": "python",
      "name": "python3"
    },
    "language_info": {
      "codemirror_mode": {
        "name": "ipython",
        "version": 3
      },
      "file_extension": ".py",
      "mimetype": "text/x-python",
      "name": "python",
      "nbconvert_exporter": "python",
      "pygments_lexer": "ipython3",
      "version": "3.10.18"
    },
    "colab": {
      "provenance": [],
      "include_colab_link": true
    }
  },
  "nbformat": 4,
  "nbformat_minor": 0
}