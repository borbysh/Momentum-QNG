{
  "cells": [
    {
      "cell_type": "markdown",
      "metadata": {
        "id": "view-in-github",
        "colab_type": "text"
      },
      "source": [
        "<a href=\"https://colab.research.google.com/github/borbysh/Momentum-QNG/blob/main/Quantum_Machine_Learning/variational_classifier_qng.ipynb\" target=\"_parent\"><img src=\"https://colab.research.google.com/assets/colab-badge.svg\" alt=\"Open In Colab\"/></a>"
      ]
    },
    {
      "cell_type": "markdown",
      "source": [
        "This is a modified notebook by Maria Schuld adopted from https://blog-assets.cloud.pennylane.ai/demos/tutorial_variational_classifier/main/demo.ipynb"
      ],
      "metadata": {
        "id": "kf0SPBOz_2G_"
      }
    },
    {
      "cell_type": "code",
      "execution_count": null,
      "metadata": {
        "colab": {
          "base_uri": "https://localhost:8080/"
        },
        "id": "va9_W10GHsb-",
        "outputId": "8720d46e-d28d-4f69-c386-b7ff2be3175a"
      },
      "outputs": [
        {
          "name": "stdout",
          "output_type": "stream",
          "text": [
            "Requirement already satisfied: pennylane in c:\\users\\aless\\anaconda3\\lib\\site-packages (0.40.0)\n",
            "Requirement already satisfied: numpy<2.1 in c:\\users\\aless\\anaconda3\\lib\\site-packages (from pennylane) (1.26.4)\n",
            "Requirement already satisfied: scipy in c:\\users\\aless\\anaconda3\\lib\\site-packages (from pennylane) (1.13.1)\n",
            "Requirement already satisfied: networkx in c:\\users\\aless\\anaconda3\\lib\\site-packages (from pennylane) (3.2.1)\n",
            "Requirement already satisfied: rustworkx>=0.14.0 in c:\\users\\aless\\anaconda3\\lib\\site-packages (from pennylane) (0.15.1)\n",
            "Requirement already satisfied: autograd in c:\\users\\aless\\anaconda3\\lib\\site-packages (from pennylane) (1.7.0)\n",
            "Requirement already satisfied: tomlkit in c:\\users\\aless\\anaconda3\\lib\\site-packages (from pennylane) (0.11.1)\n",
            "Requirement already satisfied: appdirs in c:\\users\\aless\\anaconda3\\lib\\site-packages (from pennylane) (1.4.4)\n",
            "Requirement already satisfied: autoray>=0.6.11 in c:\\users\\aless\\anaconda3\\lib\\site-packages (from pennylane) (0.7.0)\n",
            "Requirement already satisfied: cachetools in c:\\users\\aless\\anaconda3\\lib\\site-packages (from pennylane) (5.3.3)\n",
            "Requirement already satisfied: pennylane-lightning>=0.40 in c:\\users\\aless\\anaconda3\\lib\\site-packages (from pennylane) (0.40.0)\n",
            "Requirement already satisfied: requests in c:\\users\\aless\\anaconda3\\lib\\site-packages (from pennylane) (2.32.2)\n",
            "Requirement already satisfied: typing-extensions in c:\\users\\aless\\anaconda3\\lib\\site-packages (from pennylane) (4.11.0)\n",
            "Requirement already satisfied: packaging in c:\\users\\aless\\anaconda3\\lib\\site-packages (from pennylane) (23.2)\n",
            "Requirement already satisfied: diastatic-malt in c:\\users\\aless\\anaconda3\\lib\\site-packages (from pennylane) (2.15.2)\n",
            "Requirement already satisfied: scipy-openblas32>=0.3.26 in c:\\users\\aless\\anaconda3\\lib\\site-packages (from pennylane-lightning>=0.40->pennylane) (0.3.28.0.2)\n",
            "Requirement already satisfied: astunparse in c:\\users\\aless\\anaconda3\\lib\\site-packages (from diastatic-malt->pennylane) (1.6.3)\n",
            "Requirement already satisfied: gast in c:\\users\\aless\\anaconda3\\lib\\site-packages (from diastatic-malt->pennylane) (0.6.0)\n",
            "Requirement already satisfied: termcolor in c:\\users\\aless\\anaconda3\\lib\\site-packages (from diastatic-malt->pennylane) (2.5.0)\n",
            "Requirement already satisfied: charset-normalizer<4,>=2 in c:\\users\\aless\\anaconda3\\lib\\site-packages (from requests->pennylane) (2.0.4)\n",
            "Requirement already satisfied: idna<4,>=2.5 in c:\\users\\aless\\anaconda3\\lib\\site-packages (from requests->pennylane) (3.7)\n",
            "Requirement already satisfied: urllib3<3,>=1.21.1 in c:\\users\\aless\\anaconda3\\lib\\site-packages (from requests->pennylane) (2.2.2)\n",
            "Requirement already satisfied: certifi>=2017.4.17 in c:\\users\\aless\\anaconda3\\lib\\site-packages (from requests->pennylane) (2024.6.2)\n",
            "Requirement already satisfied: wheel<1.0,>=0.23.0 in c:\\users\\aless\\anaconda3\\lib\\site-packages (from astunparse->diastatic-malt->pennylane) (0.43.0)\n",
            "Requirement already satisfied: six<2.0,>=1.6.1 in c:\\users\\aless\\anaconda3\\lib\\site-packages (from astunparse->diastatic-malt->pennylane) (1.16.0)\n"
          ]
        }
      ],
      "source": [
        "# This cell is added by sphinx-gallery\n",
        "# It can be customized to whatever you like\n",
        "%matplotlib inline\n",
        "!pip install pennylane"
      ]
    },
    {
      "cell_type": "markdown",
      "metadata": {
        "id": "lPkVslSZHscA"
      },
      "source": [
        "# Variational classifier {#variational_classifier}\n",
        "\n",
        "::: meta\n",
        ":property=\\\"og:description\\\": Using PennyLane to implement quantum\n",
        "circuits that can be trained from labelled data to classify new data\n",
        "samples. :property=\\\"og:image\\\":\n",
        "<https://pennylane.ai/qml/_static/demonstration_assets/classifier_output_59_0.png>\n",
        ":::\n",
        "\n",
        "::: related\n",
        "tutorial_data_reuploading_classifier Data-reuploading classifier\n",
        "tutorial_multiclass_classification Multiclass margin classifier\n",
        "ensemble_multi_qpu Ensemble classification with Rigetti and Qiskit\n",
        "devices\n",
        ":::\n",
        "\n",
        "In this tutorial, we show how to use PennyLane to implement variational\n",
        "quantum classifiers - quantum circuits that can be trained from labelled\n",
        "data to classify new data samples. The two examples used are inspired by\n",
        "two of the first papers that proposed variational circuits as supervised\n",
        "machine learning models: [Farhi and Neven\n",
        "(2018)](https://arxiv.org/abs/1802.06002) as well as [Schuld et al.\n",
        "(2018)](https://arxiv.org/abs/1804.00633).\n"
      ]
    },
    {
      "cell_type": "markdown",
      "metadata": {
        "id": "rRmkFxBSHscC"
      },
      "source": [
        "More precisely, the first example shows that a variational circuit can\n",
        "be optimized to emulate the parity function\n",
        "\n",
        "$$\\begin{aligned}\n",
        "f: x \\in \\{0,1\\}^{\\otimes n} \\rightarrow y =\n",
        "\\begin{cases} 1 \\text{  if uneven number of 1's in } x \\\\ 0\n",
        "\\text{ else}. \\end{cases}\n",
        "\\end{aligned}$$\n",
        "\n",
        "It demonstrates how to encode binary inputs into the initial state of\n",
        "the variational circuit, which is simply a computational basis state\n",
        "(*basis encoding*).\n",
        "\n",
        "The second example shows how to encode real vectors as amplitude vectors\n",
        "into quantum states (*amplitude encoding*) and how to train a\n",
        "variational circuit to recognize the first two classes of flowers in the\n",
        "Iris dataset.\n",
        "\n",
        "# 1. Fitting the parity function\n",
        "\n",
        "## Imports\n",
        "\n",
        "We start by importing PennyLane, the PennyLane-provided version of\n",
        "NumPy, and an optimizer.\n"
      ]
    },
    {
      "cell_type": "code",
      "execution_count": null,
      "metadata": {
        "id": "D2UrPrPXHscE"
      },
      "outputs": [],
      "source": [
        "import pennylane as qml\n",
        "from pennylane import numpy as np\n",
        "from pennylane.optimize import QNGOptimizer, MomentumQNGOptimizer"
      ]
    },
    {
      "cell_type": "markdown",
      "metadata": {
        "id": "7B_zJGZEHscG"
      },
      "source": [
        "# Quantum and classical nodes\n",
        "\n",
        "We then create a quantum device that will run our circuits.\n"
      ]
    },
    {
      "cell_type": "code",
      "execution_count": null,
      "metadata": {
        "id": "WQTG9laDHscG"
      },
      "outputs": [],
      "source": [
        "dev = qml.device(\"default.qubit\")"
      ]
    },
    {
      "cell_type": "markdown",
      "metadata": {
        "id": "1uixGqkhHscI"
      },
      "source": [
        "Variational classifiers usually define a \"layer\" or \"block\", which is an\n",
        "elementary circuit architecture that gets repeated to build the full\n",
        "variational circuit.\n",
        "\n",
        "Our circuit layer will use four qubits, or wires, and consists of an\n",
        "arbitrary rotation on every qubit, as well as a ring of CNOTs that\n",
        "entangles each qubit with its neighbour. Borrowing from machine\n",
        "learning, we call the parameters of the layer `weights`.\n"
      ]
    },
    {
      "cell_type": "code",
      "execution_count": null,
      "metadata": {
        "id": "YHt3VdPlHscJ"
      },
      "outputs": [],
      "source": [
        "def layer(layer_weights):\n",
        "    for wire in range(4):\n",
        "        qml.Rot(*layer_weights[wire], wires=wire)\n",
        "\n",
        "    for wires in ([0, 1], [1, 2], [2, 3], [3, 0]):\n",
        "        qml.CNOT(wires)"
      ]
    },
    {
      "cell_type": "markdown",
      "metadata": {
        "id": "dkTSb-GUHscK"
      },
      "source": [
        "We also need a way to encode data inputs $x$ into the circuit, so that\n",
        "the measured output depends on the inputs. In this first example, the\n",
        "inputs are bitstrings, which we encode into the state of the qubits. The\n",
        "quantum state $\\psi$ after state preparation is a computational basis\n",
        "state that has 1s where $x$ has 1s, for example\n",
        "\n",
        "$$x = 0101 \\rightarrow |\\psi \\rangle = |0101 \\rangle .$$\n",
        "\n",
        "The `~pennylane.BasisState`{.interpreted-text role=\"class\"} function\n",
        "provided by PennyLane is made to do just this. It expects `x` to be a\n",
        "list of zeros and ones, i.e. `[0,1,0,1]`.\n"
      ]
    },
    {
      "cell_type": "code",
      "execution_count": null,
      "metadata": {
        "id": "hqRTNfMPHscL"
      },
      "outputs": [],
      "source": [
        "def state_preparation(x):\n",
        "    qml.BasisState(x, wires=[0, 1, 2, 3])"
      ]
    },
    {
      "cell_type": "markdown",
      "metadata": {
        "id": "WVQQe08XHscL"
      },
      "source": [
        "Now we define the variational quantum circuit as this state preparation\n",
        "routine, followed by a repetition of the layer structure.\n"
      ]
    },
    {
      "cell_type": "code",
      "execution_count": null,
      "metadata": {
        "id": "iofuERz0HscM"
      },
      "outputs": [],
      "source": [
        "@qml.qnode(dev)\n",
        "def circuit(weights, x):\n",
        "    state_preparation(x)\n",
        "\n",
        "    for layer_weights in weights:\n",
        "        layer(layer_weights)\n",
        "\n",
        "    return qml.expval(qml.PauliZ(0))"
      ]
    },
    {
      "cell_type": "markdown",
      "metadata": {
        "id": "sm70CPhYHscM"
      },
      "source": [
        "If we want to add a \"classical\" bias parameter, the variational quantum\n",
        "classifier also needs some post-processing. We define the full model as\n",
        "a sum of the output of the quantum circuit, plus the trainable bias.\n"
      ]
    },
    {
      "cell_type": "code",
      "execution_count": null,
      "metadata": {
        "id": "Y119XsjpHscN"
      },
      "outputs": [],
      "source": [
        "def variational_classifier(weights, x):\n",
        "    return circuit(weights, x)"
      ]
    },
    {
      "cell_type": "markdown",
      "metadata": {
        "id": "8u8F7qv_HscN"
      },
      "source": [
        "# Cost\n",
        "\n",
        "In supervised learning, the cost function is usually the sum of a loss\n",
        "function and a regularizer. We restrict ourselves to the standard square\n",
        "loss that measures the distance between target labels and model\n",
        "predictions.\n"
      ]
    },
    {
      "cell_type": "code",
      "execution_count": null,
      "metadata": {
        "id": "AwtZ9L8zHscO"
      },
      "outputs": [],
      "source": [
        "def square_loss(labels, predictions):\n",
        "    # We use a call to qml.math.stack to allow subtracting the arrays directly\n",
        "    return np.mean((labels - qml.math.stack(predictions)) ** 2)"
      ]
    },
    {
      "cell_type": "markdown",
      "metadata": {
        "id": "uKw6K_3XHscO"
      },
      "source": [
        "To monitor how many inputs the current classifier predicted correctly,\n",
        "we also define the accuracy, or the proportion of predictions that agree\n",
        "with a set of target labels.\n"
      ]
    },
    {
      "cell_type": "code",
      "execution_count": null,
      "metadata": {
        "id": "pbWa-DIoHscO"
      },
      "outputs": [],
      "source": [
        "def accuracy(labels, predictions):\n",
        "    acc = sum(abs(l - p) < 1e-5 for l, p in zip(labels, predictions))\n",
        "    acc = acc / len(labels)\n",
        "    return acc"
      ]
    },
    {
      "cell_type": "markdown",
      "metadata": {
        "id": "6ti20ir6HscP"
      },
      "source": [
        "For learning tasks, the cost depends on the data - here the features and\n",
        "labels considered in the iteration of the optimization routine.\n"
      ]
    },
    {
      "cell_type": "code",
      "execution_count": null,
      "metadata": {
        "id": "zTdBIrBpHscP"
      },
      "outputs": [],
      "source": [
        "def cost(weights, X, Y):\n",
        "    predictions = [variational_classifier(weights, x) for x in X]\n",
        "    return square_loss(Y, predictions)"
      ]
    },
    {
      "cell_type": "markdown",
      "metadata": {
        "id": "hC3Ye-z4HscP"
      },
      "source": [
        "# Optimization\n",
        "\n",
        "Let's now load and preprocess some data.\n",
        "\n",
        "::: note\n",
        "::: title\n",
        "Note\n",
        ":::\n",
        "\n",
        "The parity dataset\\'s\n",
        "`<a href=\"https://raw.githubusercontent.com/XanaduAI/qml/master/_static/demonstration_assets/variational_classifier/data/parity_train.txt\"\n",
        "download=parity.txt target=\"_blank\">train</a>`{.interpreted-text\n",
        "role=\"html\"} and\n",
        "`<a href=\"https://raw.githubusercontent.com/XanaduAI/qml/master/_static/demonstration_assets/variational_classifier/data/parity_test.txt\"\n",
        "download=parity.txt target=\"_blank\">test</a>`{.interpreted-text\n",
        "role=\"html\"} sets can be downloaded and should be placed in the\n",
        "subfolder `variational_classifier/data`.\n",
        ":::\n"
      ]
    },
    {
      "cell_type": "code",
      "execution_count": null,
      "metadata": {
        "colab": {
          "base_uri": "https://localhost:8080/",
          "height": 478
        },
        "id": "alnQcMmJHscP",
        "outputId": "524e2b04-64ad-4f88-d46c-202dbda0b4ba"
      },
      "outputs": [
        {
          "name": "stdout",
          "output_type": "stream",
          "text": [
            "x = [0 0 0 1], y = 1\n",
            "x = [0 0 1 0], y = 1\n",
            "x = [0 1 0 0], y = 1\n",
            "x = [0 1 0 1], y = -1\n",
            "x = [0 1 1 0], y = -1\n",
            "x = [0 1 1 1], y = 1\n",
            "x = [1 0 0 0], y = 1\n",
            "x = [1 0 0 1], y = -1\n",
            "x = [1 0 1 1], y = 1\n",
            "x = [1 1 1 1], y = -1\n"
          ]
        }
      ],
      "source": [
        "data = np.loadtxt(\"variational_classifier/data/parity_train.txt\", dtype=int)\n",
        "X = np.array(data[:, :-1], requires_grad=False)\n",
        "Y = np.array(data[:, -1])\n",
        "Y = Y * 2 - 1  # shift label from {0, 1} to {-1, 1}\n",
        "\n",
        "for x,y in zip(X, Y):\n",
        "    print(f\"x = {x}, y = {y}\")"
      ]
    },
    {
      "cell_type": "markdown",
      "metadata": {
        "id": "doUthF7yHscQ"
      },
      "source": [
        "We initialize the variables randomly (but fix a seed for\n",
        "reproducibility). Remember that one of the variables is used as a bias,\n",
        "while the rest is fed into the gates of the variational circuit.\n"
      ]
    },
    {
      "cell_type": "code",
      "execution_count": null,
      "metadata": {
        "id": "RdVOPySAHscQ",
        "outputId": "67705ed5-cf56-435c-a04b-6f4a6f5b40be"
      },
      "outputs": [
        {
          "name": "stdout",
          "output_type": "stream",
          "text": [
            "Weights: [[[ 0.01764052  0.00400157  0.00978738]\n",
            "  [ 0.02240893  0.01867558 -0.00977278]\n",
            "  [ 0.00950088 -0.00151357 -0.00103219]\n",
            "  [ 0.00410599  0.00144044  0.01454274]]\n",
            "\n",
            " [[ 0.00761038  0.00121675  0.00443863]\n",
            "  [ 0.00333674  0.01494079 -0.00205158]\n",
            "  [ 0.00313068 -0.00854096 -0.0255299 ]\n",
            "  [ 0.00653619  0.00864436 -0.00742165]]]\n"
          ]
        }
      ],
      "source": [
        "np.random.seed(0)\n",
        "num_qubits = 4\n",
        "num_layers = 2\n",
        "weights_init = 0.01 * np.random.randn(num_layers, num_qubits, 3, requires_grad=True)\n",
        "\n",
        "print(\"Weights:\", weights_init)"
      ]
    },
    {
      "cell_type": "markdown",
      "metadata": {
        "id": "737WbZTBHscQ"
      },
      "source": [
        "Next we create an optimizer instance and choose a batch size...\n"
      ]
    },
    {
      "cell_type": "code",
      "execution_count": null,
      "metadata": {
        "id": "XvVd1TW_HscQ"
      },
      "outputs": [],
      "source": [
        "opt = MomentumQNGOptimizer(0.01)\n",
        "batch_size = 5"
      ]
    },
    {
      "cell_type": "markdown",
      "metadata": {
        "id": "5Zi1k8eVHscR"
      },
      "source": [
        "...and run the optimizer to train our model. We track the accuracy - the\n",
        "share of correctly classified data samples. For this we compute the\n",
        "outputs of the variational classifier and turn them into predictions in\n",
        "$\\{-1,1\\}$ by taking the sign of the output.\n"
      ]
    },
    {
      "cell_type": "code",
      "execution_count": null,
      "metadata": {
        "id": "bXeqaLwdHscR",
        "outputId": "35b12053-b77a-44b8-fd48-b0388dfc58f3"
      },
      "outputs": [
        {
          "name": "stdout",
          "output_type": "stream",
          "text": [
            "Iter:    1 | Cost: 1.9992627 | Accuracy: 0.5000000\n",
            "Iter:    2 | Cost: 1.9992628 | Accuracy: 0.5000000\n",
            "Iter:    3 | Cost: 1.9990086 | Accuracy: 0.5000000\n",
            "Iter:    4 | Cost: 1.9987479 | Accuracy: 0.5000000\n",
            "Iter:    5 | Cost: 1.9984874 | Accuracy: 0.5000000\n",
            "Iter:    6 | Cost: 1.9976717 | Accuracy: 0.5000000\n",
            "Iter:    7 | Cost: 1.9967888 | Accuracy: 0.5000000\n",
            "Iter:    8 | Cost: 1.9958745 | Accuracy: 0.5000000\n",
            "Iter:    9 | Cost: 1.9949560 | Accuracy: 0.5000000\n",
            "Iter:   10 | Cost: 1.9921830 | Accuracy: 0.5000000\n",
            "Iter:   11 | Cost: 1.9891817 | Accuracy: 0.5000000\n",
            "Iter:   12 | Cost: 1.9819324 | Accuracy: 0.5000000\n",
            "Iter:   13 | Cost: 1.9666673 | Accuracy: 0.5000000\n",
            "Iter:   14 | Cost: 1.9359399 | Accuracy: 0.5000000\n",
            "Iter:   15 | Cost: 1.9011083 | Accuracy: 0.5000000\n",
            "Iter:   16 | Cost: 1.8307568 | Accuracy: 0.5000000\n",
            "Iter:   17 | Cost: 1.7045775 | Accuracy: 0.5000000\n",
            "Iter:   18 | Cost: 1.5109876 | Accuracy: 0.5000000\n",
            "Iter:   19 | Cost: 1.2769067 | Accuracy: 0.5000000\n",
            "Iter:   20 | Cost: 1.1267484 | Accuracy: 0.5000000\n",
            "Iter:   21 | Cost: 1.0457401 | Accuracy: 0.5000000\n",
            "Iter:   22 | Cost: 0.9966478 | Accuracy: 0.5000000\n",
            "Iter:   23 | Cost: 0.9711116 | Accuracy: 0.5000000\n",
            "Iter:   24 | Cost: 0.9575861 | Accuracy: 0.5000000\n",
            "Iter:   25 | Cost: 0.9321378 | Accuracy: 0.7000000\n",
            "Iter:   26 | Cost: 0.9070641 | Accuracy: 0.6000000\n",
            "Iter:   27 | Cost: 0.8997882 | Accuracy: 0.6000000\n",
            "Iter:   28 | Cost: 0.9118881 | Accuracy: 0.6000000\n",
            "Iter:   29 | Cost: 0.9544872 | Accuracy: 0.6000000\n",
            "Iter:   30 | Cost: 1.0314273 | Accuracy: 0.6000000\n",
            "Iter:   31 | Cost: 1.0631579 | Accuracy: 0.6000000\n",
            "Iter:   32 | Cost: 1.1028539 | Accuracy: 0.6000000\n",
            "Iter:   33 | Cost: 1.0482004 | Accuracy: 0.6000000\n",
            "Iter:   34 | Cost: 0.8962480 | Accuracy: 0.6000000\n",
            "Iter:   35 | Cost: 0.6679293 | Accuracy: 0.6000000\n",
            "Iter:   36 | Cost: 0.4384519 | Accuracy: 1.0000000\n",
            "Iter:   37 | Cost: 0.2801547 | Accuracy: 1.0000000\n",
            "Iter:   38 | Cost: 0.1977389 | Accuracy: 1.0000000\n",
            "Iter:   39 | Cost: 0.1645212 | Accuracy: 1.0000000\n",
            "Iter:   40 | Cost: 0.1622862 | Accuracy: 1.0000000\n",
            "Iter:   41 | Cost: 0.1925809 | Accuracy: 1.0000000\n",
            "Iter:   42 | Cost: 0.2443593 | Accuracy: 1.0000000\n",
            "Iter:   43 | Cost: 0.2928787 | Accuracy: 1.0000000\n",
            "Iter:   44 | Cost: 0.3572971 | Accuracy: 1.0000000\n",
            "Iter:   45 | Cost: 0.4356337 | Accuracy: 0.6000000\n",
            "Iter:   46 | Cost: 0.5247590 | Accuracy: 0.6000000\n",
            "Iter:   47 | Cost: 0.5001248 | Accuracy: 0.6000000\n",
            "Iter:   48 | Cost: 0.3725999 | Accuracy: 1.0000000\n",
            "Iter:   49 | Cost: 0.2742592 | Accuracy: 1.0000000\n",
            "Iter:   50 | Cost: 0.2009395 | Accuracy: 1.0000000\n",
            "Iter:   51 | Cost: 0.1157173 | Accuracy: 1.0000000\n",
            "Iter:   52 | Cost: 0.0654419 | Accuracy: 1.0000000\n",
            "Iter:   53 | Cost: 0.0374745 | Accuracy: 1.0000000\n",
            "Iter:   54 | Cost: 0.0208650 | Accuracy: 1.0000000\n",
            "Iter:   55 | Cost: 0.0125452 | Accuracy: 1.0000000\n",
            "Iter:   56 | Cost: 0.0088204 | Accuracy: 1.0000000\n",
            "Iter:   57 | Cost: 0.0073129 | Accuracy: 1.0000000\n",
            "Iter:   58 | Cost: 0.0072055 | Accuracy: 1.0000000\n",
            "Iter:   59 | Cost: 0.0082853 | Accuracy: 1.0000000\n",
            "Iter:   60 | Cost: 0.0103673 | Accuracy: 1.0000000\n",
            "Iter:   61 | Cost: 0.0136634 | Accuracy: 1.0000000\n",
            "Iter:   62 | Cost: 0.0169861 | Accuracy: 1.0000000\n",
            "Iter:   63 | Cost: 0.0209670 | Accuracy: 1.0000000\n",
            "Iter:   64 | Cost: 0.0254901 | Accuracy: 1.0000000\n",
            "Iter:   65 | Cost: 0.0273858 | Accuracy: 1.0000000\n",
            "Iter:   66 | Cost: 0.0292861 | Accuracy: 1.0000000\n",
            "Iter:   67 | Cost: 0.0275127 | Accuracy: 1.0000000\n",
            "Iter:   68 | Cost: 0.0260414 | Accuracy: 1.0000000\n",
            "Iter:   69 | Cost: 0.0219576 | Accuracy: 1.0000000\n",
            "Iter:   70 | Cost: 0.0186529 | Accuracy: 1.0000000\n",
            "Iter:   71 | Cost: 0.0143901 | Accuracy: 1.0000000\n",
            "Iter:   72 | Cost: 0.0102082 | Accuracy: 1.0000000\n",
            "Iter:   73 | Cost: 0.0073069 | Accuracy: 1.0000000\n",
            "Iter:   74 | Cost: 0.0052815 | Accuracy: 1.0000000\n",
            "Iter:   75 | Cost: 0.0038631 | Accuracy: 1.0000000\n",
            "Iter:   76 | Cost: 0.0028587 | Accuracy: 1.0000000\n",
            "Iter:   77 | Cost: 0.0020743 | Accuracy: 1.0000000\n",
            "Iter:   78 | Cost: 0.0015296 | Accuracy: 1.0000000\n",
            "Iter:   79 | Cost: 0.0011491 | Accuracy: 1.0000000\n",
            "Iter:   80 | Cost: 0.0008773 | Accuracy: 1.0000000\n",
            "Iter:   81 | Cost: 0.0006837 | Accuracy: 1.0000000\n",
            "Iter:   82 | Cost: 0.0005403 | Accuracy: 1.0000000\n",
            "Iter:   83 | Cost: 0.0004269 | Accuracy: 1.0000000\n",
            "Iter:   84 | Cost: 0.0003446 | Accuracy: 1.0000000\n",
            "Iter:   85 | Cost: 0.0002844 | Accuracy: 1.0000000\n",
            "Iter:   86 | Cost: 0.0002397 | Accuracy: 1.0000000\n",
            "Iter:   87 | Cost: 0.0002054 | Accuracy: 1.0000000\n",
            "Iter:   88 | Cost: 0.0001786 | Accuracy: 1.0000000\n",
            "Iter:   89 | Cost: 0.0001581 | Accuracy: 1.0000000\n",
            "Iter:   90 | Cost: 0.0001421 | Accuracy: 1.0000000\n",
            "Iter:   91 | Cost: 0.0001288 | Accuracy: 1.0000000\n",
            "Iter:   92 | Cost: 0.0001177 | Accuracy: 1.0000000\n",
            "Iter:   93 | Cost: 0.0001088 | Accuracy: 1.0000000\n",
            "Iter:   94 | Cost: 0.0001015 | Accuracy: 1.0000000\n",
            "Iter:   95 | Cost: 0.0000956 | Accuracy: 1.0000000\n",
            "Iter:   96 | Cost: 0.0000906 | Accuracy: 1.0000000\n",
            "Iter:   97 | Cost: 0.0000865 | Accuracy: 1.0000000\n",
            "Iter:   98 | Cost: 0.0000830 | Accuracy: 1.0000000\n",
            "Iter:   99 | Cost: 0.0000797 | Accuracy: 1.0000000\n",
            "Iter:  100 | Cost: 0.0000769 | Accuracy: 1.0000000\n"
          ]
        }
      ],
      "source": [
        "weights = weights_init\n",
        "for it in range(100):\n",
        "\n",
        "    # Update the weights by one optimizer step, using only a limited batch of data\n",
        "    batch_index = np.random.randint(0, len(X), (batch_size,))\n",
        "    X_batch = X[batch_index]\n",
        "    Y_batch = Y[batch_index]\n",
        "    cost_fn = lambda w: cost(w, X_batch, Y_batch)\n",
        "    metric_fn = lambda w: np.sum([qml.metric_tensor(circuit, approx=\"block-diag\")(w, sample) for sample in X_batch], axis=0)/batch_size #we average the metric tensor over the batch\n",
        "\n",
        "    weights, loss = opt.step_and_cost(cost_fn, weights, metric_tensor_fn=metric_fn)\n",
        "\n",
        "    # Compute accuracy\n",
        "    predictions = [np.sign(variational_classifier(weights, x)) for x in X]\n",
        "\n",
        "    current_cost = cost(weights, X, Y)\n",
        "    acc = accuracy(Y, predictions)\n",
        "\n",
        "    print(f\"Iter: {it+1:4d} | Cost: {current_cost:0.7f} | Accuracy: {acc:0.7f}\")"
      ]
    },
    {
      "cell_type": "markdown",
      "metadata": {
        "id": "9oEyG3c4HscS"
      },
      "source": [
        "As we can see, the variational classifier learned to classify all bit\n",
        "strings from the training set correctly.\n",
        "\n",
        "But unlike optimization, in machine learning the goal is to generalize\n",
        "from limited data to *unseen* examples. Even if the variational quantum\n",
        "circuit was perfectly optimized with respect to the cost, it might not\n",
        "generalize, a phenomenon known as *overfitting*. The art of (quantum)\n",
        "machine learning is to create models and learning procedures that tend\n",
        "to find \\\"good\\\" minima, or those that lead to models which generalize\n",
        "well.\n",
        "\n",
        "With this in mind, let\\'s look at a test set of examples we have not\n",
        "used during training:\n"
      ]
    },
    {
      "cell_type": "code",
      "execution_count": null,
      "metadata": {
        "id": "GTPPpLz7HscS",
        "outputId": "268015b3-3202-46e4-bf82-7469310b0700"
      },
      "outputs": [
        {
          "name": "stdout",
          "output_type": "stream",
          "text": [
            "x = [0 0 0 0], y = -1, pred=-1.0\n",
            "x = [0 0 1 1], y = -1, pred=-1.0\n",
            "x = [1 0 1 0], y = -1, pred=-1.0\n",
            "x = [1 1 1 0], y = 1, pred=1.0\n",
            "x = [1 1 0 0], y = -1, pred=-1.0\n",
            "x = [1 1 0 1], y = 1, pred=1.0\n",
            "Accuracy on unseen data: 1.0\n"
          ]
        }
      ],
      "source": [
        "data = np.loadtxt(\"variational_classifier/data/parity_test.txt\", dtype=int)\n",
        "X_test = np.array(data[:, :-1])\n",
        "Y_test = np.array(data[:, -1])\n",
        "Y_test = Y_test * 2 - 1  # shift label from {0, 1} to {-1, 1}\n",
        "\n",
        "predictions_test = [np.sign(variational_classifier(weights, x)) for x in X_test]\n",
        "\n",
        "for x,y,p in zip(X_test, Y_test, predictions_test):\n",
        "    print(f\"x = {x}, y = {y}, pred={p}\")\n",
        "\n",
        "acc_test = accuracy(Y_test, predictions_test)\n",
        "print(\"Accuracy on unseen data:\", acc_test)"
      ]
    },
    {
      "cell_type": "markdown",
      "metadata": {
        "id": "D6St1S2iHscT"
      },
      "source": [
        "The quantum circuit has also learnt to predict all unseen examples\n",
        "perfectly well! This is actually remarkable, since the encoding strategy\n",
        "creates quantum states from the data that have zero overlap \\-- and\n",
        "hence the states created from the test set have no overlap with the\n",
        "states created from the training set. There are many functional\n",
        "relations the variational circuit could learn from this kind of\n",
        "representation, but the classifier chooses to label bit strings\n",
        "according to our ground truth, the parity function.\n",
        "\n",
        "Let\\'s look at the second example, in which we use another encoding\n",
        "strategy.\n",
        "\n",
        "# 2. Iris classification\n",
        "\n",
        "We now move on to classifying data points from the Iris dataset, which\n",
        "are no longer simple bitstrings but represented as real-valued vectors.\n",
        "The vectors are 2-dimensional, but we will add some \\\"latent\n",
        "dimensions\\\" and therefore encode inputs into 2 qubits.\n",
        "\n",
        "## Quantum and classical nodes\n",
        "\n",
        "State preparation is not as simple as when we represent a bitstring with\n",
        "a basis state. Every input x has to be translated into a set of angles\n",
        "which can get fed into a small routine for state preparation. To\n",
        "simplify things a bit, we will work with data from the positive\n",
        "subspace, so that we can ignore signs (which would require another\n",
        "cascade of rotations around the Z-axis).\n",
        "\n",
        "The circuit is coded according to the scheme in [Möttönen, et al.\n",
        "(2004)](https://arxiv.org/abs/quant-ph/0407010), or---as presented for\n",
        "positive vectors only---in [Schuld and Petruccione\n",
        "(2018)](https://link.springer.com/book/10.1007/978-3-319-96424-9). We\n",
        "also decomposed controlled Y-axis rotations into more basic gates,\n",
        "following [Nielsen and Chuang\n",
        "(2010)](http://www.michaelnielsen.org/qcqi/).\n"
      ]
    },
    {
      "cell_type": "code",
      "execution_count": null,
      "metadata": {
        "id": "8DiloIt5HscU"
      },
      "outputs": [],
      "source": [
        "def get_angles(x):\n",
        "    beta0 = 2 * np.arcsin(np.sqrt(x[1] ** 2) / np.sqrt(x[0] ** 2 + x[1] ** 2 + 1e-12))\n",
        "    beta1 = 2 * np.arcsin(np.sqrt(x[3] ** 2) / np.sqrt(x[2] ** 2 + x[3] ** 2 + 1e-12))\n",
        "    beta2 = 2 * np.arcsin(np.linalg.norm(x[2:]) / np.linalg.norm(x))\n",
        "\n",
        "    return np.array([beta2, -beta1 / 2, beta1 / 2, -beta0 / 2, beta0 / 2])\n",
        "\n",
        "\n",
        "def state_preparation(a):\n",
        "    qml.RY(a[0], wires=0)\n",
        "\n",
        "    qml.CNOT(wires=[0, 1])\n",
        "    qml.RY(a[1], wires=1)\n",
        "    qml.CNOT(wires=[0, 1])\n",
        "    qml.RY(a[2], wires=1)\n",
        "\n",
        "    qml.PauliX(wires=0)\n",
        "    qml.CNOT(wires=[0, 1])\n",
        "    qml.RY(a[3], wires=1)\n",
        "    qml.CNOT(wires=[0, 1])\n",
        "    qml.RY(a[4], wires=1)\n",
        "    qml.PauliX(wires=0)"
      ]
    },
    {
      "cell_type": "markdown",
      "metadata": {
        "id": "BHCgHnToHscU"
      },
      "source": [
        "Let's test if this routine actually works.\n"
      ]
    },
    {
      "cell_type": "code",
      "execution_count": null,
      "metadata": {
        "id": "Ef1a11VaHscU",
        "outputId": "89274871-a4f4-4fd5-a293-38e988db075b"
      },
      "outputs": [
        {
          "name": "stdout",
          "output_type": "stream",
          "text": [
            "x               :  [0.538968 0.795036 0.278265 0.      ]\n",
            "angles          :  [ 0.563975 -0.        0.       -0.975046  0.975046]\n",
            "amplitude vector:  [ 0.538968  0.795036  0.278265 -0.      ]\n"
          ]
        }
      ],
      "source": [
        "x = np.array([0.53896774, 0.79503606, 0.27826503, 0.0], requires_grad=False)\n",
        "ang = get_angles(x)\n",
        "\n",
        "\n",
        "@qml.qnode(dev)\n",
        "def test(angles):\n",
        "    state_preparation(angles)\n",
        "\n",
        "    return qml.state()\n",
        "\n",
        "\n",
        "state = test(ang)\n",
        "\n",
        "print(\"x               : \", np.round(x, 6))\n",
        "print(\"angles          : \", np.round(ang, 6))\n",
        "print(\"amplitude vector: \", np.round(np.real(state), 6))"
      ]
    },
    {
      "cell_type": "markdown",
      "metadata": {
        "id": "z6B0yis5HscV"
      },
      "source": [
        "The method computed the correct angles to prepare the desired state!\n",
        "\n",
        "> ::: note\n",
        "> ::: title\n",
        "> Note\n",
        "> :::\n",
        ">\n",
        "> The `default.qubit` simulator provides a shortcut to\n",
        "> `state_preparation` with the command `qml.StatePrep(x, wires=[0, 1])`.\n",
        "> On state simulators, this just replaces the quantum state with our\n",
        "> (normalized) input. On hardware, the operation implements more\n",
        "> sophisticated versions of the routine used above.\n",
        "> :::\n"
      ]
    },
    {
      "cell_type": "markdown",
      "metadata": {
        "id": "ggC6W1OpHscV"
      },
      "source": [
        "Since we are working with only 2 qubits now, we need to update the\n",
        "`layer` function. In addition, we redefine the `cost` function to pass\n",
        "the full batch of data to the state preparation of the circuit\n",
        "simultaneously, a technique similar to NumPy broadcasting.\n"
      ]
    },
    {
      "cell_type": "code",
      "execution_count": null,
      "metadata": {
        "id": "RoGo7I4tHscV"
      },
      "outputs": [],
      "source": [
        "def layer(layer_weights):\n",
        "    for wire in range(2):\n",
        "        qml.Rot(*layer_weights[wire], wires=wire)\n",
        "    qml.CNOT(wires=[0, 1])\n",
        "\n",
        "\n",
        "def cost(weights, X, Y):\n",
        "    # Transpose the batch of input data in order to make the indexing\n",
        "    # in state_preparation work\n",
        "    predictions = variational_classifier(weights, X.T)\n",
        "    return square_loss(Y, predictions)"
      ]
    },
    {
      "cell_type": "markdown",
      "metadata": {
        "id": "AM_0KWIsHscW"
      },
      "source": [
        "# Data\n",
        "\n",
        "We load the Iris data set. There is a bit of preprocessing to do in\n",
        "order to encode the inputs into the amplitudes of a quantum state. We\n",
        "will augment the data points by two so-called \\\"latent dimensions\\\",\n",
        "making the size of the padded data point match the size of the state\n",
        "vector in the quantum device. We then need to normalize the data points,\n",
        "and finally, we translate the inputs x to rotation angles using the\n",
        "`get_angles` function we defined above.\n",
        "\n",
        "Data preprocessing should always be done with the problem in mind; for\n",
        "example, if we do not add any latent dimensions, normalization erases\n",
        "any information on the length of the vectors and classes separated by\n",
        "this feature will not be distinguishable.\n",
        "\n",
        "::: note\n",
        "::: title\n",
        "Note\n",
        ":::\n",
        "\n",
        "The Iris dataset can be downloaded\n",
        "`<a href=\"https://raw.githubusercontent.com/XanaduAI/qml/master/_static/demonstration_assets/variational_classifier/data/iris_classes1and2_scaled.txt\"\n",
        "download=parity.txt target=\"_blank\">here</a>`{.interpreted-text\n",
        "role=\"html\"} and should be placed in the subfolder\n",
        "`variational_classifer/data`.\n",
        ":::\n"
      ]
    },
    {
      "cell_type": "code",
      "execution_count": null,
      "metadata": {
        "id": "B1yb9EufHscW",
        "outputId": "e7679fd3-8e90-49eb-9437-c07b8cecda75"
      },
      "outputs": [
        {
          "name": "stdout",
          "output_type": "stream",
          "text": [
            "First X sample (original)  : [0.4  0.75]\n",
            "First X sample (padded)    : [0.4  0.75 0.1  0.1 ]\n",
            "First X sample (normalized): [0.46420708 0.87038828 0.11605177 0.11605177]\n",
            "First features sample      : [ 0.32973573 -0.78539816  0.78539816 -1.080839    1.080839  ]\n"
          ]
        }
      ],
      "source": [
        "data = np.loadtxt(\"variational_classifier/data/iris_classes1and2_scaled.txt\")\n",
        "X = data[:, 0:2]\n",
        "print(f\"First X sample (original)  : {X[0]}\")\n",
        "\n",
        "# pad the vectors to size 2^2=4 with constant values\n",
        "padding = np.ones((len(X), 2)) * 0.1\n",
        "X_pad = np.c_[X, padding]\n",
        "print(f\"First X sample (padded)    : {X_pad[0]}\")\n",
        "\n",
        "# normalize each input\n",
        "normalization = np.sqrt(np.sum(X_pad**2, -1))\n",
        "X_norm = (X_pad.T / normalization).T\n",
        "print(f\"First X sample (normalized): {X_norm[0]}\")\n",
        "\n",
        "# the angles for state preparation are the features\n",
        "features = np.array([get_angles(x) for x in X_norm], requires_grad=False)\n",
        "print(f\"First features sample      : {features[0]}\")\n",
        "\n",
        "Y = data[:, -1]"
      ]
    },
    {
      "cell_type": "markdown",
      "metadata": {
        "id": "j2_Q6DkbHsco"
      },
      "source": [
        "These angles are our new features, which is why we have renamed X to\n",
        "\"features\" above. Let's plot the stages of preprocessing and play around\n",
        "with the dimensions (dim1, dim2). Some of them still separate the\n",
        "classes well, while others are less informative.\n"
      ]
    },
    {
      "cell_type": "code",
      "execution_count": null,
      "metadata": {
        "id": "WHr-1EI5Hsco",
        "outputId": "5db43760-d458-4854-c017-c79e6d9b40a9"
      },
      "outputs": [
        {
          "data": {
            "image/png": "[encoded data removed]",
            "text/plain": [
              "<Figure size 640x480 with 1 Axes>"
            ]
          },
          "metadata": {},
          "output_type": "display_data"
        },
        {
          "data": {
            "image/png": "[encoded data removed]",
            "text/plain": [
              "<Figure size 640x480 with 1 Axes>"
            ]
          },
          "metadata": {},
          "output_type": "display_data"
        },
        {
          "data": {
            "image/png": "[encoded data removed]",
            "text/plain": [
              "<Figure size 640x480 with 1 Axes>"
            ]
          },
          "metadata": {},
          "output_type": "display_data"
        }
      ],
      "source": [
        "import matplotlib.pyplot as plt\n",
        "\n",
        "plt.figure()\n",
        "plt.scatter(X[:, 0][Y == 1], X[:, 1][Y == 1], c=\"b\", marker=\"o\", ec=\"k\")\n",
        "plt.scatter(X[:, 0][Y == -1], X[:, 1][Y == -1], c=\"r\", marker=\"o\", ec=\"k\")\n",
        "plt.title(\"Original data\")\n",
        "plt.show()\n",
        "\n",
        "plt.figure()\n",
        "dim1 = 0\n",
        "dim2 = 1\n",
        "plt.scatter(X_norm[:, dim1][Y == 1], X_norm[:, dim2][Y == 1], c=\"b\", marker=\"o\", ec=\"k\")\n",
        "plt.scatter(X_norm[:, dim1][Y == -1], X_norm[:, dim2][Y == -1], c=\"r\", marker=\"o\", ec=\"k\")\n",
        "plt.title(f\"Padded and normalised data (dims {dim1} and {dim2})\")\n",
        "plt.show()\n",
        "\n",
        "plt.figure()\n",
        "dim1 = 0\n",
        "dim2 = 3\n",
        "plt.scatter(features[:, dim1][Y == 1], features[:, dim2][Y == 1], c=\"b\", marker=\"o\", ec=\"k\")\n",
        "plt.scatter(features[:, dim1][Y == -1], features[:, dim2][Y == -1], c=\"r\", marker=\"o\", ec=\"k\")\n",
        "plt.title(f\"Feature vectors (dims {dim1} and {dim2})\")\n",
        "plt.show()"
      ]
    },
    {
      "cell_type": "markdown",
      "metadata": {
        "id": "ZJys2QEKHscp"
      },
      "source": [
        "This time we want to generalize from the data samples. This means that\n",
        "we want to train our model on one set of data and test its performance\n",
        "on a second set of data that has not been used in training. To monitor\n",
        "the generalization performance, the data is split into training and\n",
        "validation set.\n"
      ]
    },
    {
      "cell_type": "code",
      "execution_count": null,
      "metadata": {
        "id": "P5jhs_iuHscp"
      },
      "outputs": [],
      "source": [
        "np.random.seed(0)\n",
        "num_data = len(Y)\n",
        "num_train = int(0.75 * num_data)\n",
        "index = np.random.permutation(range(num_data))\n",
        "feats_train = features[index[:num_train]]\n",
        "Y_train = Y[index[:num_train]]\n",
        "feats_val = features[index[num_train:]]\n",
        "Y_val = Y[index[num_train:]]\n",
        "\n",
        "# We need these later for plotting\n",
        "X_train = X[index[:num_train]]\n",
        "X_val = X[index[num_train:]]"
      ]
    },
    {
      "cell_type": "markdown",
      "metadata": {
        "id": "S5wih6gwHscp"
      },
      "source": [
        "# Optimization\n",
        "\n",
        "First we initialize the variables.\n"
      ]
    },
    {
      "cell_type": "code",
      "execution_count": null,
      "metadata": {
        "id": "GlDbEAtIHscq"
      },
      "outputs": [],
      "source": [
        "num_qubits = 2\n",
        "num_layers = 6\n",
        "\n",
        "weights_init = 0.01 * np.random.randn(num_layers, num_qubits, 3, requires_grad=True)"
      ]
    },
    {
      "cell_type": "markdown",
      "metadata": {
        "id": "d9SUJJ1kHscq"
      },
      "source": [
        "Again we minimize the cost, using the imported optimizer.\n"
      ]
    },
    {
      "cell_type": "code",
      "execution_count": null,
      "metadata": {
        "id": "UbuDOstAHscq",
        "outputId": "257bcf5a-d8ba-4d93-88d3-5b749b90ed53"
      },
      "outputs": [
        {
          "name": "stdout",
          "output_type": "stream",
          "text": [
            "Iter:     2 | Cost: 1.8170280 | Acc train: 0.4800000 | Acc validation: 0.5600000\n",
            "Iter:     4 | Cost: 1.7118028 | Acc train: 0.4800000 | Acc validation: 0.5600000\n",
            "Iter:     6 | Cost: 1.5725104 | Acc train: 0.4933333 | Acc validation: 0.5600000\n",
            "Iter:     8 | Cost: 1.3431735 | Acc train: 0.4933333 | Acc validation: 0.5600000\n",
            "Iter:    10 | Cost: 1.2131960 | Acc train: 0.4933333 | Acc validation: 0.5600000\n",
            "Iter:    12 | Cost: 1.0315746 | Acc train: 0.4533333 | Acc validation: 0.5600000\n",
            "Iter:    14 | Cost: 0.9570747 | Acc train: 0.6000000 | Acc validation: 0.6400000\n",
            "Iter:    16 | Cost: 1.0860465 | Acc train: 0.5466667 | Acc validation: 0.4800000\n",
            "Iter:    18 | Cost: 1.2278700 | Acc train: 0.5333333 | Acc validation: 0.4400000\n",
            "Iter:    20 | Cost: 1.2371140 | Acc train: 0.5466667 | Acc validation: 0.4400000\n",
            "Iter:    22 | Cost: 1.1433678 | Acc train: 0.5600000 | Acc validation: 0.4800000\n",
            "Iter:    24 | Cost: 0.9780073 | Acc train: 0.5600000 | Acc validation: 0.4800000\n",
            "Iter:    26 | Cost: 0.7468047 | Acc train: 0.6000000 | Acc validation: 0.5600000\n",
            "Iter:    28 | Cost: 0.5584351 | Acc train: 0.7600000 | Acc validation: 0.7600000\n",
            "Iter:    30 | Cost: 0.4128655 | Acc train: 0.8800000 | Acc validation: 0.8400000\n",
            "Iter:    32 | Cost: 0.2830518 | Acc train: 0.9466667 | Acc validation: 0.9200000\n",
            "Iter:    34 | Cost: 0.2231913 | Acc train: 0.9866667 | Acc validation: 1.0000000\n",
            "Iter:    36 | Cost: 0.2171499 | Acc train: 1.0000000 | Acc validation: 1.0000000\n",
            "Iter:    38 | Cost: 0.2437841 | Acc train: 1.0000000 | Acc validation: 1.0000000\n",
            "Iter:    40 | Cost: 0.2987469 | Acc train: 0.9600000 | Acc validation: 0.9200000\n",
            "Iter:    42 | Cost: 0.3761177 | Acc train: 0.9200000 | Acc validation: 0.8800000\n",
            "Iter:    44 | Cost: 0.4447443 | Acc train: 0.8000000 | Acc validation: 0.8400000\n",
            "Iter:    46 | Cost: 0.4596013 | Acc train: 0.8000000 | Acc validation: 0.8400000\n",
            "Iter:    48 | Cost: 0.4810266 | Acc train: 0.7466667 | Acc validation: 0.7600000\n",
            "Iter:    50 | Cost: 0.4864908 | Acc train: 0.7466667 | Acc validation: 0.7600000\n",
            "Iter:    52 | Cost: 0.4913791 | Acc train: 0.7466667 | Acc validation: 0.7600000\n",
            "Iter:    54 | Cost: 0.4938694 | Acc train: 0.7466667 | Acc validation: 0.7600000\n",
            "Iter:    56 | Cost: 0.4918345 | Acc train: 0.7466667 | Acc validation: 0.7600000\n",
            "Iter:    58 | Cost: 0.4537042 | Acc train: 0.8000000 | Acc validation: 0.8400000\n",
            "Iter:    60 | Cost: 0.3799729 | Acc train: 0.9066667 | Acc validation: 0.8800000\n",
            "Iter:    62 | Cost: 0.3054002 | Acc train: 0.9600000 | Acc validation: 0.9200000\n",
            "Iter:    64 | Cost: 0.2478809 | Acc train: 1.0000000 | Acc validation: 1.0000000\n",
            "Iter:    66 | Cost: 0.2203831 | Acc train: 1.0000000 | Acc validation: 1.0000000\n",
            "Iter:    68 | Cost: 0.2172391 | Acc train: 1.0000000 | Acc validation: 1.0000000\n",
            "Iter:    70 | Cost: 0.2233054 | Acc train: 0.9866667 | Acc validation: 1.0000000\n",
            "Iter:    72 | Cost: 0.2262407 | Acc train: 0.9866667 | Acc validation: 1.0000000\n",
            "Iter:    74 | Cost: 0.2236833 | Acc train: 0.9866667 | Acc validation: 1.0000000\n",
            "Iter:    76 | Cost: 0.2208818 | Acc train: 0.9866667 | Acc validation: 1.0000000\n",
            "Iter:    78 | Cost: 0.2193694 | Acc train: 1.0000000 | Acc validation: 1.0000000\n",
            "Iter:    80 | Cost: 0.2136620 | Acc train: 1.0000000 | Acc validation: 1.0000000\n",
            "Iter:    82 | Cost: 0.2127236 | Acc train: 1.0000000 | Acc validation: 1.0000000\n",
            "Iter:    84 | Cost: 0.2123721 | Acc train: 1.0000000 | Acc validation: 1.0000000\n",
            "Iter:    86 | Cost: 0.2138918 | Acc train: 1.0000000 | Acc validation: 1.0000000\n",
            "Iter:    88 | Cost: 0.2157515 | Acc train: 1.0000000 | Acc validation: 1.0000000\n",
            "Iter:    90 | Cost: 0.2149219 | Acc train: 1.0000000 | Acc validation: 1.0000000\n",
            "Iter:    92 | Cost: 0.2143126 | Acc train: 1.0000000 | Acc validation: 1.0000000\n",
            "Iter:    94 | Cost: 0.2127318 | Acc train: 1.0000000 | Acc validation: 1.0000000\n",
            "Iter:    96 | Cost: 0.2144057 | Acc train: 1.0000000 | Acc validation: 1.0000000\n",
            "Iter:    98 | Cost: 0.2252790 | Acc train: 0.9866667 | Acc validation: 1.0000000\n",
            "Iter:   100 | Cost: 0.2428351 | Acc train: 0.9866667 | Acc validation: 1.0000000\n",
            "Iter:   102 | Cost: 0.2524435 | Acc train: 0.9733333 | Acc validation: 1.0000000\n",
            "Iter:   104 | Cost: 0.2616708 | Acc train: 0.9600000 | Acc validation: 1.0000000\n",
            "Iter:   106 | Cost: 0.2745011 | Acc train: 0.9466667 | Acc validation: 0.9600000\n",
            "Iter:   108 | Cost: 0.2899815 | Acc train: 0.9466667 | Acc validation: 0.9200000\n",
            "Iter:   110 | Cost: 0.2892240 | Acc train: 0.9333333 | Acc validation: 0.9600000\n",
            "Iter:   112 | Cost: 0.2862467 | Acc train: 0.9466667 | Acc validation: 0.9600000\n",
            "Iter:   114 | Cost: 0.2745160 | Acc train: 0.9466667 | Acc validation: 0.9600000\n",
            "Iter:   116 | Cost: 0.2709299 | Acc train: 0.9600000 | Acc validation: 1.0000000\n",
            "Iter:   118 | Cost: 0.2722315 | Acc train: 0.9466667 | Acc validation: 0.9600000\n",
            "Iter:   120 | Cost: 0.2556747 | Acc train: 0.9600000 | Acc validation: 1.0000000\n",
            "Iter:   122 | Cost: 0.2374472 | Acc train: 0.9866667 | Acc validation: 1.0000000\n",
            "Iter:   124 | Cost: 0.2232529 | Acc train: 1.0000000 | Acc validation: 1.0000000\n",
            "Iter:   126 | Cost: 0.2187376 | Acc train: 1.0000000 | Acc validation: 1.0000000\n",
            "Iter:   128 | Cost: 0.2221819 | Acc train: 1.0000000 | Acc validation: 1.0000000\n",
            "Iter:   130 | Cost: 0.2345909 | Acc train: 1.0000000 | Acc validation: 1.0000000\n",
            "Iter:   132 | Cost: 0.2540137 | Acc train: 1.0000000 | Acc validation: 0.9600000\n",
            "Iter:   134 | Cost: 0.2806295 | Acc train: 0.9600000 | Acc validation: 0.9200000\n",
            "Iter:   136 | Cost: 0.2836671 | Acc train: 0.9600000 | Acc validation: 0.9200000\n",
            "Iter:   138 | Cost: 0.2607984 | Acc train: 0.9733333 | Acc validation: 0.9200000\n",
            "Iter:   140 | Cost: 0.2379888 | Acc train: 1.0000000 | Acc validation: 1.0000000\n",
            "Iter:   142 | Cost: 0.2206319 | Acc train: 1.0000000 | Acc validation: 1.0000000\n",
            "Iter:   144 | Cost: 0.2147808 | Acc train: 1.0000000 | Acc validation: 1.0000000\n",
            "Iter:   146 | Cost: 0.2157716 | Acc train: 1.0000000 | Acc validation: 1.0000000\n",
            "Iter:   148 | Cost: 0.2180991 | Acc train: 1.0000000 | Acc validation: 1.0000000\n",
            "Iter:   150 | Cost: 0.2257313 | Acc train: 1.0000000 | Acc validation: 1.0000000\n",
            "Iter:   152 | Cost: 0.2319168 | Acc train: 1.0000000 | Acc validation: 1.0000000\n",
            "Iter:   154 | Cost: 0.2296554 | Acc train: 1.0000000 | Acc validation: 1.0000000\n",
            "Iter:   156 | Cost: 0.2291690 | Acc train: 1.0000000 | Acc validation: 1.0000000\n",
            "Iter:   158 | Cost: 0.2293032 | Acc train: 1.0000000 | Acc validation: 1.0000000\n",
            "Iter:   160 | Cost: 0.2260960 | Acc train: 1.0000000 | Acc validation: 1.0000000\n",
            "Iter:   162 | Cost: 0.2221019 | Acc train: 1.0000000 | Acc validation: 1.0000000\n",
            "Iter:   164 | Cost: 0.2161439 | Acc train: 1.0000000 | Acc validation: 1.0000000\n",
            "Iter:   166 | Cost: 0.2165858 | Acc train: 1.0000000 | Acc validation: 1.0000000\n",
            "Iter:   168 | Cost: 0.2211587 | Acc train: 0.9866667 | Acc validation: 1.0000000\n",
            "Iter:   170 | Cost: 0.2265074 | Acc train: 0.9866667 | Acc validation: 1.0000000\n",
            "Iter:   172 | Cost: 0.2236168 | Acc train: 0.9866667 | Acc validation: 1.0000000\n",
            "Iter:   174 | Cost: 0.2169597 | Acc train: 1.0000000 | Acc validation: 1.0000000\n",
            "Iter:   176 | Cost: 0.2127072 | Acc train: 1.0000000 | Acc validation: 1.0000000\n",
            "Iter:   178 | Cost: 0.2119511 | Acc train: 1.0000000 | Acc validation: 1.0000000\n",
            "Iter:   180 | Cost: 0.2142192 | Acc train: 1.0000000 | Acc validation: 1.0000000\n",
            "Iter:   182 | Cost: 0.2166901 | Acc train: 1.0000000 | Acc validation: 1.0000000\n",
            "Iter:   184 | Cost: 0.2172920 | Acc train: 1.0000000 | Acc validation: 1.0000000\n",
            "Iter:   186 | Cost: 0.2186481 | Acc train: 1.0000000 | Acc validation: 1.0000000\n",
            "Iter:   188 | Cost: 0.2202841 | Acc train: 1.0000000 | Acc validation: 1.0000000\n",
            "Iter:   190 | Cost: 0.2245185 | Acc train: 1.0000000 | Acc validation: 1.0000000\n",
            "Iter:   192 | Cost: 0.2356096 | Acc train: 1.0000000 | Acc validation: 1.0000000\n",
            "Iter:   194 | Cost: 0.2436384 | Acc train: 1.0000000 | Acc validation: 1.0000000\n",
            "Iter:   196 | Cost: 0.2321162 | Acc train: 1.0000000 | Acc validation: 1.0000000\n",
            "Iter:   198 | Cost: 0.2248687 | Acc train: 1.0000000 | Acc validation: 1.0000000\n",
            "Iter:   200 | Cost: 0.2245355 | Acc train: 1.0000000 | Acc validation: 1.0000000\n"
          ]
        }
      ],
      "source": [
        "opt = MomentumQNGOptimizer(0.001)\n",
        "#opt = qml.QNGOptimizer(0.01)\n",
        "\n",
        "batch_size = 5\n",
        "\n",
        "# train the variational classifier\n",
        "weights = weights_init\n",
        "for it in range(200):\n",
        "    # Update the weights by one optimizer step\n",
        "    batch_index = np.random.randint(0, num_train, (batch_size,))\n",
        "    feats_train_batch = feats_train[batch_index]\n",
        "    Y_train_batch = Y_train[batch_index]\n",
        "    cost_fn = lambda w: cost(w, feats_train_batch, Y_train_batch)\n",
        "    metric_fn = lambda w: np.sum([qml.metric_tensor(circuit, approx=\"block-diag\")(w, sample) for sample in feats_train_batch], axis=0)/batch_size #we average the metric tensor over the batch\n",
        "\n",
        "    weights, loss = opt.step_and_cost(cost_fn, weights, metric_tensor_fn=metric_fn)\n",
        "\n",
        "\n",
        "    # Compute predictions on train and validation set\n",
        "    predictions_train = np.sign(variational_classifier(weights, feats_train.T))\n",
        "    predictions_val = np.sign(variational_classifier(weights, feats_val.T))\n",
        "    # Compute accuracy on train and validation set\n",
        "    acc_train = accuracy(Y_train, predictions_train)\n",
        "    acc_val = accuracy(Y_val, predictions_val)\n",
        "\n",
        "    if (it + 1) % 2 == 0:\n",
        "        _cost = cost(weights, features, Y)\n",
        "        print(\n",
        "            f\"Iter: {it + 1:5d} | Cost: {_cost:0.7f} | \"\n",
        "            f\"Acc train: {acc_train:0.7f} | Acc validation: {acc_val:0.7f}\"\n",
        "        )"
      ]
    },
    {
      "cell_type": "markdown",
      "metadata": {
        "id": "T5JghgZDHscr"
      },
      "source": [
        "We can plot the continuous output of the variational classifier for the\n",
        "first two dimensions of the Iris data set.\n"
      ]
    },
    {
      "cell_type": "code",
      "execution_count": null,
      "metadata": {
        "id": "1HIuciqCHscr",
        "outputId": "48dae145-a89c-44e7-a460-26a65befd6c3"
      },
      "outputs": [
        {
          "data": {
            "image/png": "[encoded data removed]",
            "text/plain": [
              "<Figure size 640x480 with 2 Axes>"
            ]
          },
          "metadata": {},
          "output_type": "display_data"
        }
      ],
      "source": [
        "plt.figure()\n",
        "cm = plt.cm.RdBu\n",
        "\n",
        "# make data for decision regions\n",
        "xx, yy = np.meshgrid(np.linspace(0.0, 1.5, 30), np.linspace(0.0, 1.5, 30))\n",
        "X_grid = [np.array([x, y]) for x, y in zip(xx.flatten(), yy.flatten())]\n",
        "\n",
        "# preprocess grid points like data inputs above\n",
        "padding = 0.1 * np.ones((len(X_grid), 2))\n",
        "X_grid = np.c_[X_grid, padding]  # pad each input\n",
        "normalization = np.sqrt(np.sum(X_grid**2, -1))\n",
        "X_grid = (X_grid.T / normalization).T  # normalize each input\n",
        "features_grid = np.array([get_angles(x) for x in X_grid])  # angles are new features\n",
        "predictions_grid = variational_classifier(weights, features_grid.T)\n",
        "Z = np.reshape(predictions_grid, xx.shape)\n",
        "\n",
        "# plot decision regions\n",
        "levels = np.arange(-1, 1.1, 0.1)\n",
        "cnt = plt.contourf(xx, yy, Z, levels=levels, cmap=cm, alpha=0.8, extend=\"both\")\n",
        "plt.contour(xx, yy, Z, levels=[0.0], colors=(\"black\",), linestyles=(\"--\",), linewidths=(0.8,))\n",
        "plt.colorbar(cnt, ticks=[-1, 0, 1])\n",
        "\n",
        "# plot data\n",
        "for color, label in zip([\"b\", \"r\"], [1, -1]):\n",
        "    plot_x = X_train[:, 0][Y_train == label]\n",
        "    plot_y = X_train[:, 1][Y_train == label]\n",
        "    plt.scatter(plot_x, plot_y, c=color, marker=\"o\", ec=\"k\", label=f\"class {label} train\")\n",
        "    plot_x = (X_val[:, 0][Y_val == label],)\n",
        "    plot_y = (X_val[:, 1][Y_val == label],)\n",
        "    plt.scatter(plot_x, plot_y, c=color, marker=\"^\", ec=\"k\", label=f\"class {label} validation\")\n",
        "\n",
        "plt.legend()\n",
        "plt.show()"
      ]
    },
    {
      "cell_type": "markdown",
      "metadata": {
        "id": "6QGDRPMBHscr"
      },
      "source": [
        "We find that the variational classifier learnt a separating line between\n",
        "the datapoints of the two different classes, which allows it to classify\n",
        "even the unseen validation data with perfect accuracy.\n"
      ]
    }
  ],
  "metadata": {
    "colab": {
      "provenance": [],
      "include_colab_link": true
    },
    "kernelspec": {
      "display_name": "Python 3 (ipykernel)",
      "language": "python",
      "name": "python3"
    },
    "language_info": {
      "codemirror_mode": {
        "name": "ipython",
        "version": 3
      },
      "file_extension": ".py",
      "mimetype": "text/x-python",
      "name": "python",
      "nbconvert_exporter": "python",
      "pygments_lexer": "ipython3",
      "version": "3.12.4"
    }
  },
  "nbformat": 4,
  "nbformat_minor": 0
}