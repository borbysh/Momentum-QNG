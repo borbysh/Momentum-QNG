{
 "cells": [
  {
   "cell_type": "markdown",
   "metadata": {
    "colab_type": "text",
    "id": "view-in-github"
   },
   "source": [
    "<a href=\"https://colab.research.google.com/github/borbysh/Momentum-QNG/blob/main/Quantum_Machine_Learning/autoencoder.ipynb\" target=\"_parent\"><img src=\"https://colab.research.google.com/assets/colab-badge.svg\" alt=\"Open In Colab\"/></a>"
   ]
  },
  {
   "cell_type": "code",
   "execution_count": 1,
   "metadata": {
    "colab": {
     "base_uri": "https://localhost:8080/"
    },
    "id": "YEyeZu89WruN",
    "outputId": "7934d57a-54c8-4254-f05d-652ee92c4cee"
   },
   "outputs": [],
   "source": [
    "!pip install pennylane\n",
    "!pip install ipyparallel"
   ]
  },
  {
   "cell_type": "code",
   "execution_count": null,
   "metadata": {},
   "outputs": [],
   "source": [
    "# for run this script install 'ipyparallel' and launch in terminal for current enviroment next command:\n",
    "# ipcluster start -n 10"
   ]
  },
  {
   "cell_type": "code",
   "execution_count": 2,
   "metadata": {},
   "outputs": [],
   "source": [
    "import pennylane as qml\n",
    "from pennylane import numpy as np"
   ]
  },
  {
   "cell_type": "code",
   "execution_count": 3,
   "metadata": {},
   "outputs": [],
   "source": [
    "from ipyparallel import Client\n",
    "\n",
    "rc = Client()\n",
    "dview = rc[:]\n",
    "\n",
    "@dview.parallel(block=True)\n",
    "def run_session(args):\n",
    "    import pennylane as qml\n",
    "    from pennylane import numpy as np\n",
    "    import time\n",
    "    from datetime import datetime\n",
    "    import os\n",
    "    cur_dir = os.getcwd()\n",
    "    \n",
    "    Nwires = 5\n",
    "    dev = qml.device(\"default.qubit\", wires=Nwires)\n",
    "    \n",
    "    @qml.qnode(dev)\n",
    "    def circuit(params, data):\n",
    "        qml.AngleEmbedding(data, wires=range(Nwires))\n",
    "        qml.StronglyEntanglingLayers(params, wires=range(Nwires))\n",
    "        return qml.expval(qml.PauliZ(Nwires-1))\n",
    "        #return qml.expval(qml.PauliZ(0))\n",
    "    \n",
    "    def cost(params, single_sample):\n",
    "         return (1 - circuit(params, single_sample)) ** 2 \n",
    "        \n",
    "    def cost_batch(params, data):\n",
    "         return np.sum((1 - circuit(params, single_sample)) ** 2 for single_sample in data) / Nbatch\n",
    "\n",
    "\n",
    "    OptimizerClass, caption, Niter, Ninit,Nbatch, lrs, seed, dir4save = args\n",
    "    \n",
    "    np.random.seed(seed)\n",
    "    date_string = datetime.now().strftime(\"%Y.%m.%d\")\n",
    "\n",
    "    print(f\"Start for {OptimizerClass.__name__}  date = {date_string}\")\n",
    "\n",
    "    all_costs = []\n",
    "    all_params = []\n",
    "    all_costs_mean = []\n",
    "    all_costs_stdev = []\n",
    "    cur_lrs = []\n",
    "    \n",
    "    use_metric = False\n",
    "    if \"QNG\" in OptimizerClass.__name__:\n",
    "        use_metric = True\n",
    "\n",
    "    times = []\n",
    "    for lr in lrs:\n",
    "        lr_costs = []\n",
    "        lr_accuracies = []\n",
    "        lr_params = []\n",
    "        timer = time.time()\n",
    "        for i in range(Ninit):\n",
    "            data = [np.random.random([Nwires], requires_grad=False) for _ in range(Nbatch)]\n",
    "            init_params = np.random.random(qml.StronglyEntanglingLayers.shape(Nwires, Nwires), requires_grad=True)        \n",
    "            opt = OptimizerClass(lr)\n",
    "            params = init_params\n",
    "            costs = []\n",
    "            for it in range(Niter):\n",
    "                for sample in data:\n",
    "                    #cost_fn = lambda p: cost(p, sample)\n",
    "                    cost_fn = lambda p: cost_batch(p, data)\n",
    "                    if( use_metric):\n",
    "                        #metric_fn = lambda p: qml.metric_tensor(circuit, approx=\"block-diag\")(p, sample)\n",
    "                        metric_fn = lambda p: np.sum((qml.metric_tensor(circuit, approx=\"block-diag\")(p, sample) for sample in data), axis = 0)/Nbatch\n",
    "                        params, loss = opt.step_and_cost(cost_fn, params,  metric_tensor_fn=metric_fn)\n",
    "                    else:\n",
    "                        params, loss = opt.step_and_cost(cost_fn, params)\n",
    "                costs.append(loss)\n",
    "            lr_costs.append(costs)\n",
    "            lr_params.append(params)\n",
    "        timer = time.time() - timer\n",
    "        times.append(timer)\n",
    "        print(f\"{OptimizerClass.__name__}:  lr = {lr:.5f}   time = {timer:.4} sec  loss = {np.mean(lr_costs, axis=0)[-1]}\")\n",
    "        all_costs.append(lr_costs)\n",
    "        all_params.append(lr_params)\n",
    "        all_costs_mean.append(np.mean(lr_costs, axis=0))\n",
    "        all_costs_stdev.append(np.std(lr_costs, axis=0))\n",
    "        cur_lrs.append(lr)\n",
    "        prefix = f\"{dir4save}/{caption}_{OptimizerClass.__name__}_{date_string}\"\n",
    "        np.save(f\"{prefix}_lrs.npy\",np.array(cur_lrs))\n",
    "        np.save(f\"{prefix}_all.npy\",np.array(all_costs, dtype=object), allow_pickle=True)\n",
    "        np.save(f\"{prefix}_params.npy\",np.array(all_params, dtype=object), allow_pickle=True)\n",
    "        np.save(f\"{prefix}_moments.npy\",np.array([all_costs_mean,all_costs_stdev], dtype=object), allow_pickle=True)\n",
    "    return cur_lrs, times"
   ]
  },
  {
   "cell_type": "code",
   "execution_count": 4,
   "metadata": {},
   "outputs": [
    {
     "name": "stdout",
     "output_type": "stream",
     "text": [
      "total time 0.1161 hr\n",
      "415.90216636657715\n",
      "416.46477484703064\n",
      "415.9546220302582\n",
      "415.10907459259033\n",
      "413.93406772613525\n",
      "415.4040701389313\n",
      "415.0740740299225\n",
      "414.5872161388397\n",
      "199.96275854110718\n",
      "200.28431057929993\n"
     ]
    }
   ],
   "source": [
    "import time\n",
    "import os\n",
    "cur_dir = os.getcwd()\n",
    "\n",
    "#change parameters as needed\n",
    "####\n",
    "Nbatch = 10\n",
    "Niter = 5\n",
    "Ninit = 1\n",
    "lrs = np.logspace(-3, 0, num=10, base=10)\n",
    "seed = 3141592\n",
    "####\n",
    "\n",
    "param_list = [\n",
    "              (qml.QNGOptimizer, \"ae2_1\", Niter, Ninit,Nbatch, lrs[1:3], seed, cur_dir),\n",
    "              (qml.QNGOptimizer, \"ae2_2\", Niter, Ninit,Nbatch, lrs[3:5], seed, cur_dir),\n",
    "              (qml.QNGOptimizer, \"ae2_3\", Niter, Ninit,Nbatch, lrs[5:7], seed, cur_dir), \n",
    "              (qml.QNGOptimizer, \"ae2_4\", Niter, Ninit,Nbatch, lrs[7:9], seed, cur_dir), \n",
    "              (qml.MomentumQNGOptimizer, \"ae2_1\", Niter, Ninit,Nbatch, lrs[0:2], seed, cur_dir),\n",
    "              (qml.MomentumQNGOptimizer, \"ae2_2\", Niter, Ninit,Nbatch, lrs[2:4], seed, cur_dir),\n",
    "              (qml.MomentumQNGOptimizer, \"ae2_3\", Niter, Ninit,Nbatch, lrs[4:6], seed, cur_dir), \n",
    "              (qml.MomentumQNGOptimizer, \"ae2_4\", Niter, Ninit,Nbatch, lrs[6:8], seed, cur_dir), \n",
    "              (qml.AdamOptimizer, \"ae2\", Niter, Ninit,Nbatch, lrs, seed, cur_dir),\n",
    "              (qml.MomentumOptimizer, \"ae2\", Niter, Ninit,Nbatch, lrs, seed, cur_dir)\n",
    "             ]\n",
    "timer = time.time()\n",
    "results = run_session.map(param_list)\n",
    "timer = time.time() - timer\n",
    "print(f\"total time {timer/3600:.4} hr\")\n",
    "for l,t in results:\n",
    "    print(np.sum(t))\n",
    "\n"
   ]
  },
  {
   "cell_type": "code",
   "execution_count": null,
   "metadata": {},
   "outputs": [],
   "source": [
    "\n"
   ]
  },
  {
   "cell_type": "code",
   "execution_count": null,
   "metadata": {},
   "outputs": [],
   "source": [
    "import matplotlib.pyplot as plt\n",
    "\n",
    "def show(caption, OptimazerClass, date):\n",
    "    if isinstance(caption, tuple):\n",
    "        costs_mean = None\n",
    "        costs_stdev = None\n",
    "        llrs = None\n",
    "        for cap in caption:\n",
    "            prefix = f\"{cap}_{OptimazerClass.__name__}_{date}\"\n",
    "            [costs_mean_,costs_stdev_] = np.load(f\"{prefix}_moments.npy\", allow_pickle=True)\n",
    "            llrs_ = np.load(f\"{prefix}_lrs.npy\")\n",
    "            (Nlr_,Niter) = np.array(costs_mean_).shape\n",
    "            if llrs is None:\n",
    "                llrs = llrs_\n",
    "                costs_mean = costs_mean_\n",
    "                costs_stdev = costs_stdev_\n",
    "            else:\n",
    "                llrs = np.concatenate((llrs, llrs_), axis=0)\n",
    "                costs_mean = np.concatenate((costs_mean, costs_mean_), axis=0)\n",
    "                costs_stdev = np.concatenate((costs_stdev, costs_stdev_), axis=0)\n",
    "    else:\n",
    "        prefix = f\"{caption}_{OptimazerClass.__name__}_{date}\"\n",
    "        [costs_mean,costs_stdev] = np.load(f\"{prefix}_moments.npy\", allow_pickle=True)\n",
    "        llrs = np.load(f\"{prefix}_lrs.npy\")\n",
    "        (Nlr,Niter) = np.array(costs_mean).shape\n",
    "    \n",
    "    fig, ax = plt.subplots(figsize=(8, 5))\n",
    "    iters = np.linspace(1,Niter,Niter)\n",
    "    for index,lr in enumerate(llrs):\n",
    "        arr_y = costs_mean[index]\n",
    "        arr_y_plus_err  = [costs_mean[index][i] - costs_stdev[index][i] for i in range(Niter)]\n",
    "        arr_y_minus_err = [costs_mean[index][i] + costs_stdev[index][i] for i in range(Niter)]\n",
    "        ax.plot(iters, arr_y, label=f\"lr = {lr:.5f}\")\n",
    "        ax.fill_between(iters, arr_y_minus_err, arr_y_plus_err, alpha=0.1)\n",
    "    \n",
    "    ax.set_title(f\"Autoencoder #1: Costs for {OptimazerClass.__name__}\")\n",
    "    #ax.set_xlim(0, max(xpos)); ax.set_ylim(-1, 1)\n",
    "    ax.set_xlabel(\"Iteration\");\n",
    "    ax.set_ylabel(\"Cost\");\n",
    "    ax.legend()\n",
    "    ax.grid()\n",
    "    plt.yscale('log')\n",
    "    fig.tight_layout()\n",
    "    \n",
    "    plt.savefig(f\"ae2_{OptimazerClass.__name__}.png\", dpi=300, bbox_inches='tight')\n",
    "    plt.show() \n"
   ]
  },
  {
   "cell_type": "code",
   "execution_count": null,
   "metadata": {},
   "outputs": [],
   "source": [
    "date_str = \"2025.09.24\"\n",
    "show((\"ae2_1\",\"ae2_2\",\"ae2_3\",\"ae2_4\"),qml.MomentumQNGOptimizer,date_str)\n",
    "show((\"ae2_1\",\"ae2_2\",\"ae2_3\",\"ae2_4\"),qml.QNGOptimizer,date_str)\n",
    "show(\"ae2\",qml.MomentumOptimizer,date_str)\n",
    "show(\"ae2\",qml.AdamOptimizer,date_str)"
   ]
  },
  {
   "cell_type": "code",
   "execution_count": null,
   "metadata": {},
   "outputs": [],
   "source": []
  }
 ],
 "metadata": {
  "colab": {
   "include_colab_link": true,
   "provenance": []
  },
  "kernelspec": {
   "display_name": "Python 3 (ipykernel)",
   "language": "python",
   "name": "python3"
  },
  "language_info": {
   "codemirror_mode": {
    "name": "ipython",
    "version": 3
   },
   "file_extension": ".py",
   "mimetype": "text/x-python",
   "name": "python",
   "nbconvert_exporter": "python",
   "pygments_lexer": "ipython3",
   "version": "3.12.5"
  }
 },
 "nbformat": 4,
 "nbformat_minor": 4
}
