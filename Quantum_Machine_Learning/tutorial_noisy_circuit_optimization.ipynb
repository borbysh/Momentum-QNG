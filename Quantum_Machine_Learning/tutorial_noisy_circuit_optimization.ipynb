{
  "cells": [
    {
      "cell_type": "markdown",
      "metadata": {
        "id": "view-in-github",
        "colab_type": "text"
      },
      "source": [
        "<a href=\"https://colab.research.google.com/github/borbysh/Momentum-QNG/blob/main/Quantum_Machine_Learning/tutorial_noisy_circuit_optimization.ipynb\" target=\"_parent\"><img src=\"https://colab.research.google.com/assets/colab-badge.svg\" alt=\"Open In Colab\"/></a>"
      ]
    },
    {
      "cell_type": "code",
      "source": [
        "!pip install pennylane"
      ],
      "metadata": {
        "colab": {
          "base_uri": "https://localhost:8080/"
        },
        "id": "YEyeZu89WruN",
        "outputId": "eefa9ced-02c8-470c-fc83-e42db05b2b60"
      },
      "execution_count": 1,
      "outputs": [
        {
          "output_type": "stream",
          "name": "stdout",
          "text": [
            "Collecting pennylane\n",
            "  Downloading pennylane-0.42.3-py3-none-any.whl.metadata (11 kB)\n",
            "Requirement already satisfied: scipy in /usr/local/lib/python3.12/dist-packages (from pennylane) (1.16.1)\n",
            "Requirement already satisfied: networkx in /usr/local/lib/python3.12/dist-packages (from pennylane) (3.5)\n",
            "Collecting rustworkx>=0.14.0 (from pennylane)\n",
            "  Downloading rustworkx-0.17.1-cp39-abi3-manylinux_2_17_x86_64.manylinux2014_x86_64.whl.metadata (10 kB)\n",
            "Requirement already satisfied: autograd in /usr/local/lib/python3.12/dist-packages (from pennylane) (1.8.0)\n",
            "Collecting appdirs (from pennylane)\n",
            "  Downloading appdirs-1.4.4-py2.py3-none-any.whl.metadata (9.0 kB)\n",
            "Collecting autoray<0.8,>=0.6.11 (from pennylane)\n",
            "  Downloading autoray-0.7.2-py3-none-any.whl.metadata (5.8 kB)\n",
            "Requirement already satisfied: cachetools in /usr/local/lib/python3.12/dist-packages (from pennylane) (5.5.2)\n",
            "Collecting pennylane-lightning>=0.42 (from pennylane)\n",
            "  Downloading pennylane_lightning-0.42.0-cp312-cp312-manylinux_2_28_x86_64.whl.metadata (11 kB)\n",
            "Requirement already satisfied: requests in /usr/local/lib/python3.12/dist-packages (from pennylane) (2.32.4)\n",
            "Requirement already satisfied: tomlkit in /usr/local/lib/python3.12/dist-packages (from pennylane) (0.13.3)\n",
            "Requirement already satisfied: typing_extensions in /usr/local/lib/python3.12/dist-packages (from pennylane) (4.15.0)\n",
            "Requirement already satisfied: packaging in /usr/local/lib/python3.12/dist-packages (from pennylane) (25.0)\n",
            "Collecting diastatic-malt (from pennylane)\n",
            "  Downloading diastatic_malt-2.15.2-py3-none-any.whl.metadata (2.6 kB)\n",
            "Requirement already satisfied: numpy in /usr/local/lib/python3.12/dist-packages (from pennylane) (2.0.2)\n",
            "Collecting scipy-openblas32>=0.3.26 (from pennylane-lightning>=0.42->pennylane)\n",
            "  Downloading scipy_openblas32-0.3.30.0.2-py3-none-manylinux2014_x86_64.manylinux_2_17_x86_64.whl.metadata (57 kB)\n",
            "\u001b[2K     \u001b[90m━━━━━━━━━━━━━━━━━━━━━━━━━━━━━━━━━━━━━━━━\u001b[0m \u001b[32m57.1/57.1 kB\u001b[0m \u001b[31m2.3 MB/s\u001b[0m eta \u001b[36m0:00:00\u001b[0m\n",
            "\u001b[?25hRequirement already satisfied: astunparse in /usr/local/lib/python3.12/dist-packages (from diastatic-malt->pennylane) (1.6.3)\n",
            "Requirement already satisfied: gast in /usr/local/lib/python3.12/dist-packages (from diastatic-malt->pennylane) (0.6.0)\n",
            "Requirement already satisfied: termcolor in /usr/local/lib/python3.12/dist-packages (from diastatic-malt->pennylane) (3.1.0)\n",
            "Requirement already satisfied: charset_normalizer<4,>=2 in /usr/local/lib/python3.12/dist-packages (from requests->pennylane) (3.4.3)\n",
            "Requirement already satisfied: idna<4,>=2.5 in /usr/local/lib/python3.12/dist-packages (from requests->pennylane) (3.10)\n",
            "Requirement already satisfied: urllib3<3,>=1.21.1 in /usr/local/lib/python3.12/dist-packages (from requests->pennylane) (2.5.0)\n",
            "Requirement already satisfied: certifi>=2017.4.17 in /usr/local/lib/python3.12/dist-packages (from requests->pennylane) (2025.8.3)\n",
            "Requirement already satisfied: wheel<1.0,>=0.23.0 in /usr/local/lib/python3.12/dist-packages (from astunparse->diastatic-malt->pennylane) (0.45.1)\n",
            "Requirement already satisfied: six<2.0,>=1.6.1 in /usr/local/lib/python3.12/dist-packages (from astunparse->diastatic-malt->pennylane) (1.17.0)\n",
            "Downloading pennylane-0.42.3-py3-none-any.whl (4.8 MB)\n",
            "\u001b[2K   \u001b[90m━━━━━━━━━━━━━━━━━━━━━━━━━━━━━━━━━━━━━━━━\u001b[0m \u001b[32m4.8/4.8 MB\u001b[0m \u001b[31m32.1 MB/s\u001b[0m eta \u001b[36m0:00:00\u001b[0m\n",
            "\u001b[?25hDownloading autoray-0.7.2-py3-none-any.whl (930 kB)\n",
            "\u001b[2K   \u001b[90m━━━━━━━━━━━━━━━━━━━━━━━━━━━━━━━━━━━━━━━━\u001b[0m \u001b[32m930.8/930.8 kB\u001b[0m \u001b[31m49.5 MB/s\u001b[0m eta \u001b[36m0:00:00\u001b[0m\n",
            "\u001b[?25hDownloading pennylane_lightning-0.42.0-cp312-cp312-manylinux_2_28_x86_64.whl (2.6 MB)\n",
            "\u001b[2K   \u001b[90m━━━━━━━━━━━━━━━━━━━━━━━━━━━━━━━━━━━━━━━━\u001b[0m \u001b[32m2.6/2.6 MB\u001b[0m \u001b[31m67.4 MB/s\u001b[0m eta \u001b[36m0:00:00\u001b[0m\n",
            "\u001b[?25hDownloading rustworkx-0.17.1-cp39-abi3-manylinux_2_17_x86_64.manylinux2014_x86_64.whl (2.2 MB)\n",
            "\u001b[2K   \u001b[90m━━━━━━━━━━━━━━━━━━━━━━━━━━━━━━━━━━━━━━━━\u001b[0m \u001b[32m2.2/2.2 MB\u001b[0m \u001b[31m79.0 MB/s\u001b[0m eta \u001b[36m0:00:00\u001b[0m\n",
            "\u001b[?25hDownloading appdirs-1.4.4-py2.py3-none-any.whl (9.6 kB)\n",
            "Downloading diastatic_malt-2.15.2-py3-none-any.whl (167 kB)\n",
            "\u001b[2K   \u001b[90m━━━━━━━━━━━━━━━━━━━━━━━━━━━━━━━━━━━━━━━━\u001b[0m \u001b[32m167.9/167.9 kB\u001b[0m \u001b[31m13.1 MB/s\u001b[0m eta \u001b[36m0:00:00\u001b[0m\n",
            "\u001b[?25hDownloading scipy_openblas32-0.3.30.0.2-py3-none-manylinux2014_x86_64.manylinux_2_17_x86_64.whl (8.6 MB)\n",
            "\u001b[2K   \u001b[90m━━━━━━━━━━━━━━━━━━━━━━━━━━━━━━━━━━━━━━━━\u001b[0m \u001b[32m8.6/8.6 MB\u001b[0m \u001b[31m105.7 MB/s\u001b[0m eta \u001b[36m0:00:00\u001b[0m\n",
            "\u001b[?25hInstalling collected packages: appdirs, scipy-openblas32, rustworkx, autoray, diastatic-malt, pennylane-lightning, pennylane\n",
            "Successfully installed appdirs-1.4.4 autoray-0.7.2 diastatic-malt-2.15.2 pennylane-0.42.3 pennylane-lightning-0.42.0 rustworkx-0.17.1 scipy-openblas32-0.3.30.0.2\n"
          ]
        }
      ]
    },
    {
      "cell_type": "markdown",
      "source": [
        "Adopted from this thread: https://discuss.pennylane.ai/t/training-with-qng-optimizer-on-circuit-with-data-argument/2067"
      ],
      "metadata": {
        "id": "-wrN38fIFZ10"
      }
    },
    {
      "cell_type": "code",
      "source": [
        "import pennylane as qml\n",
        "from pennylane import numpy as np\n",
        "\n",
        "Nwires = 5\n",
        "dev = qml.device(\"default.qubit\", wires=Nwires)\n",
        "\n",
        "@qml.qnode(dev)\n",
        "def circuit(params, data):\n",
        "    qml.AngleEmbedding(data, wires=[i for i in range(Nwires)])\n",
        "    qml.StronglyEntanglingLayers(params, wires=[i for i in range(Nwires)])\n",
        "    return qml.expval(qml.PauliZ(Nwires-1))\n",
        "\n",
        "#data = np.random.random([3], requires_grad=False)\n",
        "#params = np.random.random(qml.StronglyEntanglingLayers.shape(3, 3), requires_grad=True)\n",
        "\n",
        "#def cost(params, single_sample):\n",
        "     #return (1 - circuit(params, single_sample)) ** 2\n",
        "Nbatch = 10\n",
        "data = [np.random.random([Nwires], requires_grad=False) for _ in range(Nbatch)]\n",
        "params = np.random.random(qml.StronglyEntanglingLayers.shape(Nwires, Nwires), requires_grad=True)\n",
        "\n",
        "def cost(params, data):\n",
        "     return np.sum((1 - circuit(params, single_sample)) ** 2 for single_sample in data) / Nbatch\n",
        "opt = qml.MomentumQNGOptimizer(0.1)\n",
        "#opt = qml.AdamOptimizer()\n",
        "for it in range(10):\n",
        "    for sample in data: #range(10):\n",
        "        cost_fn = lambda p: cost(p, data)\n",
        "        metric_fn = lambda p: qml.metric_tensor(circuit, approx=\"block-diag\")(p, sample) #data)\n",
        "\n",
        "        params, loss = opt.step_and_cost(cost_fn, params,  metric_tensor_fn=metric_fn)\n",
        "\n",
        "    print(f\"Epoch: {it} | Loss: {loss} |\")"
      ],
      "metadata": {
        "colab": {
          "base_uri": "https://localhost:8080/"
        },
        "id": "G9FYW7qOWi4M",
        "outputId": "dbeaed24-cc54-4c99-8199-eb52707b4ea6"
      },
      "execution_count": 20,
      "outputs": [
        {
          "output_type": "stream",
          "name": "stdout",
          "text": [
            "Epoch: 0 | Loss: 0.8594869271753922 |\n",
            "Epoch: 1 | Loss: 0.5573272778190229 |\n",
            "Epoch: 2 | Loss: 0.273154129617792 |\n",
            "Epoch: 3 | Loss: 0.17041369926917843 |\n",
            "Epoch: 4 | Loss: 0.11234116662389881 |\n",
            "Epoch: 5 | Loss: 0.09555415559342863 |\n",
            "Epoch: 6 | Loss: 0.025514533790092393 |\n",
            "Epoch: 7 | Loss: 0.007804297029493831 |\n",
            "Epoch: 8 | Loss: 0.0034753717031748557 |\n",
            "Epoch: 9 | Loss: 0.0026524499486658493 |\n"
          ]
        }
      ]
    },
    {
      "cell_type": "code",
      "execution_count": 3,
      "metadata": {
        "colab": {
          "base_uri": "https://localhost:8080/"
        },
        "id": "6re4ydSAOoJo",
        "outputId": "63bae6bb-4c47-4b82-f2d1-6164bbccccf5"
      },
      "outputs": [
        {
          "output_type": "stream",
          "name": "stdout",
          "text": [
            "Requirement already satisfied: pennylane in /usr/local/lib/python3.12/dist-packages (0.42.3)\n",
            "Requirement already satisfied: scipy in /usr/local/lib/python3.12/dist-packages (from pennylane) (1.16.1)\n",
            "Requirement already satisfied: networkx in /usr/local/lib/python3.12/dist-packages (from pennylane) (3.5)\n",
            "Requirement already satisfied: rustworkx>=0.14.0 in /usr/local/lib/python3.12/dist-packages (from pennylane) (0.17.1)\n",
            "Requirement already satisfied: autograd in /usr/local/lib/python3.12/dist-packages (from pennylane) (1.8.0)\n",
            "Requirement already satisfied: appdirs in /usr/local/lib/python3.12/dist-packages (from pennylane) (1.4.4)\n",
            "Requirement already satisfied: autoray<0.8,>=0.6.11 in /usr/local/lib/python3.12/dist-packages (from pennylane) (0.7.2)\n",
            "Requirement already satisfied: cachetools in /usr/local/lib/python3.12/dist-packages (from pennylane) (5.5.2)\n",
            "Requirement already satisfied: pennylane-lightning>=0.42 in /usr/local/lib/python3.12/dist-packages (from pennylane) (0.42.0)\n",
            "Requirement already satisfied: requests in /usr/local/lib/python3.12/dist-packages (from pennylane) (2.32.4)\n",
            "Requirement already satisfied: tomlkit in /usr/local/lib/python3.12/dist-packages (from pennylane) (0.13.3)\n",
            "Requirement already satisfied: typing_extensions in /usr/local/lib/python3.12/dist-packages (from pennylane) (4.15.0)\n",
            "Requirement already satisfied: packaging in /usr/local/lib/python3.12/dist-packages (from pennylane) (25.0)\n",
            "Requirement already satisfied: diastatic-malt in /usr/local/lib/python3.12/dist-packages (from pennylane) (2.15.2)\n",
            "Requirement already satisfied: numpy in /usr/local/lib/python3.12/dist-packages (from pennylane) (2.0.2)\n",
            "Requirement already satisfied: scipy-openblas32>=0.3.26 in /usr/local/lib/python3.12/dist-packages (from pennylane-lightning>=0.42->pennylane) (0.3.30.0.2)\n",
            "Requirement already satisfied: astunparse in /usr/local/lib/python3.12/dist-packages (from diastatic-malt->pennylane) (1.6.3)\n",
            "Requirement already satisfied: gast in /usr/local/lib/python3.12/dist-packages (from diastatic-malt->pennylane) (0.6.0)\n",
            "Requirement already satisfied: termcolor in /usr/local/lib/python3.12/dist-packages (from diastatic-malt->pennylane) (3.1.0)\n",
            "Requirement already satisfied: charset_normalizer<4,>=2 in /usr/local/lib/python3.12/dist-packages (from requests->pennylane) (3.4.3)\n",
            "Requirement already satisfied: idna<4,>=2.5 in /usr/local/lib/python3.12/dist-packages (from requests->pennylane) (3.10)\n",
            "Requirement already satisfied: urllib3<3,>=1.21.1 in /usr/local/lib/python3.12/dist-packages (from requests->pennylane) (2.5.0)\n",
            "Requirement already satisfied: certifi>=2017.4.17 in /usr/local/lib/python3.12/dist-packages (from requests->pennylane) (2025.8.3)\n",
            "Requirement already satisfied: wheel<1.0,>=0.23.0 in /usr/local/lib/python3.12/dist-packages (from astunparse->diastatic-malt->pennylane) (0.45.1)\n",
            "Requirement already satisfied: six<2.0,>=1.6.1 in /usr/local/lib/python3.12/dist-packages (from astunparse->diastatic-malt->pennylane) (1.17.0)\n",
            "Collecting pennylane_cirq\n",
            "  Downloading pennylane_cirq-0.42.0-py3-none-any.whl.metadata (7.1 kB)\n",
            "Requirement already satisfied: pennylane>=0.42.0 in /usr/local/lib/python3.12/dist-packages (from pennylane_cirq) (0.42.3)\n",
            "Collecting cirq-core>=0.10 (from pennylane_cirq)\n",
            "  Downloading cirq_core-1.6.1-py3-none-any.whl.metadata (4.8 kB)\n",
            "Collecting cirq-pasqal>=0.10 (from pennylane_cirq)\n",
            "  Downloading cirq_pasqal-1.6.1-py3-none-any.whl.metadata (4.7 kB)\n",
            "Requirement already satisfied: attrs>=21.3.0 in /usr/local/lib/python3.12/dist-packages (from cirq-core>=0.10->pennylane_cirq) (25.3.0)\n",
            "Collecting duet>=0.2.8 (from cirq-core>=0.10->pennylane_cirq)\n",
            "  Downloading duet-0.2.9-py3-none-any.whl.metadata (2.3 kB)\n",
            "Requirement already satisfied: matplotlib~=3.8 in /usr/local/lib/python3.12/dist-packages (from cirq-core>=0.10->pennylane_cirq) (3.10.0)\n",
            "Requirement already satisfied: networkx~=3.4 in /usr/local/lib/python3.12/dist-packages (from cirq-core>=0.10->pennylane_cirq) (3.5)\n",
            "Requirement already satisfied: numpy>=1.26 in /usr/local/lib/python3.12/dist-packages (from cirq-core>=0.10->pennylane_cirq) (2.0.2)\n",
            "Requirement already satisfied: pandas~=2.1 in /usr/local/lib/python3.12/dist-packages (from cirq-core>=0.10->pennylane_cirq) (2.2.2)\n",
            "Requirement already satisfied: sortedcontainers~=2.0 in /usr/local/lib/python3.12/dist-packages (from cirq-core>=0.10->pennylane_cirq) (2.4.0)\n",
            "Requirement already satisfied: scipy~=1.12 in /usr/local/lib/python3.12/dist-packages (from cirq-core>=0.10->pennylane_cirq) (1.16.1)\n",
            "Requirement already satisfied: sympy in /usr/local/lib/python3.12/dist-packages (from cirq-core>=0.10->pennylane_cirq) (1.13.3)\n",
            "Requirement already satisfied: typing_extensions>=4.2 in /usr/local/lib/python3.12/dist-packages (from cirq-core>=0.10->pennylane_cirq) (4.15.0)\n",
            "Requirement already satisfied: tqdm>=4.12 in /usr/local/lib/python3.12/dist-packages (from cirq-core>=0.10->pennylane_cirq) (4.67.1)\n",
            "Requirement already satisfied: requests~=2.32 in /usr/local/lib/python3.12/dist-packages (from cirq-pasqal>=0.10->pennylane_cirq) (2.32.4)\n",
            "Requirement already satisfied: rustworkx>=0.14.0 in /usr/local/lib/python3.12/dist-packages (from pennylane>=0.42.0->pennylane_cirq) (0.17.1)\n",
            "Requirement already satisfied: autograd in /usr/local/lib/python3.12/dist-packages (from pennylane>=0.42.0->pennylane_cirq) (1.8.0)\n",
            "Requirement already satisfied: appdirs in /usr/local/lib/python3.12/dist-packages (from pennylane>=0.42.0->pennylane_cirq) (1.4.4)\n",
            "Requirement already satisfied: autoray<0.8,>=0.6.11 in /usr/local/lib/python3.12/dist-packages (from pennylane>=0.42.0->pennylane_cirq) (0.7.2)\n",
            "Requirement already satisfied: cachetools in /usr/local/lib/python3.12/dist-packages (from pennylane>=0.42.0->pennylane_cirq) (5.5.2)\n",
            "Requirement already satisfied: pennylane-lightning>=0.42 in /usr/local/lib/python3.12/dist-packages (from pennylane>=0.42.0->pennylane_cirq) (0.42.0)\n",
            "Requirement already satisfied: tomlkit in /usr/local/lib/python3.12/dist-packages (from pennylane>=0.42.0->pennylane_cirq) (0.13.3)\n",
            "Requirement already satisfied: packaging in /usr/local/lib/python3.12/dist-packages (from pennylane>=0.42.0->pennylane_cirq) (25.0)\n",
            "Requirement already satisfied: diastatic-malt in /usr/local/lib/python3.12/dist-packages (from pennylane>=0.42.0->pennylane_cirq) (2.15.2)\n",
            "Requirement already satisfied: contourpy>=1.0.1 in /usr/local/lib/python3.12/dist-packages (from matplotlib~=3.8->cirq-core>=0.10->pennylane_cirq) (1.3.3)\n",
            "Requirement already satisfied: cycler>=0.10 in /usr/local/lib/python3.12/dist-packages (from matplotlib~=3.8->cirq-core>=0.10->pennylane_cirq) (0.12.1)\n",
            "Requirement already satisfied: fonttools>=4.22.0 in /usr/local/lib/python3.12/dist-packages (from matplotlib~=3.8->cirq-core>=0.10->pennylane_cirq) (4.59.2)\n",
            "Requirement already satisfied: kiwisolver>=1.3.1 in /usr/local/lib/python3.12/dist-packages (from matplotlib~=3.8->cirq-core>=0.10->pennylane_cirq) (1.4.9)\n",
            "Requirement already satisfied: pillow>=8 in /usr/local/lib/python3.12/dist-packages (from matplotlib~=3.8->cirq-core>=0.10->pennylane_cirq) (11.3.0)\n",
            "Requirement already satisfied: pyparsing>=2.3.1 in /usr/local/lib/python3.12/dist-packages (from matplotlib~=3.8->cirq-core>=0.10->pennylane_cirq) (3.2.3)\n",
            "Requirement already satisfied: python-dateutil>=2.7 in /usr/local/lib/python3.12/dist-packages (from matplotlib~=3.8->cirq-core>=0.10->pennylane_cirq) (2.9.0.post0)\n",
            "Requirement already satisfied: pytz>=2020.1 in /usr/local/lib/python3.12/dist-packages (from pandas~=2.1->cirq-core>=0.10->pennylane_cirq) (2025.2)\n",
            "Requirement already satisfied: tzdata>=2022.7 in /usr/local/lib/python3.12/dist-packages (from pandas~=2.1->cirq-core>=0.10->pennylane_cirq) (2025.2)\n",
            "Requirement already satisfied: scipy-openblas32>=0.3.26 in /usr/local/lib/python3.12/dist-packages (from pennylane-lightning>=0.42->pennylane>=0.42.0->pennylane_cirq) (0.3.30.0.2)\n",
            "Requirement already satisfied: charset_normalizer<4,>=2 in /usr/local/lib/python3.12/dist-packages (from requests~=2.32->cirq-pasqal>=0.10->pennylane_cirq) (3.4.3)\n",
            "Requirement already satisfied: idna<4,>=2.5 in /usr/local/lib/python3.12/dist-packages (from requests~=2.32->cirq-pasqal>=0.10->pennylane_cirq) (3.10)\n",
            "Requirement already satisfied: urllib3<3,>=1.21.1 in /usr/local/lib/python3.12/dist-packages (from requests~=2.32->cirq-pasqal>=0.10->pennylane_cirq) (2.5.0)\n",
            "Requirement already satisfied: certifi>=2017.4.17 in /usr/local/lib/python3.12/dist-packages (from requests~=2.32->cirq-pasqal>=0.10->pennylane_cirq) (2025.8.3)\n",
            "Requirement already satisfied: astunparse in /usr/local/lib/python3.12/dist-packages (from diastatic-malt->pennylane>=0.42.0->pennylane_cirq) (1.6.3)\n",
            "Requirement already satisfied: gast in /usr/local/lib/python3.12/dist-packages (from diastatic-malt->pennylane>=0.42.0->pennylane_cirq) (0.6.0)\n",
            "Requirement already satisfied: termcolor in /usr/local/lib/python3.12/dist-packages (from diastatic-malt->pennylane>=0.42.0->pennylane_cirq) (3.1.0)\n",
            "Requirement already satisfied: mpmath<1.4,>=1.1.0 in /usr/local/lib/python3.12/dist-packages (from sympy->cirq-core>=0.10->pennylane_cirq) (1.3.0)\n",
            "Requirement already satisfied: six>=1.5 in /usr/local/lib/python3.12/dist-packages (from python-dateutil>=2.7->matplotlib~=3.8->cirq-core>=0.10->pennylane_cirq) (1.17.0)\n",
            "Requirement already satisfied: wheel<1.0,>=0.23.0 in /usr/local/lib/python3.12/dist-packages (from astunparse->diastatic-malt->pennylane>=0.42.0->pennylane_cirq) (0.45.1)\n",
            "Downloading pennylane_cirq-0.42.0-py3-none-any.whl (21 kB)\n",
            "Downloading cirq_core-1.6.1-py3-none-any.whl (2.0 MB)\n",
            "\u001b[2K   \u001b[90m━━━━━━━━━━━━━━━━━━━━━━━━━━━━━━━━━━━━━━━━\u001b[0m \u001b[32m2.0/2.0 MB\u001b[0m \u001b[31m69.0 MB/s\u001b[0m eta \u001b[36m0:00:00\u001b[0m\n",
            "\u001b[?25hDownloading cirq_pasqal-1.6.1-py3-none-any.whl (33 kB)\n",
            "Downloading duet-0.2.9-py3-none-any.whl (29 kB)\n",
            "Installing collected packages: duet, cirq-core, cirq-pasqal, pennylane_cirq\n",
            "Successfully installed cirq-core-1.6.1 cirq-pasqal-1.6.1 duet-0.2.9 pennylane_cirq-0.42.0\n"
          ]
        }
      ],
      "source": [
        "# This cell is added by sphinx-gallery\n",
        "# It can be customized to whatever you like\n",
        "%matplotlib inline\n",
        "!pip install pennylane\n",
        "!pip install pennylane_cirq"
      ]
    },
    {
      "cell_type": "markdown",
      "metadata": {
        "id": "e62PsLWNOoJv"
      },
      "source": [
        "# Optimizing noisy circuits with Cirq\n",
        "\n",
        "::: meta\n",
        ":property=\\\"og:description\\\": Learn how noise can affect the\n",
        "optimization and training of quantum computations.\n",
        ":property=\\\"og:image\\\":\n",
        "<https://pennylane.ai/qml/_static/demonstration_assets/noisy_circuit_optimization_thumbnail.png>\n",
        ":::\n",
        "\n",
        "::: related\n",
        "pytorch_noise PyTorch and noisy devices\n",
        ":::\n",
        "\n",
        "![](https://github.com/borbysh/Momentum-QNG/blob/main/_static/demonstration_assets/noisy_circuit_optimization/noisy_qubit.png?raw=1){.align-center\n",
        "width=\"90.0%\"}\n",
        "\n",
        "Until we have fault-tolerant quantum computers, we will have to learn to\n",
        "live with noise. There are lots of exciting ideas and algorithms in\n",
        "quantum computing and quantum machine learning, but how well do they\n",
        "survive the reality of today\\'s noisy devices?\n",
        "\n",
        "## Background\n",
        "\n",
        "Quantum pure-state simulators are great and readily available in a\n",
        "number of quantum software packages. They allow us to experiment,\n",
        "prototype, test, and validate algorithms and research ideas---up to a\n",
        "certain number of qubits, at least.\n",
        "\n",
        "But present-day hardware is not ideal. We\\'re forced to confront\n",
        "decoherence, bit flips, amplitude damping, and so on. Does the presence\n",
        "of noise in near-term devices impact their use in, for example,\n",
        "`variational quantum algorithms </glossary/variational_circuit>`{.interpreted-text\n",
        "role=\"doc\"}? Won\\'t our models, trained so carefully in simulators, fall\n",
        "apart when we run on noisy devices?\n",
        "\n",
        "In fact, there is some optimism that variational algorithms may be the\n",
        "best type of algorithms on near-term devices, and could have an in-built\n",
        "adaptability to noise that more rigid textbook algorithms do not\n",
        "possess. Variational algorithms are somewhat robust against the fact\n",
        "that the device they are run on may not be ideal. Being variational in\n",
        "nature, they can be tuned to \\\"work around\\\" noise to some extent.\n",
        "\n",
        "Quantum machine learning leverages a lot of tools from its classical\n",
        "counterpart. Fortunately, there is great evidence that machine learning\n",
        "algorithms can not only be robust to noise, but can even benefit from\n",
        "it! Examples include the use of [reduced-precision arithmetic in deep\n",
        "learning](https://dl.acm.org/doi/abs/10.5555/3045118.3045303), the\n",
        "strong performance of [stochastic gradient\n",
        "descent](https://en.wikipedia.org/wiki/Stochastic_gradient_descent), and\n",
        "the use of \\\"dropout\\\" noise to [prevent\n",
        "overfitting](https://www.cs.toronto.edu/~hinton/absps/JMLRdropout.pdf).\n",
        "\n",
        "With this evidence to motivate us, we can still hope to find, extract,\n",
        "and work with the underlying quantum \\\"signal\\\" that is influenced by a\n",
        "device\\'s inherent noise.\n",
        "\n",
        "## Noisy circuits: creating a Bell state\n",
        "\n",
        "Let\\'s consider a simple quantum circuit which performs a standard\n",
        "quantum information task: the creation of an entangled state and the\n",
        "measurement of a [Bell\n",
        "inequality](https://en.wikipedia.org/wiki/Bell%27s_theorem) (also known\n",
        "as the [CHSH\n",
        "inequality](https://en.wikipedia.org/wiki/CHSH_inequality)).\n",
        "\n",
        "Since we\\'ll be dealing with noise, we\\'ll need to use a simulator that\n",
        "supports noise and density-state representations of quantum states (in\n",
        "contrast to many simulators, which use a pure-state representation).\n",
        "\n",
        "Fortunately, [Cirq](https://cirq.readthedocs.io) provides mixed-state\n",
        "simulators and noisy operations natively, so we can use the\n",
        "[PennyLane-Cirq plugin](https://pennylane-cirq.readthedocs.io) to carry\n",
        "out our noisy simulations.\n"
      ]
    },
    {
      "cell_type": "code",
      "execution_count": 4,
      "metadata": {
        "colab": {
          "base_uri": "https://localhost:8080/"
        },
        "id": "yWppXB9gOoJz",
        "outputId": "4217918e-e547-4904-f024-c4d9945d1192"
      },
      "outputs": [
        {
          "output_type": "stream",
          "name": "stdout",
          "text": [
            "2.9139999999999997\n"
          ]
        }
      ],
      "source": [
        "import pennylane as qml\n",
        "from pennylane import numpy as np\n",
        "import matplotlib.pyplot as plt\n",
        "\n",
        "dev = qml.device(\"cirq.mixedsimulator\", wires=2, shots=1000)\n",
        "\n",
        "# CHSH observables\n",
        "A1 = qml.PauliZ(0)\n",
        "A2 = qml.PauliX(0)\n",
        "B1 = qml.Hermitian(np.array([[1, 1], [1, -1]]) / np.sqrt(2), wires=1)\n",
        "B2 = qml.Hermitian(np.array([[1, -1], [-1, -1]]) / np.sqrt(2), wires=1)\n",
        "CHSH_observables = [A1 @ B1, A1 @ B2, A2 @ B1, A2 @ B2]\n",
        "\n",
        "\n",
        "# subcircuit for creating an entangled pair of qubits\n",
        "def bell_pair():\n",
        "    qml.Hadamard(wires=0)\n",
        "    qml.CNOT(wires=[0, 1])\n",
        "\n",
        "\n",
        "# circuits for measuring each distinct observable\n",
        "@qml.qnode(dev)\n",
        "def measure_A1B1():\n",
        "    bell_pair()\n",
        "    return qml.expval(A1 @ B1)\n",
        "\n",
        "\n",
        "@qml.qnode(dev)\n",
        "def measure_A1B2():\n",
        "    bell_pair()\n",
        "    return qml.expval(A1 @ B2)\n",
        "\n",
        "\n",
        "@qml.qnode(dev)\n",
        "def measure_A2B1():\n",
        "    bell_pair()\n",
        "    return qml.expval(A2 @ B1)\n",
        "\n",
        "\n",
        "@qml.qnode(dev)\n",
        "def measure_A2B2():\n",
        "    bell_pair()\n",
        "    return qml.expval(A2 @ B2)\n",
        "\n",
        "\n",
        "# now we measure each circuit and construct the CHSH inequality\n",
        "expvals = [measure_A1B1(), measure_A1B2(), measure_A2B1(), measure_A2B2()]\n",
        "\n",
        "# The CHSH operator is A1 @ B1 + A1 @ B2 + A2 @ B1 - A2 @ B2\n",
        "CHSH_expval = np.sum(expvals[:3]) - expvals[3]\n",
        "print(CHSH_expval)"
      ]
    },
    {
      "cell_type": "markdown",
      "metadata": {
        "id": "ReTLZKz_OoJ1"
      },
      "source": [
        "The output here is $2\\sqrt{2},$ which is the maximal value of the CHSH\n",
        "inequality. States which have a value $\\langle CHSH \\rangle \\geq 2$ can\n",
        "safely be considered \\\"quantum\\\".\n",
        "\n",
        "::: note\n",
        "::: title\n",
        "Note\n",
        ":::\n",
        "\n",
        "In this situation \\\"quantum\\\" means that there is no [local hidden\n",
        "variable\n",
        "theory](https://en.wikipedia.org/wiki/Local_hidden-variable_theory)\n",
        "which could produce these measurement outcomes. It does not strictly\n",
        "mean the presence of entanglement.\n",
        ":::\n",
        "\n",
        "Now let\\'s turn up the noise! 📢 📢 📢\n",
        "\n",
        "Cirq provides a number of noisy channels that are not part of PennyLane\n",
        "core. This is no issue, as the\n",
        "[PennyLane-Cirq](https://pennylane-cirq.readthedocs.io) plugin provides\n",
        "these and allows them to be used directly in PennyLane circuit\n",
        "declarations.\n"
      ]
    },
    {
      "cell_type": "code",
      "execution_count": 5,
      "metadata": {
        "colab": {
          "base_uri": "https://localhost:8080/"
        },
        "id": "3Et4BVFDOoJ2",
        "outputId": "2dba09c7-5ea1-4408-95d3-ed415d67f44d"
      },
      "outputs": [
        {
          "output_type": "stream",
          "name": "stdout",
          "text": [
            "AmplitudeDamp\n",
            "BitFlip\n",
            "Depolarize\n",
            "Operation\n",
            "PhaseDamp\n",
            "PhaseFlip\n"
          ]
        }
      ],
      "source": [
        "from pennylane_cirq import ops as cirq_ops\n",
        "\n",
        "# Note that the 'Operation' op is a generic base class\n",
        "# from PennyLane core.\n",
        "# All other ops are provided by Cirq.\n",
        "available_ops = [op for op in dir(cirq_ops) if not op.startswith(\"_\")]\n",
        "print(\"\\n\".join(available_ops))"
      ]
    },
    {
      "cell_type": "markdown",
      "metadata": {
        "id": "PocSiGKmOoJ3"
      },
      "source": [
        "PennyLane operations and external framework-specific operations can be\n",
        "interwoven freely in circuits that use that plugin\\'s device for\n",
        "execution. In this case, the Cirq-provided channels can be used with\n",
        "Cirq\\'s mixed-state simulator.\n",
        "\n",
        "We\\'ll use the `BitFlip` channel, which has the effect of randomly\n",
        "flipping the qubits in the computational basis.\n"
      ]
    },
    {
      "cell_type": "code",
      "execution_count": 6,
      "metadata": {
        "colab": {
          "base_uri": "https://localhost:8080/",
          "height": 450
        },
        "id": "u95p9DFEOoJ3",
        "outputId": "ff92b40f-9866-4791-827b-16baadbac8ee"
      },
      "outputs": [
        {
          "output_type": "display_data",
          "data": {
            "text/plain": [
              "<Figure size 640x480 with 1 Axes>"
            ],
            "image/png": "[encoded data removed]"
          },
          "metadata": {}
        }
      ],
      "source": [
        "noise_vals = np.linspace(0, 1, 25)\n",
        "\n",
        "CHSH_vals = []\n",
        "noisy_expvals = []\n",
        "\n",
        "for p in noise_vals:\n",
        "    # we overwrite the bell_pair() subcircuit to add\n",
        "    # extra noisy channels after the entangled state is created\n",
        "    def bell_pair():\n",
        "        qml.Hadamard(wires=0)\n",
        "        qml.CNOT(wires=[0, 1])\n",
        "        cirq_ops.BitFlip(p, wires=0)\n",
        "        cirq_ops.BitFlip(p, wires=1)\n",
        "\n",
        "    # measuring the circuits will now use the new noisy bell_pair() function\n",
        "    expvals = [measure_A1B1(), measure_A1B2(), measure_A2B1(), measure_A2B2()]\n",
        "    noisy_expvals.append(expvals)\n",
        "noisy_expvals = np.array(noisy_expvals)\n",
        "CHSH_expvals = np.sum(noisy_expvals[:, :3], axis=1) - noisy_expvals[:, 3]\n",
        "\n",
        "# Plot the individual observables\n",
        "plt.plot(noise_vals, noisy_expvals[:, 0], \"D\", label=r\"$\\hat{A1}\\otimes \\hat{B1}$\", markersize=5)\n",
        "plt.plot(noise_vals, noisy_expvals[:, 1], \"x\", label=r\"$\\hat{A1}\\otimes \\hat{B2}$\", markersize=12)\n",
        "plt.plot(noise_vals, noisy_expvals[:, 2], \"+\", label=r\"$\\hat{A2}\\otimes \\hat{B1}$\", markersize=10)\n",
        "plt.plot(noise_vals, noisy_expvals[:, 3], \"v\", label=r\"$\\hat{A2}\\otimes \\hat{B2}$\", markersize=10)\n",
        "plt.xlabel(\"Noise parameter\")\n",
        "plt.ylabel(r\"Expectation value $\\langle \\hat{A}_i\\otimes\\hat{B}_j\\rangle$\")\n",
        "plt.legend()\n",
        "plt.show()"
      ]
    },
    {
      "cell_type": "markdown",
      "metadata": {
        "id": "rZ4YHzGrOoJ4"
      },
      "source": [
        "By adding the bit-flip noise, we have degraded the value of the CHSH\n",
        "observable. The first two observables $\\hat{A}_1\\otimes \\hat{B}_1$ and\n",
        "$\\hat{A}_1\\otimes \\hat{B}_2$ are sensitive to this noise parameter.\n",
        "Their value is weakened when the noise parameter is not 0 or 1 (note\n",
        "that the the CHSH operator is symmetric with respect to bit flips).\n",
        "\n",
        "The latter two observables, on the other hand, are seemingly unaffected\n",
        "by the noise at all.\n",
        "\n",
        "We can see that even when noise is present, there may still be subspaces\n",
        "or observables which are minimally affected or unaffected. This gives us\n",
        "some hope that variational algorithms can learn to find and exploit such\n",
        "noise-free substructures on otherwise noisy devices.\n",
        "\n",
        "We can also plot the CHSH observable in the noisy case. Remember, values\n",
        "greater than 2 can safely be considered \\\"quantum\\\".\n"
      ]
    },
    {
      "cell_type": "code",
      "execution_count": 7,
      "metadata": {
        "colab": {
          "base_uri": "https://localhost:8080/",
          "height": 449
        },
        "id": "46Y3HzbfOoJ6",
        "outputId": "6512c390-9c80-4c2b-95a8-99cc8b052983"
      },
      "outputs": [
        {
          "output_type": "display_data",
          "data": {
            "text/plain": [
              "<Figure size 640x480 with 1 Axes>"
            ],
            "image/png": "[encoded data removed]"
          },
          "metadata": {}
        }
      ],
      "source": [
        "plt.plot(noise_vals, CHSH_expvals, label=\"CHSH\")\n",
        "plt.plot(noise_vals, 2 * np.ones_like(noise_vals), label=\"Quantum-classical boundary\")\n",
        "plt.xlabel(\"Noise parameter\")\n",
        "plt.ylabel(\"CHSH Expectation value\")\n",
        "plt.legend()\n",
        "plt.show()"
      ]
    },
    {
      "cell_type": "markdown",
      "metadata": {
        "id": "KxXwK9tmOoJ7"
      },
      "source": [
        "Too much noise (around 0.2 in this example), and we lose the quantumness\n",
        "we created in our circuit. But if we only have a little noise, the\n",
        "quantumness undeniably remains. So there is still hope that quantum\n",
        "algorithms can do something useful, even on noisy near-term devices, so\n",
        "long as the noise is not high.\n",
        "\n",
        "::: note\n",
        "::: title\n",
        "Note\n",
        ":::\n",
        "\n",
        "In Google\\'s quantum supremacy paper, they were able to show that some\n",
        "small signature of quantumness remained in their computations, even\n",
        "after a deep many-qubit noisy circuit was executed.\n",
        ":::\n"
      ]
    },
    {
      "cell_type": "markdown",
      "metadata": {
        "id": "Ho2TSaFSOoJ8"
      },
      "source": [
        "# Optimizing noisy circuits\n",
        "\n",
        "Now, how does noise affect the ability to optimize or train a\n",
        "variational circuit?\n",
        "\n",
        "Let\\'s consider an analog of the basic\n",
        "`qubit rotation tutorial <demos/tutorial_qubit_rotation>`{.interpreted-text\n",
        "role=\"doc\"}, but where we add an extra noise channel after the gates.\n",
        "\n",
        "::: note\n",
        "::: title\n",
        "Note\n",
        ":::\n",
        "\n",
        "We model the noise process as the application of ideal noise-free gates,\n",
        "followed by the action of a noisy channel. This is a common technique\n",
        "for modelling noise, but may not be appropriate for all situations.\n",
        ":::\n"
      ]
    },
    {
      "cell_type": "code",
      "execution_count": 8,
      "metadata": {
        "colab": {
          "base_uri": "https://localhost:8080/"
        },
        "id": "Td67kO-lOoJ8",
        "outputId": "c68f7060-cc70-405d-d9d6-f2d05a5f2796"
      },
      "outputs": [
        {
          "output_type": "stream",
          "name": "stdout",
          "text": [
            "Expectation value: 0.868\n"
          ]
        }
      ],
      "source": [
        "@qml.qnode(dev)\n",
        "def circuit(gate_params, noise_param=0.0):\n",
        "    qml.RX(gate_params[0], wires=0)\n",
        "    qml.RY(gate_params[1], wires=0)\n",
        "    cirq_ops.Depolarize(noise_param, wires=0)\n",
        "    return qml.expval(qml.PauliZ(0))\n",
        "\n",
        "\n",
        "gate_pars = [0.54, 0.12]\n",
        "print(\"Expectation value:\", circuit(gate_pars))"
      ]
    },
    {
      "cell_type": "markdown",
      "metadata": {
        "id": "23aVHj89OoJ9"
      },
      "source": [
        "In this case, the depolarizing channel degrades the qubit\\'s density\n",
        "matrix $\\rho$ towards the state\n",
        "\n",
        "$$\\rho' = \\tfrac{1}{3}\\left[X\\rho X + Y\\rho Y + Z\\rho Z\\right]$$\n",
        "\n",
        "(at the value $p=\\frac{3}{4},$ it passes through the maximally mixed\n",
        "state). We can see this in our circuit by looking at how the final\n",
        "`~pennylane.ops.PauliZ`{.interpreted-text role=\"class\"} expectation\n",
        "value changes as a function of the noise strength.\n"
      ]
    },
    {
      "cell_type": "code",
      "execution_count": 9,
      "metadata": {
        "colab": {
          "base_uri": "https://localhost:8080/",
          "height": 453
        },
        "id": "BBlafToiOoJ9",
        "outputId": "6dc18a2a-bc0c-4a7b-d56b-a8ecc2fc4faa"
      },
      "outputs": [
        {
          "output_type": "display_data",
          "data": {
            "text/plain": [
              "<Figure size 640x480 with 1 Axes>"
            ],
            "image/png": "[encoded data removed]"
          },
          "metadata": {}
        }
      ],
      "source": [
        "noise_vals = np.linspace(0.0, 1.0, 20)\n",
        "expvals = [circuit(gate_pars, noise_param=p) for p in noise_vals]\n",
        "\n",
        "plt.plot(noise_vals, expvals, label=\"Expectation value\")\n",
        "plt.plot(noise_vals, np.ones_like(noise_vals), \"--\", label=\"Highest possible\")\n",
        "plt.plot(noise_vals, -np.ones_like(noise_vals), \"--\", label=\"Lowest possible\")\n",
        "plt.ylabel(r\"Expectation value $\\langle \\hat{Z} \\rangle$\")\n",
        "plt.xlabel(r\"Noise strength $p$\")\n",
        "plt.legend()\n",
        "plt.show()"
      ]
    },
    {
      "cell_type": "markdown",
      "metadata": {
        "id": "LrlxmNX5OoJ-"
      },
      "source": [
        "Let\\'s fix the noise parameter and see how the noise affects the\n",
        "optimization of our circuit. The goal is the same as the\n",
        "`qubit rotation tutorial <demos/tutorial_qubit_rotation>`{.interpreted-text\n",
        "role=\"doc\"}, i.e., to tune the qubit state until it has a `PauliZ`\n",
        "expectation value of $-1$ (the lowest possible).\n"
      ]
    },
    {
      "cell_type": "code",
      "execution_count": 10,
      "metadata": {
        "colab": {
          "base_uri": "https://localhost:8080/",
          "height": 391
        },
        "id": "tqxyibYVOoJ-",
        "outputId": "063b89dc-e7b6-40a4-d6e9-3d61d018e427"
      },
      "outputs": [
        {
          "output_type": "error",
          "ename": "ValueError",
          "evalue": "The objective function must be encoded as a single QNode for the natural gradient to be automatically computed. Otherwise, metric_tensor_fn must be explicitly provided to the optimizer.",
          "traceback": [
            "\u001b[0;31m---------------------------------------------------------------------------\u001b[0m",
            "\u001b[0;31mValueError\u001b[0m                                Traceback (most recent call last)",
            "\u001b[0;32m/tmp/ipython-input-2732261302.py\u001b[0m in \u001b[0;36m<cell line: 0>\u001b[0;34m()\u001b[0m\n\u001b[1;32m     22\u001b[0m     \u001b[0;31m# update the circuit parameters\u001b[0m\u001b[0;34m\u001b[0m\u001b[0;34m\u001b[0m\u001b[0m\n\u001b[1;32m     23\u001b[0m     \u001b[0;31m# we can optimize both in the same training loop\u001b[0m\u001b[0;34m\u001b[0m\u001b[0;34m\u001b[0m\u001b[0m\n\u001b[0;32m---> 24\u001b[0;31m     \u001b[0mparams\u001b[0m \u001b[0;34m=\u001b[0m \u001b[0mopt\u001b[0m\u001b[0;34m.\u001b[0m\u001b[0mstep\u001b[0m\u001b[0;34m(\u001b[0m\u001b[0mcost\u001b[0m\u001b[0;34m,\u001b[0m \u001b[0mparams\u001b[0m\u001b[0;34m)\u001b[0m\u001b[0;34m\u001b[0m\u001b[0;34m\u001b[0m\u001b[0m\n\u001b[0m\u001b[1;32m     25\u001b[0m     \u001b[0mnoisy_circuit_params\u001b[0m \u001b[0;34m=\u001b[0m \u001b[0mopt\u001b[0m\u001b[0;34m.\u001b[0m\u001b[0mstep\u001b[0m\u001b[0;34m(\u001b[0m\u001b[0mnoisy_cost\u001b[0m\u001b[0;34m,\u001b[0m \u001b[0mnoisy_circuit_params\u001b[0m\u001b[0;34m)\u001b[0m\u001b[0;34m\u001b[0m\u001b[0;34m\u001b[0m\u001b[0m\n\u001b[1;32m     26\u001b[0m \u001b[0;34m\u001b[0m\u001b[0m\n",
            "\u001b[0;32m/usr/local/lib/python3.12/dist-packages/pennylane/optimize/qng.py\u001b[0m in \u001b[0;36mstep\u001b[0;34m(self, qnode, grad_fn, recompute_tensor, metric_tensor_fn, *args, **kwargs)\u001b[0m\n\u001b[1;32m    254\u001b[0m             \u001b[0marray\u001b[0m\u001b[0;34m:\u001b[0m \u001b[0mthe\u001b[0m \u001b[0mnew\u001b[0m \u001b[0mvariable\u001b[0m \u001b[0mvalues\u001b[0m \u001b[0;34m:\u001b[0m\u001b[0mmath\u001b[0m\u001b[0;34m:\u001b[0m\u001b[0;31m`\u001b[0m\u001b[0mx\u001b[0m\u001b[0;34m^\u001b[0m\u001b[0;34m{\u001b[0m\u001b[0;34m(\u001b[0m\u001b[0mt\u001b[0m\u001b[0;34m+\u001b[0m\u001b[0;36m1\u001b[0m\u001b[0;34m)\u001b[0m\u001b[0;34m}\u001b[0m\u001b[0;31m`\u001b[0m\u001b[0;34m\u001b[0m\u001b[0;34m\u001b[0m\u001b[0m\n\u001b[1;32m    255\u001b[0m         \"\"\"\n\u001b[0;32m--> 256\u001b[0;31m         new_args, _ = self.step_and_cost(\n\u001b[0m\u001b[1;32m    257\u001b[0m             \u001b[0mqnode\u001b[0m\u001b[0;34m,\u001b[0m\u001b[0;34m\u001b[0m\u001b[0;34m\u001b[0m\u001b[0m\n\u001b[1;32m    258\u001b[0m             \u001b[0;34m*\u001b[0m\u001b[0margs\u001b[0m\u001b[0;34m,\u001b[0m\u001b[0;34m\u001b[0m\u001b[0;34m\u001b[0m\u001b[0m\n",
            "\u001b[0;32m/usr/local/lib/python3.12/dist-packages/pennylane/optimize/qng.py\u001b[0m in \u001b[0;36mstep_and_cost\u001b[0;34m(self, qnode, grad_fn, recompute_tensor, metric_tensor_fn, *args, **kwargs)\u001b[0m\n\u001b[1;32m    202\u001b[0m         \u001b[0;31m# pylint: disable=arguments-differ\u001b[0m\u001b[0;34m\u001b[0m\u001b[0;34m\u001b[0m\u001b[0m\n\u001b[1;32m    203\u001b[0m         \u001b[0;32mif\u001b[0m \u001b[0;32mnot\u001b[0m \u001b[0misinstance\u001b[0m\u001b[0;34m(\u001b[0m\u001b[0mqnode\u001b[0m\u001b[0;34m,\u001b[0m \u001b[0mQNode\u001b[0m\u001b[0;34m)\u001b[0m \u001b[0;32mand\u001b[0m \u001b[0mmetric_tensor_fn\u001b[0m \u001b[0;32mis\u001b[0m \u001b[0;32mNone\u001b[0m\u001b[0;34m:\u001b[0m\u001b[0;34m\u001b[0m\u001b[0;34m\u001b[0m\u001b[0m\n\u001b[0;32m--> 204\u001b[0;31m             raise ValueError(\n\u001b[0m\u001b[1;32m    205\u001b[0m                 \u001b[0;34m\"The objective function must be encoded as a single QNode for the natural gradient \"\u001b[0m\u001b[0;34m\u001b[0m\u001b[0;34m\u001b[0m\u001b[0m\n\u001b[1;32m    206\u001b[0m                 \u001b[0;34m\"to be automatically computed. Otherwise, metric_tensor_fn must be explicitly \"\u001b[0m\u001b[0;34m\u001b[0m\u001b[0;34m\u001b[0m\u001b[0m\n",
            "\u001b[0;31mValueError\u001b[0m: The objective function must be encoded as a single QNode for the natural gradient to be automatically computed. Otherwise, metric_tensor_fn must be explicitly provided to the optimizer."
          ]
        }
      ],
      "source": [
        "# declare the cost functions to be optimized\n",
        "def cost(x):\n",
        "    return circuit(x, noise_param=0.0)\n",
        "\n",
        "\n",
        "def noisy_cost(x):\n",
        "    return circuit(x, noise_param=0.3)\n",
        "\n",
        "\n",
        "# initialize the optimizer\n",
        "#opt = qml.GradientDescentOptimizer(stepsize=0.4)\n",
        "opt = qml.QNGOptimizer(stepsize=0.4)\n",
        "\n",
        "# set the number of steps\n",
        "steps = 100\n",
        "# set the initial parameter values\n",
        "init_params = np.array([0.011, 0.055], requires_grad=True)\n",
        "noisy_circuit_params = init_params\n",
        "params = init_params\n",
        "\n",
        "for i in range(steps):\n",
        "    # update the circuit parameters\n",
        "    # we can optimize both in the same training loop\n",
        "    metric_fn = qml.metric_tensor(circuit, approx=\"block-diag\")\n",
        "    params = opt.step(cost, params)\n",
        "    noisy_circuit_params = opt.step(noisy_cost, noisy_circuit_params)\n",
        "\n",
        "    if (i + 1) % 5 == 0:\n",
        "        print(\n",
        "            \"Step {:5d}. Cost: {: .7f}; Noisy Cost: {: .7f}\".format(\n",
        "                i + 1, cost(params), noisy_cost(noisy_circuit_params)\n",
        "            )\n",
        "        )\n",
        "\n",
        "print(\"\\nOptimized rotation angles (noise-free case):\")\n",
        "print(\"({: .7f}, {: .7f})\".format(*params))\n",
        "print(\"Optimized rotation angles (noisy case):\")\n",
        "print(\"({: .7f}, {: .7f})\".format(*noisy_circuit_params))"
      ]
    },
    {
      "cell_type": "markdown",
      "metadata": {
        "id": "BhcB9SBlOoJ-"
      },
      "source": [
        "There are a couple interesting observations here:\n",
        "\n",
        "i)  The noisy circuit isn\\'t able to achieve the same final cost\n",
        "    function value as the ideal circuit. This is because the noise\n",
        "    causes the state to become irreversibly mixed. Mixed states can\\'t\n",
        "    achieve the same extremal expectation values as pure states.\n",
        "ii) However, both circuits still converge to the *same parameter values*\n",
        "    $(0,\\pi),$ despite having different final states.\n",
        "\n",
        "It could have been the case that noisy devices irreparably damage the\n",
        "optimization of variational circuits, steering us towards parameter\n",
        "values which are not at all useful. Luckily, at least for the simple\n",
        "example above, this is not the case. *Optimizations on noisy devices can\n",
        "still lead to similar parameter values as when we run on ideal devices.*\n"
      ]
    },
    {
      "cell_type": "markdown",
      "metadata": {
        "id": "a8GAEI0IOoJ_"
      },
      "source": [
        "# Understanding the effect of noisy channels\n",
        "\n",
        "Let\\'s dig a bit into the underlying quantum information theory to\n",
        "understand better what\\'s happening. Expectation values of\n",
        "`variational circuits </glossary/variational_circuit>`{.interpreted-text\n",
        "role=\"doc\"}, like the one we are measuring, are composed of three\n",
        "pieces:\n",
        "\n",
        "i)  an initial quantum state $\\rho$ (usually the zero state);\n",
        "ii) a parameterized unitary transformation $U(\\theta)$); and\n",
        "iii) measurement of a final observable $\\hat{B}.$\n",
        "\n",
        "The equation for the expectation value is given by the [Born\n",
        "rule](https://en.wikipedia.org/wiki/Born_rule):\n",
        "\n",
        "$$\\langle \\hat{B} \\rangle (\\theta) =\n",
        "        \\mathrm{Tr}(\\hat{B}U(\\theta)\\rho U^\\dagger(\\theta)).$$\n",
        "\n",
        "When optimizing, we can compute gradients of many common gates using the\n",
        "`parameter-shift rule </glossary/parameter_shift>`{.interpreted-text\n",
        "role=\"doc\"}:\n",
        "\n",
        "$$\\nabla_\\theta\\langle \\hat{B} \\rangle(\\theta)\n",
        "   =  \\frac{1}{2}\n",
        "         \\left[\n",
        "             \\langle \\hat{B} \\rangle\\left(\\theta + \\frac{\\pi}{2}\\right)\n",
        "           - \\langle \\hat{B} \\rangle\\left(\\theta - \\frac{\\pi}{2}\\right)\n",
        "         \\right].$$\n",
        "\n",
        "In our example, the parametrized unitary $U(\\theta)$ is split into two\n",
        "gates, $U = U_2 U_1,$ where $U_1=R_X$ and $U_1=R_Y,$ and each takes an\n",
        "independent parameter $\\theta_i.$\n",
        "\n",
        "What happens when we apply a noisy channel $\\Lambda$ after the gates? In\n",
        "this case, the expectation value is now taken with respect to the noisy\n",
        "circuit:\n",
        "\n",
        "$$\\langle \\hat{B} \\rangle (\\theta) =\n",
        "       \\mathrm{Tr}\\left(\\hat{B}\\Lambda\\left[\n",
        "                      U(\\theta)\\rho U^\\dagger(\\theta)\n",
        "                  \\right]\\right).$$\n",
        "\n",
        "Thus, we can treat it as the expectation value of the same observable,\n",
        "but with respect to a different state\n",
        "$\\rho' = \\Lambda\\left[U(\\theta)\\rho U^\\dagger(\\theta)\\right].$\n",
        "\n",
        "Alternatively, using the Heisenberg picture, we can transfer the channel\n",
        "$\\Lambda$ acting on the state $U(\\theta)\\rho U^\\dagger(\\theta)$ into the\n",
        "*adjoint channel* $\\Lambda^\\dagger$ acting on the observable $\\hat{B},$\n",
        "transforming it to a new observable\n",
        "$\\hat{B} = \\Lambda^\\dagger[\\hat{B}]=\\hat{B}'.$\n",
        "\n",
        "With the channel present, the expectation value can be interpreted as if\n",
        "we had the same variational state, but measured a different observable:\n",
        "\n",
        "$$\\langle \\hat{B} \\rangle (\\theta) =\n",
        "       \\mathrm{Tr}(\\hat{B}'U(\\theta)\\rho U^\\dagger(\\theta)) =\n",
        "       \\langle \\hat{B}' \\rangle (\\theta).$$\n",
        "\n",
        "This has immediate consequences for the parameter-shift rule. With the\n",
        "channel present, we have simply\n",
        "\n",
        "$$\\nabla_\\theta\\langle \\hat{B} \\rangle(\\theta)\n",
        "  =  \\frac{1}{2}\n",
        "        \\left[\n",
        "            \\langle \\hat{B}' \\rangle\\left(\\theta + \\frac{\\pi}{2}\\right)\n",
        "          - \\langle \\hat{B}' \\rangle\\left(\\theta - \\frac{\\pi}{2}\\right)\n",
        "        \\right].$$\n",
        "\n",
        "In other words, the parameter-shift rule continues to hold for all\n",
        "gates, even when we have additional noise!\n",
        "\n",
        "::: note\n",
        "::: title\n",
        "Note\n",
        ":::\n",
        "\n",
        "In the above derivation, we implicitly assumed that the channel does not\n",
        "depend on the variational circuit\\'s parameters. If the channel depended\n",
        "on the particular state, or if it depended on the parameters $\\theta,$\n",
        "we would need to be more careful.\n",
        ":::\n",
        "\n",
        "Let\\'s confirm the above derivation with an example.\n"
      ]
    },
    {
      "cell_type": "code",
      "execution_count": null,
      "metadata": {
        "id": "j6eFRsnCOoJ_"
      },
      "outputs": [],
      "source": [
        "angles = np.linspace(0, 2 * np.pi, 50)\n",
        "theta2 = np.pi / 4\n",
        "\n",
        "\n",
        "def param_shift(theta1):\n",
        "    return 0.5 * (\n",
        "        noisy_cost([theta1 + np.pi / 2, theta2]) - noisy_cost([theta1 - np.pi / 2, theta2])\n",
        "    )\n",
        "\n",
        "\n",
        "noisy_expvals = [noisy_cost([theta1, theta2]) for theta1 in angles]\n",
        "noisy_param_shift = [param_shift(theta1) for theta1 in angles]\n",
        "\n",
        "plt.plot(angles, noisy_expvals, label=\"Expectation value\")  # looks like 0.4 * cos(phi)\n",
        "plt.plot(angles, noisy_param_shift, label=\"Parameter-shift value\")  # looks like -0.4 * sin(phi)\n",
        "plt.ylabel(r\"Expectation value $\\langle \\hat{Z} \\rangle$\")\n",
        "plt.xlabel(r\"Angle $\\theta_1$\")\n",
        "plt.legend()\n",
        "plt.show()"
      ]
    },
    {
      "cell_type": "markdown",
      "metadata": {
        "id": "xNNs8kN6OoKA"
      },
      "source": [
        "By inspecting the two curves, we can see that the parameter-shift rule\n",
        "gives the correct gradient of the expectation value, even with the\n",
        "presence of the noisy channel!\n",
        "\n",
        "In this example, the influence of the channel is to attenuate the\n",
        "maximal amplitude that the qubit state can achieve ($\\approx 0.4$). But\n",
        "even though the qubit\\'s amplitude is attenuated, the gradient computed\n",
        "by the parameter-shift rule still \\\"points in the right direction\\\".\n",
        "\n",
        "This backs up the observation we made earlier that the result of the\n",
        "optimization gave the correct values for the angle parameters, but the\n",
        "value of the final cost function was lower than the noise-free case.\n"
      ]
    },
    {
      "cell_type": "markdown",
      "metadata": {
        "id": "9z4yF6oGOoKA"
      },
      "source": [
        "# Interpreting noisy circuit optimizations\n",
        "\n",
        "Despite the observations that we can compute gradients for noisy\n",
        "channels, and that optimization may lead to the same parameter values\n",
        "for both noise-free and noisy circuits, we must still remain cautious in\n",
        "how we interpret the results.\n",
        "\n",
        "We can evaluate the correct gradient for the expectation value\n",
        "\n",
        "$$\\langle \\hat{B} \\rangle =\n",
        "       \\mathrm{Tr}\\left(\\hat{B}\\Lambda\\left[\n",
        "                      U(\\theta)\\rho U^\\dagger(\\theta)\n",
        "                  \\right]\\right),$$\n",
        "\n",
        "but, because the noisy channel is present, *this expectation value may\n",
        "not reflect the actual expectation value we wanted to compute*. This is\n",
        "important to keep in mind for certain algorithms that have a physical\n",
        "interpretation for the variational circuit.\n",
        "\n",
        "For example, in the\n",
        "`variational quantum eigensolver <demos/tutorial_vqe>`{.interpreted-text\n",
        "role=\"doc\"}, we want to find the ground-state energy of a physical\n",
        "system. If there is an appreciable amount of noise present, the state we\n",
        "are optimizing will necessarily become mixed, and we should be careful\n",
        "interpreting the optimum value as the exact ground-state energy.\n"
      ]
    },
    {
      "cell_type": "markdown",
      "metadata": {
        "id": "xKvnRM24OoKA"
      },
      "source": [
        "# References\n"
      ]
    }
  ],
  "metadata": {
    "kernelspec": {
      "display_name": "Python 3",
      "language": "python",
      "name": "python3"
    },
    "language_info": {
      "codemirror_mode": {
        "name": "ipython",
        "version": 3
      },
      "file_extension": ".py",
      "mimetype": "text/x-python",
      "name": "python",
      "nbconvert_exporter": "python",
      "pygments_lexer": "ipython3",
      "version": "3.10.18"
    },
    "colab": {
      "provenance": [],
      "include_colab_link": true
    }
  },
  "nbformat": 4,
  "nbformat_minor": 0
}